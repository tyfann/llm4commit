{
 "cells": [
  {
   "cell_type": "markdown",
   "id": "3c8227eaebd61427",
   "metadata": {},
   "source": [
    "# Angular format data"
   ]
  },
  {
   "cell_type": "markdown",
   "id": "125deaf2171141a0",
   "metadata": {},
   "source": [
    "## Build vanilla RAG system"
   ]
  },
  {
   "cell_type": "code",
   "execution_count": 1,
   "id": "initial_id",
   "metadata": {
    "ExecuteTime": {
     "end_time": "2024-07-16T13:38:33.714291Z",
     "start_time": "2024-07-16T13:38:33.040381Z"
    },
    "collapsed": true
   },
   "outputs": [],
   "source": [
    "from langchain_community.document_loaders import JSONLoader\n",
    "from tqdm.auto import tqdm\n",
    "import json\n",
    "import pickle\n",
    "from langchain.text_splitter import Language\n",
    "from langchain.text_splitter import RecursiveCharacterTextSplitter\n",
    "from langchain.embeddings import HuggingFaceEmbeddings\n",
    "from langchain_community.vectorstores import Chroma\n",
    "import glob\n",
    "import os\n",
    "from collections import defaultdict"
   ]
  },
  {
   "cell_type": "code",
   "execution_count": 2,
   "id": "adae4440b3fa7a97",
   "metadata": {
    "ExecuteTime": {
     "end_time": "2024-07-16T13:38:39.830986Z",
     "start_time": "2024-07-16T13:38:33.716292Z"
    }
   },
   "outputs": [],
   "source": [
    "# Define the path to the pre-trained model you want to use\n",
    "# modelPath = \"mixedbread-ai/mxbai-embed-large-v1\"\n",
    "# modelPath = \"mchochlov/codebert-base-cd-ft\"\n",
    "# modelPath= \"microsoft/unixcoder-base\"\n",
    "# modelPath =\"codecompletedeployment/st-codesearch-distilroberta-base\"\n",
    "modelPath = \"intfloat/e5-small-v2\"\n",
    "# modelPath = \"sentence-transformers/all-MiniLM-L6-v2\"\n",
    "# modelPath = \"../models/models-e5-v2-finetuned-10w-epoch20\"\n",
    "\n",
    "# for modelPath in [\"mixedbread-ai/mxbai-embed-large-v1\", \"intfloat/e5-small-v2\", \"sentence-transformers/all-MiniLM-L6-v2\"]:\n",
    "model_kwargs = {'device':'cuda', 'trust_remote_code': True}\n",
    "\n",
    "# Create a dictionary with encoding options, specifically setting 'normalize_embeddings' to False\n",
    "encode_kwargs = {'normalize_embeddings': True}\n",
    "\n",
    "# Initialize an instance of HuggingFaceEmbeddings with the specified parameters\n",
    "embeddings = HuggingFaceEmbeddings(\n",
    "    cache_folder = '../models',\n",
    "    model_name=modelPath,     # Provide the pre-trained model's path\n",
    "    model_kwargs=model_kwargs, # Pass the model configuration options\n",
    "    encode_kwargs=encode_kwargs # Pass the encoding options\n",
    ")"
   ]
  },
  {
   "cell_type": "code",
   "execution_count": 3,
   "id": "ce8f6594cf984f93",
   "metadata": {
    "ExecuteTime": {
     "end_time": "2024-07-03T08:29:13.055375Z",
     "start_time": "2024-07-03T08:29:08.884550Z"
    }
   },
   "outputs": [],
   "source": [
    "diff_loader = JSONLoader(\n",
    "    file_path='../data/angular_filtered/subsets/db_data.json',\n",
    "    jq_schema='.[].diff',\n",
    "    text_content=False)\n",
    "\n",
    "diff_data = diff_loader.load()\n",
    "\n",
    "msg_loader = JSONLoader(\n",
    "    file_path='../data/angular_filtered/subsets/db_data.json',\n",
    "    jq_schema='.[].msg',\n",
    "    text_content=False)\n",
    "\n",
    "msg_data = msg_loader.load()"
   ]
  },
  {
   "cell_type": "code",
   "execution_count": 4,
   "id": "362b7db5336456b",
   "metadata": {
    "ExecuteTime": {
     "end_time": "2024-07-03T08:29:13.118151Z",
     "start_time": "2024-07-03T08:29:13.057382Z"
    }
   },
   "outputs": [],
   "source": [
    "test_diff_loader = JSONLoader(\n",
    "    file_path='../data/angular_filtered/subsets/dev_test.json',\n",
    "    jq_schema='.[].diff',\n",
    "    text_content=False)\n",
    "\n",
    "test_diff_data = test_diff_loader.load()\n",
    "# test_diff_data = test_diff_loader.load()[:1000]\n",
    "\n",
    "with open('../data/angular_filtered/subsets/dev_test.json', 'r', encoding='UTF-8') as f:\n",
    "    test_data = json.load(f)"
   ]
  },
  {
   "cell_type": "markdown",
   "id": "efa442718ef0d311",
   "metadata": {},
   "source": [
    "## Different chunking size"
   ]
  },
  {
   "cell_type": "code",
   "execution_count": 9,
   "id": "5c9a1662d419f4ec",
   "metadata": {
    "ExecuteTime": {
     "end_time": "2024-07-02T19:53:19.725926Z",
     "start_time": "2024-07-02T19:53:19.707925Z"
    }
   },
   "outputs": [],
   "source": [
    "def similarity_search(documents, db):\n",
    "    # Initialize an empty dictionary to store aggregate scores for each candidate ID\n",
    "    aggregate_scores = {}\n",
    "\n",
    "    # Iterate through each document in the documents list\n",
    "    for document in documents:\n",
    "        # Apply similarity search function to the document\n",
    "        results = db.similarity_search_with_relevance_scores(document.page_content, score_threshold=0.0)\n",
    "        # Iterate through the results for each document\n",
    "        for candidate_doc in results:\n",
    "            id = candidate_doc[0].metadata['seq_num']\n",
    "            score = candidate_doc[1]\n",
    "            # Update the aggregate score for the candidate ID\n",
    "            aggregate_scores[id] = aggregate_scores.get(id, 0) + score\n",
    "\n",
    "    # Find the candidate ID with the highest aggregate score\n",
    "    if aggregate_scores:\n",
    "        max_candidate_id = max(aggregate_scores, key=aggregate_scores.get)\n",
    "    else:\n",
    "        max_candidate_id = -1\n",
    "\n",
    "    return max_candidate_id"
   ]
  },
  {
   "cell_type": "code",
   "execution_count": 10,
   "id": "d46d86b7fbbb86a",
   "metadata": {
    "ExecuteTime": {
     "end_time": "2024-07-02T20:14:45.749621Z",
     "start_time": "2024-07-02T19:53:58.989361Z"
    }
   },
   "outputs": [
    {
     "data": {
      "application/vnd.jupyter.widget-view+json": {
       "model_id": "d3cc74cbcb6c42049a3cafc4bccd9c11",
       "version_major": 2,
       "version_minor": 0
      },
      "text/plain": [
       "Processing documents:   0%|          | 0/53855 [00:00<?, ?it/s]"
      ]
     },
     "metadata": {},
     "output_type": "display_data"
    },
    {
     "data": {
      "application/vnd.jupyter.widget-view+json": {
       "model_id": "15516e31c73742efa36cc247b7f1b2a8",
       "version_major": 2,
       "version_minor": 0
      },
      "text/plain": [
       "Processing documents:   0%|          | 0/501 [00:00<?, ?it/s]"
      ]
     },
     "metadata": {},
     "output_type": "display_data"
    },
    {
     "data": {
      "application/vnd.jupyter.widget-view+json": {
       "model_id": "fda39743259f48ae9bb1ed6cce5b01a6",
       "version_major": 2,
       "version_minor": 0
      },
      "text/plain": [
       "Processing documents:   0%|          | 0/53855 [00:00<?, ?it/s]"
      ]
     },
     "metadata": {},
     "output_type": "display_data"
    },
    {
     "data": {
      "application/vnd.jupyter.widget-view+json": {
       "model_id": "8ada8f09a956451689fe963f9bc1d1b0",
       "version_major": 2,
       "version_minor": 0
      },
      "text/plain": [
       "Processing documents:   0%|          | 0/501 [00:00<?, ?it/s]"
      ]
     },
     "metadata": {},
     "output_type": "display_data"
    },
    {
     "data": {
      "application/vnd.jupyter.widget-view+json": {
       "model_id": "93da3f66f78642aba8855a0ab117170a",
       "version_major": 2,
       "version_minor": 0
      },
      "text/plain": [
       "Processing documents:   0%|          | 0/53855 [00:00<?, ?it/s]"
      ]
     },
     "metadata": {},
     "output_type": "display_data"
    },
    {
     "data": {
      "application/vnd.jupyter.widget-view+json": {
       "model_id": "0dbc660f66da43e0b4ddfc30d93d333f",
       "version_major": 2,
       "version_minor": 0
      },
      "text/plain": [
       "Processing documents:   0%|          | 0/501 [00:00<?, ?it/s]"
      ]
     },
     "metadata": {},
     "output_type": "display_data"
    }
   ],
   "source": [
    "for size in [500, 1000, 2500]:\n",
    "    splitter = RecursiveCharacterTextSplitter.from_language(Language.JS, chunk_size=size, chunk_overlap=(size/5))\n",
    "    \n",
    "    diff_split = []\n",
    "    \n",
    "    for i, doc in tqdm(enumerate(diff_data), total=len(diff_data), desc=\"Processing documents\"):\n",
    "        diff_split += splitter.split_documents([doc])\n",
    "    \n",
    "    db = Chroma.from_documents(diff_split, embeddings, persist_directory=f\"../data/angular_filtered/subsets/type_db/rag_all_types_db_e5_{size}chunk\")\n",
    "    similar_diff_id = []\n",
    "    for diff_doc in tqdm(test_diff_data, total=len(test_diff_data), desc=\"Processing documents\"):\n",
    "        documents = splitter.split_documents([diff_doc])\n",
    "        similar_diff_id.append(similarity_search(documents, db))\n",
    "    \n",
    "\n",
    "    for sim_diff_id, test_diff in zip(similar_diff_id, test_data):\n",
    "        test_diff['sim_msg'] = msg_data[sim_diff_id-1].page_content\n",
    "        test_diff['sim_diff'] = diff_data[sim_diff_id-1].page_content\n",
    "    \n",
    "    with open(f'../data/angular_filtered/subsets/generation/rag/dev_test_rag_prompt_{size}chunk.json', 'w', encoding='UTF-8') as f:\n",
    "        json.dump(test_data, f, ensure_ascii=False, indent=4)"
   ]
  },
  {
   "cell_type": "code",
   "execution_count": 15,
   "id": "a7a81dc87eeeac82",
   "metadata": {
    "ExecuteTime": {
     "end_time": "2024-07-02T20:50:26.660873Z",
     "start_time": "2024-07-02T20:22:20.841896Z"
    }
   },
   "outputs": [
    {
     "name": "stderr",
     "output_type": "stream",
     "text": [
      "Processing documents: 100%|██████████| 501/501 [07:10<00:00,  1.16it/s]\n",
      "Processing documents: 100%|██████████| 501/501 [07:05<00:00,  1.18it/s]\n",
      "Processing documents: 100%|██████████| 501/501 [06:32<00:00,  1.28it/s]\n",
      "Processing documents: 100%|██████████| 501/501 [07:16<00:00,  1.15it/s]\n"
     ]
    }
   ],
   "source": [
    "from openai import OpenAI\n",
    "\n",
    "client = OpenAI(\n",
    "    api_key=\"sk-0rLvuRkMiD4Mw25QYygh6rUlZVjpQWNGNF4yez7z3PZ7yCOm\",\n",
    "    base_url=\"https://api.chatanywhere.cn/v1\"\n",
    ")\n",
    "\n",
    "def gpt_35_api(messages: list):\n",
    "\n",
    "    completion = client.chat.completions.create(model=\"gpt-3.5-turbo-0125\", messages=messages, temperature=0)\n",
    "    return completion.choices[0].message.content\n",
    "\n",
    "import json\n",
    "from tqdm import tqdm\n",
    "from langchain import hub\n",
    "prompt = hub.pull(\"tyfann/llm4commit-rag:b843ef0b\")\n",
    "\n",
    "for size in [500, 1000, 2500, 'no']:\n",
    "    with open(f'../data/angular_filtered/subsets/generation/rag/dev_test_rag_prompt_{size}chunk.json', 'r', encoding='UTF-8') as f:\n",
    "        org_data = json.load(f)\n",
    "    gpt_msg = []\n",
    "    for index, data in tqdm(enumerate(org_data), total=len(org_data), desc=\"Processing documents\"):\n",
    "        messages = prompt.invoke(\n",
    "            {\"context\": data['sim_diff'], \"msg\": data['sim_msg'], \"diff\": data['diff']}\n",
    "        ).to_messages()\n",
    "        example_prompt = [{'role': 'user','content': messages[0].content},]\n",
    "        try:\n",
    "            gpt_msg.append(gpt_35_api(example_prompt))\n",
    "        except:\n",
    "            print(index)\n",
    "            gpt_msg.append('')\n",
    "\n",
    "    for item, msg in zip(org_data, gpt_msg):\n",
    "        item['chatgpt_rag'] = msg\n",
    "\n",
    "    output_file = f'../data/angular_filtered/subsets/generation/test_gpt35_rag_{size}chunk.json'\n",
    "    with open(output_file, 'w', encoding='UTF-8') as f:\n",
    "        json.dump(org_data, f, ensure_ascii=False, indent=4)\n",
    "        \n",
    "    output_file = f'../data/angular_filtered/subsets/generation/test_gpt35_rag_{size}chunk.txt'\n",
    "    with open(output_file, 'w', encoding='UTF-8') as f:\n",
    "        for item in org_data:\n",
    "            f.write(item['chatgpt_rag'].replace('\\n', '\\\\n').replace('\\r', '\\\\r') + '\\n')"
   ]
  },
  {
   "cell_type": "code",
   "execution_count": 17,
   "id": "8a478756dd511f00",
   "metadata": {
    "ExecuteTime": {
     "end_time": "2024-07-02T21:00:28.556617Z",
     "start_time": "2024-07-02T21:00:28.551102Z"
    }
   },
   "outputs": [],
   "source": [
    "output_file = f'../data/angular_filtered/subsets/generation/chunksize/dev_test_ref.txt'\n",
    "with open(output_file, 'w', encoding='UTF-8') as f:\n",
    "    for item in org_data:\n",
    "        f.write(item['msg'].replace('\\n', '\\\\n').replace('\\r', '\\\\r') + '\\n')"
   ]
  },
  {
   "cell_type": "code",
   "execution_count": 5,
   "id": "6d56cb02e444c77b",
   "metadata": {
    "ExecuteTime": {
     "end_time": "2024-07-03T08:31:57.488381Z",
     "start_time": "2024-07-03T08:29:33.167786Z"
    }
   },
   "outputs": [],
   "source": [
    "if os.path.exists(f\"../data/angular_filtered/subsets/type_db/rag_all_types_db_miniLM_nochunk\"):\n",
    "    db = Chroma(persist_directory=f\"../data/angular_filtered/subsets/type_db/rag_all_types_db_miniLM_nochunk\", embedding_function=embeddings)\n",
    "else:\n",
    "    db = Chroma.from_documents(diff_data, embeddings, persist_directory=\"../data/angular_filtered/subsets/type_db/rag_all_types_db_miniLM_nochunk\")"
   ]
  },
  {
   "cell_type": "code",
   "execution_count": 5,
   "id": "35fc5933296f4221",
   "metadata": {
    "ExecuteTime": {
     "end_time": "2024-07-02T21:46:53.762692Z",
     "start_time": "2024-07-02T21:46:53.702180Z"
    }
   },
   "outputs": [],
   "source": [
    "test_diff_loader = JSONLoader(\n",
    "    file_path='../data/angular_filtered/subsets/dev_test.json',\n",
    "    jq_schema='.[].diff',\n",
    "    text_content=False)\n",
    "\n",
    "test_diff_data = test_diff_loader.load()\n",
    "# test_diff_data = test_diff_loader.load()[:1000]\n",
    "\n",
    "with open('../data/angular_filtered/subsets/dev_test.json', 'r', encoding='UTF-8') as f:\n",
    "    test_data = json.load(f)"
   ]
  },
  {
   "cell_type": "code",
   "execution_count": 6,
   "id": "849686eab60001b4",
   "metadata": {
    "ExecuteTime": {
     "end_time": "2024-07-03T08:32:03.476812Z",
     "start_time": "2024-07-03T08:31:57.490385Z"
    }
   },
   "outputs": [
    {
     "data": {
      "application/vnd.jupyter.widget-view+json": {
       "model_id": "deb61aa1474448f088bf6d0df3784472",
       "version_major": 2,
       "version_minor": 0
      },
      "text/plain": [
       "Processing documents:   0%|          | 0/501 [00:00<?, ?it/s]"
      ]
     },
     "metadata": {},
     "output_type": "display_data"
    }
   ],
   "source": [
    "similar_diff = []\n",
    "retriever = db.as_retriever()\n",
    "for diff_doc in tqdm(test_diff_data, total=len(test_diff_data), desc=\"Processing documents\"):\n",
    "    similar_diff.append(retriever.invoke(diff_doc.page_content)[0])\n",
    "\n",
    "for sim_diff, test_item in zip(similar_diff, test_data):\n",
    "    test_item['sim_msg'] = msg_data[sim_diff.metadata['seq_num']-1].page_content\n",
    "    test_item['sim_diff'] = diff_data[sim_diff.metadata['seq_num']-1].page_content\n",
    "\n",
    "with open('../data/angular_filtered/subsets/generation/embedding/dev_test_rag_prompt_miniLM.json', 'w', encoding='UTF-8') as f:\n",
    "    json.dump(test_data, f, ensure_ascii=False, indent=4)"
   ]
  },
  {
   "cell_type": "code",
   "execution_count": 7,
   "id": "3208d4297b303986",
   "metadata": {
    "ExecuteTime": {
     "end_time": "2024-07-03T08:49:27.821599Z",
     "start_time": "2024-07-03T08:35:27.288478Z"
    }
   },
   "outputs": [
    {
     "name": "stderr",
     "output_type": "stream",
     "text": [
      "Processing documents: 100%|██████████| 501/501 [06:58<00:00,  1.20it/s]\n",
      "Processing documents: 100%|██████████| 501/501 [06:59<00:00,  1.19it/s]\n"
     ]
    }
   ],
   "source": [
    "from openai import OpenAI\n",
    "\n",
    "client = OpenAI(\n",
    "    api_key=\"sk-0rLvuRkMiD4Mw25QYygh6rUlZVjpQWNGNF4yez7z3PZ7yCOm\",\n",
    "    base_url=\"https://api.chatanywhere.cn/v1\"\n",
    ")\n",
    "\n",
    "def gpt_35_api(messages: list):\n",
    "\n",
    "    completion = client.chat.completions.create(model=\"gpt-3.5-turbo-0125\", messages=messages, temperature=0)\n",
    "    return completion.choices[0].message.content\n",
    "\n",
    "import json\n",
    "from tqdm import tqdm\n",
    "from langchain import hub\n",
    "prompt = hub.pull(\"tyfann/llm4commit-rag:b843ef0b\")\n",
    "\n",
    "for model in ['mxbai', 'miniLM']:\n",
    "    with open(f'../data/angular_filtered/subsets/generation/embedding/dev_test_rag_prompt_{model}.json', 'r', encoding='UTF-8') as f:\n",
    "        org_data = json.load(f)\n",
    "    gpt_msg = []\n",
    "    for index, data in tqdm(enumerate(org_data), total=len(org_data), desc=\"Processing documents\"):\n",
    "        messages = prompt.invoke(\n",
    "            {\"context\": data['sim_diff'], \"msg\": data['sim_msg'], \"diff\": data['diff']}\n",
    "        ).to_messages()\n",
    "        example_prompt = [{'role': 'user','content': messages[0].content},]\n",
    "        try:\n",
    "            gpt_msg.append(gpt_35_api(example_prompt))\n",
    "        except:\n",
    "            print(index)\n",
    "            gpt_msg.append('')\n",
    "\n",
    "    for item, msg in zip(org_data, gpt_msg):\n",
    "        item['chatgpt_rag'] = msg\n",
    "\n",
    "    output_file = f'../data/angular_filtered/subsets/generation/embedding/dev_test_gpt35_rag_{model}.json'\n",
    "    with open(output_file, 'w', encoding='UTF-8') as f:\n",
    "        json.dump(org_data, f, ensure_ascii=False, indent=4)\n",
    "        \n",
    "    output_file = f'../data/angular_filtered/subsets/generation/embedding/dev_test_gpt35_rag_{model}.txt'\n",
    "    with open(output_file, 'w', encoding='UTF-8') as f:\n",
    "        for item in org_data:\n",
    "            f.write(item['chatgpt_rag'].replace('\\n', '\\\\n').replace('\\r', '\\\\r') + '\\n')"
   ]
  },
  {
   "cell_type": "code",
   "execution_count": 13,
   "id": "862ad989edae6deb",
   "metadata": {
    "ExecuteTime": {
     "end_time": "2024-07-02T20:19:07.651033Z",
     "start_time": "2024-07-02T20:19:05.640747Z"
    }
   },
   "outputs": [],
   "source": [
    "from openai import OpenAI\n",
    "\n",
    "client = OpenAI(\n",
    "    api_key=\"sk-0rLvuRkMiD4Mw25QYygh6rUlZVjpQWNGNF4yez7z3PZ7yCOm\",\n",
    "    base_url=\"https://api.chatanywhere.cn/v1\"\n",
    ")\n",
    "\n",
    "def gpt_35_api(messages: list):\n",
    "\n",
    "    completion = client.chat.completions.create(model=\"gpt-3.5-turbo-0125\", messages=messages, temperature=0)\n",
    "    return completion.choices[0].message.content\n",
    "\n",
    "import json\n",
    "from tqdm import tqdm\n",
    "from langchain import hub\n",
    "prompt = hub.pull(\"tyfann/llm4commit-rag:b843ef0b\")\n"
   ]
  },
  {
   "cell_type": "code",
   "execution_count": 14,
   "id": "439413e69ded3d5f",
   "metadata": {
    "ExecuteTime": {
     "end_time": "2024-07-02T20:20:29.217551Z",
     "start_time": "2024-07-02T20:20:28.196848Z"
    }
   },
   "outputs": [
    {
     "name": "stderr",
     "output_type": "stream",
     "text": [
      "Processing documents:   0%|          | 0/501 [00:00<?, ?it/s]\n"
     ]
    },
    {
     "ename": "KeyError",
     "evalue": "\"Input to ChatPromptTemplate is missing variables {'diff'}.  Expected: ['context', 'diff', 'msg'] Received: ['context', 'msg']\"",
     "output_type": "error",
     "traceback": [
      "\u001b[1;31m---------------------------------------------------------------------------\u001b[0m",
      "\u001b[1;31mKeyError\u001b[0m                                  Traceback (most recent call last)",
      "Cell \u001b[1;32mIn[14], line 7\u001b[0m\n\u001b[0;32m      4\u001b[0m gpt_msg \u001b[38;5;241m=\u001b[39m []\n\u001b[0;32m      5\u001b[0m \u001b[38;5;28;01mfor\u001b[39;00m index, data \u001b[38;5;129;01min\u001b[39;00m tqdm(\u001b[38;5;28menumerate\u001b[39m(org_data), total\u001b[38;5;241m=\u001b[39m\u001b[38;5;28mlen\u001b[39m(org_data), desc\u001b[38;5;241m=\u001b[39m\u001b[38;5;124m\"\u001b[39m\u001b[38;5;124mProcessing documents\u001b[39m\u001b[38;5;124m\"\u001b[39m):\n\u001b[0;32m      6\u001b[0m     \u001b[38;5;66;03m# merged_diff = '\\n'.join(diff['diff'] for diff in data['diff'])\u001b[39;00m\n\u001b[1;32m----> 7\u001b[0m     messages \u001b[38;5;241m=\u001b[39m \u001b[43mprompt\u001b[49m\u001b[38;5;241;43m.\u001b[39;49m\u001b[43minvoke\u001b[49m\u001b[43m(\u001b[49m\n\u001b[0;32m      8\u001b[0m \u001b[43m        \u001b[49m\u001b[43m{\u001b[49m\u001b[38;5;124;43m\"\u001b[39;49m\u001b[38;5;124;43mcontext\u001b[39;49m\u001b[38;5;124;43m\"\u001b[39;49m\u001b[43m:\u001b[49m\u001b[43m \u001b[49m\u001b[43mdata\u001b[49m\u001b[43m[\u001b[49m\u001b[38;5;124;43m'\u001b[39;49m\u001b[38;5;124;43msim_diff\u001b[39;49m\u001b[38;5;124;43m'\u001b[39;49m\u001b[43m]\u001b[49m\u001b[43m,\u001b[49m\u001b[43m \u001b[49m\u001b[38;5;124;43m\"\u001b[39;49m\u001b[38;5;124;43mmsg\u001b[39;49m\u001b[38;5;124;43m\"\u001b[39;49m\u001b[43m:\u001b[49m\u001b[43m \u001b[49m\u001b[43mdata\u001b[49m\u001b[43m[\u001b[49m\u001b[38;5;124;43m'\u001b[39;49m\u001b[38;5;124;43msim_msg\u001b[39;49m\u001b[38;5;124;43m'\u001b[39;49m\u001b[43m]\u001b[49m\u001b[43m}\u001b[49m\n\u001b[0;32m      9\u001b[0m \u001b[43m    \u001b[49m\u001b[43m)\u001b[49m\u001b[38;5;241m.\u001b[39mto_messages()\n\u001b[0;32m     10\u001b[0m     example_prompt \u001b[38;5;241m=\u001b[39m [{\u001b[38;5;124m'\u001b[39m\u001b[38;5;124mrole\u001b[39m\u001b[38;5;124m'\u001b[39m: \u001b[38;5;124m'\u001b[39m\u001b[38;5;124muser\u001b[39m\u001b[38;5;124m'\u001b[39m,\u001b[38;5;124m'\u001b[39m\u001b[38;5;124mcontent\u001b[39m\u001b[38;5;124m'\u001b[39m: messages[\u001b[38;5;241m0\u001b[39m]\u001b[38;5;241m.\u001b[39mcontent},]\n\u001b[0;32m     11\u001b[0m     \u001b[38;5;28;01mtry\u001b[39;00m:\n",
      "File \u001b[1;32m~\\anaconda3\\envs\\llm4commit\\lib\\site-packages\\langchain_core\\prompts\\base.py:128\u001b[0m, in \u001b[0;36mBasePromptTemplate.invoke\u001b[1;34m(self, input, config)\u001b[0m\n\u001b[0;32m    126\u001b[0m \u001b[38;5;28;01mif\u001b[39;00m \u001b[38;5;28mself\u001b[39m\u001b[38;5;241m.\u001b[39mtags:\n\u001b[0;32m    127\u001b[0m     config[\u001b[38;5;124m\"\u001b[39m\u001b[38;5;124mtags\u001b[39m\u001b[38;5;124m\"\u001b[39m] \u001b[38;5;241m=\u001b[39m config[\u001b[38;5;124m\"\u001b[39m\u001b[38;5;124mtags\u001b[39m\u001b[38;5;124m\"\u001b[39m] \u001b[38;5;241m+\u001b[39m \u001b[38;5;28mself\u001b[39m\u001b[38;5;241m.\u001b[39mtags\n\u001b[1;32m--> 128\u001b[0m \u001b[38;5;28;01mreturn\u001b[39;00m \u001b[38;5;28;43mself\u001b[39;49m\u001b[38;5;241;43m.\u001b[39;49m\u001b[43m_call_with_config\u001b[49m\u001b[43m(\u001b[49m\n\u001b[0;32m    129\u001b[0m \u001b[43m    \u001b[49m\u001b[38;5;28;43mself\u001b[39;49m\u001b[38;5;241;43m.\u001b[39;49m\u001b[43m_format_prompt_with_error_handling\u001b[49m\u001b[43m,\u001b[49m\n\u001b[0;32m    130\u001b[0m \u001b[43m    \u001b[49m\u001b[38;5;28;43minput\u001b[39;49m\u001b[43m,\u001b[49m\n\u001b[0;32m    131\u001b[0m \u001b[43m    \u001b[49m\u001b[43mconfig\u001b[49m\u001b[43m,\u001b[49m\n\u001b[0;32m    132\u001b[0m \u001b[43m    \u001b[49m\u001b[43mrun_type\u001b[49m\u001b[38;5;241;43m=\u001b[39;49m\u001b[38;5;124;43m\"\u001b[39;49m\u001b[38;5;124;43mprompt\u001b[39;49m\u001b[38;5;124;43m\"\u001b[39;49m\u001b[43m,\u001b[49m\n\u001b[0;32m    133\u001b[0m \u001b[43m\u001b[49m\u001b[43m)\u001b[49m\n",
      "File \u001b[1;32m~\\anaconda3\\envs\\llm4commit\\lib\\site-packages\\langchain_core\\runnables\\base.py:1626\u001b[0m, in \u001b[0;36mRunnable._call_with_config\u001b[1;34m(self, func, input, config, run_type, **kwargs)\u001b[0m\n\u001b[0;32m   1622\u001b[0m     context \u001b[38;5;241m=\u001b[39m copy_context()\n\u001b[0;32m   1623\u001b[0m     context\u001b[38;5;241m.\u001b[39mrun(var_child_runnable_config\u001b[38;5;241m.\u001b[39mset, child_config)\n\u001b[0;32m   1624\u001b[0m     output \u001b[38;5;241m=\u001b[39m cast(\n\u001b[0;32m   1625\u001b[0m         Output,\n\u001b[1;32m-> 1626\u001b[0m         context\u001b[38;5;241m.\u001b[39mrun(\n\u001b[0;32m   1627\u001b[0m             call_func_with_variable_args,  \u001b[38;5;66;03m# type: ignore[arg-type]\u001b[39;00m\n\u001b[0;32m   1628\u001b[0m             func,  \u001b[38;5;66;03m# type: ignore[arg-type]\u001b[39;00m\n\u001b[0;32m   1629\u001b[0m             \u001b[38;5;28minput\u001b[39m,  \u001b[38;5;66;03m# type: ignore[arg-type]\u001b[39;00m\n\u001b[0;32m   1630\u001b[0m             config,\n\u001b[0;32m   1631\u001b[0m             run_manager,\n\u001b[0;32m   1632\u001b[0m             \u001b[38;5;241m*\u001b[39m\u001b[38;5;241m*\u001b[39mkwargs,\n\u001b[0;32m   1633\u001b[0m         ),\n\u001b[0;32m   1634\u001b[0m     )\n\u001b[0;32m   1635\u001b[0m \u001b[38;5;28;01mexcept\u001b[39;00m \u001b[38;5;167;01mBaseException\u001b[39;00m \u001b[38;5;28;01mas\u001b[39;00m e:\n\u001b[0;32m   1636\u001b[0m     run_manager\u001b[38;5;241m.\u001b[39mon_chain_error(e)\n",
      "File \u001b[1;32m~\\anaconda3\\envs\\llm4commit\\lib\\site-packages\\langchain_core\\runnables\\config.py:347\u001b[0m, in \u001b[0;36mcall_func_with_variable_args\u001b[1;34m(func, input, config, run_manager, **kwargs)\u001b[0m\n\u001b[0;32m    345\u001b[0m \u001b[38;5;28;01mif\u001b[39;00m run_manager \u001b[38;5;129;01mis\u001b[39;00m \u001b[38;5;129;01mnot\u001b[39;00m \u001b[38;5;28;01mNone\u001b[39;00m \u001b[38;5;129;01mand\u001b[39;00m accepts_run_manager(func):\n\u001b[0;32m    346\u001b[0m     kwargs[\u001b[38;5;124m\"\u001b[39m\u001b[38;5;124mrun_manager\u001b[39m\u001b[38;5;124m\"\u001b[39m] \u001b[38;5;241m=\u001b[39m run_manager\n\u001b[1;32m--> 347\u001b[0m \u001b[38;5;28;01mreturn\u001b[39;00m func(\u001b[38;5;28minput\u001b[39m, \u001b[38;5;241m*\u001b[39m\u001b[38;5;241m*\u001b[39mkwargs)\n",
      "File \u001b[1;32m~\\anaconda3\\envs\\llm4commit\\lib\\site-packages\\langchain_core\\prompts\\base.py:111\u001b[0m, in \u001b[0;36mBasePromptTemplate._format_prompt_with_error_handling\u001b[1;34m(self, inner_input)\u001b[0m\n\u001b[0;32m    110\u001b[0m \u001b[38;5;28;01mdef\u001b[39;00m \u001b[38;5;21m_format_prompt_with_error_handling\u001b[39m(\u001b[38;5;28mself\u001b[39m, inner_input: Dict) \u001b[38;5;241m-\u001b[39m\u001b[38;5;241m>\u001b[39m PromptValue:\n\u001b[1;32m--> 111\u001b[0m     _inner_input \u001b[38;5;241m=\u001b[39m \u001b[38;5;28;43mself\u001b[39;49m\u001b[38;5;241;43m.\u001b[39;49m\u001b[43m_validate_input\u001b[49m\u001b[43m(\u001b[49m\u001b[43minner_input\u001b[49m\u001b[43m)\u001b[49m\n\u001b[0;32m    112\u001b[0m     \u001b[38;5;28;01mreturn\u001b[39;00m \u001b[38;5;28mself\u001b[39m\u001b[38;5;241m.\u001b[39mformat_prompt(\u001b[38;5;241m*\u001b[39m\u001b[38;5;241m*\u001b[39m_inner_input)\n",
      "File \u001b[1;32m~\\anaconda3\\envs\\llm4commit\\lib\\site-packages\\langchain_core\\prompts\\base.py:103\u001b[0m, in \u001b[0;36mBasePromptTemplate._validate_input\u001b[1;34m(self, inner_input)\u001b[0m\n\u001b[0;32m    101\u001b[0m missing \u001b[38;5;241m=\u001b[39m \u001b[38;5;28mset\u001b[39m(\u001b[38;5;28mself\u001b[39m\u001b[38;5;241m.\u001b[39minput_variables)\u001b[38;5;241m.\u001b[39mdifference(inner_input)\n\u001b[0;32m    102\u001b[0m \u001b[38;5;28;01mif\u001b[39;00m missing:\n\u001b[1;32m--> 103\u001b[0m     \u001b[38;5;28;01mraise\u001b[39;00m \u001b[38;5;167;01mKeyError\u001b[39;00m(\n\u001b[0;32m    104\u001b[0m         \u001b[38;5;124mf\u001b[39m\u001b[38;5;124m\"\u001b[39m\u001b[38;5;124mInput to \u001b[39m\u001b[38;5;132;01m{\u001b[39;00m\u001b[38;5;28mself\u001b[39m\u001b[38;5;241m.\u001b[39m\u001b[38;5;18m__class__\u001b[39m\u001b[38;5;241m.\u001b[39m\u001b[38;5;18m__name__\u001b[39m\u001b[38;5;132;01m}\u001b[39;00m\u001b[38;5;124m is missing variables \u001b[39m\u001b[38;5;132;01m{\u001b[39;00mmissing\u001b[38;5;132;01m}\u001b[39;00m\u001b[38;5;124m. \u001b[39m\u001b[38;5;124m\"\u001b[39m\n\u001b[0;32m    105\u001b[0m         \u001b[38;5;124mf\u001b[39m\u001b[38;5;124m\"\u001b[39m\u001b[38;5;124m Expected: \u001b[39m\u001b[38;5;132;01m{\u001b[39;00m\u001b[38;5;28mself\u001b[39m\u001b[38;5;241m.\u001b[39minput_variables\u001b[38;5;132;01m}\u001b[39;00m\u001b[38;5;124m\"\u001b[39m\n\u001b[0;32m    106\u001b[0m         \u001b[38;5;124mf\u001b[39m\u001b[38;5;124m\"\u001b[39m\u001b[38;5;124m Received: \u001b[39m\u001b[38;5;132;01m{\u001b[39;00m\u001b[38;5;28mlist\u001b[39m(inner_input\u001b[38;5;241m.\u001b[39mkeys())\u001b[38;5;132;01m}\u001b[39;00m\u001b[38;5;124m\"\u001b[39m\n\u001b[0;32m    107\u001b[0m     )\n\u001b[0;32m    108\u001b[0m \u001b[38;5;28;01mreturn\u001b[39;00m inner_input\n",
      "\u001b[1;31mKeyError\u001b[0m: \"Input to ChatPromptTemplate is missing variables {'diff'}.  Expected: ['context', 'diff', 'msg'] Received: ['context', 'msg']\""
     ]
    }
   ],
   "source": [
    "with open(f'../data/angular_filtered/subsets/generation/rag/test_rag_prompt.json', 'r', encoding='UTF-8') as f:\n",
    "    org_data = json.load(f)\n",
    "gpt_msg = []\n",
    "for index, data in tqdm(enumerate(org_data), total=len(org_data), desc=\"Processing documents\"):\n",
    "    # merged_diff = '\\n'.join(diff['diff'] for diff in data['diff'])\n",
    "    messages = prompt.invoke(\n",
    "        {\"context\": data['sim_diff'], \"msg\": data['sim_msg'], \"diff\": data['diff']}\n",
    "    ).to_messages()\n",
    "    example_prompt = [{'role': 'user','content': messages[0].content},]\n",
    "    try:\n",
    "        gpt_msg.append(gpt_35_api(example_prompt))\n",
    "    except:\n",
    "        print(index)\n",
    "        gpt_msg.append('')\n",
    "    # gpt_msg.append(gpt_35_api(example_prompt))\n",
    "\n",
    "for item, msg in zip(org_data, gpt_msg):\n",
    "    item['chatgpt_rag'] = msg\n",
    "\n",
    "output_file = f'../data/angular_filtered/subsets/generation/test_gpt35_rag.json'\n",
    "with open(output_file, 'w', encoding='UTF-8') as f:\n",
    "    json.dump(org_data, f, ensure_ascii=False, indent=4)\n",
    "    \n",
    "output_file = f'../data/angular_filtered/subsets/generation/test_gpt35_rag.txt'\n",
    "with open(output_file, 'w', encoding='UTF-8') as f:\n",
    "    for item in org_data:\n",
    "        f.write(item['chatgpt_rag'].replace('\\n', '\\\\n').replace('\\r', '\\\\r') + '\\n')"
   ]
  },
  {
   "cell_type": "markdown",
   "id": "fd6df488648c1697",
   "metadata": {},
   "source": [
    "## Build classified RAG system"
   ]
  },
  {
   "cell_type": "code",
   "execution_count": 7,
   "id": "9d85ef140b68c2a8",
   "metadata": {
    "ExecuteTime": {
     "end_time": "2024-07-02T11:03:07.230555Z",
     "start_time": "2024-07-02T11:03:07.215164Z"
    }
   },
   "outputs": [],
   "source": [
    "types = [\n",
    "    'build', 'ci', 'docs', 'feat', 'fix', \n",
    "    'perf', 'refactor', 'style', 'test', 'chore'\n",
    "]\n",
    "type_label_mapping = {type_name: idx for idx, type_name in enumerate(types)}\n",
    "output_dir = '../data/angular_filtered/subsets/classification'\n",
    "# Save the type-label mapping to a txt file\n",
    "with open(os.path.join(output_dir, 'type_label_mapping.txt'), 'w') as mapping_file:\n",
    "    for type_name, label in type_label_mapping.items():\n",
    "        mapping_file.write(f'{type_name}: {label}\\n')"
   ]
  },
  {
   "cell_type": "code",
   "execution_count": 8,
   "id": "f9a06a5b9b534356",
   "metadata": {
    "ExecuteTime": {
     "end_time": "2024-07-02T11:03:12.351175Z",
     "start_time": "2024-07-02T11:03:12.291481Z"
    }
   },
   "outputs": [],
   "source": [
    "def read_mapping(file_path):\n",
    "    mapping = {}\n",
    "    with open(file_path, 'r') as f:\n",
    "        for line in f:\n",
    "            key, value = line.strip().split(': ')\n",
    "            mapping[key] = int(value)\n",
    "    return mapping\n",
    "\n",
    "# 读取json文件\n",
    "def read_json(file_path):\n",
    "    with open(file_path, 'r') as f:\n",
    "        data = json.load(f)\n",
    "    return data\n",
    "\n",
    "# 写入jsonl文件\n",
    "def write_jsonl(file_path, data):\n",
    "    with open(file_path, 'w') as f:\n",
    "        for item in data:\n",
    "            json.dump(item, f)\n",
    "            f.write('\\n')\n",
    "\n",
    "# 主函数\n",
    "def main(mapping_file, json_file, output_file):\n",
    "    # 读取mapping和json数据\n",
    "    mapping = read_mapping(mapping_file)\n",
    "    json_data = read_json(json_file)\n",
    "    # random.seed(42)\n",
    "    # random.shuffle(json_data)\n",
    "\n",
    "    # 生成新的jsonl数据\n",
    "    new_data = []\n",
    "    for item in json_data:\n",
    "        new_item = {\n",
    "            \"code\": item[\"diff\"],\n",
    "            \"label\": mapping[item[\"type\"]]\n",
    "        }\n",
    "        new_data.append(new_item)\n",
    "\n",
    "    # 写入新的jsonl文件\n",
    "    write_jsonl(output_file, new_data)\n",
    "\n",
    "# 调用主函数\n",
    "mapping_file = '../data/angular_filtered/subsets/classification/type_label_mapping.txt'\n",
    "json_file = '../data/angular_filtered/subsets/test_data.json'\n",
    "output_file = '../../CodeBERT-classification/dataset/test_angular.jsonl'\n",
    "main(mapping_file, json_file, output_file)"
   ]
  },
  {
   "cell_type": "code",
   "execution_count": 9,
   "id": "779371fa87c9dfd4",
   "metadata": {
    "ExecuteTime": {
     "end_time": "2024-07-02T11:04:06.834845Z",
     "start_time": "2024-07-02T11:04:05.681545Z"
    }
   },
   "outputs": [
    {
     "name": "stdout",
     "output_type": "stream",
     "text": [
      "Data splitting and saving to JSONL files completed.\n"
     ]
    }
   ],
   "source": [
    "import json\n",
    "import glob\n",
    "import os\n",
    "from sklearn.model_selection import train_test_split\n",
    "import random\n",
    "random.seed(42)\n",
    "\n",
    "# Define the directory containing the JSON files\n",
    "output_dir = '../../CodeBERT-classification/dataset'\n",
    "\n",
    "# List of types and their corresponding labels\n",
    "types = [\n",
    "    'build', 'ci', 'docs', 'feat', 'fix', \n",
    "    'perf', 'refactor', 'style', 'test', 'chore'\n",
    "]\n",
    "type_label_mapping = {type_name: idx for idx, type_name in enumerate(types)}\n",
    "\n",
    "train_items = []\n",
    "valid_items = []\n",
    "\n",
    "# Read and process all test JSON files\n",
    "for type_name in types:\n",
    "    test_file = os.path.join('../data/angular_filtered/subsets/type_db', f'JavaScript_{type_name}_db.json')\n",
    "    if os.path.exists(test_file):\n",
    "        with open(test_file, 'r') as f:\n",
    "            items = json.load(f)\n",
    "            data = [\n",
    "                {\n",
    "                    \"code\": item['diff'],\n",
    "                    \"label\": type_label_mapping[type_name]\n",
    "                }\n",
    "                for item in items\n",
    "            ]\n",
    "            # Split data into 1:8 ratio\n",
    "            train_split, valid_split = train_test_split(data, test_size=1/10, random_state=42)\n",
    "            valid_items.extend(valid_split)\n",
    "            train_items.extend(train_split)\n",
    "\n",
    "# Shuffle the items to randomize their order\n",
    "random.shuffle(valid_items)\n",
    "random.shuffle(train_items)\n",
    "\n",
    "# Save validation items to valid.jsonl\n",
    "with open(os.path.join(output_dir, 'valid_angular.jsonl'), 'w') as valid_file:\n",
    "    for item in valid_items:\n",
    "        valid_file.write(json.dumps(item) + '\\n')\n",
    "\n",
    "# Save training items to train.jsonl\n",
    "with open(os.path.join(output_dir, 'train_angular.jsonl'), 'w') as train_file:\n",
    "    for item in train_items:\n",
    "        train_file.write(json.dumps(item) + '\\n')\n",
    "\n",
    "print(\"Data splitting and saving to JSONL files completed.\")\n"
   ]
  },
  {
   "cell_type": "markdown",
   "id": "9584a694a86b22a0",
   "metadata": {},
   "source": [
    "calculate vanilla rag accuracy"
   ]
  },
  {
   "cell_type": "code",
   "execution_count": 12,
   "id": "2ffebb30a01d7a4f",
   "metadata": {
    "ExecuteTime": {
     "end_time": "2024-07-02T11:06:17.307806Z",
     "start_time": "2024-07-02T11:06:17.266679Z"
    }
   },
   "outputs": [
    {
     "name": "stdout",
     "output_type": "stream",
     "text": [
      "26.967418546365913 %\n"
     ]
    }
   ],
   "source": [
    "import re\n",
    "import json\n",
    "def get_commit_type(msg, has_space=True):\n",
    "    types = '((build)|(ci)|(docs)|(feat)|(fix)|(perf)|(refactor)|(style)|(test)|(chore))'\n",
    "    if has_space:\n",
    "        pattern = f'^{types}\\\\s(\\\\((\\\\s|\\\\S)+\\\\))?:\\\\s*(\\\\s|\\\\S)+'\n",
    "    else:\n",
    "        pattern = f'^{types}(\\\\((\\\\s|\\\\S)+\\\\))?:\\\\s*\\\\S+(\\\\s|\\\\S)+'\n",
    "    match = re.match(pattern, msg)\n",
    "    if match:\n",
    "        return match.group(1)\n",
    "    return None\n",
    "\n",
    "with open('../data/angular_filtered/subsets/generation/rag/test_rag_prompt.json', 'r', encoding='UTF-8') as f:\n",
    "    prompt = json.load(f)\n",
    "\n",
    "count = 0\n",
    "for item in prompt:\n",
    "    sim_type = get_commit_type(item['sim_msg'])\n",
    "    if sim_type is not None:\n",
    "        if sim_type == item['type']:\n",
    "            count +=1\n",
    "    else:\n",
    "        sim_type = get_commit_type(item['sim_msg'], False)\n",
    "        if sim_type is not None:\n",
    "            if sim_type == item['type']:\n",
    "                count +=1\n",
    "        else:\n",
    "            print('fail')\n",
    "\n",
    "print(count / len(prompt) * 100 , \"%\")"
   ]
  },
  {
   "cell_type": "code",
   "execution_count": 10,
   "id": "f567e2a7c46047e2",
   "metadata": {
    "ExecuteTime": {
     "end_time": "2024-07-16T13:04:08.796429Z",
     "start_time": "2024-07-16T13:04:08.748648Z"
    }
   },
   "outputs": [],
   "source": [
    "import re\n",
    "import json\n",
    "def get_commit_type(msg, has_space=True):\n",
    "    types = '((build)|(ci)|(docs)|(feat)|(fix)|(perf)|(refactor)|(style)|(test)|(chore))'\n",
    "    if has_space:\n",
    "        pattern = f'^{types}\\\\s(\\\\((\\\\s|\\\\S)+\\\\))?:\\\\s*(\\\\s|\\\\S)+'\n",
    "    else:\n",
    "        pattern = f'^{types}(\\\\((\\\\s|\\\\S)+\\\\))?:\\\\s*\\\\S+(\\\\s|\\\\S)+'\n",
    "    match = re.match(pattern, msg)\n",
    "    if match:\n",
    "        return match.group(1)\n",
    "    return None\n",
    "\n",
    "with open('../data/angular_filtered/subsets/generation/rag/test_rag_prompt.json', 'r', encoding='UTF-8') as f:\n",
    "    prompt = json.load(f)\n",
    "\n",
    "count = 0\n",
    "pred_type = []\n",
    "for item in prompt:\n",
    "    sim_type = get_commit_type(item['sim_msg'])\n",
    "    if sim_type is not None:\n",
    "        pred_type.append(sim_type)\n",
    "    else:\n",
    "        sim_type = get_commit_type(item['sim_msg'], False)\n",
    "        if sim_type is not None:\n",
    "            pred_type.append(sim_type)\n",
    "        else:\n",
    "            print('fail')"
   ]
  },
  {
   "cell_type": "code",
   "execution_count": 15,
   "id": "ac72ab9cb3962b1e",
   "metadata": {
    "ExecuteTime": {
     "end_time": "2024-07-16T13:06:11.082116Z",
     "start_time": "2024-07-16T13:06:11.070603Z"
    }
   },
   "outputs": [],
   "source": [
    "ref_type = [item['type'] for item in prompt]"
   ]
  },
  {
   "cell_type": "code",
   "execution_count": 26,
   "id": "a1c9080581d14b5a",
   "metadata": {
    "ExecuteTime": {
     "end_time": "2024-07-16T13:12:57.829449Z",
     "start_time": "2024-07-16T13:12:57.821314Z"
    }
   },
   "outputs": [],
   "source": [
    "import numpy as np\n",
    "import matplotlib.pyplot as plt\n",
    "from sklearn.metrics import confusion_matrix, ConfusionMatrixDisplay\n",
    "\n",
    "def read_mapping(file_path):\n",
    "    mapping = {}\n",
    "    with open(file_path, 'r', encoding='UTF-8') as f:\n",
    "        for line in f:\n",
    "            key, value = line.strip().split(': ')\n",
    "            mapping[key] = int(value)  # 将value转换为int作为键，key作为值\n",
    "    return mapping\n",
    "\n",
    "mapping_file = '../data/angular_filtered/subsets/classification/type_label_mapping.txt'\n",
    "mapping = read_mapping(mapping_file)\n"
   ]
  },
  {
   "cell_type": "code",
   "execution_count": 30,
   "id": "93322370822a4256",
   "metadata": {
    "ExecuteTime": {
     "end_time": "2024-07-16T13:14:25.251882Z",
     "start_time": "2024-07-16T13:14:25.238376Z"
    }
   },
   "outputs": [],
   "source": [
    "pref_mapping = []\n",
    "for item in pred_type:\n",
    "    pref_mapping.append(mapping[item])\n",
    "\n",
    "# to a txt file\n",
    "with open('../data/angular_filtered/subsets/classification/angular_test_rag_predictions.txt', 'w') as f:\n",
    "    for item in pref_mapping:\n",
    "        f.write(f'{item}\\n')"
   ]
  },
  {
   "cell_type": "code",
   "execution_count": 31,
   "id": "fd88773cfe889dda",
   "metadata": {
    "ExecuteTime": {
     "end_time": "2024-07-16T13:14:31.741636Z",
     "start_time": "2024-07-16T13:14:31.450860Z"
    }
   },
   "outputs": [
    {
     "data": {
      "image/png": "[encoded data removed]",
      "text/plain": [
       "<Figure size 640x480 with 2 Axes>"
      ]
     },
     "metadata": {},
     "output_type": "display_data"
    }
   ],
   "source": [
    "\n",
    "# 读取标签文件\n",
    "def read_labels(file_path):\n",
    "    with open(file_path, 'r') as f:\n",
    "        labels = [int(line.strip()) for line in f]\n",
    "    return labels\n",
    "\n",
    "# 主函数\n",
    "def main(ref_file, pred_file):\n",
    "    # 读取ref和pred标签\n",
    "    y_true = read_labels(ref_file)\n",
    "    y_pred = read_labels(pred_file)\n",
    "\n",
    "    # 计算混淆矩阵\n",
    "    cm = confusion_matrix(y_true, y_pred, labels=np.arange(10))\n",
    "    \n",
    "    # 绘制混淆矩阵\n",
    "    disp = ConfusionMatrixDisplay(confusion_matrix=cm, display_labels=np.arange(10))\n",
    "    disp.plot(cmap=plt.cm.Blues)\n",
    "    plt.title('Confusion Matrix')\n",
    "    plt.show()\n",
    "\n",
    "# 调用主函数\n",
    "ref_file = '../data/angular_filtered/subsets/classification/angular_test_references.txt'\n",
    "pred_file = '../data/angular_filtered/subsets/classification/angular_test_rag_predictions.txt'\n",
    "main(ref_file, pred_file)"
   ]
  },
  {
   "cell_type": "markdown",
   "id": "12f077aa8c3ecee7",
   "metadata": {},
   "source": [
    "classification result to json"
   ]
  },
  {
   "cell_type": "code",
   "execution_count": 4,
   "id": "1dde9d82bfa1c7f9",
   "metadata": {
    "ExecuteTime": {
     "end_time": "2024-07-02T14:29:52.745820Z",
     "start_time": "2024-07-02T14:29:52.694238Z"
    }
   },
   "outputs": [],
   "source": [
    "import json\n",
    "\n",
    "# 读取mapping.txt文件\n",
    "def read_mapping(file_path):\n",
    "    mapping = {}\n",
    "    with open(file_path, 'r', encoding='UTF-8') as f:\n",
    "        for line in f:\n",
    "            key, value = line.strip().split(': ')\n",
    "            mapping[int(value)] = key  # 将value转换为int作为键，key作为值\n",
    "    return mapping\n",
    "\n",
    "# 读取json文件\n",
    "def read_json(file_path):\n",
    "    with open(file_path, 'r', encoding='UTF-8') as f:\n",
    "        data = json.load(f)\n",
    "    return data\n",
    "\n",
    "# 读取pred.txt文件\n",
    "def read_labels(file_path):\n",
    "    with open(file_path, 'r', encoding='UTF-8') as f:\n",
    "        labels = [int(line.strip()) for line in f]\n",
    "    return labels\n",
    "\n",
    "# 写入json文件\n",
    "def write_json(file_path, data):\n",
    "    with open(file_path, 'w', encoding='UTF-8') as f:\n",
    "        json.dump(data, f, indent=4)\n",
    "\n",
    "# 主函数\n",
    "def main(mapping_file, json_file, pred_file, output_file):\n",
    "    # 读取mapping和json数据\n",
    "    mapping = read_mapping(mapping_file)\n",
    "    json_data = read_json(json_file)\n",
    "    pred_labels = read_labels(pred_file)\n",
    "\n",
    "    # 添加classifier_type字段\n",
    "    for item, label in zip(json_data, pred_labels):\n",
    "        item[\"classifier_type\"] = mapping[label]\n",
    "\n",
    "    # 写入更新后的json文件\n",
    "    write_json(output_file, json_data)\n",
    "\n",
    "# 调用主函数\n",
    "mapping_file = '../data/angular_filtered/subsets/classification/type_label_mapping.txt'\n",
    "json_file = '../data/angular_filtered/subsets/test_data.json'\n",
    "pred_file = '../data/angular_filtered/subsets/classification/angular_test_predictions.txt'\n",
    "output_file = '../data/angular_filtered/subsets/classification/test_with_classification.json'\n",
    "main(mapping_file, json_file, pred_file, output_file)"
   ]
  },
  {
   "cell_type": "code",
   "execution_count": 5,
   "id": "ce87dd7be0b762dd",
   "metadata": {
    "ExecuteTime": {
     "end_time": "2024-07-02T14:31:03.635120Z",
     "start_time": "2024-07-02T14:31:02.122320Z"
    }
   },
   "outputs": [
    {
     "data": {
      "image/png": "[encoded data removed]",
      "text/plain": [
       "<Figure size 640x480 with 2 Axes>"
      ]
     },
     "metadata": {},
     "output_type": "display_data"
    }
   ],
   "source": [
    "import numpy as np\n",
    "import matplotlib.pyplot as plt\n",
    "from sklearn.metrics import confusion_matrix, ConfusionMatrixDisplay\n",
    "\n",
    "# 读取标签文件\n",
    "def read_labels(file_path):\n",
    "    with open(file_path, 'r') as f:\n",
    "        labels = [int(line.strip()) for line in f]\n",
    "    return labels\n",
    "\n",
    "# 主函数\n",
    "def main(ref_file, pred_file):\n",
    "    # 读取ref和pred标签\n",
    "    y_true = read_labels(ref_file)\n",
    "    y_pred = read_labels(pred_file)\n",
    "\n",
    "    # 计算混淆矩阵\n",
    "    cm = confusion_matrix(y_true, y_pred, labels=np.arange(10))\n",
    "    \n",
    "    # 绘制混淆矩阵\n",
    "    disp = ConfusionMatrixDisplay(confusion_matrix=cm, display_labels=np.arange(10))\n",
    "    disp.plot(cmap=plt.cm.Blues)\n",
    "    plt.title('Confusion Matrix')\n",
    "    plt.show()\n",
    "\n",
    "# 调用主函数\n",
    "ref_file = '../data/angular_filtered/subsets/classification/angular_test_references.txt'\n",
    "pred_file = '../data/angular_filtered/subsets/classification/angular_test_predictions.txt'\n",
    "main(ref_file, pred_file)"
   ]
  },
  {
   "cell_type": "code",
   "execution_count": 6,
   "id": "c6f47a924791432a",
   "metadata": {
    "ExecuteTime": {
     "end_time": "2024-07-02T14:31:49.636977Z",
     "start_time": "2024-07-02T14:31:49.571552Z"
    }
   },
   "outputs": [],
   "source": [
    "with open('../data/angular_filtered/subsets/classification/test_with_classification.json', 'r', encoding='UTF-8') as f:\n",
    "    test_data = json.load(f)\n",
    "\n",
    "for index, item in enumerate(test_data):\n",
    "    item['seq_num'] = index\n",
    "\n",
    "with open('../data/angular_filtered/subsets/classification/test_with_classification.json', 'w', encoding='UTF-8') as f:\n",
    "    json.dump(test_data, f, indent=4)"
   ]
  },
  {
   "cell_type": "code",
   "execution_count": 3,
   "id": "b2fe4ee769525312",
   "metadata": {
    "ExecuteTime": {
     "end_time": "2024-07-16T13:39:06.649025Z",
     "start_time": "2024-07-16T13:39:06.511039Z"
    }
   },
   "outputs": [],
   "source": [
    "folder_path = '../data/angular_filtered/subsets/type_db'\n",
    "files = glob.glob(os.path.join(folder_path, '*db.json'))\n",
    "\n",
    "test_diff_loader = JSONLoader(\n",
    "    file_path='../data/angular_filtered/subsets/classification/test_with_classification.json',\n",
    "    jq_schema='.[].diff',\n",
    "    text_content=False)\n",
    "\n",
    "test_diff_data = test_diff_loader.load()\n",
    "# test_diff_data = test_diff_loader.load()[:1000]\n",
    "\n",
    "with open('../data/angular_filtered/subsets/classification/test_with_classification.json', 'r', encoding='UTF-8') as f:\n",
    "    test_data = json.load(f)"
   ]
  },
  {
   "cell_type": "code",
   "execution_count": 4,
   "id": "e49ef9babb723fa4",
   "metadata": {
    "ExecuteTime": {
     "end_time": "2024-07-16T13:40:18.006496Z",
     "start_time": "2024-07-16T13:39:37.726246Z"
    }
   },
   "outputs": [
    {
     "data": {
      "application/vnd.jupyter.widget-view+json": {
       "model_id": "18bcc7de713b4869bc55f9a83e398a71",
       "version_major": 2,
       "version_minor": 0
      },
      "text/plain": [
       "Processing documents:   0%|          | 0/39 [00:00<?, ?it/s]"
      ]
     },
     "metadata": {},
     "output_type": "display_data"
    },
    {
     "data": {
      "application/vnd.jupyter.widget-view+json": {
       "model_id": "526a05894e5749f985321804f76d3a10",
       "version_major": 2,
       "version_minor": 0
      },
      "text/plain": [
       "Processing documents:   0%|          | 0/371 [00:00<?, ?it/s]"
      ]
     },
     "metadata": {},
     "output_type": "display_data"
    },
    {
     "data": {
      "application/vnd.jupyter.widget-view+json": {
       "model_id": "b6157f1c4ee042d09d75f5b41a6eb20e",
       "version_major": 2,
       "version_minor": 0
      },
      "text/plain": [
       "Processing documents:   0%|          | 0/47 [00:00<?, ?it/s]"
      ]
     },
     "metadata": {},
     "output_type": "display_data"
    },
    {
     "data": {
      "application/vnd.jupyter.widget-view+json": {
       "model_id": "c3967dda3cec427bb1754ceb1a6af2e6",
       "version_major": 2,
       "version_minor": 0
      },
      "text/plain": [
       "Processing documents:   0%|          | 0/359 [00:00<?, ?it/s]"
      ]
     },
     "metadata": {},
     "output_type": "display_data"
    },
    {
     "data": {
      "application/vnd.jupyter.widget-view+json": {
       "model_id": "de0511a17e374b678afadfd582773881",
       "version_major": 2,
       "version_minor": 0
      },
      "text/plain": [
       "Processing documents:   0%|          | 0/371 [00:00<?, ?it/s]"
      ]
     },
     "metadata": {},
     "output_type": "display_data"
    },
    {
     "data": {
      "application/vnd.jupyter.widget-view+json": {
       "model_id": "c2fcd97b86dd42568a56879477a95094",
       "version_major": 2,
       "version_minor": 0
      },
      "text/plain": [
       "Processing documents:   0%|          | 0/371 [00:00<?, ?it/s]"
      ]
     },
     "metadata": {},
     "output_type": "display_data"
    },
    {
     "data": {
      "application/vnd.jupyter.widget-view+json": {
       "model_id": "ae91c12dbcf94986819b3afcc6679b65",
       "version_major": 2,
       "version_minor": 0
      },
      "text/plain": [
       "Processing documents:   0%|          | 0/17 [00:00<?, ?it/s]"
      ]
     },
     "metadata": {},
     "output_type": "display_data"
    },
    {
     "data": {
      "application/vnd.jupyter.widget-view+json": {
       "model_id": "5e86e2783f2f476b9196d0f7cdde5124",
       "version_major": 2,
       "version_minor": 0
      },
      "text/plain": [
       "Processing documents:   0%|          | 0/244 [00:00<?, ?it/s]"
      ]
     },
     "metadata": {},
     "output_type": "display_data"
    },
    {
     "data": {
      "application/vnd.jupyter.widget-view+json": {
       "model_id": "61d4c3d63bd040dd911177f4b7dc42eb",
       "version_major": 2,
       "version_minor": 0
      },
      "text/plain": [
       "Processing documents:   0%|          | 0/32 [00:00<?, ?it/s]"
      ]
     },
     "metadata": {},
     "output_type": "display_data"
    },
    {
     "data": {
      "application/vnd.jupyter.widget-view+json": {
       "model_id": "2eb81f0a58e24f01afca014f59f1d21c",
       "version_major": 2,
       "version_minor": 0
      },
      "text/plain": [
       "Processing documents:   0%|          | 0/144 [00:00<?, ?it/s]"
      ]
     },
     "metadata": {},
     "output_type": "display_data"
    }
   ],
   "source": [
    "grouped_data = defaultdict(list)\n",
    "for entry in test_data:\n",
    "    grouped_data[entry['type']].append(entry)\n",
    "# splitter = RecursiveCharacterTextSplitter.from_language(Language.JS, chunk_size=1000, chunk_overlap=200)\n",
    "for file in files:\n",
    "    diff_loader = JSONLoader(\n",
    "        file_path=file,\n",
    "        jq_schema='.[].diff',\n",
    "        text_content=False)\n",
    "    \n",
    "    diff_data = diff_loader.load()\n",
    "    \n",
    "    msg_loader = JSONLoader(\n",
    "        file_path=file,\n",
    "        jq_schema='.[].msg',\n",
    "        text_content=False)\n",
    "\n",
    "    msg_data = msg_loader.load()\n",
    "    # diff_split = []\n",
    "\n",
    "    # for i, doc in tqdm(enumerate(diff_data), total=len(diff_data), desc=\"Processing documents\"):\n",
    "    #     diff_split += splitter.split_documents([doc])\n",
    "    \n",
    "    type = file.split('\\\\')[-1].split('_')[1]\n",
    "    if os.path.exists(f\"../data/angular_filtered/subsets/type_db/rag_{type}_db_e5\"):\n",
    "        db = Chroma(persist_directory=f\"../data/angular_filtered/subsets/type_db/rag_{type}_db_e5\", embedding_function=embeddings)\n",
    "    else:\n",
    "        db = Chroma.from_documents(diff_data, embeddings, persist_directory=f\"../data/angular_filtered/subsets/type_db/rag_{type}_db_e5\")\n",
    "    # db = Chroma(persist_directory=f\"../data/angular_filtered/subsets/type_db/rag_{type}_db_e5\", embedding_function=embeddings)\n",
    "    similar_diff = []\n",
    "    retriever = db.as_retriever()\n",
    "    indexs = [item['seq_num'] for item in grouped_data[type]]\n",
    "    for index in tqdm(indexs, total=len(indexs), desc=\"Processing documents\"):\n",
    "        similar_diff.append(retriever.invoke(test_diff_data[index].page_content)[0])\n",
    "    \n",
    "    for sim_diff, test_diff in zip(similar_diff, grouped_data[type]):\n",
    "        test_diff['sim_msg'] = msg_data[sim_diff.metadata['seq_num']-1].page_content\n",
    "        test_diff['sim_diff'] = diff_data[sim_diff.metadata['seq_num']-1].page_content"
   ]
  },
  {
   "cell_type": "code",
   "execution_count": 5,
   "id": "7fedf0d2adb8756b",
   "metadata": {
    "ExecuteTime": {
     "end_time": "2024-07-16T13:40:53.532422Z",
     "start_time": "2024-07-16T13:40:53.451216Z"
    }
   },
   "outputs": [],
   "source": [
    "values_list = [value for values in grouped_data.values() for value in values]\n",
    "sorted_items = sorted(values_list, key=lambda x: x['seq_num'])\n",
    "\n",
    "# Write the data to a JSON file\n",
    "with open('../data/angular_filtered/subsets/generation/rag/test_golden_classified_rag_prompt.json', 'w', encoding='UTF-8') as f:\n",
    "    json.dump(sorted_items, f, ensure_ascii=False, indent=4)"
   ]
  },
  {
   "cell_type": "code",
   "execution_count": 7,
   "id": "580df3717103c62b",
   "metadata": {
    "ExecuteTime": {
     "end_time": "2024-07-16T14:06:58.833570Z",
     "start_time": "2024-07-16T13:41:48.135100Z"
    }
   },
   "outputs": [
    {
     "name": "stderr",
     "output_type": "stream",
     "text": [
      "Processing documents: 100%|██████████| 1995/1995 [25:08<00:00,  1.32it/s]\n"
     ]
    }
   ],
   "source": [
    "from openai import OpenAI\n",
    "\n",
    "client = OpenAI(\n",
    "    api_key=\"sk-0rLvuRkMiD4Mw25QYygh6rUlZVjpQWNGNF4yez7z3PZ7yCOm\",\n",
    "    base_url=\"https://api.chatanywhere.cn/v1\"\n",
    ")\n",
    "def gpt_35_api(messages: list):\n",
    "\n",
    "    completion = client.chat.completions.create(model=\"gpt-3.5-turbo-0125\", messages=messages, temperature=0)\n",
    "    return completion.choices[0].message.content\n",
    "import json\n",
    "from tqdm import tqdm\n",
    "from langchain import hub\n",
    "prompt = hub.pull(\"tyfann/llm4commit-rag\")\n",
    "model = 'golden_classified_rag'\n",
    "with open(f'../data/angular_filtered/subsets/generation/rag/test_{model}_prompt.json', 'r', encoding='UTF-8') as f:\n",
    "    org_data = json.load(f)\n",
    "gpt_msg = []\n",
    "for index, data in tqdm(enumerate(org_data), total=len(org_data), desc=\"Processing documents\"):\n",
    "    # merged_diff = '\\n'.join(diff['diff'] for diff in data['diff'])\n",
    "    messages = prompt.invoke(\n",
    "        {\"context\": data['sim_diff'], \"msg\": data['sim_msg'], \"type\": data['type'], \"diff\": data['diff']}\n",
    "    ).to_messages()\n",
    "    example_prompt = [{'role': 'user','content': messages[0].content},]\n",
    "    try:\n",
    "        gpt_msg.append(gpt_35_api(example_prompt))\n",
    "    except:\n",
    "        print(index)\n",
    "        gpt_msg.append('')\n",
    "    # gpt_msg.append(gpt_35_api(example_prompt))\n",
    "\n",
    "for item, msg in zip(org_data, gpt_msg):\n",
    "    item['chatgpt_rag'] = msg\n",
    "\n",
    "output_file = f'../data/angular_filtered/subsets/generation/test_gpt35_{model}.json'\n",
    "with open(output_file, 'w', encoding='UTF-8') as f:\n",
    "    json.dump(org_data, f, ensure_ascii=False, indent=4)\n",
    "    \n",
    "output_file = f'../data/angular_filtered/subsets/generation/test_gpt35_{model}.txt'\n",
    "with open(output_file, 'w', encoding='UTF-8') as f:\n",
    "    for item in org_data:\n",
    "        f.write(item['chatgpt_rag'].replace('\\n', '\\\\n').replace('\\r', '\\\\r') + '\\n')"
   ]
  },
  {
   "cell_type": "markdown",
   "id": "75fef6624ce6b050",
   "metadata": {},
   "source": [
    "## Generalizability Evaluation"
   ]
  },
  {
   "cell_type": "code",
   "execution_count": 1,
   "id": "82527a927d0820ec",
   "metadata": {
    "ExecuteTime": {
     "end_time": "2024-07-03T09:13:17.144978Z",
     "start_time": "2024-07-03T09:13:14.666752Z"
    }
   },
   "outputs": [],
   "source": [
    "from stanfordcorenlp import StanfordCoreNLP\n",
    "from nltk.tokenize import sent_tokenize\n",
    "import json\n",
    "from utils import is_vdo_pattern, is_merge_rollback, tokenize_summary, remove_brackets, replace_issue_id\n",
    "\n",
    "nlp = StanfordCoreNLP('http://localhost', port=9000)\n",
    "\n",
    "\n",
    "def commit_processer(msg, nlp):\n",
    "    ## get the first sentence\n",
    "    ## remove issue id\n",
    "    ## remove merge, rollback commits and commits with a diff larger than 1 mb\n",
    "    ## broke reference messages into tokens\n",
    "    ## Max length for summary. Default is 30.\n",
    "    msg = sent_tokenize(msg.strip().replace('\\n', '. '))\n",
    "    if msg is None or msg == []:\n",
    "        return '', 0\n",
    "    first_sent = msg[0]\n",
    "    if is_merge_rollback(first_sent):\n",
    "        return '', 0\n",
    "    else:\n",
    "        first_sent = replace_issue_id(first_sent)\n",
    "        # first_sent = remove_brackets(first_sent)\n",
    "        if first_sent is None or first_sent == '':\n",
    "            return '', 0\n",
    "        first_sent = tokenize_summary(first_sent)\n",
    "        if len(first_sent.split()) > 30 or not is_vdo_pattern(first_sent, nlp):\n",
    "            return '', 0\n",
    "        else:\n",
    "            return first_sent, 1\n",
    "\n",
    "\n",
    "def to_lemma(msg, nlp):\n",
    "    props = {'annotators': 'lemma', 'outputFormat': 'json', 'timeout': 1000}\n",
    "    msg_list = msg.split()\n",
    "    annot_doc = nlp.annotate(msg, properties=props)\n",
    "    parsed_dict = json.loads(annot_doc)\n",
    "    lemma_list = [v for d in parsed_dict['sentences'][0]['tokens'] for k, v in d.items() if k == 'lemma']\n",
    "    msg_list[0] = lemma_list[0]\n",
    "    msg = ' '.join(msg_list)\n",
    "    return msg\n"
   ]
  },
  {
   "cell_type": "code",
   "execution_count": 2,
   "id": "3ab4861cd6f7e495",
   "metadata": {
    "ExecuteTime": {
     "end_time": "2024-07-03T10:14:41.590554Z",
     "start_time": "2024-07-03T09:13:33.813016Z"
    }
   },
   "outputs": [
    {
     "data": {
      "application/vnd.jupyter.widget-view+json": {
       "model_id": "c78d8774acc04414a7acbf102e444aa8",
       "version_major": 2,
       "version_minor": 0
      },
      "text/plain": [
       "JavaScript:   0%|          | 0/60000 [00:00<?, ?it/s]"
      ]
     },
     "metadata": {},
     "output_type": "display_data"
    }
   ],
   "source": [
    "\n",
    "import pyarrow.parquet as pq\n",
    "import glob\n",
    "import os\n",
    "from tqdm.auto import tqdm\n",
    "\n",
    "# Create empty dictionaries for each language and type\n",
    "languages = ['JavaScript']\n",
    "verb_groups = ['add', 'fix', 'remove', 'update', 'use', 'move', 'prepare', 'improve', 'ignore', 'handle', 'rename',\n",
    "               'allow', 'set', 'revert', 'replace']\n",
    "\n",
    "dfs = {lang: {vtype: [] for vtype in verb_groups} for lang in languages}\n",
    "\n",
    "# Create a tqdm progress bar for each language\n",
    "bars = {lang: tqdm(total=60000, desc=lang) for lang in languages}  # Total: 10 types * 10000 each\n",
    "\n",
    "folder_path = '../rag/datasets--JetBrains-Research--commit-chronicle/snapshots/5fd076e67b812a9f3d1999e5e40f71715f84bb51/data'  # 文件夹的路径\n",
    "\n",
    "files = glob.glob(os.path.join(folder_path, 'train*')) + glob.glob(os.path.join(folder_path, 'validation*'))\n",
    "\n",
    "for file in files:\n",
    "    df = pq.read_table(file).to_pandas()\n",
    "\n",
    "    # Iterate over each language\n",
    "    for lang in languages[:]:\n",
    "        # Filter rows where language column matches the current language and additional conditions\n",
    "        lang_df = df[(df['language'] == lang) &\n",
    "                     (df['mods'].apply(len) == 1) &\n",
    "                     (df['message'].apply(lambda x: len(x.split())) <= 30) &\n",
    "                     (df['mods'].apply(lambda x: x[0]['change_type']) == 'MODIFY') &\n",
    "                     (df['mods'].apply(lambda x: len(\n",
    "                         f\"diff --git a/{x[0]['old_path']} b/{x[0]['new_path']} {x[0]['diff']}\") <= 5000))]\n",
    "        #  (df['mods'].apply(lambda x: ( (x[0]['old_path'].count(lang_suffix) if x[0]['old_path'] else 0) == 1 and (x[0]['new_path'].count(lang_suffix) if x[0]['new_path'] else 0) == 1 and (x[0]['old_path'].count('.json') if x[0]['old_path'] else 0) == 0 and (x[0]['new_path'].count('.json') if x[0]['new_path'] else 0) == 0 )))]\n",
    "\n",
    "        # Iterate over each row in the filtered DataFrame\n",
    "        for index, row in lang_df.iterrows():\n",
    "            msg = row['message']\n",
    "            msg = to_lemma(msg, nlp)\n",
    "            if msg.split()[0] in verb_groups:\n",
    "                if commit_processer(msg, nlp)[1] == 1:\n",
    "                    diff = row['mods'][0]\n",
    "                    old_path = 'a/' + diff['old_path']\n",
    "                    new_path = 'b/' + diff['new_path']\n",
    "                    diff_content = diff['diff']  # assume diff_content is an empty string\n",
    "                    item = {\n",
    "                        'msg': msg,\n",
    "                        'diff': f\"diff --git {old_path} {new_path} {diff_content}\",\n",
    "                        'date': row['date'],\n",
    "                        'repo': row['repo']\n",
    "                    }\n",
    "\n",
    "                    # Find the type in the message\n",
    "                    for vtype in verb_groups:\n",
    "                        if msg.startswith(vtype):\n",
    "                            if len(dfs[lang][vtype]) < 4000:\n",
    "                                dfs[lang][vtype].append(item)\n",
    "                                bars[lang].update(1)\n",
    "                            break\n",
    "\n",
    "            if all(len(dfs[lang][vtype]) >= 4000 for vtype in verb_groups):\n",
    "                print(f\"Reached 4000 rows for all types in {lang}\")\n",
    "                languages.remove(lang)  # Remove language from list to avoid further processing\n",
    "                break\n",
    "\n",
    "    # Break out of the loop if all languages have reached the required number of rows\n",
    "    if not languages:\n",
    "        break"
   ]
  },
  {
   "cell_type": "code",
   "execution_count": 3,
   "id": "2d3976f25f3c217b",
   "metadata": {
    "ExecuteTime": {
     "end_time": "2024-07-03T10:20:38.264695Z",
     "start_time": "2024-07-03T10:20:38.240693Z"
    }
   },
   "outputs": [
    {
     "name": "stdout",
     "output_type": "stream",
     "text": [
      "Language: JavaScript\n",
      "  add: 4000\n",
      "  fix: 4000\n",
      "  remove: 4000\n",
      "  update: 4000\n",
      "  use: 1570\n",
      "  move: 463\n",
      "  prepare: 274\n",
      "  improve: 3263\n",
      "  ignore: 587\n",
      "  handle: 1284\n",
      "  rename: 1343\n",
      "  allow: 1704\n",
      "  set: 1914\n",
      "  revert: 700\n",
      "  replace: 1493\n"
     ]
    }
   ],
   "source": [
    "for lang in dfs:\n",
    "    print(f\"Language: {lang}\")\n",
    "    for vtype in dfs[lang]:\n",
    "        print(f\"  {vtype}: {len(dfs[lang][vtype])}\")"
   ]
  },
  {
   "cell_type": "code",
   "execution_count": 4,
   "id": "f9077ea95a34d0ac",
   "metadata": {
    "ExecuteTime": {
     "end_time": "2024-07-03T10:21:49.685582Z",
     "start_time": "2024-07-03T10:21:49.262566Z"
    }
   },
   "outputs": [],
   "source": [
    "data = []\n",
    "\n",
    "for lang, types in dfs.items():\n",
    "    for vtype, items in types.items():\n",
    "        for item in items:\n",
    "            # item['msg'] = to_lemma(item['msg'], nlp)\n",
    "            item['type'] = vtype\n",
    "            data.append(item)\n",
    "\n",
    "import json\n",
    "\n",
    "# Dump the data to a JSON file\n",
    "with open('../data/vdo_filtered/db_data.json', 'w', encoding='UTF-8') as f:\n",
    "    json.dump(data, f, indent=4)"
   ]
  },
  {
   "cell_type": "code",
   "execution_count": 5,
   "id": "a6304ac7bf5a91f3",
   "metadata": {
    "ExecuteTime": {
     "end_time": "2024-07-03T10:21:53.179135Z",
     "start_time": "2024-07-03T10:21:53.150585Z"
    }
   },
   "outputs": [
    {
     "data": {
      "text/plain": [
       "30595"
      ]
     },
     "execution_count": 5,
     "metadata": {},
     "output_type": "execute_result"
    }
   ],
   "source": [
    "len(data)"
   ]
  },
  {
   "cell_type": "code",
   "execution_count": 6,
   "id": "72458195c2f5c090",
   "metadata": {
    "ExecuteTime": {
     "end_time": "2024-07-03T10:37:21.556064Z",
     "start_time": "2024-07-03T10:29:47.236705Z"
    }
   },
   "outputs": [
    {
     "data": {
      "application/vnd.jupyter.widget-view+json": {
       "model_id": "e80cbce5229d440fb9bedd75b09b7cdc",
       "version_major": 2,
       "version_minor": 0
      },
      "text/plain": [
       "JavaScript:   0%|          | 0/2000 [00:00<?, ?it/s]"
      ]
     },
     "metadata": {},
     "output_type": "display_data"
    },
    {
     "name": "stdout",
     "output_type": "stream",
     "text": [
      "Reached target counts for all types in JavaScript\n",
      "Type: add, Count: 261\n",
      "Type: fix, Count: 261\n",
      "Type: remove, Count: 261\n",
      "Type: update, Count: 261\n",
      "Type: use, Count: 102\n",
      "Type: move, Count: 30\n",
      "Type: prepare, Count: 17\n",
      "Type: improve, Count: 213\n",
      "Type: ignore, Count: 38\n",
      "Type: handle, Count: 83\n",
      "Type: rename, Count: 87\n",
      "Type: allow, Count: 111\n",
      "Type: set, Count: 125\n",
      "Type: revert, Count: 45\n",
      "Type: replace, Count: 97\n"
     ]
    }
   ],
   "source": [
    "import pyarrow.parquet as pq\n",
    "import glob\n",
    "import os\n",
    "from tqdm.auto import tqdm\n",
    "# Define the verb groups\n",
    "verb_groups = ['add', 'fix', 'remove', 'update', 'use', 'move', 'prepare', 'improve', 'ignore', 'handle', 'rename',\n",
    "               'allow', 'set', 'revert', 'replace']\n",
    "\n",
    "# Define the counts from your data\n",
    "counts = {\n",
    "    'add': 4000,\n",
    "    'fix': 4000,\n",
    "    'remove': 4000,\n",
    "    'update': 4000,\n",
    "    'use': 1570,\n",
    "    'move': 463,\n",
    "    'prepare': 274,\n",
    "    'improve': 3263,\n",
    "    'ignore': 587,\n",
    "    'handle': 1284,\n",
    "    'rename': 1343,\n",
    "    'allow': 1704,\n",
    "    'set': 1914,\n",
    "    'revert': 700,\n",
    "    'replace': 1493\n",
    "}\n",
    "\n",
    "# Calculate the total count\n",
    "total_count = sum(counts.values())\n",
    "\n",
    "# Define the total number of samples you want to collect\n",
    "total_samples = 2000\n",
    "\n",
    "# Calculate the target count for each type based on the given counts and total_samples\n",
    "target_counts = {vtype: int((count / total_count) * total_samples) for vtype, count in counts.items()}\n",
    "\n",
    "# Create empty dictionaries for each language and type\n",
    "languages = ['JavaScript']\n",
    "dfs = {lang: {vtype: [] for vtype in verb_groups} for lang in languages}\n",
    "counters = {lang: {vtype: 0 for vtype in verb_groups} for lang in languages}\n",
    "\n",
    "# Create a tqdm progress bar for each language\n",
    "bars = {lang: tqdm(total=total_samples, desc=lang) for lang in languages}\n",
    "\n",
    "folder_path = '../rag/datasets--JetBrains-Research--commit-chronicle/snapshots/5fd076e67b812a9f3d1999e5e40f71715f84bb51/data'  # 文件夹的路径\n",
    "\n",
    "files = glob.glob(os.path.join(folder_path, 'test*'))\n",
    "\n",
    "for file in files:\n",
    "    df = pq.read_table(file).to_pandas()\n",
    "\n",
    "    # Iterate over each language\n",
    "    for lang in languages[:]:\n",
    "        # Filter rows where language column matches the current language and additional conditions\n",
    "        lang_df = df[(df['language'] == lang) &\n",
    "                     (df['mods'].apply(len) == 1) &\n",
    "                     (df['message'].apply(lambda x: len(x.split())) <= 30) &\n",
    "                     (df['mods'].apply(lambda x: x[0]['change_type']) == 'MODIFY') &\n",
    "                     (df['mods'].apply(lambda x: len(\n",
    "                         f\"diff --git a/{x[0]['old_path']} b/{x[0]['new_path']} {x[0]['diff']}\") <= 5000))]\n",
    "\n",
    "        # Iterate over each row in the filtered DataFrame\n",
    "        for index, row in lang_df.iterrows():\n",
    "            msg = row['message']\n",
    "            msg = to_lemma(msg, nlp)\n",
    "            if msg.split()[0] in verb_groups:\n",
    "                if commit_processer(msg, nlp)[1] == 1:\n",
    "                    diff = row['mods'][0]\n",
    "                    old_path = 'a/' + diff['old_path']\n",
    "                    new_path = 'b/' + diff['new_path']\n",
    "                    diff_content = diff['diff']\n",
    "                    item = {\n",
    "                        'msg': msg,\n",
    "                        'diff': f\"diff --git {old_path} {new_path} {diff_content}\",\n",
    "                        'date': row['date'],\n",
    "                        'repo': row['repo']\n",
    "                    }\n",
    "\n",
    "                    # Find the type in the message\n",
    "                    for vtype in verb_groups:\n",
    "                        if msg.startswith(vtype):\n",
    "                            if counters[lang][vtype] < target_counts[vtype]:\n",
    "                                dfs[lang][vtype].append(item)\n",
    "                                counters[lang][vtype] += 1\n",
    "                                bars[lang].update(1)\n",
    "                            break\n",
    "\n",
    "            if all(counters[lang][vtype] >= target_counts[vtype] for vtype in verb_groups):\n",
    "                print(f\"Reached target counts for all types in {lang}\")\n",
    "                languages.remove(lang)\n",
    "                break\n",
    "\n",
    "    if not languages:\n",
    "        break\n",
    "\n",
    "# Print the number of items collected for each type\n",
    "for lang in dfs:\n",
    "    for vtype in dfs[lang]:\n",
    "        print(f\"Type: {vtype}, Count: {len(dfs[lang][vtype])}\")"
   ]
  },
  {
   "cell_type": "code",
   "execution_count": 7,
   "id": "930a333525f3b07c",
   "metadata": {
    "ExecuteTime": {
     "end_time": "2024-07-03T10:37:46.577127Z",
     "start_time": "2024-07-03T10:37:46.506601Z"
    }
   },
   "outputs": [],
   "source": [
    "test_data = []\n",
    "\n",
    "for lang, types in dfs.items():\n",
    "    for atype, items in types.items():\n",
    "        if items:  # Ensure there are items to split\n",
    "            for item in items:\n",
    "                item['type'] = atype\n",
    "            test_data.extend(items)\n",
    "\n",
    "import json\n",
    "output_dir = '../data/vdo_filtered'\n",
    "with open(os.path.join(output_dir, f'test_data.json'), 'w') as db_file:\n",
    "    json.dump(test_data, db_file, indent=4)"
   ]
  },
  {
   "cell_type": "code",
   "execution_count": 8,
   "id": "cfe189e0a81cf13c",
   "metadata": {
    "ExecuteTime": {
     "end_time": "2024-07-03T10:38:24.986847Z",
     "start_time": "2024-07-03T10:38:24.975333Z"
    }
   },
   "outputs": [
    {
     "data": {
      "text/plain": [
       "1992"
      ]
     },
     "execution_count": 8,
     "metadata": {},
     "output_type": "execute_result"
    }
   ],
   "source": [
    "len(test_data)"
   ]
  },
  {
   "cell_type": "markdown",
   "id": "c9664f23087a3b81",
   "metadata": {},
   "source": [
    "### Model generation"
   ]
  },
  {
   "cell_type": "markdown",
   "id": "f836ba966ca22f4c",
   "metadata": {},
   "source": [
    "RACE"
   ]
  },
  {
   "cell_type": "code",
   "execution_count": 9,
   "id": "a14e39b55da92507",
   "metadata": {
    "ExecuteTime": {
     "end_time": "2024-07-03T10:41:27.438700Z",
     "start_time": "2024-07-03T10:41:17.812146Z"
    }
   },
   "outputs": [],
   "source": [
    "import json\n",
    "from tqdm.auto import tqdm\n",
    "with open('../data/vdo_filtered/test_data.json') as f:\n",
    "    prompt_data = json.load(f)\n",
    "    \n",
    "import os\n",
    "os.environ['HF_HOME'] = '../models/'\n",
    "\n",
    "from transformers import pipeline\n",
    "pipe = pipeline(\"text2text-generation\", model=\"JetBrains-Research/cmg-race-without-history\", device=0)"
   ]
  },
  {
   "cell_type": "code",
   "execution_count": 10,
   "id": "9967c2b93d45185f",
   "metadata": {
    "ExecuteTime": {
     "end_time": "2024-07-03T10:47:00.868843Z",
     "start_time": "2024-07-03T10:42:40.994757Z"
    }
   },
   "outputs": [
    {
     "data": {
      "application/vnd.jupyter.widget-view+json": {
       "model_id": "278c1f2d8f7d41669a05fea811eefa80",
       "version_major": 2,
       "version_minor": 0
      },
      "text/plain": [
       "Generating commit messages:   0%|          | 0/1992 [00:00<?, ?it/s]"
      ]
     },
     "metadata": {},
     "output_type": "display_data"
    },
    {
     "name": "stderr",
     "output_type": "stream",
     "text": [
      "C:\\Users\\tyfann\\anaconda3\\envs\\llm4commit\\lib\\site-packages\\transformers\\generation\\utils.py:1132: UserWarning: Using the model-agnostic default `max_length` (=20) to control the generation length. We recommend setting `max_new_tokens` to control the maximum length of the generation.\n",
      "  warnings.warn(\n",
      "Token indices sequence length is longer than the specified maximum sequence length for this model (524 > 512). Running this sequence through the model will result in indexing errors\n",
      "--- Logging error ---\n",
      "Traceback (most recent call last):\n",
      "  File \"C:\\Users\\tyfann\\anaconda3\\envs\\llm4commit\\lib\\logging\\__init__.py\", line 1100, in emit\n",
      "    msg = self.format(record)\n",
      "  File \"C:\\Users\\tyfann\\anaconda3\\envs\\llm4commit\\lib\\logging\\__init__.py\", line 943, in format\n",
      "    return fmt.format(record)\n",
      "  File \"C:\\Users\\tyfann\\anaconda3\\envs\\llm4commit\\lib\\logging\\__init__.py\", line 678, in format\n",
      "    record.message = record.getMessage()\n",
      "  File \"C:\\Users\\tyfann\\anaconda3\\envs\\llm4commit\\lib\\logging\\__init__.py\", line 368, in getMessage\n",
      "    msg = msg % self.args\n",
      "TypeError: not all arguments converted during string formatting\n",
      "Call stack:\n",
      "  File \"C:\\Users\\tyfann\\anaconda3\\envs\\llm4commit\\lib\\runpy.py\", line 196, in _run_module_as_main\n",
      "    return _run_code(code, main_globals, None,\n",
      "  File \"C:\\Users\\tyfann\\anaconda3\\envs\\llm4commit\\lib\\runpy.py\", line 86, in _run_code\n",
      "    exec(code, run_globals)\n",
      "  File \"C:\\Users\\tyfann\\anaconda3\\envs\\llm4commit\\lib\\site-packages\\ipykernel_launcher.py\", line 17, in <module>\n",
      "    app.launch_new_instance()\n",
      "  File \"C:\\Users\\tyfann\\anaconda3\\envs\\llm4commit\\lib\\site-packages\\traitlets\\config\\application.py\", line 992, in launch_instance\n",
      "    app.start()\n",
      "  File \"C:\\Users\\tyfann\\anaconda3\\envs\\llm4commit\\lib\\site-packages\\ipykernel\\kernelapp.py\", line 701, in start\n",
      "    self.io_loop.start()\n",
      "  File \"C:\\Users\\tyfann\\anaconda3\\envs\\llm4commit\\lib\\site-packages\\tornado\\platform\\asyncio.py\", line 195, in start\n",
      "    self.asyncio_loop.run_forever()\n",
      "  File \"C:\\Users\\tyfann\\anaconda3\\envs\\llm4commit\\lib\\asyncio\\windows_events.py\", line 321, in run_forever\n",
      "    super().run_forever()\n",
      "  File \"C:\\Users\\tyfann\\anaconda3\\envs\\llm4commit\\lib\\asyncio\\base_events.py\", line 603, in run_forever\n",
      "    self._run_once()\n",
      "  File \"C:\\Users\\tyfann\\anaconda3\\envs\\llm4commit\\lib\\asyncio\\base_events.py\", line 1909, in _run_once\n",
      "    handle._run()\n",
      "  File \"C:\\Users\\tyfann\\anaconda3\\envs\\llm4commit\\lib\\asyncio\\events.py\", line 80, in _run\n",
      "    self._context.run(self._callback, *self._args)\n",
      "  File \"C:\\Users\\tyfann\\anaconda3\\envs\\llm4commit\\lib\\site-packages\\ipykernel\\kernelbase.py\", line 534, in dispatch_queue\n",
      "    await self.process_one()\n",
      "  File \"C:\\Users\\tyfann\\anaconda3\\envs\\llm4commit\\lib\\site-packages\\ipykernel\\kernelbase.py\", line 523, in process_one\n",
      "    await dispatch(*args)\n",
      "  File \"C:\\Users\\tyfann\\anaconda3\\envs\\llm4commit\\lib\\site-packages\\ipykernel\\kernelbase.py\", line 429, in dispatch_shell\n",
      "    await result\n",
      "  File \"C:\\Users\\tyfann\\anaconda3\\envs\\llm4commit\\lib\\site-packages\\ipykernel\\kernelbase.py\", line 767, in execute_request\n",
      "    reply_content = await reply_content\n",
      "  File \"C:\\Users\\tyfann\\anaconda3\\envs\\llm4commit\\lib\\site-packages\\ipykernel\\ipkernel.py\", line 429, in do_execute\n",
      "    res = shell.run_cell(\n",
      "  File \"C:\\Users\\tyfann\\anaconda3\\envs\\llm4commit\\lib\\site-packages\\ipykernel\\zmqshell.py\", line 549, in run_cell\n",
      "    return super().run_cell(*args, **kwargs)\n",
      "  File \"C:\\Users\\tyfann\\anaconda3\\envs\\llm4commit\\lib\\site-packages\\IPython\\core\\interactiveshell.py\", line 3051, in run_cell\n",
      "    result = self._run_cell(\n",
      "  File \"C:\\Users\\tyfann\\anaconda3\\envs\\llm4commit\\lib\\site-packages\\IPython\\core\\interactiveshell.py\", line 3106, in _run_cell\n",
      "    result = runner(coro)\n",
      "  File \"C:\\Users\\tyfann\\anaconda3\\envs\\llm4commit\\lib\\site-packages\\IPython\\core\\async_helpers.py\", line 129, in _pseudo_sync_runner\n",
      "    coro.send(None)\n",
      "  File \"C:\\Users\\tyfann\\anaconda3\\envs\\llm4commit\\lib\\site-packages\\IPython\\core\\interactiveshell.py\", line 3311, in run_cell_async\n",
      "    has_raised = await self.run_ast_nodes(code_ast.body, cell_name,\n",
      "  File \"C:\\Users\\tyfann\\anaconda3\\envs\\llm4commit\\lib\\site-packages\\IPython\\core\\interactiveshell.py\", line 3493, in run_ast_nodes\n",
      "    if await self.run_code(code, result, async_=asy):\n",
      "  File \"C:\\Users\\tyfann\\anaconda3\\envs\\llm4commit\\lib\\site-packages\\IPython\\core\\interactiveshell.py\", line 3553, in run_code\n",
      "    exec(code_obj, self.user_global_ns, self.user_ns)\n",
      "  File \"C:\\Users\\tyfann\\AppData\\Local\\Temp\\ipykernel_14132\\3636319378.py\", line 14, in <module>\n",
      "    generated_commit_messages.append(pipe(diff)[0]['generated_text'])\n",
      "  File \"C:\\Users\\tyfann\\anaconda3\\envs\\llm4commit\\lib\\site-packages\\transformers\\pipelines\\text2text_generation.py\", line 167, in __call__\n",
      "    result = super().__call__(*args, **kwargs)\n",
      "  File \"C:\\Users\\tyfann\\anaconda3\\envs\\llm4commit\\lib\\site-packages\\transformers\\pipelines\\base.py\", line 1167, in __call__\n",
      "    logger.warning_once(\n",
      "  File \"C:\\Users\\tyfann\\anaconda3\\envs\\llm4commit\\lib\\site-packages\\transformers\\utils\\logging.py\", line 329, in warning_once\n",
      "    self.warning(*args, **kwargs)\n",
      "Message: 'You seem to be using the pipelines sequentially on GPU. In order to maximize efficiency please use a dataset'\n",
      "Arguments: (<class 'UserWarning'>,)\n"
     ]
    }
   ],
   "source": [
    "\n",
    "diffs = []\n",
    "generated_commit_messages = []\n",
    "\n",
    "for commit in prompt_data:\n",
    "    diff = commit['diff']\n",
    "    diffs.append(diff)\n",
    "\n",
    "for diff in tqdm(diffs, total=len(diffs), desc='Generating commit messages'):\n",
    "    prompt = f\"\"\"\n",
    "    The following is a diff which describes the code changes in a commit, Your task is to write a short commit message accordingly.\n",
    "    {diff}\n",
    "    According to the diff, the commit message should be:\n",
    "    \"\"\"\n",
    "    generated_commit_messages.append(pipe(diff)[0]['generated_text'])\n",
    "\n",
    "\n",
    "for item, msg in zip(prompt_data, generated_commit_messages):\n",
    "    item['race'] = msg\n",
    "\n",
    "output_file = '../data/vdo_filtered/generation/test_race.json'\n",
    "with open(output_file, 'w', encoding='UTF-8') as f:\n",
    "    json.dump(prompt_data, f, ensure_ascii=False, indent=4)\n",
    "\n",
    "# save msg to a file\n",
    "with open(\"../data/vdo_filtered/generation/test_race.txt\", 'w', encoding='UTF-8') as file:\n",
    "    for item in prompt_data:\n",
    "        file.write(item['race'].replace('\\n', '\\\\n').replace('\\r', '\\\\r') + '\\n')"
   ]
  },
  {
   "cell_type": "markdown",
   "id": "25901d84a74efdcf",
   "metadata": {},
   "source": [
    "chatgpt"
   ]
  },
  {
   "cell_type": "code",
   "execution_count": 11,
   "id": "ae51d8a16ed93975",
   "metadata": {
    "ExecuteTime": {
     "end_time": "2024-07-03T11:17:29.761029Z",
     "start_time": "2024-07-03T10:53:10.474209Z"
    }
   },
   "outputs": [
    {
     "name": "stderr",
     "output_type": "stream",
     "text": [
      "Processing documents: 100%|██████████| 1992/1992 [24:15<00:00,  1.37it/s]\n"
     ]
    }
   ],
   "source": [
    "from langchain import hub\n",
    "import json\n",
    "from tqdm import tqdm\n",
    "prompt = hub.pull(\"tyfann/llm4commit-zeroshot\")\n",
    "\n",
    "from openai import OpenAI\n",
    "\n",
    "client = OpenAI(\n",
    "    api_key=\"sk-0rLvuRkMiD4Mw25QYygh6rUlZVjpQWNGNF4yez7z3PZ7yCOm\",\n",
    "    base_url=\"https://api.chatanywhere.cn/v1\"\n",
    ")\n",
    "\n",
    "def gpt_35_api(messages: list):\n",
    "\n",
    "    completion = client.chat.completions.create(model=\"gpt-3.5-turbo-0125\", messages=messages, temperature=0)\n",
    "    return completion.choices[0].message.content\n",
    "\n",
    "with open('../data/vdo_filtered/test_data.json', 'r', encoding='UTF-8') as f:\n",
    "    org_data = json.load(f)\n",
    "\n",
    "gpt_msg = []\n",
    "for index, data in tqdm(enumerate(org_data), total=len(org_data), desc=\"Processing documents\"):\n",
    "    # merged_diff = '\\n'.join(diff['diff'] for diff in data['diff'])\n",
    "    messages = prompt.invoke(\n",
    "        {\"DIFF\": data['diff']}\n",
    "    ).to_messages()\n",
    "    example_prompt = [{'role': 'user','content': messages[0].content},]\n",
    "    try:\n",
    "        gpt_msg.append(gpt_35_api(example_prompt))\n",
    "    except:\n",
    "        print(index)\n",
    "        gpt_msg.append(\"\")\n",
    "\n",
    "for item, msg in zip(org_data, gpt_msg):\n",
    "    item['chatgpt_zeroshot'] = msg\n",
    "import os\n",
    "# output_file = '../data/chronicle/rag_baseline/zeroshot/rag_baseline_python_chatgpt.json'\n",
    "output_file = '../data/vdo_filtered/generation/test_gpt35_zeroshot.json'\n",
    "os.makedirs(os.path.dirname(output_file), exist_ok=True)\n",
    "with open(output_file, 'w', encoding='UTF-8') as f:\n",
    "    json.dump(org_data, f, ensure_ascii=False, indent=4)\n",
    "\n",
    "output_file = '../data/vdo_filtered/generation/test_gpt35_zeroshot.txt'\n",
    "with open(output_file, 'w', encoding='UTF-8') as f:\n",
    "    for item in org_data:\n",
    "        f.write(item['chatgpt_zeroshot'].replace('\\n', '\\\\n').replace('\\r', '\\\\r') + '\\n')"
   ]
  },
  {
   "cell_type": "code",
   "execution_count": 12,
   "id": "2ee14f5bfdc89c9c",
   "metadata": {
    "ExecuteTime": {
     "end_time": "2024-07-03T11:31:39.682018Z",
     "start_time": "2024-07-03T11:31:39.670017Z"
    }
   },
   "outputs": [],
   "source": [
    "output_file = '../data/vdo_filtered/generation/test_ref.txt'\n",
    "with open(output_file, 'w', encoding='UTF-8') as f:\n",
    "    for item in org_data:\n",
    "        f.write(item['msg'].replace('\\n', '\\\\n').replace('\\r', '\\\\r') + '\\n')"
   ]
  },
  {
   "cell_type": "markdown",
   "id": "7ddbb0077ef04617",
   "metadata": {},
   "source": [
    "vanilla RAG"
   ]
  },
  {
   "cell_type": "code",
   "execution_count": 2,
   "id": "d258c107aafb71d",
   "metadata": {
    "ExecuteTime": {
     "end_time": "2024-07-03T12:11:59.865632Z",
     "start_time": "2024-07-03T12:11:56.051243Z"
    }
   },
   "outputs": [],
   "source": [
    "diff_loader = JSONLoader(\n",
    "    file_path='../data/vdo_filtered/db_data.json',\n",
    "    jq_schema='.[].diff',\n",
    "    text_content=False)\n",
    "\n",
    "diff_data = diff_loader.load()\n",
    "\n",
    "msg_loader = JSONLoader(\n",
    "    file_path='../data/vdo_filtered/db_data.json',\n",
    "    jq_schema='.[].msg',\n",
    "    text_content=False)\n",
    "\n",
    "msg_data = msg_loader.load()"
   ]
  },
  {
   "cell_type": "code",
   "execution_count": 3,
   "id": "791452d4f5318607",
   "metadata": {
    "ExecuteTime": {
     "end_time": "2024-07-03T12:11:59.991647Z",
     "start_time": "2024-07-03T12:11:59.867636Z"
    }
   },
   "outputs": [],
   "source": [
    "test_diff_loader = JSONLoader(\n",
    "    file_path='../data/vdo_filtered/test_data.json',\n",
    "    jq_schema='.[].diff',\n",
    "    text_content=False)\n",
    "\n",
    "test_diff_data = test_diff_loader.load()\n",
    "# test_diff_data = test_diff_loader.load()[:1000]\n",
    "\n",
    "with open('../data/vdo_filtered/test_data.json', 'r', encoding='UTF-8') as f:\n",
    "    test_data = json.load(f)"
   ]
  },
  {
   "cell_type": "code",
   "execution_count": 4,
   "id": "fae4658c9a0297b5",
   "metadata": {
    "ExecuteTime": {
     "end_time": "2024-07-03T12:12:04.098776Z",
     "start_time": "2024-07-03T12:12:02.762032Z"
    }
   },
   "outputs": [
    {
     "ename": "NameError",
     "evalue": "name 'embeddings' is not defined",
     "output_type": "error",
     "traceback": [
      "\u001b[1;31m---------------------------------------------------------------------------\u001b[0m",
      "\u001b[1;31mNameError\u001b[0m                                 Traceback (most recent call last)",
      "Cell \u001b[1;32mIn[4], line 2\u001b[0m\n\u001b[0;32m      1\u001b[0m \u001b[38;5;28;01mif\u001b[39;00m os\u001b[38;5;241m.\u001b[39mpath\u001b[38;5;241m.\u001b[39mexists(\u001b[38;5;124mf\u001b[39m\u001b[38;5;124m\"\u001b[39m\u001b[38;5;124m../data/vdo_filtered/type_db/rag_all_types_db_e5_nochunk\u001b[39m\u001b[38;5;124m\"\u001b[39m):\n\u001b[1;32m----> 2\u001b[0m     db \u001b[38;5;241m=\u001b[39m Chroma(persist_directory\u001b[38;5;241m=\u001b[39m\u001b[38;5;124mf\u001b[39m\u001b[38;5;124m\"\u001b[39m\u001b[38;5;124m../data/vdo_filtered/type_db/rag_all_types_db_e5_nochunk\u001b[39m\u001b[38;5;124m\"\u001b[39m, embedding_function\u001b[38;5;241m=\u001b[39m\u001b[43membeddings\u001b[49m)\n\u001b[0;32m      3\u001b[0m \u001b[38;5;28;01melse\u001b[39;00m:\n\u001b[0;32m      4\u001b[0m     db \u001b[38;5;241m=\u001b[39m Chroma\u001b[38;5;241m.\u001b[39mfrom_documents(diff_data, embeddings, persist_directory\u001b[38;5;241m=\u001b[39m\u001b[38;5;124m\"\u001b[39m\u001b[38;5;124m../data/vdo_filtered/type_db/rag_all_types_db_e5_nochunk\u001b[39m\u001b[38;5;124m\"\u001b[39m)\n",
      "\u001b[1;31mNameError\u001b[0m: name 'embeddings' is not defined"
     ]
    }
   ],
   "source": [
    "if os.path.exists(f\"../data/vdo_filtered/type_db/rag_all_types_db_e5_nochunk\"):\n",
    "    db = Chroma(persist_directory=f\"../data/vdo_filtered/type_db/rag_all_types_db_e5_nochunk\", embedding_function=embeddings)\n",
    "else:\n",
    "    db = Chroma.from_documents(diff_data, embeddings, persist_directory=\"../data/vdo_filtered/type_db/rag_all_types_db_e5_nochunk\")"
   ]
  },
  {
   "cell_type": "code",
   "execution_count": 12,
   "id": "c5a7b4431b66389d",
   "metadata": {
    "ExecuteTime": {
     "end_time": "2024-07-03T12:00:39.460751Z",
     "start_time": "2024-07-03T12:00:02.019107Z"
    }
   },
   "outputs": [
    {
     "data": {
      "application/vnd.jupyter.widget-view+json": {
       "model_id": "45d5672cc68d4ed4badbfce9651a2ffa",
       "version_major": 2,
       "version_minor": 0
      },
      "text/plain": [
       "Processing documents:   0%|          | 0/1992 [00:00<?, ?it/s]"
      ]
     },
     "metadata": {},
     "output_type": "display_data"
    }
   ],
   "source": [
    "similar_diff = []\n",
    "retriever = db.as_retriever()\n",
    "for diff_doc in tqdm(test_diff_data, total=len(test_diff_data), desc=\"Processing documents\"):\n",
    "    similar_diff.append(retriever.invoke(diff_doc.page_content)[0])\n",
    "\n",
    "for sim_diff, test_item in zip(similar_diff, test_data):\n",
    "    test_item['sim_msg'] = msg_data[sim_diff.metadata['seq_num'] - 1].page_content\n",
    "    test_item['sim_diff'] = diff_data[sim_diff.metadata['seq_num'] - 1].page_content\n",
    "\n",
    "with open('../data/vdo_filtered/generation/rag/test_rag_prompt.json', 'w',\n",
    "          encoding='UTF-8') as f:\n",
    "    json.dump(test_data, f, ensure_ascii=False, indent=4)"
   ]
  },
  {
   "cell_type": "code",
   "execution_count": 5,
   "id": "5f6f229fbf0292be",
   "metadata": {
    "ExecuteTime": {
     "end_time": "2024-07-03T12:39:24.166651Z",
     "start_time": "2024-07-03T12:12:32.713180Z"
    }
   },
   "outputs": [
    {
     "name": "stderr",
     "output_type": "stream",
     "text": [
      "Processing documents: 100%|██████████| 1992/1992 [26:49<00:00,  1.24it/s]  \n"
     ]
    }
   ],
   "source": [
    "\n",
    "from openai import OpenAI\n",
    "\n",
    "client = OpenAI(\n",
    "    api_key=\"sk-0rLvuRkMiD4Mw25QYygh6rUlZVjpQWNGNF4yez7z3PZ7yCOm\",\n",
    "    base_url=\"https://api.chatanywhere.cn/v1\"\n",
    ")\n",
    "\n",
    "\n",
    "def gpt_35_api(messages: list):\n",
    "    completion = client.chat.completions.create(model=\"gpt-3.5-turbo-0125\", messages=messages, temperature=0)\n",
    "    return completion.choices[0].message.content\n",
    "\n",
    "\n",
    "import json\n",
    "from tqdm import tqdm\n",
    "from langchain import hub\n",
    "\n",
    "prompt = hub.pull(\"tyfann/llm4commit-rag:b843ef0b\")\n",
    "\n",
    "with open(f'../data/vdo_filtered/generation/rag/test_rag_prompt.json', 'r',\n",
    "          encoding='UTF-8') as f:\n",
    "    org_data = json.load(f)\n",
    "gpt_msg = []\n",
    "for index, data in tqdm(enumerate(org_data), total=len(org_data), desc=\"Processing documents\"):\n",
    "    messages = prompt.invoke(\n",
    "        {\"context\": data['sim_diff'], \"msg\": data['sim_msg'], \"diff\": data['diff']}\n",
    "    ).to_messages()\n",
    "    example_prompt = [{'role': 'user', 'content': messages[0].content}, ]\n",
    "    try:\n",
    "        gpt_msg.append(gpt_35_api(example_prompt))\n",
    "    except:\n",
    "        print(index)\n",
    "        gpt_msg.append('')\n",
    "\n",
    "for item, msg in zip(org_data, gpt_msg):\n",
    "    item['chatgpt_rag'] = msg\n",
    "\n",
    "output_file = f'../data/vdo_filtered/generation/rag/test_gpt35_rag.json'\n",
    "with open(output_file, 'w', encoding='UTF-8') as f:\n",
    "    json.dump(org_data, f, ensure_ascii=False, indent=4)\n",
    "\n",
    "output_file = f'../data/vdo_filtered/generation/rag/test_gpt35_rag.txt'\n",
    "with open(output_file, 'w', encoding='UTF-8') as f:\n",
    "    for item in org_data:\n",
    "        f.write(item['chatgpt_rag'].replace('\\n', '\\\\n').replace('\\r', '\\\\r') + '\\n')"
   ]
  },
  {
   "cell_type": "markdown",
   "id": "8318317071b2842b",
   "metadata": {},
   "source": [
    "classification model"
   ]
  },
  {
   "cell_type": "code",
   "execution_count": 3,
   "id": "f44ad644c993c2b",
   "metadata": {
    "ExecuteTime": {
     "end_time": "2024-07-03T11:48:41.488947Z",
     "start_time": "2024-07-03T11:48:40.427859Z"
    }
   },
   "outputs": [],
   "source": [
    "import json\n",
    "import os\n",
    "\n",
    "# 假设json文件名为data.json\n",
    "input_filename = '../data/vdo_filtered/db_data.json'\n",
    "output_dir = '../data/vdo_filtered/type_db'\n",
    "\n",
    "# 创建输出目录\n",
    "if not os.path.exists(output_dir):\n",
    "    os.makedirs(output_dir)\n",
    "\n",
    "# 读取JSON文件\n",
    "with open(input_filename, 'r', encoding='utf-8') as file:\n",
    "    data = json.load(file)\n",
    "\n",
    "# 初始化一个字典用于存储每种type的数据\n",
    "type_dict = {}\n",
    "\n",
    "# 遍历每一个item，根据type分类\n",
    "for item in data:\n",
    "    item_type = item['type']\n",
    "    if item_type not in type_dict:\n",
    "        type_dict[item_type] = []\n",
    "    type_dict[item_type].append(item)\n",
    "\n",
    "# 将分类好的数据写入不同的文件\n",
    "for item_type, items in type_dict.items():\n",
    "    output_filename = os.path.join(output_dir, f'JavaScript_{item_type}_db.json')\n",
    "    with open(output_filename, 'w', encoding='utf-8') as file:\n",
    "        json.dump(items, file, ensure_ascii=False, indent=4)"
   ]
  },
  {
   "cell_type": "code",
   "execution_count": 2,
   "id": "94523eddb17ff932",
   "metadata": {
    "ExecuteTime": {
     "end_time": "2024-07-03T11:45:11.534132Z",
     "start_time": "2024-07-03T11:45:11.521133Z"
    }
   },
   "outputs": [],
   "source": [
    "import os\n",
    "# Define the directory containing the JSON files\n",
    "output_dir = '../data/vdo_filtered/classification'\n",
    "\n",
    "# List of types and their corresponding labels\n",
    "types = [\n",
    "    'add', 'fix', 'remove', 'update', 'use', \n",
    "    'move', 'prepare', 'improve', 'ignore', 'handle',\n",
    "    'rename', 'allow', 'set', 'revert', 'replace'\n",
    "]\n",
    "type_label_mapping = {type_name: idx for idx, type_name in enumerate(types)}\n",
    "\n",
    "# Save the type-label mapping to a txt file\n",
    "with open(os.path.join(output_dir, 'type_label_mapping.txt'), 'w') as mapping_file:\n",
    "    for type_name, label in type_label_mapping.items():\n",
    "        mapping_file.write(f'{type_name}: {label}\\n')"
   ]
  },
  {
   "cell_type": "code",
   "execution_count": 4,
   "id": "7bf860a6957d965e",
   "metadata": {
    "ExecuteTime": {
     "end_time": "2024-07-03T11:50:24.279021Z",
     "start_time": "2024-07-03T11:50:22.021993Z"
    }
   },
   "outputs": [
    {
     "name": "stdout",
     "output_type": "stream",
     "text": [
      "Data splitting and saving to JSONL files completed.\n"
     ]
    }
   ],
   "source": [
    "import json\n",
    "import glob\n",
    "import os\n",
    "from sklearn.model_selection import train_test_split\n",
    "import random\n",
    "random.seed(42)\n",
    "\n",
    "# Define the directory containing the JSON files\n",
    "output_dir = '../../CodeBERT-classification/dataset'\n",
    "\n",
    "# List of types and their corresponding labels\n",
    "types = [\n",
    "    'add', 'fix', 'remove', 'update', 'use', \n",
    "    'move', 'prepare', 'improve', 'ignore', 'handle',\n",
    "    'rename', 'allow', 'set', 'revert', 'replace'\n",
    "]\n",
    "type_label_mapping = {type_name: idx for idx, type_name in enumerate(types)}\n",
    "\n",
    "train_items = []\n",
    "valid_items = []\n",
    "\n",
    "# Read and process all test JSON files\n",
    "for type_name in types:\n",
    "    test_file = os.path.join('../data/vdo_filtered/type_db', f'JavaScript_{type_name}_db.json')\n",
    "    if os.path.exists(test_file):\n",
    "        with open(test_file, 'r') as f:\n",
    "            items = json.load(f)\n",
    "            data = [\n",
    "                {\n",
    "                    \"code\": item['diff'],\n",
    "                    \"label\": type_label_mapping[type_name]\n",
    "                }\n",
    "                for item in items\n",
    "            ]\n",
    "            # Split data into 1:8 ratio\n",
    "            train_split, valid_split = train_test_split(data, test_size=1/10, random_state=42)\n",
    "            valid_items.extend(valid_split)\n",
    "            train_items.extend(train_split)\n",
    "\n",
    "# Shuffle the items to randomize their order\n",
    "random.shuffle(valid_items)\n",
    "random.shuffle(train_items)\n",
    "\n",
    "# Save validation items to valid.jsonl\n",
    "with open(os.path.join(output_dir, 'valid_vdo.jsonl'), 'w') as valid_file:\n",
    "    for item in valid_items:\n",
    "        valid_file.write(json.dumps(item) + '\\n')\n",
    "\n",
    "# Save training items to train.jsonl\n",
    "with open(os.path.join(output_dir, 'train_vdo.jsonl'), 'w') as train_file:\n",
    "    for item in train_items:\n",
    "        train_file.write(json.dumps(item) + '\\n')\n",
    "\n",
    "print(\"Data splitting and saving to JSONL files completed.\")\n"
   ]
  },
  {
   "cell_type": "code",
   "execution_count": 5,
   "id": "ad7e5dabdb003346",
   "metadata": {
    "ExecuteTime": {
     "end_time": "2024-07-03T11:51:06.581530Z",
     "start_time": "2024-07-03T11:51:06.498275Z"
    }
   },
   "outputs": [],
   "source": [
    "def read_mapping(file_path):\n",
    "    mapping = {}\n",
    "    with open(file_path, 'r') as f:\n",
    "        for line in f:\n",
    "            key, value = line.strip().split(': ')\n",
    "            mapping[key] = int(value)\n",
    "    return mapping\n",
    "\n",
    "# 读取json文件\n",
    "def read_json(file_path):\n",
    "    with open(file_path, 'r') as f:\n",
    "        data = json.load(f)\n",
    "    return data\n",
    "\n",
    "# 写入jsonl文件\n",
    "def write_jsonl(file_path, data):\n",
    "    with open(file_path, 'w') as f:\n",
    "        for item in data:\n",
    "            json.dump(item, f)\n",
    "            f.write('\\n')\n",
    "\n",
    "# 主函数\n",
    "def main(mapping_file, json_file, output_file):\n",
    "    # 读取mapping和json数据\n",
    "    mapping = read_mapping(mapping_file)\n",
    "    json_data = read_json(json_file)\n",
    "    # random.seed(42)\n",
    "    # random.shuffle(json_data)\n",
    "\n",
    "    # 生成新的jsonl数据\n",
    "    new_data = []\n",
    "    for item in json_data:\n",
    "        new_item = {\n",
    "            \"code\": item[\"diff\"],\n",
    "            \"label\": mapping[item[\"type\"]]\n",
    "        }\n",
    "        new_data.append(new_item)\n",
    "\n",
    "    # 写入新的jsonl文件\n",
    "    write_jsonl(output_file, new_data)\n",
    "\n",
    "# 调用主函数\n",
    "mapping_file = '../data/vdo_filtered/classification/type_label_mapping.txt'\n",
    "json_file = '../data/vdo_filtered/test_data.json'\n",
    "output_file = '../../CodeBERT-classification/dataset/test_vdo.jsonl'\n",
    "main(mapping_file, json_file, output_file)"
   ]
  },
  {
   "cell_type": "code",
   "execution_count": 32,
   "id": "d27c0151132c8395",
   "metadata": {
    "ExecuteTime": {
     "end_time": "2024-07-16T13:20:01.144749Z",
     "start_time": "2024-07-16T13:20:01.100641Z"
    }
   },
   "outputs": [],
   "source": [
    "import json\n",
    "with open('../data/vdo_filtered/generation/rag/test_rag_prompt.json', 'r', encoding='UTF-8') as f:\n",
    "    prompt = json.load(f)"
   ]
  },
  {
   "cell_type": "code",
   "execution_count": 5,
   "id": "d2ed96cca939975a",
   "metadata": {
    "ExecuteTime": {
     "end_time": "2024-07-03T13:53:09.970622Z",
     "start_time": "2024-07-03T13:53:09.962109Z"
    }
   },
   "outputs": [
    {
     "name": "stdout",
     "output_type": "stream",
     "text": [
      "14.156626506024098\n"
     ]
    }
   ],
   "source": [
    "count = 0\n",
    "for item in prompt:\n",
    "    if item['sim_msg'].split()[0] == item['type']:\n",
    "        count += 1\n",
    "\n",
    "print(count / len(prompt) * 100)"
   ]
  },
  {
   "cell_type": "code",
   "execution_count": 34,
   "id": "650156fb9b198644",
   "metadata": {
    "ExecuteTime": {
     "end_time": "2024-07-16T13:23:55.971944Z",
     "start_time": "2024-07-16T13:23:55.962864Z"
    }
   },
   "outputs": [],
   "source": [
    "# 读取mapping.txt文件\n",
    "def read_mapping(file_path):\n",
    "    mapping = {}\n",
    "    with open(file_path, 'r', encoding='UTF-8') as f:\n",
    "        for line in f:\n",
    "            key, value = line.strip().split(': ')\n",
    "            mapping[key] = int(value)  # 将value转换为int作为键，key作为值\n",
    "    return mapping\n",
    "mapping_file = '../data/vdo_filtered/classification/type_label_mapping.txt'\n",
    "mapping = read_mapping(mapping_file)\n",
    "\n",
    "pred_vdo_type_mapping = []\n",
    "for item in prompt:\n",
    "    pred_vdo_type_mapping.append(mapping[item['sim_msg'].split()[0]])\n",
    "# to a txt file\n",
    "with open('../data/vdo_filtered/classification/vdo_test_rag_predictions.txt', 'w', encoding='UTF-8') as file:\n",
    "    for item in pred_vdo_type_mapping:\n",
    "        file.write(f'{item}\\n')"
   ]
  },
  {
   "cell_type": "code",
   "execution_count": 36,
   "id": "3ef7eab4d6e2b280",
   "metadata": {
    "ExecuteTime": {
     "end_time": "2024-07-16T13:24:33.690259Z",
     "start_time": "2024-07-16T13:24:33.481230Z"
    }
   },
   "outputs": [
    {
     "data": {
      "image/png": "[encoded data removed]",
      "text/plain": [
       "<Figure size 640x480 with 2 Axes>"
      ]
     },
     "metadata": {},
     "output_type": "display_data"
    }
   ],
   "source": [
    "import numpy as np\n",
    "import matplotlib.pyplot as plt\n",
    "from sklearn.metrics import confusion_matrix, ConfusionMatrixDisplay\n",
    "\n",
    "# 读取标签文件\n",
    "def read_labels(file_path):\n",
    "    with open(file_path, 'r') as f:\n",
    "        labels = [int(line.strip()) for line in f]\n",
    "    return labels\n",
    "\n",
    "# 主函数\n",
    "def main(ref_file, pred_file):\n",
    "    # 读取ref和pred标签\n",
    "    y_true = read_labels(ref_file)\n",
    "    y_pred = read_labels(pred_file)\n",
    "\n",
    "    # 计算混淆矩阵\n",
    "    cm = confusion_matrix(y_true, y_pred, labels=np.arange(15))\n",
    "    \n",
    "    # 绘制混淆矩阵\n",
    "    disp = ConfusionMatrixDisplay(confusion_matrix=cm, display_labels=np.arange(15))\n",
    "    disp.plot(cmap=plt.cm.Blues)\n",
    "    plt.title('Confusion Matrix')\n",
    "    plt.show()\n",
    "\n",
    "# 调用主函数\n",
    "ref_file = '../data/vdo_filtered/classification/vdo_test_references.txt'\n",
    "pred_file = '../data/vdo_filtered/classification/vdo_test_rag_predictions.txt'\n",
    "main(ref_file, pred_file)"
   ]
  },
  {
   "cell_type": "code",
   "execution_count": 35,
   "id": "bb875b24d13718ad",
   "metadata": {
    "ExecuteTime": {
     "end_time": "2024-07-16T13:23:56.189297Z",
     "start_time": "2024-07-16T13:23:56.130793Z"
    }
   },
   "outputs": [],
   "source": [
    "import json\n",
    "\n",
    "# 读取mapping.txt文件\n",
    "def read_mapping(file_path):\n",
    "    mapping = {}\n",
    "    with open(file_path, 'r', encoding='UTF-8') as f:\n",
    "        for line in f:\n",
    "            key, value = line.strip().split(': ')\n",
    "            mapping[int(value)] = key  # 将value转换为int作为键，key作为值\n",
    "    return mapping\n",
    "\n",
    "# 读取json文件\n",
    "def read_json(file_path):\n",
    "    with open(file_path, 'r', encoding='UTF-8') as f:\n",
    "        data = json.load(f)\n",
    "    return data\n",
    "\n",
    "# 读取pred.txt文件\n",
    "def read_labels(file_path):\n",
    "    with open(file_path, 'r', encoding='UTF-8') as f:\n",
    "        labels = [int(line.strip()) for line in f]\n",
    "    return labels\n",
    "\n",
    "# 写入json文件\n",
    "def write_json(file_path, data):\n",
    "    with open(file_path, 'w', encoding='UTF-8') as f:\n",
    "        json.dump(data, f, indent=4)\n",
    "\n",
    "# 主函数\n",
    "def main(mapping_file, json_file, pred_file, output_file):\n",
    "    # 读取mapping和json数据\n",
    "    mapping = read_mapping(mapping_file)\n",
    "    json_data = read_json(json_file)\n",
    "    pred_labels = read_labels(pred_file)\n",
    "\n",
    "    # 添加classifier_type字段\n",
    "    for item, label in zip(json_data, pred_labels):\n",
    "        item[\"classifier_type\"] = mapping[label]\n",
    "\n",
    "    # 写入更新后的json文件\n",
    "    write_json(output_file, json_data)\n",
    "\n",
    "# 调用主函数\n",
    "mapping_file = '../data/vdo_filtered/classification/type_label_mapping.txt'\n",
    "json_file = '../data/vdo_filtered/test_data.json'\n",
    "pred_file = '../data/vdo_filtered/classification/vdo_test_predictions.txt'\n",
    "output_file = '../data/vdo_filtered/classification/test_with_classification.json'\n",
    "main(mapping_file, json_file, pred_file, output_file)"
   ]
  },
  {
   "cell_type": "code",
   "execution_count": 7,
   "id": "3f1e39f967c87a82",
   "metadata": {
    "ExecuteTime": {
     "end_time": "2024-07-03T14:11:23.216348Z",
     "start_time": "2024-07-03T14:11:20.577966Z"
    }
   },
   "outputs": [
    {
     "data": {
      "image/png": "[encoded data removed]",
      "text/plain": [
       "<Figure size 640x480 with 2 Axes>"
      ]
     },
     "metadata": {},
     "output_type": "display_data"
    }
   ],
   "source": [
    "import numpy as np\n",
    "import matplotlib.pyplot as plt\n",
    "from sklearn.metrics import confusion_matrix, ConfusionMatrixDisplay\n",
    "\n",
    "# 读取标签文件\n",
    "def read_labels(file_path):\n",
    "    with open(file_path, 'r') as f:\n",
    "        labels = [int(line.strip()) for line in f]\n",
    "    return labels\n",
    "\n",
    "# 主函数\n",
    "def main(ref_file, pred_file):\n",
    "    # 读取ref和pred标签\n",
    "    y_true = read_labels(ref_file)\n",
    "    y_pred = read_labels(pred_file)\n",
    "\n",
    "    # 计算混淆矩阵\n",
    "    cm = confusion_matrix(y_true, y_pred, labels=np.arange(15))\n",
    "    \n",
    "    # 绘制混淆矩阵\n",
    "    disp = ConfusionMatrixDisplay(confusion_matrix=cm, display_labels=np.arange(15))\n",
    "    disp.plot(cmap=plt.cm.Blues)\n",
    "    plt.title('Confusion Matrix')\n",
    "    plt.show()\n",
    "\n",
    "# 调用主函数\n",
    "ref_file = '../data/vdo_filtered/classification/vdo_test_references.txt'\n",
    "pred_file = '../data/vdo_filtered/classification/vdo_test_predictions.txt'\n",
    "main(ref_file, pred_file)"
   ]
  },
  {
   "cell_type": "code",
   "execution_count": 4,
   "id": "19c33dc1784a2727",
   "metadata": {
    "ExecuteTime": {
     "end_time": "2024-07-16T11:50:14.204306Z",
     "start_time": "2024-07-16T11:50:14.139198Z"
    }
   },
   "outputs": [],
   "source": [
    "import glob, os\n",
    "with open('../data/vdo_filtered/classification/test_with_classification.json', 'r', encoding='UTF-8') as f:\n",
    "    test_data = json.load(f)\n",
    "\n",
    "for index, item in enumerate(test_data):\n",
    "    item['seq_num'] = index\n",
    "\n",
    "with open('../data/vdo_filtered/classification/test_with_classification.json', 'w', encoding='UTF-8') as f:\n",
    "    json.dump(test_data, f, indent=4)\n",
    "\n",
    "folder_path = '../data/vdo_filtered/type_db'\n",
    "files = glob.glob(os.path.join(folder_path, '*db.json'))"
   ]
  },
  {
   "cell_type": "code",
   "execution_count": 5,
   "id": "1cf5d4e141377feb",
   "metadata": {
    "ExecuteTime": {
     "end_time": "2024-07-16T11:50:16.166661Z",
     "start_time": "2024-07-16T11:50:16.013242Z"
    }
   },
   "outputs": [],
   "source": [
    "\n",
    "test_diff_loader = JSONLoader(\n",
    "    file_path='../data/vdo_filtered/classification/test_with_classification.json',\n",
    "    jq_schema='.[].diff',\n",
    "    text_content=False)\n",
    "\n",
    "test_diff_data = test_diff_loader.load()\n",
    "# test_diff_data = test_diff_loader.load()[:1000]\n",
    "\n",
    "with open('../data/vdo_filtered/classification/test_with_classification.json', 'r', encoding='UTF-8') as f:\n",
    "    test_data = json.load(f)"
   ]
  },
  {
   "cell_type": "code",
   "execution_count": 6,
   "id": "69f36cd367323657",
   "metadata": {
    "ExecuteTime": {
     "end_time": "2024-07-16T11:52:04.984713Z",
     "start_time": "2024-07-16T11:51:27.486510Z"
    }
   },
   "outputs": [
    {
     "data": {
      "application/vnd.jupyter.widget-view+json": {
       "model_id": "438065fa459840dc8126ead1e7779237",
       "version_major": 2,
       "version_minor": 0
      },
      "text/plain": [
       "Processing documents:   0%|          | 0/261 [00:00<?, ?it/s]"
      ]
     },
     "metadata": {},
     "output_type": "display_data"
    },
    {
     "data": {
      "application/vnd.jupyter.widget-view+json": {
       "model_id": "35d94b67d0a04f318cf6bd2efe8ff28f",
       "version_major": 2,
       "version_minor": 0
      },
      "text/plain": [
       "Processing documents:   0%|          | 0/111 [00:00<?, ?it/s]"
      ]
     },
     "metadata": {},
     "output_type": "display_data"
    },
    {
     "data": {
      "application/vnd.jupyter.widget-view+json": {
       "model_id": "67c9a3dd40da44d1abf7deff2470a75d",
       "version_major": 2,
       "version_minor": 0
      },
      "text/plain": [
       "Processing documents:   0%|          | 0/261 [00:00<?, ?it/s]"
      ]
     },
     "metadata": {},
     "output_type": "display_data"
    },
    {
     "data": {
      "application/vnd.jupyter.widget-view+json": {
       "model_id": "47d75e29c26c473195778d78afc09b94",
       "version_major": 2,
       "version_minor": 0
      },
      "text/plain": [
       "Processing documents:   0%|          | 0/83 [00:00<?, ?it/s]"
      ]
     },
     "metadata": {},
     "output_type": "display_data"
    },
    {
     "data": {
      "application/vnd.jupyter.widget-view+json": {
       "model_id": "927382f9cd84457fbbf511899803d987",
       "version_major": 2,
       "version_minor": 0
      },
      "text/plain": [
       "Processing documents:   0%|          | 0/38 [00:00<?, ?it/s]"
      ]
     },
     "metadata": {},
     "output_type": "display_data"
    },
    {
     "data": {
      "application/vnd.jupyter.widget-view+json": {
       "model_id": "3b83f217f7fe49349996b3f8eb938ff8",
       "version_major": 2,
       "version_minor": 0
      },
      "text/plain": [
       "Processing documents:   0%|          | 0/213 [00:00<?, ?it/s]"
      ]
     },
     "metadata": {},
     "output_type": "display_data"
    },
    {
     "data": {
      "application/vnd.jupyter.widget-view+json": {
       "model_id": "66bfba74bf5a40b9be350106f74dd019",
       "version_major": 2,
       "version_minor": 0
      },
      "text/plain": [
       "Processing documents:   0%|          | 0/30 [00:00<?, ?it/s]"
      ]
     },
     "metadata": {},
     "output_type": "display_data"
    },
    {
     "data": {
      "application/vnd.jupyter.widget-view+json": {
       "model_id": "b9ceeaab175742e587af1f692694a4f4",
       "version_major": 2,
       "version_minor": 0
      },
      "text/plain": [
       "Processing documents:   0%|          | 0/17 [00:00<?, ?it/s]"
      ]
     },
     "metadata": {},
     "output_type": "display_data"
    },
    {
     "data": {
      "application/vnd.jupyter.widget-view+json": {
       "model_id": "7cbac07275744a1f8bb85adb9d52b9af",
       "version_major": 2,
       "version_minor": 0
      },
      "text/plain": [
       "Processing documents:   0%|          | 0/261 [00:00<?, ?it/s]"
      ]
     },
     "metadata": {},
     "output_type": "display_data"
    },
    {
     "data": {
      "application/vnd.jupyter.widget-view+json": {
       "model_id": "60c1000bbb10490eb5b9e56c1f7050a6",
       "version_major": 2,
       "version_minor": 0
      },
      "text/plain": [
       "Processing documents:   0%|          | 0/87 [00:00<?, ?it/s]"
      ]
     },
     "metadata": {},
     "output_type": "display_data"
    },
    {
     "data": {
      "application/vnd.jupyter.widget-view+json": {
       "model_id": "6ebbc23e8d454b378224ced52b2941a7",
       "version_major": 2,
       "version_minor": 0
      },
      "text/plain": [
       "Processing documents:   0%|          | 0/97 [00:00<?, ?it/s]"
      ]
     },
     "metadata": {},
     "output_type": "display_data"
    },
    {
     "data": {
      "application/vnd.jupyter.widget-view+json": {
       "model_id": "05c4ab13661449c5895d5c8155e8d238",
       "version_major": 2,
       "version_minor": 0
      },
      "text/plain": [
       "Processing documents:   0%|          | 0/45 [00:00<?, ?it/s]"
      ]
     },
     "metadata": {},
     "output_type": "display_data"
    },
    {
     "data": {
      "application/vnd.jupyter.widget-view+json": {
       "model_id": "1018b1660a2643408695e1ab681daf6b",
       "version_major": 2,
       "version_minor": 0
      },
      "text/plain": [
       "Processing documents:   0%|          | 0/125 [00:00<?, ?it/s]"
      ]
     },
     "metadata": {},
     "output_type": "display_data"
    },
    {
     "data": {
      "application/vnd.jupyter.widget-view+json": {
       "model_id": "dda64d246421424388560e1d6011e941",
       "version_major": 2,
       "version_minor": 0
      },
      "text/plain": [
       "Processing documents:   0%|          | 0/261 [00:00<?, ?it/s]"
      ]
     },
     "metadata": {},
     "output_type": "display_data"
    },
    {
     "data": {
      "application/vnd.jupyter.widget-view+json": {
       "model_id": "d79900f11d044250b220b6aeb10c7708",
       "version_major": 2,
       "version_minor": 0
      },
      "text/plain": [
       "Processing documents:   0%|          | 0/102 [00:00<?, ?it/s]"
      ]
     },
     "metadata": {},
     "output_type": "display_data"
    }
   ],
   "source": [
    "grouped_data = defaultdict(list)\n",
    "for entry in test_data:\n",
    "    grouped_data[entry['type']].append(entry)\n",
    "# splitter = RecursiveCharacterTextSplitter.from_language(Language.JS, chunk_size=1000, chunk_overlap=200)\n",
    "for file in files:\n",
    "    diff_loader = JSONLoader(\n",
    "        file_path=file,\n",
    "        jq_schema='.[].diff',\n",
    "        text_content=False)\n",
    "\n",
    "    diff_data = diff_loader.load()\n",
    "\n",
    "    msg_loader = JSONLoader(\n",
    "        file_path=file,\n",
    "        jq_schema='.[].msg',\n",
    "        text_content=False)\n",
    "\n",
    "    msg_data = msg_loader.load()\n",
    "    # diff_split = []\n",
    "\n",
    "    # for i, doc in tqdm(enumerate(diff_data), total=len(diff_data), desc=\"Processing documents\"):\n",
    "    #     diff_split += splitter.split_documents([doc])\n",
    "\n",
    "    type = file.split('\\\\')[-1].split('_')[1]\n",
    "    if os.path.exists(f\"../data/vdo_filtered/type_db/rag_{type}_db_e5\"):\n",
    "        db = Chroma(persist_directory=f\"../data/vdo_filtered/type_db/rag_{type}_db_e5\",\n",
    "                    embedding_function=embeddings)\n",
    "    else:\n",
    "        db = Chroma.from_documents(diff_data, embeddings,\n",
    "                                   persist_directory=f\"../data/vdo_filtered/type_db/rag_{type}_db_e5\")\n",
    "    # db = Chroma(persist_directory=f\"../data/angular_filtered/subsets/type_db/rag_{type}_db_e5\", embedding_function=embeddings)\n",
    "    similar_diff = []\n",
    "    retriever = db.as_retriever()\n",
    "    indexs = [item['seq_num'] for item in grouped_data[type]]\n",
    "    for index in tqdm(indexs, total=len(indexs), desc=\"Processing documents\"):\n",
    "        similar_diff.append(retriever.invoke(test_diff_data[index].page_content)[0])\n",
    "\n",
    "    for sim_diff, test_diff in zip(similar_diff, grouped_data[type]):\n",
    "        test_diff['sim_msg'] = msg_data[sim_diff.metadata['seq_num'] - 1].page_content\n",
    "        test_diff['sim_diff'] = diff_data[sim_diff.metadata['seq_num'] - 1].page_content"
   ]
  },
  {
   "cell_type": "code",
   "execution_count": 7,
   "id": "5a29f7e87b72f831",
   "metadata": {
    "ExecuteTime": {
     "end_time": "2024-07-16T11:52:25.926542Z",
     "start_time": "2024-07-16T11:52:25.867987Z"
    }
   },
   "outputs": [],
   "source": [
    "values_list = [value for values in grouped_data.values() for value in values]\n",
    "sorted_items = sorted(values_list, key=lambda x: x['seq_num'])\n",
    "\n",
    "# Write the data to a JSON file\n",
    "with open('../data/vdo_filtered/generation/rag/test_golden_classified_rag_prompt.json', 'w',\n",
    "          encoding='UTF-8') as f:\n",
    "    json.dump(sorted_items, f, ensure_ascii=False, indent=4)"
   ]
  },
  {
   "cell_type": "code",
   "execution_count": 9,
   "id": "e8ba1df070c0fb7",
   "metadata": {
    "ExecuteTime": {
     "end_time": "2024-07-16T12:52:35.264931Z",
     "start_time": "2024-07-16T12:29:19.339494Z"
    }
   },
   "outputs": [
    {
     "name": "stderr",
     "output_type": "stream",
     "text": [
      "Processing documents: 100%|██████████| 1992/1992 [23:14<00:00,  1.43it/s]\n"
     ]
    }
   ],
   "source": [
    "from openai import OpenAI\n",
    "client = OpenAI(\n",
    "    api_key=\"sk-0rLvuRkMiD4Mw25QYygh6rUlZVjpQWNGNF4yez7z3PZ7yCOm\",\n",
    "    base_url=\"https://api.chatanywhere.cn/v1\"\n",
    ")\n",
    "\n",
    "\n",
    "def gpt_35_api(messages: list):\n",
    "    completion = client.chat.completions.create(model=\"gpt-3.5-turbo-0125\", messages=messages, temperature=0)\n",
    "    return completion.choices[0].message.content\n",
    "\n",
    "\n",
    "import json\n",
    "from tqdm import tqdm\n",
    "from langchain import hub\n",
    "\n",
    "prompt = hub.pull(\"tyfann/llm4commit-rag\")\n",
    "model = 'golden_classified_rag'\n",
    "with open(f'../data/vdo_filtered/generation/rag/test_{model}_prompt.json', 'r', encoding='UTF-8') as f:\n",
    "    org_data = json.load(f)\n",
    "gpt_msg = []\n",
    "for index, data in tqdm(enumerate(org_data), total=len(org_data), desc=\"Processing documents\"):\n",
    "    # merged_diff = '\\n'.join(diff['diff'] for diff in data['diff'])\n",
    "    messages = prompt.invoke(\n",
    "        {\"context\": data['sim_diff'], \"msg\": data['sim_msg'], \"type\": data['type'], \"diff\": data['diff']}\n",
    "    ).to_messages()\n",
    "    example_prompt = [{'role': 'user', 'content': messages[0].content}, ]\n",
    "    try:\n",
    "        gpt_msg.append(gpt_35_api(example_prompt))\n",
    "    except:\n",
    "        print(index)\n",
    "        gpt_msg.append('')\n",
    "    # gpt_msg.append(gpt_35_api(example_prompt))\n",
    "\n",
    "for item, msg in zip(org_data, gpt_msg):\n",
    "    item['chatgpt_rag'] = msg\n",
    "\n",
    "output_file = f'../data/vdo_filtered/generation/test_gpt35_{model}.json'\n",
    "with open(output_file, 'w', encoding='UTF-8') as f:\n",
    "    json.dump(org_data, f, ensure_ascii=False, indent=4)\n",
    "\n",
    "output_file = f'../data/vdo_filtered/generation/test_gpt35_{model}.txt'\n",
    "with open(output_file, 'w', encoding='UTF-8') as f:\n",
    "    for item in org_data:\n",
    "        f.write(item['chatgpt_rag'].replace('\\n', '\\\\n').replace('\\r', '\\\\r') + '\\n')"
   ]
  },
  {
   "cell_type": "markdown",
   "id": "87d502d7b2144ef8",
   "metadata": {},
   "source": [
    "NNGen"
   ]
  },
  {
   "cell_type": "code",
   "execution_count": 18,
   "id": "4e0fc3c24691cbcb",
   "metadata": {
    "ExecuteTime": {
     "end_time": "2024-07-03T14:59:17.973403Z",
     "start_time": "2024-07-03T14:59:17.963885Z"
    }
   },
   "outputs": [],
   "source": [
    "import re\n",
    "\n",
    "def convert_diff(diff_output):\n",
    "    # Replace diff --git a/ with mmm a/\n",
    "    diff_output = re.sub(r'diff --git a/(.*) b/(.*)', r'mmm a/\\1\\nppp b/\\1', diff_output)\n",
    "    # Replace newline characters with <nl>\n",
    "    diff_output = diff_output.replace('\\n', '<nl>')\n",
    "    # Split the output into individual words and join them back together with spaces\n",
    "    words = re.split(r'(\\W)', diff_output)\n",
    "    result = ' '.join(words)\n",
    "    # Replace multiple spaces with a single space\n",
    "    result = re.sub(r'\\s+', ' ', result)\n",
    "    result = result.replace('< nl >', '<nl>')\n",
    "    return result"
   ]
  },
  {
   "cell_type": "code",
   "execution_count": 19,
   "id": "af20c2d9fe0e2323",
   "metadata": {
    "ExecuteTime": {
     "end_time": "2024-07-03T15:00:14.315844Z",
     "start_time": "2024-07-03T15:00:09.323848Z"
    }
   },
   "outputs": [],
   "source": [
    "import json\n",
    "with open(f'../data/vdo_filtered/db_data.json') as f:\n",
    "    db_data = json.load(f)\n",
    "\n",
    "for item in db_data:\n",
    "    item['diff'] = convert_diff(item['diff'])\n",
    "\n",
    "# save diff to .diff file\n",
    "with open('../data/vdo_filtered/generation/nngen/train.diff', 'w') as f:\n",
    "    for item in db_data:\n",
    "        f.write(item['diff'] + '\\n')\n",
    "\n",
    "with open('../data/vdo_filtered/generation/nngen/train.msg', 'w') as f:\n",
    "    for item in db_data:\n",
    "        escaped_string = item['msg'].replace(\"\\n\", \"\\\\n\").replace(\"\\r\", \"\\\\r\")\n",
    "        f.write(escaped_string + \"\\n\")\n",
    "\n",
    "with open(f'../data/vdo_filtered/test_data.json') as f:\n",
    "    test_data = json.load(f)\n",
    "\n",
    "for item in test_data:\n",
    "    item['diff'] = convert_diff(item['diff'])\n",
    "\n",
    "# save diff to .diff file\n",
    "with open('../data/vdo_filtered/generation/nngen/test.diff', 'w') as f:\n",
    "    for item in test_data:\n",
    "        f.write(item['diff'] + '\\n')"
   ]
  },
  {
   "cell_type": "code",
   "execution_count": 20,
   "id": "39c1ae1a223c0661",
   "metadata": {
    "ExecuteTime": {
     "end_time": "2024-07-03T15:02:45.729369Z",
     "start_time": "2024-07-03T15:02:45.673975Z"
    }
   },
   "outputs": [],
   "source": [
    "import json\n",
    "with open('../data/vdo_filtered/test_data.json', 'r', encoding='UTF-8') as f:\n",
    "    org_data = json.load(f)\n",
    "\n",
    "output_file = '../data/vdo_filtered/generation/test_nngen.txt'\n",
    "with open(output_file, 'r', encoding='UTF-8') as f:\n",
    "    lines = f.readlines()\n",
    "    for i in range(len(org_data)):\n",
    "        org_data[i]['nngen'] = lines[i].strip()\n",
    "\n",
    "with open('../data/vdo_filtered/generation/test_nngen.json', 'w', encoding='UTF-8') as f:\n",
    "    json.dump(org_data, f, indent=4)"
   ]
  },
  {
   "cell_type": "code",
   "execution_count": null,
   "id": "cd7590d55a5cda50",
   "metadata": {},
   "outputs": [],
   "source": []
  }
 ],
 "metadata": {
  "kernelspec": {
   "display_name": "Python 3",
   "language": "python",
   "name": "python3"
  },
  "language_info": {
   "codemirror_mode": {
    "name": "ipython",
    "version": 2
   },
   "file_extension": ".py",
   "mimetype": "text/x-python",
   "name": "python",
   "nbconvert_exporter": "python",
   "pygments_lexer": "ipython2",
   "version": "2.7.6"
  }
 },
 "nbformat": 4,
 "nbformat_minor": 5
}
