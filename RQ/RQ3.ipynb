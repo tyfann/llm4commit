{
 "cells": [
  {
   "cell_type": "code",
   "id": "285c0808879219e5",
   "metadata": {
    "collapsed": true,
    "ExecuteTime": {
     "end_time": "2024-07-03T18:13:13.432269Z",
     "start_time": "2024-07-03T18:13:13.324823Z"
    }
   },
   "source": [
    "import json\n",
    "import random\n",
    "\n",
    "random.seed(42)\n",
    "# 读取原始JSON文件\n",
    "data = []\n",
    "\n",
    "with open('../data/angular_filtered/subsets/generation/test_race.json', 'r', encoding='utf-8') as f:\n",
    "    race_data = json.load(f)\n",
    "with open('../data/angular_filtered/subsets/generation/test_gpt35_zeroshot.json', 'r', encoding='utf-8') as f:\n",
    "    zeroshot_data = json.load(f)\n",
    "with open('../data/angular_filtered/subsets/generation/test_gpt35_rag.json', 'r', encoding='utf-8') as f:\n",
    "    rag_data = json.load(f)\n",
    "with open('../data/angular_filtered/subsets/generation/test_gpt35_model_classified_rag.json', 'r', encoding='utf-8') as f:\n",
    "    model_rag_data = json.load(f)\n",
    "with open('../data/angular_filtered/subsets/generation/test_nngen.json', 'r', encoding='utf-8') as f:\n",
    "    nngen_data = json.load(f)\n",
    "    "
   ],
   "outputs": [],
   "execution_count": 12
  },
  {
   "metadata": {
    "ExecuteTime": {
     "end_time": "2024-07-03T18:13:15.544276Z",
     "start_time": "2024-07-03T18:13:15.488713Z"
    }
   },
   "cell_type": "code",
   "source": [
    "for index in range(len(rag_data)):\n",
    "    item = {\n",
    "        'diff': race_data[index]['diff'],\n",
    "        'human': race_data[index]['msg'],\n",
    "        'race': race_data[index]['race'],\n",
    "        'zeroshot': zeroshot_data[index]['chatgpt_zeroshot'],\n",
    "        'rag': rag_data[index]['chatgpt_rag'],\n",
    "        'classified_rag': model_rag_data[index]['chatgpt_rag'],\n",
    "        'nngen': nngen_data[index]['nngen'],\n",
    "        'type': race_data[index]['type']\n",
    "    }\n",
    "    data.append(item)\n",
    "\n",
    "with open('../data/angular_filtered/subsets/generation/test_all.json', 'w', encoding='utf-8') as f:\n",
    "    json.dump(data, f, ensure_ascii=False, indent=4)"
   ],
   "id": "3eb920ce745a60f3",
   "outputs": [],
   "execution_count": 13
  },
  {
   "metadata": {
    "ExecuteTime": {
     "end_time": "2024-07-03T18:16:38.593208Z",
     "start_time": "2024-07-03T18:16:38.559687Z"
    }
   },
   "cell_type": "code",
   "source": [
    "\n",
    "# 确保JSON数据是一个列表\n",
    "if not isinstance(data, list):\n",
    "    raise ValueError(\"JSON数据不是一个列表\")\n",
    "\n",
    "# 随机选择100个项目\n",
    "sample_size = 100\n",
    "if len(data) < sample_size:\n",
    "    raise ValueError(\"数据量少于100个项目\")\n",
    "\n",
    "initial_sample = random.sample(data, sample_size)\n",
    "\n",
    "# 从剩余的项目中再随机选择100个项目\n",
    "remaining_data = [item for item in data if item not in initial_sample]\n",
    "second_sample = random.sample(remaining_data, sample_size)\n",
    "\n",
    "# 将选定的项目写入一个新的JSON文件\n",
    "with open('../data/angular_filtered/subsets/human_eval/no_human_ref_test.json', 'w', encoding='utf-8') as f:\n",
    "    json.dump(initial_sample, f, ensure_ascii=False, indent=4)\n",
    "    \n",
    "# 将选定的项目写入一个新的JSON文件\n",
    "with open('../data/angular_filtered/subsets/human_eval/human_ref_test.json', 'w', encoding='utf-8') as f:\n",
    "    json.dump(second_sample, f, ensure_ascii=False, indent=4)\n",
    "\n",
    "print(\"随机提取的100个项目已保存到output.json文件中。\")\n"
   ],
   "id": "initial_id",
   "outputs": [
    {
     "name": "stdout",
     "output_type": "stream",
     "text": [
      "随机提取的100个项目已保存到output.json文件中。\n"
     ]
    }
   ],
   "execution_count": 19
  },
  {
   "metadata": {
    "ExecuteTime": {
     "end_time": "2024-07-03T18:16:39.661129Z",
     "start_time": "2024-07-03T18:16:39.646857Z"
    }
   },
   "cell_type": "code",
   "source": [
    "## 统计随机提取的100个项目的类型分布\n",
    "types = {}\n",
    "for item in initial_sample:\n",
    "    if item['type'] not in types:\n",
    "        types[item['type']] = 0\n",
    "    types[item['type']] += 1\n",
    "\n",
    "print(\"类型分布：\")\n",
    "for key, value in types.items():\n",
    "    print(f\"{key}: {value}\")"
   ],
   "id": "93cdb375d87e33d4",
   "outputs": [
    {
     "name": "stdout",
     "output_type": "stream",
     "text": [
      "类型分布：\n",
      "refactor: 15\n",
      "docs: 18\n",
      "fix: 18\n",
      "test: 9\n",
      "feat: 19\n",
      "chore: 15\n",
      "ci: 1\n",
      "style: 2\n",
      "perf: 2\n",
      "build: 1\n"
     ]
    }
   ],
   "execution_count": 20
  },
  {
   "metadata": {
    "ExecuteTime": {
     "end_time": "2024-07-03T18:17:02.602496Z",
     "start_time": "2024-07-03T18:17:02.583898Z"
    }
   },
   "cell_type": "code",
   "source": [
    "## 统计随机提取的100个项目的类型分布\n",
    "types = {}\n",
    "for item in second_sample:\n",
    "    if item['type'] not in types:\n",
    "        types[item['type']] = 0\n",
    "    types[item['type']] += 1\n",
    "\n",
    "print(\"类型分布：\")\n",
    "for key, value in types.items():\n",
    "    print(f\"{key}: {value}\")"
   ],
   "id": "b3897c2eaff2f144",
   "outputs": [
    {
     "name": "stdout",
     "output_type": "stream",
     "text": [
      "类型分布：\n",
      "feat: 19\n",
      "fix: 17\n",
      "docs: 20\n",
      "build: 3\n",
      "test: 7\n",
      "chore: 19\n",
      "refactor: 11\n",
      "ci: 2\n",
      "style: 1\n",
      "perf: 1\n"
     ]
    }
   ],
   "execution_count": 21
  },
  {
   "metadata": {},
   "cell_type": "code",
   "outputs": [],
   "execution_count": null,
   "source": "",
   "id": "6578613ccf62ac13"
  }
 ],
 "metadata": {
  "kernelspec": {
   "display_name": "Python 3",
   "language": "python",
   "name": "python3"
  },
  "language_info": {
   "codemirror_mode": {
    "name": "ipython",
    "version": 2
   },
   "file_extension": ".py",
   "mimetype": "text/x-python",
   "name": "python",
   "nbconvert_exporter": "python",
   "pygments_lexer": "ipython2",
   "version": "2.7.6"
  }
 },
 "nbformat": 4,
 "nbformat_minor": 5
}
