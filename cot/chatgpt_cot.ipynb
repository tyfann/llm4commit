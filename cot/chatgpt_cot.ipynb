{
 "cells": [
  {
   "cell_type": "code",
   "id": "initial_id",
   "metadata": {
    "collapsed": true,
    "ExecuteTime": {
     "end_time": "2024-05-08T11:10:09.881226Z",
     "start_time": "2024-05-08T11:10:08.992466Z"
    }
   },
   "source": [
    "from openai import OpenAI\n",
    "\n",
    "client = OpenAI(\n",
    "    # defaults to os.environ.get(\"OPENAI_API_KEY\")\n",
    "    api_key=\"sk-0rLvuRkMiD4Mw25QYygh6rUlZVjpQWNGNF4yez7z3PZ7yCOm\",\n",
    "    # api_key=\"sk-tMbkq3K1iO5vf0FRMlrmzslGXJZwE0us3mve4QXuvpnZcumG\",\n",
    "    base_url=\"https://api.chatanywhere.tech/v1\"\n",
    "    # base_url=\"https://api.chatanywhere.cn/v1\"\n",
    ")"
   ],
   "outputs": [],
   "execution_count": 1
  },
  {
   "cell_type": "code",
   "id": "ec804f733bdb1890",
   "metadata": {
    "collapsed": false,
    "ExecuteTime": {
     "end_time": "2024-05-08T11:10:09.897891Z",
     "start_time": "2024-05-08T11:10:09.883227Z"
    }
   },
   "source": [
    "def gpt_35_api(messages: list):\n",
    "\n",
    "    completion = client.chat.completions.create(model=\"gpt-3.5-turbo-ca\", messages=messages, temperature=0.5)\n",
    "    return completion.choices[0].message.content"
   ],
   "outputs": [],
   "execution_count": 2
  },
  {
   "cell_type": "code",
   "id": "1929b998d5ce80de",
   "metadata": {
    "collapsed": false,
    "ExecuteTime": {
     "end_time": "2024-05-08T11:10:09.929455Z",
     "start_time": "2024-05-08T11:10:09.900781Z"
    }
   },
   "source": [
    "import json\n",
    "from tqdm import tqdm"
   ],
   "outputs": [],
   "execution_count": 3
  },
  {
   "cell_type": "code",
   "id": "fdb997cde6ec8ef0",
   "metadata": {
    "collapsed": false,
    "ExecuteTime": {
     "end_time": "2024-05-08T11:10:11.717952Z",
     "start_time": "2024-05-08T11:10:09.932098Z"
    }
   },
   "source": [
    "from langchain import hub\n",
    "\n",
    "prompt = hub.pull(\"tyfann/llm4commit-cot\")"
   ],
   "outputs": [],
   "execution_count": 4
  },
  {
   "cell_type": "code",
   "id": "787db25ca0cfda54",
   "metadata": {
    "collapsed": false,
    "ExecuteTime": {
     "end_time": "2024-05-08T11:10:25.639346Z",
     "start_time": "2024-05-08T11:10:25.628819Z"
    }
   },
   "source": [
    "with open('../data/scenario/zeroshot/scenario_flask_chatgpt_zeroshot.json', 'r', encoding='UTF-8') as f:\n",
    "    org_data = json.load(f)"
   ],
   "outputs": [],
   "execution_count": 5
  },
  {
   "cell_type": "code",
   "id": "6104b8546eaddbf1",
   "metadata": {
    "collapsed": false,
    "ExecuteTime": {
     "end_time": "2024-05-08T11:33:25.643253Z",
     "start_time": "2024-05-08T11:10:42.656075Z"
    }
   },
   "source": [
    "example_q = \"\"\"\"diff --git a/java/client/src/org/openqa/selenium/htmlunit/HtmlUnitAlert.java  b/java/client/src/org/openqa/selenium/htmlunit/HtmlUnitAlert.java \\npublic void sendKeys(String keysToSend){ \\npublic void authenticateUsing(Credentials credentials){}+@Override+public void setCredentials(Credentials credentials){+}++@Override \\npublic void handleAlert(Page page,String message){ \\nQueue<String>queue=queues.get(page); \\n\" \"\"\"\n",
    "example_a = \"\"\"First, the scope of code changes is to add a method, and second, according to the filename \"HtmlUnitAlert\", and the function of the file could be an alert, the modification \"@Overide\" is an annotation which can solve the compilation issue, so the modification can help solve the compilation problem to the alert file. So the commit message for the code diff is \"fix compilation issue because of new method in Alert\".\"\"\"\n",
    "gpt_msg = []\n",
    "for data in tqdm(org_data, total=len(org_data), desc=\"Processing documents\"):\n",
    "    messages = prompt.invoke(\n",
    "        {\"Example_Question\": example_q, \"Example_Answer\": example_a, \"Question\": data['diff']}\n",
    "    ).to_messages()\n",
    "    example_prompt = [{'role': 'user','content': messages[0].content},]\n",
    "    gpt_msg.append(gpt_35_api(example_prompt))"
   ],
   "outputs": [
    {
     "name": "stderr",
     "output_type": "stream",
     "text": [
      "Processing documents: 100%|██████████| 100/100 [22:42<00:00, 13.63s/it]\n"
     ]
    }
   ],
   "execution_count": 6
  },
  {
   "metadata": {
    "ExecuteTime": {
     "end_time": "2024-05-08T11:33:25.674103Z",
     "start_time": "2024-05-08T11:33:25.648788Z"
    }
   },
   "cell_type": "code",
   "source": [
    "# with open('../data/chronicle/rag_dev/zeroshot/chronicle_chatgpt_dev.json', 'r', encoding='UTF-8') as f:\n",
    "#     chronicle_data = json.load(f)\n",
    "\n",
    "for item, msg in zip(org_data, gpt_msg):\n",
    "    item['chatgpt_cot'] = msg\n",
    "\n",
    "output_file = '../data/scenario/cot/scenario_flask_chatgpt_cot.json'\n",
    "with open(output_file, 'w', encoding='UTF-8') as f:\n",
    "    json.dump(org_data, f, ensure_ascii=False, indent=4)"
   ],
   "id": "51fe7d5e519baeca",
   "outputs": [],
   "execution_count": 7
  },
  {
   "metadata": {
    "ExecuteTime": {
     "end_time": "2024-05-08T11:45:10.733809Z",
     "start_time": "2024-05-08T11:33:25.676109Z"
    }
   },
   "cell_type": "code",
   "source": [
    "with open('../data/scenario/zeroshot/scenario_react_chatgpt_zeroshot.json', 'r', encoding='UTF-8') as f:\n",
    "    org_data = json.load(f)\n",
    "    \n",
    "example_q = \"\"\"\"diff --git a/java/client/src/org/openqa/selenium/htmlunit/HtmlUnitAlert.java  b/java/client/src/org/openqa/selenium/htmlunit/HtmlUnitAlert.java \\npublic void sendKeys(String keysToSend){ \\npublic void authenticateUsing(Credentials credentials){}+@Override+public void setCredentials(Credentials credentials){+}++@Override \\npublic void handleAlert(Page page,String message){ \\nQueue<String>queue=queues.get(page); \\n\" \"\"\"\n",
    "example_a = \"\"\"First, the scope of code changes is to add a method, and second, according to the filename \"HtmlUnitAlert\", and the function of the file could be an alert, the modification \"@Overide\" is an annotation which can solve the compilation issue, so the modification can help solve the compilation problem to the alert file. So the commit message for the code diff is \"fix compilation issue because of new method in Alert\".\"\"\"\n",
    "gpt_msg = []\n",
    "for data in tqdm(org_data, total=len(org_data), desc=\"Processing documents\"):\n",
    "    messages = prompt.invoke(\n",
    "        {\"Example_Question\": example_q, \"Example_Answer\": example_a, \"Question\": data['diff']}\n",
    "    ).to_messages()\n",
    "    example_prompt = [{'role': 'user','content': messages[0].content},]\n",
    "    gpt_msg.append(gpt_35_api(example_prompt))\n",
    "\n",
    "# with open('../data/chronicle/rag_dev/zeroshot/chronicle_chatgpt_dev.json', 'r', encoding='UTF-8') as f:\n",
    "#     chronicle_data = json.load(f)\n",
    "\n",
    "for item, msg in zip(org_data, gpt_msg):\n",
    "    item['chatgpt_cot'] = msg\n",
    "\n",
    "output_file = '../data/scenario/cot/scenario_react_chatgpt_cot.json'\n",
    "with open(output_file, 'w', encoding='UTF-8') as f:\n",
    "    json.dump(org_data, f, ensure_ascii=False, indent=4)"
   ],
   "id": "c11301551eb3c710",
   "outputs": [
    {
     "name": "stderr",
     "output_type": "stream",
     "text": [
      "Processing documents: 100%|██████████| 100/100 [11:45<00:00,  7.05s/it]\n"
     ]
    }
   ],
   "execution_count": 8
  },
  {
   "metadata": {},
   "cell_type": "code",
   "outputs": [],
   "execution_count": null,
   "source": "",
   "id": "37f5f110b3e7898e"
  },
  {
   "cell_type": "code",
   "execution_count": 16,
   "id": "f376dfdb",
   "metadata": {},
   "outputs": [],
   "source": [
    "import re\n",
    "\n",
    "def preprocess(text):\n",
    "    if re.search(r'commit\\s*message', text, re.IGNORECASE):\n",
    "        pattern = r'\\\"([^\"]+)'\n",
    "        match = re.search(pattern, text)\n",
    "        if match:\n",
    "            return match.group(1)\n",
    "        else:\n",
    "            return text\n",
    "    else:\n",
    "        return text"
   ]
  },
  {
   "cell_type": "code",
   "execution_count": 17,
   "id": "feafc4cb7dec62fc",
   "metadata": {
    "ExecuteTime": {
     "end_time": "2024-04-16T17:51:06.654429Z",
     "start_time": "2024-04-16T17:51:06.564944Z"
    },
    "collapsed": false
   },
   "outputs": [],
   "source": [
    "with open('../data/msg_nngen_nmt_codebert_chatgpt.json', 'r', encoding='UTF-8') as f:\n",
    "    org_data = json.load(f)\n",
    "\n",
    "for item, msg in zip(org_data[:100], gpt_msg):\n",
    "    item['chatgpt_cot'] = preprocess(msg)\n",
    "\n",
    "output_file = '../data/chatgpt_cot.json'\n",
    "with open(output_file, 'w', encoding='UTF-8') as f:\n",
    "    json.dump(org_data[:100], f, ensure_ascii=False, indent=4)"
   ]
  },
  {
   "cell_type": "code",
   "execution_count": 28,
   "id": "fda2480ee8c1a157",
   "metadata": {
    "ExecuteTime": {
     "end_time": "2024-04-16T17:47:40.528420Z",
     "start_time": "2024-04-16T17:47:40.506950Z"
    },
    "collapsed": false
   },
   "outputs": [],
   "source": [
    "max_len = 0\n",
    "for msg in gpt_msg:\n",
    "    max_len = max(max_len, len(msg.split()))"
   ]
  },
  {
   "cell_type": "code",
   "execution_count": 15,
   "id": "b01d879df8d0999",
   "metadata": {
    "ExecuteTime": {
     "end_time": "2024-04-16T17:47:42.219081Z",
     "start_time": "2024-04-16T17:47:42.206079Z"
    },
    "collapsed": false
   },
   "outputs": [
    {
     "name": "stdout",
     "output_type": "stream",
     "text": [
      "提取的内容: Refactor drawExtras method in PieChartRenderer to remove unnecessary parameter in drawBitmap\n"
     ]
    }
   ],
   "source": [
    "\n"
   ]
  },
  {
   "cell_type": "code",
   "execution_count": null,
   "id": "41ca1d16fb5bd527",
   "metadata": {
    "collapsed": false
   },
   "outputs": [],
   "source": []
  }
 ],
 "metadata": {
  "kernelspec": {
   "display_name": "Python 3",
   "language": "python",
   "name": "python3"
  },
  "language_info": {
   "codemirror_mode": {
    "name": "ipython",
    "version": 3
   },
   "file_extension": ".py",
   "mimetype": "text/x-python",
   "name": "python",
   "nbconvert_exporter": "python",
   "pygments_lexer": "ipython3",
   "version": "3.9.18"
  }
 },
 "nbformat": 4,
 "nbformat_minor": 5
}
