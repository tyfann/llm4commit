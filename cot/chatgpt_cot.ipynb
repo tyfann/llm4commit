{
 "cells": [
  {
   "cell_type": "code",
   "id": "initial_id",
   "metadata": {
    "collapsed": true,
    "ExecuteTime": {
     "end_time": "2024-06-28T08:19:43.112250Z",
     "start_time": "2024-06-28T08:19:42.199345Z"
    }
   },
   "source": [
    "from openai import OpenAI\n",
    "\n",
    "client = OpenAI(\n",
    "    # defaults to os.environ.get(\"OPENAI_API_KEY\")\n",
    "    api_key=\"sk-0rLvuRkMiD4Mw25QYygh6rUlZVjpQWNGNF4yez7z3PZ7yCOm\",\n",
    "    # api_key=\"sk-tMbkq3K1iO5vf0FRMlrmzslGXJZwE0us3mve4QXuvpnZcumG\",\n",
    "    base_url=\"https://api.chatanywhere.cn/v1\"\n",
    "    # base_url=\"https://api.chatanywhere.cn/v1\"\n",
    ")"
   ],
   "outputs": [],
   "execution_count": 1
  },
  {
   "cell_type": "code",
   "id": "ec804f733bdb1890",
   "metadata": {
    "collapsed": false,
    "ExecuteTime": {
     "end_time": "2024-06-28T08:19:43.127940Z",
     "start_time": "2024-06-28T08:19:43.114253Z"
    }
   },
   "source": [
    "def gpt_35_api(messages: list):\n",
    "\n",
    "    completion = client.chat.completions.create(model=\"gpt-3.5-turbo-0125\", messages=messages, temperature=0)\n",
    "    return completion.choices[0].message.content"
   ],
   "outputs": [],
   "execution_count": 2
  },
  {
   "cell_type": "code",
   "id": "1929b998d5ce80de",
   "metadata": {
    "collapsed": false,
    "ExecuteTime": {
     "end_time": "2024-06-28T08:19:43.142856Z",
     "start_time": "2024-06-28T08:19:43.128939Z"
    }
   },
   "source": [
    "import json\n",
    "from tqdm import tqdm"
   ],
   "outputs": [],
   "execution_count": 3
  },
  {
   "cell_type": "code",
   "id": "fdb997cde6ec8ef0",
   "metadata": {
    "collapsed": false,
    "ExecuteTime": {
     "end_time": "2024-06-24T08:28:59.133925Z",
     "start_time": "2024-06-24T08:28:57.348926Z"
    }
   },
   "source": [
    "from langchain import hub\n",
    "\n",
    "thought_prompt = hub.pull(\"tyfann/llm4commit-cot-vdo\")"
   ],
   "outputs": [],
   "execution_count": 4
  },
  {
   "metadata": {
    "ExecuteTime": {
     "end_time": "2024-06-24T08:32:15.707296Z",
     "start_time": "2024-06-24T08:29:33.722414Z"
    }
   },
   "cell_type": "code",
   "source": [
    "with open(f'../data/vdo_filtered/lemma_dev_test_150.json', 'r', encoding='UTF-8') as f:\n",
    "    org_data = json.load(f)\n",
    "gpt_msg = []\n",
    "for index, data in tqdm(enumerate(org_data), total=len(org_data), desc=\"Processing documents\"):\n",
    "    messages = thought_prompt.invoke(\n",
    "        {\"Question\": data['diff']}\n",
    "    ).to_messages()\n",
    "    example_prompt = [{'role': 'user','content': messages[0].content},]\n",
    "    try:\n",
    "        gpt_msg.append(gpt_35_api(example_prompt))\n",
    "    except:\n",
    "        print(index)\n",
    "        gpt_msg.append(\"\")\n",
    "for item, msg in zip(org_data, gpt_msg):\n",
    "    item['info'] = msg\n",
    "\n",
    "# output_file = f'../data/vdo_filtered/generation/dev_test_150_gpt35_cot.json'\n",
    "# with open(output_file, 'w', encoding='UTF-8') as f:\n",
    "#     json.dump(org_data, f, ensure_ascii=False, indent=4)\n",
    "# \n",
    "# # save to a txt file\n",
    "# with open(f'../data/vdo_filtered/generation/dev_test_150_gpt35_cot.txt', 'w', encoding='UTF-8') as f:\n",
    "#     for item in org_data:\n",
    "#         f.write(item['chatgpt_cot'].replace('\\n', '\\\\n').replace('\\r', '\\\\r') + '\\n')"
   ],
   "id": "643ae394cec1896c",
   "outputs": [
    {
     "name": "stderr",
     "output_type": "stream",
     "text": [
      "Processing documents: 100%|██████████| 150/150 [02:41<00:00,  1.08s/it]\n"
     ]
    }
   ],
   "execution_count": 5
  },
  {
   "cell_type": "code",
   "id": "787db25ca0cfda54",
   "metadata": {
    "collapsed": false,
    "ExecuteTime": {
     "end_time": "2024-06-24T08:32:22.093223Z",
     "start_time": "2024-06-24T08:32:21.325478Z"
    }
   },
   "source": "gen_prompt = hub.pull(\"tyfann/llm4commit-cot-gen\")",
   "outputs": [],
   "execution_count": 6
  },
  {
   "metadata": {
    "ExecuteTime": {
     "end_time": "2024-06-24T08:34:13.261946Z",
     "start_time": "2024-06-24T08:32:23.332859Z"
    }
   },
   "cell_type": "code",
   "source": [
    "# with open(f'../data/angular_filtered/test_data_js.json', 'r', encoding='UTF-8') as f:\n",
    "#     org_data = json.load(f)\n",
    "gpt_msg = []\n",
    "for index, data in tqdm(enumerate(org_data), total=len(org_data), desc=\"Processing documents\"):\n",
    "    messages = gen_prompt.invoke(\n",
    "        {\"Question\": data['diff'], \"Info\": data['info']}\n",
    "    ).to_messages()\n",
    "    example_prompt = [{'role': 'user','content': messages[0].content},]\n",
    "    try:\n",
    "        gpt_msg.append(gpt_35_api(example_prompt))\n",
    "    except:\n",
    "        print(index)\n",
    "        gpt_msg.append(\"\")\n",
    "    \n",
    "for item, msg in zip(org_data, gpt_msg):\n",
    "    item['chatgpt_cot'] = msg\n",
    "\n",
    "output_file = f'../data/vdo_filtered/generation/dev_test_150_gpt35_cot.json'\n",
    "with open(output_file, 'w', encoding='UTF-8') as f:\n",
    "    json.dump(org_data, f, ensure_ascii=False, indent=4)"
   ],
   "id": "338b4f0ebc4e0b2f",
   "outputs": [
    {
     "name": "stderr",
     "output_type": "stream",
     "text": [
      "Processing documents: 100%|██████████| 150/150 [01:49<00:00,  1.36it/s]\n"
     ]
    }
   ],
   "execution_count": 7
  },
  {
   "metadata": {
    "ExecuteTime": {
     "end_time": "2024-06-24T08:39:46.432672Z",
     "start_time": "2024-06-24T08:39:46.419058Z"
    }
   },
   "cell_type": "code",
   "source": [
    "with open(f'../data/vdo_filtered/generation/dev_test_150_gpt35_cot.txt', 'w', encoding='UTF-8') as f:\n",
    "    for item in org_data:\n",
    "        f.write(item['chatgpt_cot'].replace('\\n', '\\\\n').replace('\\r', '\\\\r') + '\\n')"
   ],
   "id": "9193d3522df55afd",
   "outputs": [],
   "execution_count": 9
  },
  {
   "metadata": {
    "ExecuteTime": {
     "end_time": "2024-06-24T08:36:45.590636Z",
     "start_time": "2024-06-24T08:36:45.572518Z"
    }
   },
   "cell_type": "code",
   "source": [
    "# import json\n",
    "# with open('../data/angular_filtered/subsets/test_dev.json', 'r', encoding='UTF-8') as f:\n",
    "#     org_data = json.load(f)\n",
    "\n",
    "# save msg to a file\n",
    "with open(\"../data/vdo_filtered/generation/dev_test_150_ref.txt\", 'w', encoding='UTF-8') as file:\n",
    "    for item in org_data:\n",
    "        file.write(item['msg'].replace('\\n', '\\\\n').replace('\\r', '\\\\r') + '\\n')"
   ],
   "id": "b3769e08176def39",
   "outputs": [],
   "execution_count": 8
  },
  {
   "metadata": {
    "ExecuteTime": {
     "end_time": "2024-06-11T21:45:21.493183Z",
     "start_time": "2024-06-11T21:37:29.288525Z"
    }
   },
   "cell_type": "code",
   "source": [
    "gpt_msg = []\n",
    "for index, data in tqdm(enumerate(org_data), total=len(org_data), desc=\"Processing documents\"):\n",
    "    final_messages = gen_prompt.invoke(\n",
    "        {\"Question\": data['diff'], \"Info\": data['info']}\n",
    "    ).to_messages()\n",
    "    final_gen = gpt_35_api([{'role': 'user','content': final_messages[0].content},])\n",
    "    gpt_msg.append(final_gen)\n",
    "\n",
    "for item, msg in zip(org_data, gpt_msg):\n",
    "    item['chatgpt_cot'] = msg\n",
    "\n",
    "output_file = f'../data/angular_filtered/test_result/test_data_js_gpt35_cot.json'\n",
    "with open(output_file, 'w', encoding='UTF-8') as f:\n",
    "    json.dump(org_data, f, ensure_ascii=False, indent=4)"
   ],
   "id": "91e2f1f2bc4b3750",
   "outputs": [
    {
     "name": "stderr",
     "output_type": "stream",
     "text": [
      "Processing documents: 100%|██████████| 497/497 [07:52<00:00,  1.05it/s]\n"
     ]
    }
   ],
   "execution_count": 7
  },
  {
   "metadata": {
    "ExecuteTime": {
     "end_time": "2024-06-07T16:05:34.781604Z",
     "start_time": "2024-06-07T15:39:17.797436Z"
    }
   },
   "cell_type": "code",
   "source": [
    "with open(f'../data/final_preprocessed_data/discriminator/dis_train_data.json', 'r', encoding='UTF-8') as f:\n",
    "    org_data = json.load(f)[:100]\n",
    "gpt_msg = []\n",
    "for index, data in tqdm(enumerate(org_data), total=len(org_data), desc=\"Processing documents\"):\n",
    "    messages = thought_prompt.invoke(\n",
    "        {\"Question\": data['diff']}\n",
    "    ).to_messages()\n",
    "    thought = gpt_35_api([{'role': 'user','content': messages[0].content},])\n",
    "    final_messages = gen_prompt.invoke(\n",
    "        {\"Question\": data['diff'], \"Info\": thought}\n",
    "    ).to_messages()\n",
    "    final_gen = gpt_35_api([{'role': 'user','content': final_messages[0].content},])\n",
    "    gpt_msg.append(final_gen)\n",
    "    \n",
    "for item, msg in zip(org_data, gpt_msg):\n",
    "    item['chatgpt_cot'] = msg\n",
    "\n",
    "output_file = f'../data/final_preprocessed_data/discriminator/dis_train_data_chatgpt_cot_v2.json'\n",
    "with open(output_file, 'w', encoding='UTF-8') as f:\n",
    "    json.dump(org_data, f, ensure_ascii=False, indent=4)"
   ],
   "id": "3ab2862eab84e674",
   "execution_count": 18,
   "outputs": []
  },
  {
   "metadata": {
    "ExecuteTime": {
     "end_time": "2024-06-07T14:11:43.521561Z",
     "start_time": "2024-06-07T14:11:43.507560Z"
    }
   },
   "cell_type": "code",
   "source": "gpt_msg[0]",
   "id": "53686b03bc0580aa",
   "execution_count": 13,
   "outputs": []
  },
  {
   "cell_type": "code",
   "id": "6104b8546eaddbf1",
   "metadata": {
    "collapsed": false,
    "ExecuteTime": {
     "end_time": "2024-06-28T08:29:10.835779Z",
     "start_time": "2024-06-28T08:19:48.216893Z"
    }
   },
   "source": [
    "from langchain import hub\n",
    "prompt = hub.pull(\"tyfann/llm4commit-cot\")\n",
    "\n",
    "with open(f'../data/vdo_filtered/dev_test_data.json', 'r', encoding='UTF-8') as f:\n",
    "    org_data = json.load(f)\n",
    "example_q = \"\"\"\"diff --git a/java/client/src/org/openqa/selenium/htmlunit/HtmlUnitAlert.java  b/java/client/src/org/openqa/selenium/htmlunit/HtmlUnitAlert.java \\npublic void sendKeys(String keysToSend){ \\npublic void authenticateUsing(Credentials credentials){}+@Override+public void setCredentials(Credentials credentials){+}++@Override \\npublic void handleAlert(Page page,String message){ \\nQueue<String>queue=queues.get(page); \\n\" \"\"\"\n",
    "example_a = \"\"\"First, the scope of code changes is to add a method, and second, according to the filename \"HtmlUnitAlert\", and the function of the file could be an alert, the modification \"@Overide\" is an annotation which can solve the compilation issue, so the modification can help solve the compilation problem to the alert file. So the commit message for the code diff is \"fix compilation issue because of new method in Alert\".\"\"\"\n",
    "gpt_msg = []\n",
    "for index, data in tqdm(enumerate(org_data), total=len(org_data), desc=\"Processing documents\"):\n",
    "    messages = prompt.invoke(\n",
    "        {\"Exam_Question\": example_q, \"Exam_Answer\": example_a, \"Question\": data['diff']}\n",
    "    ).to_messages()\n",
    "    example_prompt = [{'role': 'user','content': messages[0].content},]\n",
    "    try:\n",
    "        gpt_msg.append(gpt_35_api(example_prompt))\n",
    "    except:\n",
    "        print(index)\n",
    "        gpt_msg.append(\"\")\n",
    "for item, msg in zip(org_data, gpt_msg):\n",
    "    item['chatgpt_cot'] = msg\n",
    "\n",
    "output_file = f'../data/vdo_filtered/generation/dev_test_gpt35_cot.json'\n",
    "with open(output_file, 'w', encoding='UTF-8') as f:\n",
    "    json.dump(org_data, f, ensure_ascii=False, indent=4)\n",
    "    \n",
    "with open(f'../data/vdo_filtered/generation/dev_test_gpt35_cot.txt', 'w', encoding='UTF-8') as f:\n",
    "    for item in org_data:\n",
    "        f.write(item['chatgpt_cot'].replace('\\n', '\\\\n').replace('\\r', '\\\\r') + '\\n')"
   ],
   "outputs": [
    {
     "name": "stderr",
     "output_type": "stream",
     "text": [
      "Processing documents: 100%|██████████| 567/567 [09:20<00:00,  1.01it/s]\n"
     ]
    }
   ],
   "execution_count": 4
  },
  {
   "metadata": {},
   "cell_type": "code",
   "execution_count": null,
   "source": "",
   "id": "2a8ad4efdb8d9021",
   "outputs": []
  },
  {
   "metadata": {
    "ExecuteTime": {
     "end_time": "2024-05-20T14:58:34.895657Z",
     "start_time": "2024-05-20T14:58:34.867388Z"
    }
   },
   "cell_type": "code",
   "source": [
    "# with open('../data/chronicle/rag_dev/zeroshot/chronicle_chatgpt_dev.json', 'r', encoding='UTF-8') as f:\n",
    "#     chronicle_data = json.load(f)\n",
    "\n",
    "for item, msg in zip(org_data[:100], gpt_msg):\n",
    "    item['chatgpt_cot'] = msg\n",
    "\n",
    "output_file = '../data/scenario/multi_diff/multi_diff_cot_django.json'\n",
    "with open(output_file, 'w', encoding='UTF-8') as f:\n",
    "    json.dump(org_data[:100], f, ensure_ascii=False, indent=4)"
   ],
   "id": "51fe7d5e519baeca",
   "execution_count": 8,
   "outputs": []
  },
  {
   "metadata": {
    "ExecuteTime": {
     "end_time": "2024-05-13T10:12:35.744811Z",
     "start_time": "2024-05-13T10:07:31.961159Z"
    }
   },
   "cell_type": "code",
   "source": [
    "with open('../data/scenario/multi_diff/scenario_react_multi_diff_chatgpt_zeroshot.json', 'r', encoding='UTF-8') as f:\n",
    "    org_data = json.load(f)\n",
    "    \n",
    "example_q = \"\"\"\"diff --git a/java/client/src/org/openqa/selenium/htmlunit/HtmlUnitAlert.java  b/java/client/src/org/openqa/selenium/htmlunit/HtmlUnitAlert.java \\npublic void sendKeys(String keysToSend){ \\npublic void authenticateUsing(Credentials credentials){}+@Override+public void setCredentials(Credentials credentials){+}++@Override \\npublic void handleAlert(Page page,String message){ \\nQueue<String>queue=queues.get(page); \\n\" \"\"\"\n",
    "example_a = \"\"\"First, the scope of code changes is to add a method, and second, according to the filename \"HtmlUnitAlert\", and the function of the file could be an alert, the modification \"@Overide\" is an annotation which can solve the compilation issue, so the modification can help solve the compilation problem to the alert file. So the commit message for the code diff is \"fix compilation issue because of new method in Alert\".\"\"\"\n",
    "gpt_msg = []\n",
    "for data in tqdm(org_data, total=len(org_data), desc=\"Processing documents\"):\n",
    "    messages = prompt.invoke(\n",
    "        {\"Example_Question\": example_q, \"Example_Answer\": example_a, \"Question\": data['diffs']}\n",
    "    ).to_messages()\n",
    "    example_prompt = [{'role': 'user','content': messages[0].content},]\n",
    "    gpt_msg.append(gpt_35_api(example_prompt))\n",
    "\n",
    "# with open('../data/chronicle/rag_dev/zeroshot/chronicle_chatgpt_dev.json', 'r', encoding='UTF-8') as f:\n",
    "#     chronicle_data = json.load(f)\n",
    "\n",
    "for item, msg in zip(org_data, gpt_msg):\n",
    "    item['chatgpt_cot'] = msg\n",
    "\n",
    "output_file = '../data/scenario/multi_diff/multi_diff_cot_js.json'\n",
    "with open(output_file, 'w', encoding='UTF-8') as f:\n",
    "    json.dump(org_data, f, ensure_ascii=False, indent=4)"
   ],
   "id": "c11301551eb3c710",
   "execution_count": 8,
   "outputs": []
  },
  {
   "metadata": {},
   "cell_type": "code",
   "execution_count": null,
   "source": "",
   "id": "37f5f110b3e7898e",
   "outputs": []
  },
  {
   "cell_type": "code",
   "execution_count": 16,
   "id": "f376dfdb",
   "metadata": {},
   "source": [
    "import re\n",
    "\n",
    "def preprocess(text):\n",
    "    if re.search(r'commit\\s*message', text, re.IGNORECASE):\n",
    "        pattern = r'\\\"([^\"]+)'\n",
    "        match = re.search(pattern, text)\n",
    "        if match:\n",
    "            return match.group(1)\n",
    "        else:\n",
    "            return text\n",
    "    else:\n",
    "        return text"
   ],
   "outputs": []
  },
  {
   "cell_type": "code",
   "execution_count": 17,
   "id": "feafc4cb7dec62fc",
   "metadata": {
    "ExecuteTime": {
     "end_time": "2024-04-16T17:51:06.654429Z",
     "start_time": "2024-04-16T17:51:06.564944Z"
    },
    "collapsed": false
   },
   "source": [
    "with open('../data/msg_nngen_nmt_codebert_chatgpt.json', 'r', encoding='UTF-8') as f:\n",
    "    org_data = json.load(f)\n",
    "\n",
    "for item, msg in zip(org_data[:100], gpt_msg):\n",
    "    item['chatgpt_cot'] = preprocess(msg)\n",
    "\n",
    "output_file = '../data/chatgpt_cot.json'\n",
    "with open(output_file, 'w', encoding='UTF-8') as f:\n",
    "    json.dump(org_data[:100], f, ensure_ascii=False, indent=4)"
   ],
   "outputs": []
  },
  {
   "cell_type": "code",
   "execution_count": 28,
   "id": "fda2480ee8c1a157",
   "metadata": {
    "ExecuteTime": {
     "end_time": "2024-04-16T17:47:40.528420Z",
     "start_time": "2024-04-16T17:47:40.506950Z"
    },
    "collapsed": false
   },
   "source": [
    "max_len = 0\n",
    "for msg in gpt_msg:\n",
    "    max_len = max(max_len, len(msg.split()))"
   ],
   "outputs": []
  },
  {
   "cell_type": "code",
   "execution_count": 15,
   "id": "b01d879df8d0999",
   "metadata": {
    "ExecuteTime": {
     "end_time": "2024-04-16T17:47:42.219081Z",
     "start_time": "2024-04-16T17:47:42.206079Z"
    },
    "collapsed": false
   },
   "source": [
    "\n"
   ],
   "outputs": []
  },
  {
   "cell_type": "code",
   "execution_count": null,
   "id": "41ca1d16fb5bd527",
   "metadata": {
    "collapsed": false
   },
   "source": [],
   "outputs": []
  }
 ],
 "metadata": {
  "kernelspec": {
   "display_name": "Python 3",
   "language": "python",
   "name": "python3"
  },
  "language_info": {
   "codemirror_mode": {
    "name": "ipython",
    "version": 3
   },
   "file_extension": ".py",
   "mimetype": "text/x-python",
   "name": "python",
   "nbconvert_exporter": "python",
   "pygments_lexer": "ipython3",
   "version": "3.9.18"
  }
 },
 "nbformat": 4,
 "nbformat_minor": 5
}
