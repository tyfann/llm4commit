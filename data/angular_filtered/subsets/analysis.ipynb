{
 "cells": [
  {
   "metadata": {
    "ExecuteTime": {
     "end_time": "2024-06-21T21:35:06.200671Z",
     "start_time": "2024-06-21T21:35:06.099520Z"
    }
   },
   "cell_type": "code",
   "source": [
    "import json\n",
    "from collections import Counter\n",
    "import re\n",
    "from stanfordcorenlp import StanfordCoreNLP\n",
    "from nltk.tokenize import sent_tokenize\n",
    "from tqdm.auto import tqdm"
   ],
   "id": "1166e996f25300f0",
   "outputs": [],
   "execution_count": 9
  },
  {
   "metadata": {
    "ExecuteTime": {
     "end_time": "2024-06-21T21:33:41.360524Z",
     "start_time": "2024-06-21T21:33:40.338066Z"
    }
   },
   "cell_type": "code",
   "source": "nlp = StanfordCoreNLP('http://localhost', port=9000)",
   "id": "a36785356720f675",
   "outputs": [],
   "execution_count": 4
  },
  {
   "metadata": {
    "ExecuteTime": {
     "end_time": "2024-06-21T21:33:41.375840Z",
     "start_time": "2024-06-21T21:33:41.363334Z"
    }
   },
   "cell_type": "code",
   "source": [
    "def to_lemma(msg, nlp):\n",
    "    props={'annotators': 'lemma', 'outputFormat': 'json', 'timeout': 1000}\n",
    "    msg_list = msg.split()\n",
    "    annot_doc = nlp.annotate(msg,properties=props)\n",
    "    parsed_dict = json.loads(annot_doc)\n",
    "    lemma_list = [v for d in parsed_dict['sentences'][0]['tokens'] for k, v in d.items() if k == 'lemma']\n",
    "    msg_list[0] = lemma_list[0]\n",
    "    msg = ' '.join(msg_list)\n",
    "    return msg"
   ],
   "id": "5683015349aba928",
   "outputs": [],
   "execution_count": 5
  },
  {
   "cell_type": "code",
   "id": "initial_id",
   "metadata": {
    "collapsed": true,
    "ExecuteTime": {
     "end_time": "2024-06-21T21:42:16.117633Z",
     "start_time": "2024-06-21T21:40:17.381558Z"
    }
   },
   "source": [
    "\n",
    "\n",
    "# 读取JSON文件\n",
    "with open('db_data.json', 'r', encoding='utf-8') as file:\n",
    "    data = json.load(file)\n",
    "\n",
    "# 提取并统计词频\n",
    "word_counter = Counter()\n",
    "for item in tqdm(data, total=len(data)):\n",
    "    # msg = to_lemma(item['msg'], nlp) \n",
    "    msg = item['msg']\n",
    "    # 使用正则表达式提取冒号后面的第一个词\n",
    "    match = re.search(r':\\s*(\\w+)', msg)\n",
    "    if match:\n",
    "        word = match.group(1)\n",
    "        word = to_lemma(word, nlp)\n",
    "        word_counter[word] += 1\n",
    "\n",
    "# 获取出现次数排名前15的词\n",
    "top_15_words = word_counter.most_common(15)\n",
    "\n",
    "# 输出结果\n",
    "for word, count in top_15_words:\n",
    "    print(f'{word}: {count}')\n"
   ],
   "outputs": [
    {
     "data": {
      "text/plain": [
       "  0%|          | 0/50703 [00:00<?, ?it/s]"
      ],
      "application/vnd.jupyter.widget-view+json": {
       "version_major": 2,
       "version_minor": 0,
       "model_id": "b4c0fa8ceceb43399cbde859475d1a04"
      }
     },
     "metadata": {},
     "output_type": "display_data"
    },
    {
     "name": "stdout",
     "output_type": "stream",
     "text": [
      "add: 9669\n",
      "fix: 4850\n",
      "update: 4108\n",
      "remove: 3661\n",
      "use: 1699\n",
      "Update: 752\n",
      "change: 743\n",
      "improve: 705\n",
      "make: 575\n",
      "set: 393\n",
      "allow: 335\n",
      "move: 334\n",
      "bump: 311\n",
      "correct: 307\n",
      "refactor: 304\n"
     ]
    }
   ],
   "execution_count": 17
  },
  {
   "metadata": {
    "ExecuteTime": {
     "end_time": "2024-06-21T21:54:23.464373Z",
     "start_time": "2024-06-21T21:54:23.454372Z"
    }
   },
   "cell_type": "code",
   "source": [
    "total_count_top_15 = sum(count for word, count in top_15_words)\n",
    "print(total_count_top_15 / len(data))"
   ],
   "id": "b2300269aab04e8f",
   "outputs": [
    {
     "name": "stdout",
     "output_type": "stream",
     "text": [
      "0.5669487012602804\n"
     ]
    }
   ],
   "execution_count": 23
  },
  {
   "metadata": {
    "ExecuteTime": {
     "end_time": "2024-06-21T21:52:30.205186Z",
     "start_time": "2024-06-21T21:52:30.192639Z"
    }
   },
   "cell_type": "code",
   "source": "len(data)",
   "id": "c7b39b79fdbd0c6f",
   "outputs": [
    {
     "data": {
      "text/plain": [
       "50703"
      ]
     },
     "execution_count": 18,
     "metadata": {},
     "output_type": "execute_result"
    }
   ],
   "execution_count": 18
  },
  {
   "metadata": {
    "ExecuteTime": {
     "end_time": "2024-06-21T21:53:20.592509Z",
     "start_time": "2024-06-21T21:53:20.562435Z"
    }
   },
   "cell_type": "code",
   "source": "total_count = sum(top_15_words[0].values())",
   "id": "c0e3147b339fd8ad",
   "outputs": [
    {
     "ename": "AttributeError",
     "evalue": "'tuple' object has no attribute 'values'",
     "output_type": "error",
     "traceback": [
      "\u001B[1;31m---------------------------------------------------------------------------\u001B[0m",
      "\u001B[1;31mAttributeError\u001B[0m                            Traceback (most recent call last)",
      "Cell \u001B[1;32mIn[21], line 1\u001B[0m\n\u001B[1;32m----> 1\u001B[0m total_count \u001B[38;5;241m=\u001B[39m \u001B[38;5;28msum\u001B[39m(\u001B[43mtop_15_words\u001B[49m\u001B[43m[\u001B[49m\u001B[38;5;241;43m0\u001B[39;49m\u001B[43m]\u001B[49m\u001B[38;5;241;43m.\u001B[39;49m\u001B[43mvalues\u001B[49m())\n",
      "\u001B[1;31mAttributeError\u001B[0m: 'tuple' object has no attribute 'values'"
     ]
    }
   ],
   "execution_count": 21
  },
  {
   "metadata": {
    "ExecuteTime": {
     "end_time": "2024-06-21T21:53:25.466466Z",
     "start_time": "2024-06-21T21:53:25.461462Z"
    }
   },
   "cell_type": "code",
   "source": "",
   "id": "c29eb97da0ad5174",
   "outputs": [
    {
     "data": {
      "text/plain": [
       "('add', 9669)"
      ]
     },
     "execution_count": 22,
     "metadata": {},
     "output_type": "execute_result"
    }
   ],
   "execution_count": 22
  },
  {
   "metadata": {},
   "cell_type": "code",
   "outputs": [],
   "execution_count": null,
   "source": "",
   "id": "28957c6be1edebf3"
  }
 ],
 "metadata": {
  "kernelspec": {
   "display_name": "Python 3",
   "language": "python",
   "name": "python3"
  },
  "language_info": {
   "codemirror_mode": {
    "name": "ipython",
    "version": 2
   },
   "file_extension": ".py",
   "mimetype": "text/x-python",
   "name": "python",
   "nbconvert_exporter": "python",
   "pygments_lexer": "ipython2",
   "version": "2.7.6"
  }
 },
 "nbformat": 4,
 "nbformat_minor": 5
}
