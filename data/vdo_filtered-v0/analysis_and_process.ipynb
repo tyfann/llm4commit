{
 "cells": [
  {
   "metadata": {
    "ExecuteTime": {
     "end_time": "2024-06-24T09:46:17.049058Z",
     "start_time": "2024-06-24T09:46:16.887132Z"
    }
   },
   "cell_type": "code",
   "source": [
    "import json\n",
    "import re\n",
    "from tqdm.auto import tqdm\n",
    "from stanfordcorenlp import StanfordCoreNLP"
   ],
   "id": "68bedd452c7976f3",
   "outputs": [],
   "execution_count": 1
  },
  {
   "metadata": {
    "ExecuteTime": {
     "end_time": "2024-06-24T09:46:18.083226Z",
     "start_time": "2024-06-24T09:46:17.051480Z"
    }
   },
   "cell_type": "code",
   "source": "nlp = StanfordCoreNLP('http://localhost', port=9000)",
   "id": "b328c961b41aa134",
   "outputs": [],
   "execution_count": 2
  },
  {
   "metadata": {
    "ExecuteTime": {
     "end_time": "2024-06-24T09:46:18.097953Z",
     "start_time": "2024-06-24T09:46:18.084953Z"
    }
   },
   "cell_type": "code",
   "source": [
    "def to_lemma(msg, nlp):\n",
    "    props={'annotators': 'lemma', 'outputFormat': 'json', 'timeout': 1000}\n",
    "    msg_list = msg.split()\n",
    "    annot_doc = nlp.annotate(msg,properties=props)\n",
    "    parsed_dict = json.loads(annot_doc)\n",
    "    lemma_list = [v for d in parsed_dict['sentences'][0]['tokens'] for k, v in d.items() if k == 'lemma']\n",
    "    msg_list[0] = lemma_list[0]\n",
    "    msg = ' '.join(msg_list)\n",
    "    return msg"
   ],
   "id": "b5009f0fe3b0b20a",
   "outputs": [],
   "execution_count": 3
  },
  {
   "cell_type": "code",
   "id": "initial_id",
   "metadata": {
    "collapsed": true,
    "ExecuteTime": {
     "end_time": "2024-06-24T09:46:36.218282Z",
     "start_time": "2024-06-24T09:46:34.927190Z"
    }
   },
   "source": [
    "\n",
    "\n",
    "# 读取JSON文件\n",
    "with open('generation/rag/dev_test_150_rag_prompt.json', 'r', encoding='utf-8') as file:\n",
    "    data = json.load(file)\n",
    "\n",
    "# 创建新的列表来存储修改后的数据\n",
    "new_data = []\n",
    "\n",
    "for item in data:\n",
    "    if 'msg' in item:\n",
    "        msg = item['sim_msg']\n",
    "        # 使用正则表达式提取冒号后面的内容\n",
    "        match = re.search(r':\\s*(.*)', msg)\n",
    "        if match:\n",
    "            new_msg = to_lemma(match.group(1), nlp)\n",
    "            item['sim_msg_new'] = new_msg\n",
    "    new_data.append(item)\n",
    "\n",
    "# 将修改后的数据保存回JSON文件\n",
    "with open('generation/rag/dev_test_150_rag_new_prompt.json', 'w', encoding='utf-8') as file:\n",
    "    json.dump(new_data, file, ensure_ascii=False, indent=4)\n",
    "\n",
    "print(\"Processing completed. The modified data is saved in 'your_file_modified.json'.\")"
   ],
   "outputs": [
    {
     "name": "stdout",
     "output_type": "stream",
     "text": [
      "Processing completed. The modified data is saved in 'your_file_modified.json'.\n"
     ]
    }
   ],
   "execution_count": 4
  },
  {
   "metadata": {},
   "cell_type": "code",
   "outputs": [],
   "execution_count": null,
   "source": "",
   "id": "d6bc4aff8f302bb2"
  }
 ],
 "metadata": {
  "kernelspec": {
   "display_name": "Python 3",
   "language": "python",
   "name": "python3"
  },
  "language_info": {
   "codemirror_mode": {
    "name": "ipython",
    "version": 2
   },
   "file_extension": ".py",
   "mimetype": "text/x-python",
   "name": "python",
   "nbconvert_exporter": "python",
   "pygments_lexer": "ipython2",
   "version": "2.7.6"
  }
 },
 "nbformat": 4,
 "nbformat_minor": 5
}
