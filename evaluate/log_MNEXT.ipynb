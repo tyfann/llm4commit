{
 "cells": [
  {
   "cell_type": "code",
   "execution_count": null,
   "metadata": {
    "id": "4aHPR_Xa0aR4",
    "jupyter": {
     "is_executing": true
    }
   },
   "outputs": [],
   "source": [
    "from __future__ import unicode_literals\n",
    "from __future__ import division\n",
    "import numpy as np\n",
    "import math\n",
    "import sys\n",
    "from fractions import Fraction\n",
    "import warnings\n",
    "from collections import Counter\n",
    "from nltk import ngrams\n",
    "\n",
    "from builtins import zip\n",
    "from builtins import range\n",
    "from past.utils import old_div\n",
    "from builtins import object\n",
    "from collections import defaultdict\n",
    "import math\n",
    "import re\n",
    "import json"
   ]
  },
  {
   "cell_type": "code",
   "execution_count": 2,
   "metadata": {
    "ExecuteTime": {
     "end_time": "2024-06-07T21:41:40.716351Z",
     "start_time": "2024-06-07T21:41:39.927252Z"
    },
    "colab": {
     "base_uri": "https://localhost:8080/"
    },
    "id": "8oQuYF8OBdl6",
    "outputId": "131c5940-59f7-4f47-8670-14a43d9819fc"
   },
   "outputs": [
    {
     "name": "stderr",
     "output_type": "stream",
     "text": [
      "[nltk_data] Downloading package wordnet to\n",
      "[nltk_data]     C:\\Users\\tyfann\\AppData\\Roaming\\nltk_data...\n",
      "[nltk_data]   Package wordnet is already up-to-date!\n"
     ]
    },
    {
     "data": {
      "text/plain": [
       "True"
      ]
     },
     "execution_count": 2,
     "metadata": {},
     "output_type": "execute_result"
    }
   ],
   "source": [
    "import nltk\n",
    "nltk.download('wordnet')"
   ]
  },
  {
   "cell_type": "code",
   "execution_count": 3,
   "metadata": {
    "ExecuteTime": {
     "end_time": "2024-06-07T21:41:40.793394Z",
     "start_time": "2024-06-07T21:41:40.718351Z"
    },
    "id": "RgFdtcUT16oZ"
   },
   "outputs": [],
   "source": [
    "from nltk.stem.porter import PorterStemmer\n",
    "from nltk.corpus import wordnet\n",
    "from itertools import chain, product\n",
    "\n",
    "\n",
    "def _generate_enums(hypothesis, reference, preprocess=str.lower):\n",
    "    \"\"\"\n",
    "    Takes in string inputs for hypothesis and reference and returns\n",
    "    enumerated word lists for each of them\n",
    "\n",
    "    :param hypothesis: hypothesis string\n",
    "    :type hypothesis: str\n",
    "    :param reference: reference string\n",
    "    :type reference: str\n",
    "    :preprocess: preprocessing method (default str.lower)\n",
    "    :type preprocess: method\n",
    "    :return: enumerated words list\n",
    "    :rtype: list of 2D tuples, list of 2D tuples\n",
    "    \"\"\"\n",
    "    hypothesis_list = list(enumerate(preprocess(hypothesis).split()))\n",
    "    reference_list = list(enumerate(preprocess(reference).split()))\n",
    "    return hypothesis_list, reference_list\n",
    "\n",
    "\n",
    "def exact_match(hypothesis, reference):\n",
    "    \"\"\"\n",
    "    matches exact words in hypothesis and reference\n",
    "    and returns a word mapping based on the enumerated\n",
    "    word id between hypothesis and reference\n",
    "\n",
    "    :param hypothesis: hypothesis string\n",
    "    :type hypothesis: str\n",
    "    :param reference: reference string\n",
    "    :type reference: str\n",
    "    :return: enumerated matched tuples, enumerated unmatched hypothesis tuples,\n",
    "             enumerated unmatched reference tuples\n",
    "    :rtype: list of 2D tuples, list of 2D tuples,  list of 2D tuples\n",
    "    \"\"\"\n",
    "    hypothesis_list, reference_list = _generate_enums(hypothesis, reference)\n",
    "    return _match_enums(hypothesis_list, reference_list)\n",
    "\n",
    "\n",
    "\n",
    "def _match_enums(enum_hypothesis_list, enum_reference_list):\n",
    "    \"\"\"\n",
    "    matches exact words in hypothesis and reference and returns\n",
    "    a word mapping between enum_hypothesis_list and enum_reference_list\n",
    "    based on the enumerated word id.\n",
    "\n",
    "    :param enum_hypothesis_list: enumerated hypothesis list\n",
    "    :type enum_hypothesis_list: list of tuples\n",
    "    :param enum_reference_list: enumerated reference list\n",
    "    :type enum_reference_list: list of 2D tuples\n",
    "    :return: enumerated matched tuples, enumerated unmatched hypothesis tuples,\n",
    "             enumerated unmatched reference tuples\n",
    "    :rtype: list of 2D tuples, list of 2D tuples,  list of 2D tuples\n",
    "    \"\"\"\n",
    "    word_match = []\n",
    "    for i in range(len(enum_hypothesis_list))[::-1]:\n",
    "        for j in range(len(enum_reference_list))[::-1]:\n",
    "            if enum_hypothesis_list[i][1] == enum_reference_list[j][1]:\n",
    "                word_match.append(\n",
    "                    (enum_hypothesis_list[i][0], enum_reference_list[j][0])\n",
    "                )\n",
    "                (enum_hypothesis_list.pop(i)[1], enum_reference_list.pop(j)[1])\n",
    "                break\n",
    "    return word_match, enum_hypothesis_list, enum_reference_list\n",
    "\n",
    "\n",
    "def _enum_stem_match(\n",
    "    enum_hypothesis_list, enum_reference_list, stemmer=PorterStemmer()\n",
    "):\n",
    "    \"\"\"\n",
    "    Stems each word and matches them in hypothesis and reference\n",
    "    and returns a word mapping between enum_hypothesis_list and\n",
    "    enum_reference_list based on the enumerated word id. The function also\n",
    "    returns a enumerated list of unmatched words for hypothesis and reference.\n",
    "\n",
    "    :param enum_hypothesis_list:\n",
    "    :type enum_hypothesis_list:\n",
    "    :param enum_reference_list:\n",
    "    :type enum_reference_list:\n",
    "    :param stemmer: nltk.stem.api.StemmerI object (default PorterStemmer())\n",
    "    :type stemmer: nltk.stem.api.StemmerI or any class that implements a stem method\n",
    "    :return: enumerated matched tuples, enumerated unmatched hypothesis tuples,\n",
    "             enumerated unmatched reference tuples\n",
    "    :rtype: list of 2D tuples, list of 2D tuples,  list of 2D tuples\n",
    "    \"\"\"\n",
    "    stemmed_enum_list1 = [\n",
    "        (word_pair[0], stemmer.stem(word_pair[1])) for word_pair in enum_hypothesis_list\n",
    "    ]\n",
    "\n",
    "    stemmed_enum_list2 = [\n",
    "        (word_pair[0], stemmer.stem(word_pair[1])) for word_pair in enum_reference_list\n",
    "    ]\n",
    "\n",
    "    word_match, enum_unmat_hypo_list, enum_unmat_ref_list = _match_enums(\n",
    "        stemmed_enum_list1, stemmed_enum_list2\n",
    "    )\n",
    "\n",
    "    enum_unmat_hypo_list = (\n",
    "        list(zip(*enum_unmat_hypo_list)) if len(enum_unmat_hypo_list) > 0 else []\n",
    "    )\n",
    "\n",
    "    enum_unmat_ref_list = (\n",
    "        list(zip(*enum_unmat_ref_list)) if len(enum_unmat_ref_list) > 0 else []\n",
    "    )\n",
    "\n",
    "    enum_hypothesis_list = list(\n",
    "        filter(lambda x: x[0] not in enum_unmat_hypo_list, enum_hypothesis_list)\n",
    "    )\n",
    "\n",
    "    enum_reference_list = list(\n",
    "        filter(lambda x: x[0] not in enum_unmat_ref_list, enum_reference_list)\n",
    "    )\n",
    "\n",
    "    return word_match, enum_hypothesis_list, enum_reference_list\n",
    "\n",
    "\n",
    "def stem_match(hypothesis, reference, stemmer=PorterStemmer()):\n",
    "    \"\"\"\n",
    "    Stems each word and matches them in hypothesis and reference\n",
    "    and returns a word mapping between hypothesis and reference\n",
    "\n",
    "    :param hypothesis:\n",
    "    :type hypothesis:\n",
    "    :param reference:\n",
    "    :type reference:\n",
    "    :param stemmer: nltk.stem.api.StemmerI object (default PorterStemmer())\n",
    "    :type stemmer: nltk.stem.api.StemmerI or any class that\n",
    "                   implements a stem method\n",
    "    :return: enumerated matched tuples, enumerated unmatched hypothesis tuples,\n",
    "             enumerated unmatched reference tuples\n",
    "    :rtype: list of 2D tuples, list of 2D tuples,  list of 2D tuples\n",
    "    \"\"\"\n",
    "    enum_hypothesis_list, enum_reference_list = _generate_enums(hypothesis, reference)\n",
    "    return _enum_stem_match(enum_hypothesis_list, enum_reference_list, stemmer=stemmer)\n",
    "\n",
    "\n",
    "\n",
    "def _enum_wordnetsyn_match(enum_hypothesis_list, enum_reference_list, wordnet=wordnet):\n",
    "    \"\"\"\n",
    "    Matches each word in reference to a word in hypothesis\n",
    "    if any synonym of a hypothesis word is the exact match\n",
    "    to the reference word.\n",
    "\n",
    "    :param enum_hypothesis_list: enumerated hypothesis list\n",
    "    :param enum_reference_list: enumerated reference list\n",
    "    :param wordnet: a wordnet corpus reader object (default nltk.corpus.wordnet)\n",
    "    :type wordnet: WordNetCorpusReader\n",
    "    :return: list of matched tuples, unmatched hypothesis list, unmatched reference list\n",
    "    :rtype:  list of tuples, list of tuples, list of tuples\n",
    "\n",
    "    \"\"\"\n",
    "    word_match = []\n",
    "    for i in range(len(enum_hypothesis_list))[::-1]:\n",
    "        hypothesis_syns = set(\n",
    "            chain.from_iterable(\n",
    "                (\n",
    "                    lemma.name()\n",
    "                    for lemma in synset.lemmas()\n",
    "                    if lemma.name().find(\"_\") < 0\n",
    "                )\n",
    "                for synset in wordnet.synsets(enum_hypothesis_list[i][1])\n",
    "            )\n",
    "        ).union({enum_hypothesis_list[i][1]})\n",
    "        for j in range(len(enum_reference_list))[::-1]:\n",
    "            if enum_reference_list[j][1] in hypothesis_syns:\n",
    "                word_match.append(\n",
    "                    (enum_hypothesis_list[i][0], enum_reference_list[j][0])\n",
    "                )\n",
    "                enum_hypothesis_list.pop(i), enum_reference_list.pop(j)\n",
    "                break\n",
    "    return word_match, enum_hypothesis_list, enum_reference_list\n",
    "\n",
    "\n",
    "def wordnetsyn_match(hypothesis, reference, wordnet=wordnet):\n",
    "    \"\"\"\n",
    "    Matches each word in reference to a word in hypothesis if any synonym\n",
    "    of a hypothesis word is the exact match to the reference word.\n",
    "\n",
    "    :param hypothesis: hypothesis string\n",
    "    :param reference: reference string\n",
    "    :param wordnet: a wordnet corpus reader object (default nltk.corpus.wordnet)\n",
    "    :type wordnet: WordNetCorpusReader\n",
    "    :return: list of mapped tuples\n",
    "    :rtype: list of tuples\n",
    "    \"\"\"\n",
    "    enum_hypothesis_list, enum_reference_list = _generate_enums(hypothesis, reference)\n",
    "    return _enum_wordnetsyn_match(\n",
    "        enum_hypothesis_list, enum_reference_list, wordnet=wordnet\n",
    "    )\n",
    "\n",
    "\n",
    "\n",
    "def _enum_allign_words(\n",
    "    enum_hypothesis_list, enum_reference_list, stemmer=PorterStemmer(), wordnet=wordnet\n",
    "):\n",
    "    \"\"\"\n",
    "    Aligns/matches words in the hypothesis to reference by sequentially\n",
    "    applying exact match, stemmed match and wordnet based synonym match.\n",
    "    in case there are multiple matches the match which has the least number\n",
    "    of crossing is chosen. Takes enumerated list as input instead of\n",
    "    string input\n",
    "\n",
    "    :param enum_hypothesis_list: enumerated hypothesis list\n",
    "    :param enum_reference_list: enumerated reference list\n",
    "    :param stemmer: nltk.stem.api.StemmerI object (default PorterStemmer())\n",
    "    :type stemmer: nltk.stem.api.StemmerI or any class that implements a stem method\n",
    "    :param wordnet: a wordnet corpus reader object (default nltk.corpus.wordnet)\n",
    "    :type wordnet: WordNetCorpusReader\n",
    "    :return: sorted list of matched tuples, unmatched hypothesis list,\n",
    "             unmatched reference list\n",
    "    :rtype: list of tuples, list of tuples, list of tuples\n",
    "    \"\"\"\n",
    "    exact_matches, enum_hypothesis_list, enum_reference_list = _match_enums(\n",
    "        enum_hypothesis_list, enum_reference_list\n",
    "    )\n",
    "\n",
    "    stem_matches, enum_hypothesis_list, enum_reference_list = _enum_stem_match(\n",
    "        enum_hypothesis_list, enum_reference_list, stemmer=stemmer\n",
    "    )\n",
    "\n",
    "    wns_matches, enum_hypothesis_list, enum_reference_list = _enum_wordnetsyn_match(\n",
    "        enum_hypothesis_list, enum_reference_list, wordnet=wordnet\n",
    "    )\n",
    "\n",
    "    return (\n",
    "        sorted(\n",
    "            exact_matches + stem_matches + wns_matches, key=lambda wordpair: wordpair[0]\n",
    "        ),\n",
    "        enum_hypothesis_list,\n",
    "        enum_reference_list,\n",
    "    )\n",
    "\n",
    "\n",
    "def allign_words(hypothesis, reference, stemmer=PorterStemmer(), wordnet=wordnet):\n",
    "    \"\"\"\n",
    "    Aligns/matches words in the hypothesis to reference by sequentially\n",
    "    applying exact match, stemmed match and wordnet based synonym match.\n",
    "    In case there are multiple matches the match which has the least number\n",
    "    of crossing is chosen.\n",
    "\n",
    "    :param hypothesis: hypothesis string\n",
    "    :param reference: reference string\n",
    "    :param stemmer: nltk.stem.api.StemmerI object (default PorterStemmer())\n",
    "    :type stemmer: nltk.stem.api.StemmerI or any class that implements a stem method\n",
    "    :param wordnet: a wordnet corpus reader object (default nltk.corpus.wordnet)\n",
    "    :type wordnet: WordNetCorpusReader\n",
    "    :return: sorted list of matched tuples, unmatched hypothesis list, unmatched reference list\n",
    "    :rtype: list of tuples, list of tuples, list of tuples\n",
    "    \"\"\"\n",
    "    enum_hypothesis_list, enum_reference_list = _generate_enums(hypothesis, reference)\n",
    "    return _enum_allign_words(\n",
    "        enum_hypothesis_list, enum_reference_list, stemmer=stemmer, wordnet=wordnet\n",
    "    )\n",
    "\n",
    "\n",
    "\n",
    "def _count_chunks(matches):\n",
    "    \"\"\"\n",
    "    Counts the fewest possible number of chunks such that matched unigrams\n",
    "    of each chunk are adjacent to each other. This is used to caluclate the\n",
    "    fragmentation part of the metric.\n",
    "\n",
    "    :param matches: list containing a mapping of matched words (output of allign_words)\n",
    "    :return: Number of chunks a sentence is divided into post allignment\n",
    "    :rtype: int\n",
    "    \"\"\"\n",
    "    i = 0\n",
    "    chunks = 1\n",
    "    while i < len(matches) - 1:\n",
    "        if (matches[i + 1][0] == matches[i][0] + 1) and (\n",
    "            matches[i + 1][1] == matches[i][1] + 1\n",
    "        ):\n",
    "            i += 1\n",
    "            continue\n",
    "        i += 1\n",
    "        chunks += 1\n",
    "    return chunks\n",
    "\n",
    "\n",
    "def single_meteor_score(\n",
    "    reference,\n",
    "    hypothesis,\n",
    "    preprocess=str.lower,\n",
    "    stemmer=PorterStemmer(),\n",
    "    wordnet=wordnet,\n",
    "    alpha=0.85,\n",
    "    beta=2.35,\n",
    "    gamma=0.45,\n",
    "    w_1=1,\n",
    "    w_2=0.8,\n",
    "    w_3=0.6\n",
    "):\n",
    "    \"\"\"\n",
    "    Calculates METEOR score for single hypothesis and reference as per\n",
    "    \"Meteor: An Automatic Metric for MT Evaluation with HighLevels of\n",
    "    Correlation with Human Judgments\" by Alon Lavie and Abhaya Agarwal,\n",
    "    in Proceedings of ACL.\n",
    "    http://www.cs.cmu.edu/~alavie/METEOR/pdf/Lavie-Agarwal-2007-METEOR.pdf\n",
    "\n",
    "\n",
    "    >>> hypothesis1 = 'It is a guide to action which ensures that the military always obeys the commands of the party'\n",
    "\n",
    "    >>> reference1 = 'It is a guide to action that ensures that the military will forever heed Party commands'\n",
    "\n",
    "\n",
    "    >>> round(single_meteor_score(reference1, hypothesis1),4)\n",
    "    0.7398\n",
    "\n",
    "        If there is no words match during the alignment the method returns the\n",
    "        score as 0. We can safely  return a zero instead of raising a\n",
    "        division by zero error as no match usually implies a bad translation.\n",
    "\n",
    "    >>> round(meteor_score('this is a cat', 'non matching hypothesis'),4)\n",
    "    0.0\n",
    "\n",
    "    :param references: reference sentences\n",
    "    :type references: list(str)\n",
    "    :param hypothesis: a hypothesis sentence\n",
    "    :type hypothesis: str\n",
    "    :param preprocess: preprocessing function (default str.lower)\n",
    "    :type preprocess: method\n",
    "    :param stemmer: nltk.stem.api.StemmerI object (default PorterStemmer())\n",
    "    :type stemmer: nltk.stem.api.StemmerI or any class that implements a stem method\n",
    "    :param wordnet: a wordnet corpus reader object (default nltk.corpus.wordnet)\n",
    "    :type wordnet: WordNetCorpusReader\n",
    "    :param alpha: parameter for controlling relative weights of precision and recall.\n",
    "    :type alpha: float\n",
    "    :param beta: parameter for controlling shape of penalty as a\n",
    "                 function of as a function of fragmentation.\n",
    "    :type beta: float\n",
    "    :param gamma: relative weight assigned to fragmentation penality.\n",
    "    :type gamma: float\n",
    "    :return: The sentence-level METEOR score.\n",
    "    :rtype: float\n",
    "    \"\"\"\n",
    "    enum_hypothesis, enum_reference = _generate_enums(\n",
    "        hypothesis, reference, preprocess=preprocess\n",
    "    )\n",
    "    translation_length = len(enum_hypothesis)\n",
    "    #print(translation_length)\n",
    "    reference_length = len(enum_reference)\n",
    "    matches, _, _ = _enum_allign_words(enum_hypothesis, enum_reference, stemmer=stemmer)\n",
    "    #print(matches)\n",
    "    exact_m,_,_ = exact_match(hypothesis, reference)\n",
    "    #print(exact_m)\n",
    "    stem_m,_,_ = _enum_stem_match(enum_hypothesis, enum_reference, stemmer=PorterStemmer())\n",
    "    #print(stem_m)\n",
    "    syn_m,_,_ = _enum_wordnetsyn_match(enum_hypothesis, enum_reference, wordnet=wordnet)\n",
    "    #print(syn_m)\n",
    "\n",
    "\n",
    "\n",
    "    exact_count = len(exact_m)\n",
    "    stem_matches = set(stem_m).difference(exact_m)\n",
    "    stem_count = len((set(stem_m).difference(exact_m)))\n",
    "    syn_matches = set(syn_m).difference(stem_m)\n",
    "    syn_count = len((set(syn_m).difference(stem_m)))\n",
    "    tot_matches = list(exact_m) + list(stem_matches) + list(syn_matches)\n",
    "    tot_alligned_matches = sorted(\n",
    "            tot_matches, key=lambda wordpair: wordpair[0]\n",
    "        )\n",
    "    tot_alligned_count = len(tot_alligned_matches)\n",
    "    #print(tot_alligned_matches)\n",
    "    #print(exact_count)\n",
    "    #print(stem_count)\n",
    "    #print(syn_count)\n",
    "    #print(tot_alligned_count)\n",
    "    matches_count = len(matches)\n",
    "    #print(matches_count)\n",
    "    try:\n",
    "        precision = float(w_1*exact_count + w_2*stem_count + w_3*syn_count) / translation_length\n",
    "        recall = float(w_1*exact_count + w_2*stem_count + w_3*syn_count) / reference_length\n",
    "        #precision = float(matches_count) / translation_length\n",
    "        #recall = float(matches_count) / reference_length\n",
    "        fmean = (precision * recall) / (alpha * precision + (1 - alpha) * recall)\n",
    "        chunk_count = float(_count_chunks(matches))\n",
    "        frag_frac = chunk_count / matches_count\n",
    "    except ZeroDivisionError:\n",
    "        return 0.0\n",
    "    if tot_alligned_count == translation_length and tot_alligned_count == reference_length:\n",
    "        penalty = 0\n",
    "    else:\n",
    "        penalty = gamma * frag_frac ** beta\n",
    "    return (1 - penalty) * fmean\n",
    "\n",
    "\n",
    "\n",
    "def meteorn_score(\n",
    "    references,\n",
    "    hypothesis,\n",
    "    preprocess=str.lower,\n",
    "    stemmer=PorterStemmer(),\n",
    "    wordnet=wordnet,\n",
    "    alpha=0.85,\n",
    "    beta=2.35,\n",
    "    gamma=0.45,\n",
    "    w_1=1,\n",
    "    w_2=0.8,\n",
    "    w_3=0.6\n",
    "):\n",
    "    \"\"\"\n",
    "    Calculates METEOR score for hypothesis with multiple references as\n",
    "    described in \"Meteor: An Automatic Metric for MT Evaluation with\n",
    "    HighLevels of Correlation with Human Judgments\" by Alon Lavie and\n",
    "    Abhaya Agarwal, in Proceedings of ACL.\n",
    "    http://www.cs.cmu.edu/~alavie/METEOR/pdf/Lavie-Agarwal-2007-METEOR.pdf\n",
    "\n",
    "\n",
    "    In case of multiple references the best score is chosen. This method\n",
    "    iterates over single_meteor_score and picks the best pair among all\n",
    "    the references for a given hypothesis\n",
    "\n",
    "    >>> hypothesis1 = 'It is a guide to action which ensures that the military always obeys the commands of the party'\n",
    "    >>> hypothesis2 = 'It is to insure the troops forever hearing the activity guidebook that party direct'\n",
    "\n",
    "    >>> reference1 = 'It is a guide to action that ensures that the military will forever heed Party commands'\n",
    "    >>> reference2 = 'It is the guiding principle which guarantees the military forces always being under the command of the Party'\n",
    "    >>> reference3 = 'It is the practical guide for the army always to heed the directions of the party'\n",
    "\n",
    "    >>> round(meteor_score([reference1, reference2, reference3], hypothesis1),4)\n",
    "    0.7398\n",
    "\n",
    "        If there is no words match during the alignment the method returns the\n",
    "        score as 0. We can safely  return a zero instead of raising a\n",
    "        division by zero error as no match usually implies a bad translation.\n",
    "\n",
    "    >>> round(meteor_score(['this is a cat'], 'non matching hypothesis'),4)\n",
    "    0.0\n",
    "\n",
    "    :param references: reference sentences\n",
    "    :type references: list(str)\n",
    "    :param hypothesis: a hypothesis sentence\n",
    "    :type hypothesis: str\n",
    "    :param preprocess: preprocessing function (default str.lower)\n",
    "    :type preprocess: method\n",
    "    :param stemmer: nltk.stem.api.StemmerI object (default PorterStemmer())\n",
    "    :type stemmer: nltk.stem.api.StemmerI or any class that implements a stem method\n",
    "    :param wordnet: a wordnet corpus reader object (default nltk.corpus.wordnet)\n",
    "    :type wordnet: WordNetCorpusReader\n",
    "    :param alpha: parameter for controlling relative weights of precision and recall.\n",
    "    :type alpha: float\n",
    "    :param beta: parameter for controlling shape of penalty as a function\n",
    "                 of as a function of fragmentation.\n",
    "    :type beta: float\n",
    "    :param gamma: relative weight assigned to fragmentation penality.\n",
    "    :type gamma: float\n",
    "    :return: The sentence-level METEOR score.\n",
    "    :rtype: float\n",
    "    \"\"\"\n",
    "    return max(\n",
    "        [\n",
    "            single_meteor_score(\n",
    "                reference,\n",
    "                hypothesis,\n",
    "                preprocess=preprocess,\n",
    "                stemmer=stemmer,\n",
    "                wordnet=wordnet,\n",
    "                alpha=alpha,\n",
    "                beta=beta,\n",
    "                gamma=gamma,\n",
    "            )\n",
    "            for reference in references\n",
    "        ]\n",
    "    )"
   ]
  },
  {
   "cell_type": "code",
   "execution_count": 4,
   "metadata": {
    "ExecuteTime": {
     "end_time": "2024-06-07T21:41:40.808907Z",
     "start_time": "2024-06-07T21:41:40.795395Z"
    },
    "id": "I9KcBEn3AsWb"
   },
   "outputs": [],
   "source": [
    "def calculate_log_MNEXT(file_path, ref_name, pred_name):\n",
    "\n",
    "  refs=[]\n",
    "  preds=[]\n",
    "  with open(file_path, 'r', encoding='UTF-8') as f:\n",
    "      org_data = json.load(f)\n",
    "  # org_data = org_data[:100]\n",
    "\n",
    "  for data in org_data:\n",
    "      refs.append(data[ref_name])\n",
    "      preds.append(data[pred_name])\n",
    "\n",
    "  punc = '''!()-[]{};:'\"\\,<>./?@#$%^&*_~'''\n",
    "\n",
    "  #refs_new = []\n",
    "  for i in range(len(refs)):\n",
    "      for ele in refs[i]:\n",
    "          if ele in punc:\n",
    "              refs[i] = refs[i].replace(ele, \" \")\n",
    "              refs[i] = re.sub(r'\\s+', ' ', refs[i]).strip()\n",
    "\n",
    "  #preds_new = []\n",
    "  for i in range(len(refs)):\n",
    "      if preds[i]==None:\n",
    "          print(i)\n",
    "      for ele in preds[i]:\n",
    "          if ele in punc:\n",
    "              preds[i] = preds[i].replace(ele, \" \")\n",
    "              preds[i] = re.sub(r'\\s+', ' ', preds[i]).strip()\n",
    "\n",
    "  log_MNEXT=[]\n",
    "\n",
    "  for i in range(len(refs)):\n",
    "      log_MNEXT.append(round(meteorn_score([refs[i]],preds[i]),2))\n",
    "  log_MNEXT_score = (sum(log_MNEXT)/len(log_MNEXT))*100\n",
    "  print(f'{file_path}/{pred_name}: {log_MNEXT_score}')"
   ]
  },
  {
   "cell_type": "code",
   "execution_count": null,
   "metadata": {},
   "outputs": [],
   "source": [
    "calculate_log_MNEXT('../data/final_preprocessed_data/js_baseline/js_baseline_zeroshot_300.json', 'chatgpt')"
   ]
  },
  {
   "cell_type": "code",
   "execution_count": 12,
   "metadata": {
    "ExecuteTime": {
     "end_time": "2024-05-29T21:13:57.052469Z",
     "start_time": "2024-05-29T21:13:55.161400Z"
    }
   },
   "outputs": [
    {
     "name": "stdout",
     "output_type": "stream",
     "text": [
      "../data/final_preprocessed_data/js_baseline/js_baseline_test_data_300_golden.json/sim_msg: 38.11599999999998\n",
      "../data/final_preprocessed_data/js_baseline/js_baseline_test_data_300_bm25.json/sim_msg: 3.542999999999999\n",
      "../data/final_preprocessed_data/js_baseline/js_baseline_rag_300_prompt.json/sim_msg: 3.4759999999999978\n",
      "../data/final_preprocessed_data/js_baseline/js_baseline_weaviate_rag_300_prompt.json/sim_msg: 3.2719999999999985\n"
     ]
    }
   ],
   "source": [
    "calculate_log_MNEXT(f'../data/final_preprocessed_data/js_baseline/js_baseline_test_data_300_golden.json', 'msg', 'sim_msg')\n",
    "# BM25 prediction\n",
    "calculate_log_MNEXT(f'../data/final_preprocessed_data/js_baseline/js_baseline_test_data_300_bm25.json', 'msg', 'sim_msg')\n",
    "# ChromaDB prediction\n",
    "calculate_log_MNEXT(f'../data/final_preprocessed_data/js_baseline/js_baseline_rag_300_prompt.json', 'org_msg', 'sim_msg')\n",
    "# Weaviate prediction\n",
    "calculate_log_MNEXT(f'../data/final_preprocessed_data/js_baseline/js_baseline_weaviate_rag_300_prompt.json', 'org_msg', 'sim_msg')"
   ]
  },
  {
   "cell_type": "code",
   "execution_count": 16,
   "metadata": {
    "ExecuteTime": {
     "end_time": "2024-05-29T21:18:42.822469Z",
     "start_time": "2024-05-29T21:18:42.757221Z"
    }
   },
   "outputs": [
    {
     "name": "stdout",
     "output_type": "stream",
     "text": [
      "../data/final_preprocessed_data/js_baseline/js_baseline_weaviate_rag_300_old.json/chatgpt_rag: 17.06\n"
     ]
    }
   ],
   "source": [
    "calculate_log_MNEXT(f'../data/final_preprocessed_data/js_baseline/js_baseline_weaviate_rag_300_old.json', 'msg', 'chatgpt_rag')"
   ]
  },
  {
   "cell_type": "code",
   "execution_count": 12,
   "metadata": {
    "ExecuteTime": {
     "end_time": "2024-06-06T20:33:55.786373Z",
     "start_time": "2024-06-06T20:33:46.235460Z"
    }
   },
   "outputs": [
    {
     "name": "stdout",
     "output_type": "stream",
     "text": [
      "../data/final_preprocessed_data/discriminator/dis_train_data_retrieve.json/sim_msg: 4.925361831033341\n",
      "../data/final_preprocessed_data/discriminator/dis_train_data_retrieve_openai_embedding.json/sim_msg: 5.420397172669198\n"
     ]
    }
   ],
   "source": [
    "calculate_log_MNEXT('../data/final_preprocessed_data/discriminator/dis_train_data_retrieve.json', 'org_msg', 'sim_msg')\n",
    "calculate_log_MNEXT('../data/final_preprocessed_data/discriminator/dis_train_data_retrieve_openai_embedding.json', 'org_msg', 'sim_msg')"
   ]
  },
  {
   "cell_type": "code",
   "execution_count": 5,
   "metadata": {
    "ExecuteTime": {
     "end_time": "2024-06-07T21:41:40.824132Z",
     "start_time": "2024-06-07T21:41:40.811119Z"
    }
   },
   "outputs": [],
   "source": [
    "def calculate_log_MNEXT_by_pair(pred_data, ref_data):\n",
    "  punc = '''!()-[]{};:'\"\\,<>./?@#$%^&*_~'''\n",
    "  for ele in ref_data:\n",
    "    if ele in punc:\n",
    "      ref_data = ref_data.replace(ele, \"\")\n",
    "  \n",
    "  for ele in pred_data:\n",
    "    if ele in punc:\n",
    "      pred_data = pred_data.replace(ele, \"\")\n",
    "  \n",
    "  return round(meteorn_score([ref_data],pred_data),4)"
   ]
  },
  {
   "cell_type": "code",
   "execution_count": 10,
   "metadata": {
    "ExecuteTime": {
     "end_time": "2024-06-07T21:47:55.225559Z",
     "start_time": "2024-06-07T21:47:54.622730Z"
    }
   },
   "outputs": [
    {
     "name": "stderr",
     "output_type": "stream",
     "text": [
      "1000it [00:00, 1721.66it/s]\n"
     ]
    }
   ],
   "source": [
    "from tqdm import tqdm\n",
    "with open('../data/final_preprocessed_data/js_baseline/js_baseline_rag_300.json', 'r', encoding='UTF-8') as f:\n",
    "  data = json.load(f)\n",
    "\n",
    "highest_score = 0\n",
    "highest_item = None\n",
    "highest_index = -1\n",
    "\n",
    "lowest_score = 1\n",
    "lowest_item = None\n",
    "lowest_index = -1\n",
    "for index, item in tqdm(enumerate(data)):\n",
    "    score = calculate_log_MNEXT_by_pair(item['chatgpt_rag'], item['msg'])\n",
    "    if score > highest_score:\n",
    "        highest_score = score\n",
    "        highest_item = item\n",
    "        highest_index = index\n",
    "    if score < lowest_score:\n",
    "        lowest_score = score\n",
    "        lowest_item = item\n",
    "        lowest_index = index"
   ]
  },
  {
   "cell_type": "code",
   "execution_count": 13,
   "metadata": {
    "ExecuteTime": {
     "end_time": "2024-06-07T21:48:23.074432Z",
     "start_time": "2024-06-07T21:48:23.062428Z"
    }
   },
   "outputs": [],
   "source": [
    "with open('../data/final_preprocessed_data/js_baseline/js_baseline_zeroshot_300.json', 'r', encoding='UTF-8') as f:\n",
    "  zeroshot_data = json.load(f)"
   ]
  },
  {
   "cell_type": "code",
   "execution_count": 14,
   "metadata": {
    "ExecuteTime": {
     "end_time": "2024-06-07T21:48:29.760923Z",
     "start_time": "2024-06-07T21:48:29.745926Z"
    }
   },
   "outputs": [
    {
     "data": {
      "text/plain": [
       "{'msg': 'update vertexComponentCount in WebGLPipeline',\n",
       " 'diff': 'diff --git a/src/renderer/webgl/WebGLPipeline.js b/src/renderer/webgl/WebGLPipeline.js @@ -275,6 +275,10 @@ var WebGLPipeline = new Class({\\noffset: offset\\n});\\n+ this.vertexComponentCount = Utils.getComponentCount(\\n+ this.attributes,\\n+ this.gl\\n+ );\\nreturn this;\\n},\\n',\n",
       " 'lang': 'JavaScript',\n",
       " 'chatgpt': 'Add vertexComponentCount property to WebGLPipeline'}"
      ]
     },
     "execution_count": 14,
     "metadata": {},
     "output_type": "execute_result"
    }
   ],
   "source": [
    "zeroshot_data[highest_index]"
   ]
  },
  {
   "cell_type": "code",
   "execution_count": 15,
   "metadata": {
    "ExecuteTime": {
     "end_time": "2024-06-07T21:49:03.882057Z",
     "start_time": "2024-06-07T21:49:03.868833Z"
    }
   },
   "outputs": [],
   "source": [
    "with open('../data/final_preprocessed_data/js_baseline/js_baseline_rag_300_prompt.json', 'r', encoding='UTF-8') as f:\n",
    "  similar_diff = json.load(f)"
   ]
  },
  {
   "cell_type": "code",
   "execution_count": 18,
   "metadata": {
    "ExecuteTime": {
     "end_time": "2024-06-07T21:50:03.647213Z",
     "start_time": "2024-06-07T21:50:03.642708Z"
    }
   },
   "outputs": [
    {
     "data": {
      "text/plain": [
       "{'msg': 'Fix user component assets',\n",
       " 'diff': \"diff --git a/src/components/User/User.js b/src/components/User/User.js @@ -9,8 +9,8 @@ const User = ({ user }) => {\\nurl: user.avatar,\\nalt: user.slug\\n} : {\\n- url: 'assets/avatar.png',\\n- alt: 'no avatar'\\n+ url: '/assets/avatar.png',\\n+ alt: ''\\n}\\nreturn (\\n\",\n",
       " 'lang': 'JavaScript',\n",
       " 'chatgpt_rag': 'Update default avatar URL and alt text'}"
      ]
     },
     "execution_count": 18,
     "metadata": {},
     "output_type": "execute_result"
    }
   ],
   "source": [
    "lowest_item"
   ]
  },
  {
   "cell_type": "code",
   "execution_count": null,
   "metadata": {},
   "outputs": [],
   "source": []
  },
  {
   "cell_type": "code",
   "execution_count": 19,
   "metadata": {
    "ExecuteTime": {
     "end_time": "2024-06-07T21:50:27.378447Z",
     "start_time": "2024-06-07T21:50:27.363447Z"
    }
   },
   "outputs": [
    {
     "data": {
      "text/plain": [
       "{'msg': 'Fix user component assets',\n",
       " 'diff': \"diff --git a/src/components/User/User.js b/src/components/User/User.js @@ -9,8 +9,8 @@ const User = ({ user }) => {\\nurl: user.avatar,\\nalt: user.slug\\n} : {\\n- url: 'assets/avatar.png',\\n- alt: 'no avatar'\\n+ url: '/assets/avatar.png',\\n+ alt: ''\\n}\\nreturn (\\n\",\n",
       " 'lang': 'JavaScript',\n",
       " 'chatgpt': 'Fix avatar image path in User component'}"
      ]
     },
     "execution_count": 19,
     "metadata": {},
     "output_type": "execute_result"
    }
   ],
   "source": [
    "zeroshot_data[lowest_index]"
   ]
  },
  {
   "cell_type": "code",
   "execution_count": 17,
   "metadata": {
    "ExecuteTime": {
     "end_time": "2024-06-07T21:49:16.814443Z",
     "start_time": "2024-06-07T21:49:16.801442Z"
    }
   },
   "outputs": [
    {
     "data": {
      "text/plain": [
       "{'org_diff': 'diff --git a/src/renderer/webgl/WebGLPipeline.js b/src/renderer/webgl/WebGLPipeline.js @@ -275,6 +275,10 @@ var WebGLPipeline = new Class({\\noffset: offset\\n});\\n+ this.vertexComponentCount = Utils.getComponentCount(\\n+ this.attributes,\\n+ this.gl\\n+ );\\nreturn this;\\n},\\n',\n",
       " 'org_msg': 'update vertexComponentCount in WebGLPipeline',\n",
       " 'sim_msg': 'remove left over debugging code',\n",
       " 'sim_diff': 'diff --git a/src/video/webgl/webgl_compositor.js b/src/video/webgl/webgl_compositor.js @@ -500,7 +500,6 @@ class WebGLCompositor {\\nclear(alpha = 0) {\\nvar gl = this.gl;\\ngl.clearColor(0, 0, 0, alpha);\\n- console.log(alpha);\\ngl.clear(gl.COLOR_BUFFER_BIT | gl.STENCIL_BUFFER_BIT);\\n}\\n'}"
      ]
     },
     "execution_count": 17,
     "metadata": {},
     "output_type": "execute_result"
    }
   ],
   "source": [
    "similar_diff[highest_index]"
   ]
  },
  {
   "cell_type": "code",
   "execution_count": 10,
   "metadata": {
    "ExecuteTime": {
     "end_time": "2024-06-06T18:42:42.209637Z",
     "start_time": "2024-06-06T18:42:41.722205Z"
    }
   },
   "outputs": [],
   "source": [
    "from tqdm import tqdm\n",
    "with open('../data/final_preprocessed_data/js_baseline/js_baseline_rag_300.json', 'r', encoding='UTF-8') as f:\n",
    "  data = json.load(f)\n",
    "\n",
    "with open('../data/final_preprocessed_data/discriminator/dis_train_data.json', 'r', encoding='UTF-8') as f:\n",
    "  test_data = json.load(f)[:100]"
   ]
  },
  {
   "cell_type": "code",
   "execution_count": 11,
   "metadata": {
    "ExecuteTime": {
     "end_time": "2024-06-06T20:08:24.527005Z",
     "start_time": "2024-06-06T18:42:47.194661Z"
    }
   },
   "outputs": [
    {
     "name": "stderr",
     "output_type": "stream",
     "text": [
      "Processing documents: 100%|██████████| 100/100 [1:25:37<00:00, 51.37s/it]\n"
     ]
    }
   ],
   "source": [
    "similar_item = []\n",
    "for test_item in tqdm(test_data, total=len(test_data), desc=\"Processing documents\"):\n",
    "  max_score = 0\n",
    "  max_item = None\n",
    "  for db_item in db_data:\n",
    "    cur_score = calculate_log_MNEXT_by_pair(db_item['msg'], test_item['msg'])\n",
    "    if cur_score > max_score:\n",
    "      max_item = db_item\n",
    "      max_score = cur_score\n",
    "  similar_item.append(max_item)\n",
    "\n",
    "for sim_item, test_item in zip(similar_item, test_data):\n",
    "  test_item['sim_diff'] = sim_item['diff']\n",
    "  test_item['sim_msg'] = sim_item['msg']\n",
    "\n",
    "with open('../data/final_preprocessed_data/discriminator/dis_train_data_top100_golden.json', 'w', encoding='UTF-8') as f:\n",
    "  json.dump(test_data, f, ensure_ascii=False, indent=4)"
   ]
  },
  {
   "cell_type": "code",
   "execution_count": 6,
   "metadata": {
    "ExecuteTime": {
     "end_time": "2024-06-06T08:56:02.071733Z",
     "start_time": "2024-06-06T08:55:52.645406Z"
    }
   },
   "outputs": [
    {
     "data": {
      "application/vnd.jupyter.widget-view+json": {
       "model_id": "ae385f2d641848c28868b3a3b2941d3f",
       "version_major": 2,
       "version_minor": 0
      },
      "text/plain": [
       "Processing documents:   0%|          | 0/11884 [00:00<?, ?it/s]"
      ]
     },
     "metadata": {},
     "output_type": "display_data"
    }
   ],
   "source": [
    "from tqdm.auto import tqdm\n",
    "\n",
    "with open('../data/final_preprocessed_data/discriminator/dis_train_data_retrieve.json', 'r', encoding='UTF-8') as f:\n",
    "  retrieve_data = json.load(f)\n",
    "\n",
    "with open('../data/final_preprocessed_data/discriminator/dis_train_data_llm.json', 'r', encoding='UTF-8') as f:\n",
    "  llm_data = json.load(f)\n",
    "# with open('../data/final_preprocessed_data/js_baseline_test_data_300.json', 'r', encoding='UTF-8') as f:\n",
    "#   test_data = json.load(f)\n",
    "\n",
    "triplets = []\n",
    "retrieve_count = 0\n",
    "for llm_item, retrieve_item in tqdm(zip(llm_data, retrieve_data), total=len(llm_data), desc=\"Processing documents\"):\n",
    "    llm_score = calculate_log_MNEXT_by_pair(llm_item['race'], llm_item['msg'])\n",
    "    retrieve_score = calculate_log_MNEXT_by_pair(retrieve_item['sim_msg'], retrieve_item['org_msg'])\n",
    "    if retrieve_score > llm_score:\n",
    "        label = 1\n",
    "        retrieve_count+=1\n",
    "    else:\n",
    "        label = 0\n",
    "    item = {'org_diff': retrieve_item['org_diff'], 'sim_diff': retrieve_item['sim_diff'], 'label': label}\n",
    "    triplets.append(item)"
   ]
  },
  {
   "cell_type": "code",
   "execution_count": 9,
   "metadata": {
    "ExecuteTime": {
     "end_time": "2024-06-06T09:17:17.608800Z",
     "start_time": "2024-06-06T09:17:17.434437Z"
    }
   },
   "outputs": [
    {
     "ename": "ModuleNotFoundError",
     "evalue": "No module named 'langchain'",
     "output_type": "error",
     "traceback": [
      "\u001B[1;31m---------------------------------------------------------------------------\u001B[0m",
      "\u001B[1;31mModuleNotFoundError\u001B[0m                       Traceback (most recent call last)",
      "\u001B[1;32m<ipython-input-9-92cb7e061367>\u001B[0m in \u001B[0;36m<module>\u001B[1;34m\u001B[0m\n\u001B[1;32m----> 1\u001B[1;33m \u001B[1;32mfrom\u001B[0m \u001B[0mlangchain\u001B[0m \u001B[1;32mimport\u001B[0m \u001B[0mhub\u001B[0m\u001B[1;33m\u001B[0m\u001B[1;33m\u001B[0m\u001B[0m\n\u001B[0m\u001B[0;32m      2\u001B[0m \u001B[0mprompt\u001B[0m \u001B[1;33m=\u001B[0m \u001B[0mhub\u001B[0m\u001B[1;33m.\u001B[0m\u001B[0mpull\u001B[0m\u001B[1;33m(\u001B[0m\u001B[1;34m\"tyfann/llm4commit-zeroshot\"\u001B[0m\u001B[1;33m)\u001B[0m\u001B[1;33m\u001B[0m\u001B[1;33m\u001B[0m\u001B[0m\n",
      "\u001B[1;31mModuleNotFoundError\u001B[0m: No module named 'langchain'"
     ]
    }
   ],
   "source": []
  },
  {
   "cell_type": "code",
   "execution_count": 7,
   "metadata": {
    "ExecuteTime": {
     "end_time": "2024-06-06T08:56:05.960494Z",
     "start_time": "2024-06-06T08:56:05.941476Z"
    }
   },
   "outputs": [
    {
     "data": {
      "text/plain": [
       "1299"
      ]
     },
     "execution_count": 7,
     "metadata": {},
     "output_type": "execute_result"
    }
   ],
   "source": []
  },
  {
   "cell_type": "code",
   "execution_count": null,
   "metadata": {},
   "outputs": [],
   "source": []
  },
  {
   "cell_type": "code",
   "execution_count": 8,
   "metadata": {
    "ExecuteTime": {
     "end_time": "2024-06-06T08:57:33.972186Z",
     "start_time": "2024-06-06T08:57:33.848902Z"
    }
   },
   "outputs": [],
   "source": [
    "with open('../data/final_preprocessed_data/discriminator/dis_train_data_with_label.json', 'w', encoding='UTF-8') as f:\n",
    "    json.dump(triplets, f, ensure_ascii=False, indent=4)"
   ]
  },
  {
   "cell_type": "code",
   "execution_count": 7,
   "metadata": {
    "ExecuteTime": {
     "end_time": "2024-06-01T15:05:48.216006Z",
     "start_time": "2024-06-01T15:05:42.612153Z"
    }
   },
   "outputs": [],
   "source": [
    "# Extract diffs and assign IDs\n",
    "train_samples = [{\"id\": i, \"data\": item[\"diff\"]} for i, item in enumerate(test_data)]\n",
    "database_samples = [{\"id\": i, \"data\": item[\"diff\"]} for i, item in enumerate(db_data)]\n",
    "similarity_scores = []\n",
    "for i, similar_score in enumerate(similar_scores):\n",
    "    similarity_scores.append({'train_id': i, 'scores': similar_score})\n",
    "\n",
    "# Create the combined data structure\n",
    "combined_data = {\n",
    "    \"train_samples\": train_samples,\n",
    "    \"database_samples\": database_samples,\n",
    "    \"similarity_scores\": similarity_scores\n",
    "}\n",
    "\n",
    "# Save to JSON\n",
    "with open('../data/final_preprocessed_data/code_retrieval/js_retrieve_test_data_4f.json', 'w', encoding='utf-8') as f:\n",
    "    json.dump(combined_data, f, ensure_ascii=False, indent=4)"
   ]
  },
  {
   "cell_type": "code",
   "execution_count": 12,
   "metadata": {
    "ExecuteTime": {
     "end_time": "2024-05-28T17:16:40.999135Z",
     "start_time": "2024-05-28T17:16:40.969913Z"
    }
   },
   "outputs": [],
   "source": [
    "\n",
    "for sim_item, test_item in zip(similar_item, test_data):\n",
    "    if sim_item is not None:\n",
    "        test_item['sim_diff'] = sim_item['diff'] if sim_item['diff'] is not None else ''\n",
    "        test_item['sim_msg'] = sim_item['msg'] if sim_item['msg'] is not None else ''\n",
    "    else:\n",
    "        test_item['sim_diff'] = ''\n",
    "        test_item['sim_msg'] = ''\n",
    "\n",
    "with open('../data/final_preprocessed_data/js_baseline_test_data_300_golden.json', 'w', encoding='UTF-8') as f:\n",
    "  json.dump(test_data, f, ensure_ascii=False, indent=4)"
   ]
  },
  {
   "cell_type": "code",
   "execution_count": 10,
   "metadata": {
    "ExecuteTime": {
     "end_time": "2024-05-28T17:12:39.718909Z",
     "start_time": "2024-05-28T17:12:39.704791Z"
    }
   },
   "outputs": [
    {
     "data": {
      "text/plain": [
       "{'msg': 'fix(babel-plugin-putout) strict-mode',\n",
       " 'diff': 'diff --git a/packages/babel-plugin-putout/src/index.js b/packages/babel-plugin-putout/src/index.js @@ -31,6 +31,7 @@ export default function() {\\n},\\ngeneratorOverride(ast) {\\n+ ast.program.directives = [];\\nconst code = print(ast);\\nreturn {code};\\n},\\n',\n",
       " 'lang': 'JavaScript'}"
      ]
     },
     "execution_count": 10,
     "metadata": {},
     "output_type": "execute_result"
    }
   ],
   "source": [
    "test_data[448]"
   ]
  },
  {
   "cell_type": "code",
   "execution_count": 9,
   "metadata": {
    "ExecuteTime": {
     "end_time": "2024-05-28T17:12:13.692999Z",
     "start_time": "2024-05-28T17:12:13.682999Z"
    }
   },
   "outputs": [
    {
     "name": "stdout",
     "output_type": "stream",
     "text": [
      "448\n"
     ]
    }
   ],
   "source": [
    "for index, sim_item in enumerate(similar_item):\n",
    "    if sim_item==None:\n",
    "        print(index)"
   ]
  },
  {
   "cell_type": "code",
   "execution_count": 5,
   "metadata": {
    "ExecuteTime": {
     "end_time": "2024-05-25T21:53:38.988780Z",
     "start_time": "2024-05-25T21:53:29.184867Z"
    }
   },
   "outputs": [
    {
     "name": "stdout",
     "output_type": "stream",
     "text": [
      "../data/final_preprocessed_data/python_baseline/python_baseline_zeroshot.json/chatgpt: 17.24000000000002\n",
      "../data/final_preprocessed_data/python_baseline/python_baseline_rag.json/chatgpt_rag: 14.45300000000002\n",
      "../data/final_preprocessed_data/python_baseline/python_baseline_rag_top4.json/chatgpt_rag: 14.475000000000012\n",
      "../data/final_preprocessed_data/python_baseline/python_baseline_rag_sim_msg.json/chatgpt_rag: 16.65699999999999\n",
      "../data/final_preprocessed_data/python_baseline/python_baseline_cot.json/chatgpt_cot: 16.99999999999998\n",
      "../data/final_preprocessed_data/js_baseline/js_baseline_zeroshot.json/chatgpt: 16.04600000000001\n",
      "../data/final_preprocessed_data/js_baseline/js_baseline_rag.json/chatgpt_rag: 15.019000000000013\n",
      "../data/final_preprocessed_data/js_baseline/js_baseline_rag_top4.json/chatgpt_rag: 14.41900000000001\n",
      "../data/final_preprocessed_data/js_baseline/js_baseline_rag_sim_msg.json/chatgpt_rag: 15.844000000000008\n",
      "../data/final_preprocessed_data/js_baseline/js_baseline_cot.json/chatgpt_cot: 15.232999999999997\n"
     ]
    }
   ],
   "source": [
    "# lang = 'python'\n",
    "for lang in ['python', 'js']:\n",
    "    calculate_log_MNEXT(f'../data/final_preprocessed_data/{lang}_baseline/{lang}_baseline_zeroshot.json', 'chatgpt')\n",
    "    calculate_log_MNEXT(f'../data/final_preprocessed_data/{lang}_baseline/{lang}_baseline_rag.json', 'chatgpt_rag')\n",
    "    calculate_log_MNEXT(f'../data/final_preprocessed_data/{lang}_baseline/{lang}_baseline_rag_top4.json', 'chatgpt_rag')\n",
    "    calculate_log_MNEXT(f'../data/final_preprocessed_data/{lang}_baseline/{lang}_baseline_rag_sim_msg.json', 'chatgpt_rag')\n",
    "    calculate_log_MNEXT(f'../data/final_preprocessed_data/{lang}_baseline/{lang}_baseline_cot.json', 'chatgpt_cot')"
   ]
  },
  {
   "cell_type": "code",
   "execution_count": 9,
   "metadata": {
    "ExecuteTime": {
     "end_time": "2024-05-24T18:37:57.703373Z",
     "start_time": "2024-05-24T18:37:57.676827Z"
    }
   },
   "outputs": [],
   "source": [
    "with open('../data/final_preprocessed_data/python_baseline/python_baseline_rag.json', 'r', encoding='UTF-8') as f:\n",
    "      org_data = json.load(f)"
   ]
  },
  {
   "cell_type": "code",
   "execution_count": 10,
   "metadata": {
    "ExecuteTime": {
     "end_time": "2024-05-24T18:38:02.935321Z",
     "start_time": "2024-05-24T18:38:02.929266Z"
    }
   },
   "outputs": [
    {
     "data": {
      "text/plain": [
       "{'msg': 'use shorthand method',\n",
       " 'diff': 'diff --git a/examples/simulate_fight_scenario.py b/examples/simulate_fight_scenario.py @@ -36,7 +36,7 @@ class FightBot(BotAI):\\n# destroy command center\\nawait self._client.debug_kill_unit([cc.tag])\\n# destroy all workers\\n- for w in self.units(UnitTypeId.SCV):\\n+ for w in self.workers:\\nawait self._client.debug_kill_unit([w.tag])\\n# create marines\\nawait self._client.debug_create_unit([[UnitTypeId.MARINE, 4, p, me]])\\n',\n",
       " 'lang': 'Python',\n",
       " 'chatgpt_rag': None}"
      ]
     },
     "execution_count": 10,
     "metadata": {},
     "output_type": "execute_result"
    }
   ],
   "source": [
    "org_data[351]"
   ]
  },
  {
   "cell_type": "code",
   "execution_count": 12,
   "metadata": {
    "ExecuteTime": {
     "end_time": "2024-05-20T14:25:23.356699Z",
     "start_time": "2024-05-20T14:25:21.661914Z"
    },
    "colab": {
     "base_uri": "https://localhost:8080/"
    },
    "id": "CZ-DITlYCE5q",
    "outputId": "4306c2ab-d485-484e-b0d6-8272c722ab17"
   },
   "outputs": [
    {
     "name": "stdout",
     "output_type": "stream",
     "text": [
      "../data/scenario/multi_diff/multi_diff_rag_react_v2.json/chatgpt_rag: 9.889999999999997\n",
      "../data/scenario/multi_diff/multi_diff_rag_flask_v2.json/chatgpt_rag: 13.779999999999998\n",
      "../data/scenario/multi_diff/multi_diff_rag_top4_flask_v2.json/chatgpt_rag: 12.859999999999996\n",
      "../data/scenario/multi_diff/multi_diff_rag_top4_react_v2.json/chatgpt_rag: 7.469999999999999\n",
      "../data/scenario/multi_diff/multi_diff_rag_sim_msg_flask_v2.json/chatgpt_rag: 16.589999999999993\n",
      "../data/scenario/multi_diff/multi_diff_rag_sim_msg_react_v2.json/chatgpt_rag: 8.379999999999997\n"
     ]
    }
   ],
   "source": [
    "calculate_log_MNEXT('../data/scenario/multi_diff/multi_diff_rag_react_v2.json', 'chatgpt_rag')\n",
    "calculate_log_MNEXT('../data/scenario/multi_diff/multi_diff_rag_flask_v2.json', 'chatgpt_rag')\n",
    "calculate_log_MNEXT('../data/scenario/multi_diff/multi_diff_rag_top4_flask_v2.json', 'chatgpt_rag')\n",
    "calculate_log_MNEXT('../data/scenario/multi_diff/multi_diff_rag_top4_react_v2.json', 'chatgpt_rag')\n",
    "calculate_log_MNEXT('../data/scenario/multi_diff/multi_diff_rag_sim_msg_flask_v2.json', 'chatgpt_rag')\n",
    "calculate_log_MNEXT('../data/scenario/multi_diff/multi_diff_rag_sim_msg_react_v2.json', 'chatgpt_rag')"
   ]
  },
  {
   "cell_type": "code",
   "execution_count": null,
   "metadata": {},
   "outputs": [],
   "source": []
  },
  {
   "cell_type": "code",
   "execution_count": null,
   "metadata": {},
   "outputs": [],
   "source": []
  },
  {
   "cell_type": "code",
   "execution_count": 6,
   "metadata": {
    "ExecuteTime": {
     "end_time": "2024-05-01T14:33:01.308943Z",
     "start_time": "2024-05-01T14:33:01.295449Z"
    }
   },
   "outputs": [],
   "source": [
    "file_path = '../data/chronicle/rag_dev/mxbai/chronicle_rag_dev_mxbai_query_sim_msg.json'\n",
    "with open(file_path, 'r', encoding='UTF-8') as f:\n",
    "  org_data = json.load(f)"
   ]
  },
  {
   "cell_type": "code",
   "execution_count": 6,
   "metadata": {
    "colab": {
     "base_uri": "https://localhost:8080/"
    },
    "id": "sKhR1ztIBioc",
    "outputId": "1496106b-050c-44ce-f167-a851e57d0b3e"
   },
   "outputs": [
    {
     "name": "stdout",
     "output_type": "stream",
     "text": [
      "chatgpt: 15.79\n"
     ]
    }
   ],
   "source": [
    "calculate_log_MNEXT('chronicle_chatgpt_rag.json', 'chatgpt')"
   ]
  },
  {
   "cell_type": "code",
   "execution_count": 7,
   "metadata": {
    "colab": {
     "base_uri": "https://localhost:8080/"
    },
    "id": "bc1baMwtBlNK",
    "outputId": "9d4f9e94-9079-4911-fa76-d234437ea00c"
   },
   "outputs": [
    {
     "name": "stdout",
     "output_type": "stream",
     "text": [
      "chatgpt_rag: 6.519999999999998\n"
     ]
    }
   ],
   "source": [
    "calculate_log_MNEXT('chronicle_chatgpt_rag.json', 'chatgpt_rag')"
   ]
  },
  {
   "cell_type": "code",
   "execution_count": 8,
   "metadata": {
    "colab": {
     "base_uri": "https://localhost:8080/"
    },
    "id": "8VSbEAbyEVDZ",
    "outputId": "5dfe77f9-c2ce-4303-a8d5-aa79f17ba341"
   },
   "outputs": [
    {
     "name": "stdout",
     "output_type": "stream",
     "text": [
      "race_history: 13.860000000000003\n"
     ]
    }
   ],
   "source": [
    "calculate_log_MNEXT('chronicle_race_history.json', 'race_history')"
   ]
  },
  {
   "cell_type": "code",
   "execution_count": null,
   "metadata": {
    "id": "lB-T58jY6gy0"
   },
   "outputs": [],
   "source": []
  }
 ],
 "metadata": {
  "colab": {
   "provenance": []
  },
  "kernelspec": {
   "display_name": "Python 3 (ipykernel)",
   "language": "python",
   "name": "python3"
  },
  "language_info": {
   "name": "python"
  }
 },
 "nbformat": 4,
 "nbformat_minor": 0
}
