{
 "cells": [
  {
   "metadata": {},
   "cell_type": "code",
   "execution_count": null,
   "source": [
    "from langchain import hub\n",
    "prompt = hub.pull(\"tyfann/llm4commit-zeroshot\")"
   ],
   "id": "c878f1dd6ca60b86",
   "outputs": []
  },
  {
   "cell_type": "code",
   "execution_count": null,
   "id": "initial_id",
   "metadata": {
    "collapsed": true
   },
   "source": [
    "import json\n",
    "\n",
    "# Define the input and output file paths\n",
    "input_file_path = '../data/final_preprocessed_data/discriminator/dis_test_data.json'\n",
    "output_file_path = '../data/final_preprocessed_data/discriminator/finetune_test_data.jsonl'\n",
    "\n",
    "# Read the input JSON file\n",
    "with open(input_file_path, 'r') as input_file:\n",
    "    data = json.load(input_file)\n",
    "\n",
    "# Open the output JSONL file for writing\n",
    "with open(output_file_path, 'w') as output_file:\n",
    "    for item in data:\n",
    "        message = prompt.invoke({'DIFF': item['diff']}).to_messages()[0].content\n",
    "        jsonl_item = {\"prompt\": message, \"completion\": item['msg']}\n",
    "        output_file.write(json.dumps(jsonl_item) + '\\n')\n",
    "\n",
    "print(f\"Processed {len(data)} entries and saved to {output_file_path}\")\n"
   ],
   "outputs": []
  },
  {
   "metadata": {},
   "cell_type": "code",
   "execution_count": null,
   "source": [
    "data = []\n",
    "with open(input_file_path, 'r', encoding='UTF-8') as file:\n",
    "    for line in file:\n",
    "        data.append(json.loads(line.strip()))\n",
    "\n",
    "max_len = 0\n",
    "max_prompt = ''\n",
    "for item in data:\n",
    "    if len(item['prompt']) > max_len:\n",
    "        max_prompt = item['prompt']\n",
    "        max_len = len(item['prompt'])"
   ],
   "id": "3a0e71768bfdd355",
   "outputs": []
  },
  {
   "metadata": {},
   "cell_type": "code",
   "execution_count": null,
   "source": [
    "type = \"test\"\n",
    "test_file = f\"../data/final_preprocessed_data/discriminator/finetune_{type}_data_davinci.jsonl\"\n",
    "test_data = []\n",
    "with open(test_file, 'r', encoding='UTF-8') as file:\n",
    "    for line in file:\n",
    "        test_data.append(json.loads(line.strip()))\n",
    "final_test_data = []\n",
    "output_file_path = f\"../data/final_preprocessed_data/discriminator/finetune_{type}_data_gpt35.jsonl\"\n",
    "for test_item in test_data:\n",
    "    final_test_data.append({\"messages\": [{\"role\": \"user\", \"content\": test_item[\"prompt\"]}, {\"role\": \"assistant\", \"content\": test_item[\"completion\"]}]})\n",
    "\n",
    "with open(output_file_path, 'w') as output_file:\n",
    "    for item in final_test_data:\n",
    "        output_file.write(json.dumps(item) + '\\n')"
   ],
   "id": "1bfe5260099922c",
   "outputs": []
  }
 ],
 "metadata": {
  "kernelspec": {
   "display_name": "Python 3",
   "language": "python",
   "name": "python3"
  },
  "language_info": {
   "codemirror_mode": {
    "name": "ipython",
    "version": 2
   },
   "file_extension": ".py",
   "mimetype": "text/x-python",
   "name": "python",
   "nbconvert_exporter": "python",
   "pygments_lexer": "ipython2",
   "version": "2.7.6"
  }
 },
 "nbformat": 4,
 "nbformat_minor": 5
}
