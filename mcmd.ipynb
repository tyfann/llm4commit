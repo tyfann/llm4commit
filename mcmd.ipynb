{
 "cells": [
  {
   "cell_type": "code",
   "execution_count": 1,
   "id": "initial_id",
   "metadata": {
    "collapsed": true,
    "ExecuteTime": {
     "end_time": "2024-03-25T10:28:05.119238Z",
     "start_time": "2024-03-25T10:28:05.034506Z"
    }
   },
   "outputs": [],
   "source": [
    "\n",
    "train_msg = open(\"../../MCMD/java/sort_random_train80_valid10_test10/train.msg.txt\", encoding='UTF-8').read().split(\"\\n\")\n",
    "len(train_msg)"
   ]
  },
  {
   "cell_type": "code",
   "outputs": [
    {
     "data": {
      "text/plain": "45001"
     },
     "execution_count": 7,
     "metadata": {},
     "output_type": "execute_result"
    }
   ],
   "source": [
    "valid_msg = open(\"../../MCMD/java/sort_random_train80_valid10_test10/valid.msg.txt\", encoding='UTF-8').read().split(\"\\n\")\n",
    "len(valid_msg)"
   ],
   "metadata": {
    "collapsed": false,
    "ExecuteTime": {
     "end_time": "2024-03-25T13:54:05.413218Z",
     "start_time": "2024-03-25T13:54:05.356923Z"
    }
   },
   "id": "470ad0d71244ce87",
   "execution_count": 7
  },
  {
   "cell_type": "code",
   "outputs": [
    {
     "data": {
      "text/plain": "45001"
     },
     "execution_count": 9,
     "metadata": {},
     "output_type": "execute_result"
    }
   ],
   "source": [
    "test_msg = open(\"../../MCMD/java/sort_random_train80_valid10_test10/test.msg.txt\", encoding='UTF-8').read().split(\"\\n\")\n",
    "len(test_msg)"
   ],
   "metadata": {
    "collapsed": false,
    "ExecuteTime": {
     "end_time": "2024-03-25T13:54:37.173501Z",
     "start_time": "2024-03-25T13:54:37.144239Z"
    }
   },
   "id": "c4d51fd104df8efb",
   "execution_count": 9
  },
  {
   "cell_type": "markdown",
   "source": [
    "## Preprocess script"
   ],
   "metadata": {
    "collapsed": false
   },
   "id": "318ee7d84352eda0"
  },
  {
   "cell_type": "code",
   "outputs": [],
   "source": [
    "import re\n",
    "def process_diff(diff_text):\n",
    "    # Replace <nl> with \\n\n",
    "    diff_text = diff_text.replace('<nl>', '\\n')\n",
    "    diff_text = re.sub(r'(?<=\\S)\\s*([^\\w\\s])\\s*(?=\\S)', r'\\1', diff_text)\n",
    "    diff_text = re.sub(r'\\n\\s+', r'\\n', diff_text)\n",
    "    return diff_text\n",
    "\n",
    "def process_msg(msg_text):\n",
    "    msg_text = re.sub(r'(?<=\\S)\\s*([^\\w\\s])\\s*(?=\\S)', r'\\1', msg_text)\n",
    "    return msg_text"
   ],
   "metadata": {
    "collapsed": false,
    "ExecuteTime": {
     "end_time": "2024-03-25T14:36:20.656783Z",
     "start_time": "2024-03-25T14:36:20.645734Z"
    }
   },
   "id": "ef6edb389ec698d6",
   "execution_count": 41
  },
  {
   "cell_type": "code",
   "outputs": [],
   "source": [
    "import json\n",
    "def extract_diffs(indices, diff_file_path):\n",
    "    diffs = []\n",
    "    with open(diff_file_path, 'r', encoding='UTF-8') as f:\n",
    "        for i, line in enumerate(f):\n",
    "            if i in indices:\n",
    "                diffs.append(process_diff(line))\n",
    "    return diffs\n",
    "\n",
    "\n",
    "selected_messages = []\n",
    "selected_languages = []\n",
    "selected_diffs = []\n",
    "train_msg_path = [\"../../MCMD/java/sort_random_train80_valid10_test10/train.msg.txt\", \"../../MCMD/cpp/sort_random_train80_valid10_test10/train.msg.txt\", \"../../MCMD/csharp/sort_random_train80_valid10_test10/train.msg.txt\", \"../../MCMD/python/sort_random_train80_valid10_test10/train.msg.txt\", \"../../MCMD/javascript/sort_random_train80_valid10_test10/train.msg.txt\"]\n",
    "train_diff_path = [\"../../MCMD/java/sort_random_train80_valid10_test10/train.diff.txt\", \"../../MCMD/cpp/sort_random_train80_valid10_test10/train.diff.txt\", \"../../MCMD/csharp/sort_random_train80_valid10_test10/train.diff.txt\", \"../../MCMD/python/sort_random_train80_valid10_test10/train.diff.txt\", \"../../MCMD/javascript/sort_random_train80_valid10_test10/train.diff.txt\"]\n",
    "\n",
    "for msg_path, diff_path in zip(train_msg_path, train_diff_path):\n",
    "    selected_indices = []\n",
    "    with open(msg_path, 'r', encoding='UTF-8') as f:\n",
    "        count = 0\n",
    "        for i, line in enumerate(f):\n",
    "            if count>= 1000:\n",
    "                break\n",
    "            # line = process_msg(line)\n",
    "            if len(line.split()) >= 5:\n",
    "                selected_indices.append(i)\n",
    "                selected_messages.append(line.strip())\n",
    "                selected_languages.append(msg_path.split('/')[3])\n",
    "                count += 1\n",
    "            \n",
    "        selected_diffs.extend(extract_diffs(selected_indices, diff_path))\n",
    "\n",
    "# Create a list of dictionaries containing selected messages and diffs\n",
    "data = []\n",
    "for msg, diff, language in zip(selected_messages, selected_diffs, selected_languages):\n",
    "    item = {\n",
    "        'msg': msg,\n",
    "        'diff': diff,\n",
    "        'language': language\n",
    "    }\n",
    "    data.append(item)\n",
    "\n",
    "# Write the data to a JSON file\n",
    "with open('data/selected_data.json', 'w', encoding='UTF-8') as f:\n",
    "    json.dump(data, f, ensure_ascii=False, indent=4)\n",
    "\n",
    "# # Write selected messages to a new file\n",
    "# with open('dataset/selected_messages.txt', 'w', encoding='UTF-8') as f:\n",
    "#     for msg in selected_messages:\n",
    "#         f.write(msg + '\\n')  # Add a newline after each message\n",
    "# \n",
    "# # Write selected diffs to a new file\n",
    "# with open('dataset/selected_diffs.txt', 'w', encoding='UTF-8') as f:\n",
    "#     for diff in selected_diffs:\n",
    "#         f.write(diff)  # Add a newline after each diff"
   ],
   "metadata": {
    "collapsed": false,
    "ExecuteTime": {
     "end_time": "2024-03-25T18:15:30.678231Z",
     "start_time": "2024-03-25T18:14:49.036586Z"
    }
   },
   "id": "6a44a24a43368028",
   "execution_count": 58
  },
  {
   "cell_type": "code",
   "outputs": [],
   "source": [],
   "metadata": {
    "collapsed": false
   },
   "id": "3e907d415341a02c"
  }
 ],
 "metadata": {
  "kernelspec": {
   "display_name": "Python 3",
   "language": "python",
   "name": "python3"
  },
  "language_info": {
   "codemirror_mode": {
    "name": "ipython",
    "version": 2
   },
   "file_extension": ".py",
   "mimetype": "text/x-python",
   "name": "python",
   "nbconvert_exporter": "python",
   "pygments_lexer": "ipython2",
   "version": "2.7.6"
  }
 },
 "nbformat": 4,
 "nbformat_minor": 5
}
