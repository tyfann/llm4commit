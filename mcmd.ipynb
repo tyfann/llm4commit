{
 "cells": [
  {
   "cell_type": "code",
   "execution_count": 1,
   "id": "initial_id",
   "metadata": {
    "collapsed": true,
    "ExecuteTime": {
     "end_time": "2024-03-25T10:28:05.119238Z",
     "start_time": "2024-03-25T10:28:05.034506Z"
    }
   },
   "outputs": [],
   "source": [
    "\n",
    "train_msg = open(\"../../MCMD/java/sort_random_train80_valid10_test10/train.msg.txt\", encoding='UTF-8').read().split(\"\\n\")"
   ]
  },
  {
   "cell_type": "code",
   "outputs": [
    {
     "data": {
      "text/plain": "360001"
     },
     "execution_count": 2,
     "metadata": {},
     "output_type": "execute_result"
    }
   ],
   "source": [
    "len(train_msg)"
   ],
   "metadata": {
    "collapsed": false,
    "ExecuteTime": {
     "end_time": "2024-03-25T10:28:10.735872Z",
     "start_time": "2024-03-25T10:28:10.716831Z"
    }
   },
   "id": "b0c94342163f63c2",
   "execution_count": 2
  },
  {
   "cell_type": "code",
   "outputs": [],
   "source": [
    "def read_first_n_lines(file_path, n):\n",
    "    with open(file_path, 'r', encoding='UTF-8') as file:\n",
    "        lines = []\n",
    "        for i in range(n):\n",
    "            line = file.readline()\n",
    "            if not line:\n",
    "                break\n",
    "            lines.append(line)\n",
    "    return lines\n",
    "\n",
    "# Usage\n",
    "diff_file_path = '../../MCMD/java/sort_random_train80_valid10_test10/train.diff.txt'\n",
    "first_1000_lines = read_first_n_lines(diff_file_path, 1000)"
   ],
   "metadata": {
    "collapsed": false,
    "ExecuteTime": {
     "end_time": "2024-03-25T10:32:59.288776Z",
     "start_time": "2024-03-25T10:32:59.251528Z"
    }
   },
   "id": "d786f5cc085091e4",
   "execution_count": 4
  },
  {
   "cell_type": "code",
   "outputs": [
    {
     "data": {
      "text/plain": "'mmm a / CHANGELOG . md <nl> ppp b / CHANGELOG . md <nl> <nl> - # # Release 0 . 29 . 1 ( 2019 - 09 - 10 ) <nl> + # # Release 1 . 0 . 0 ( 2019 - 10 - 10 ) <nl> <nl> ` ` ` <nl> - Baseline : 6c5ef5369a3ffceb8a65cc159a2fff1401242810 <nl> + Baseline : 97a82646dadd93bf52d47828bda42e3383b657c6 <nl> <nl> Cherry picks : <nl> <nl> - + 338829f2633e91ae0492ee4169446465e10b5994 : <nl> - Fix retrying of SocketTimeoutExceptions in HttpConnector <nl> - + 14651cd86b6fc1d48f56a208a9b5278b3e2dcf75 : <nl> - Fallback to next urls if download fails in HttpDownloader <nl> - + b7d300c6be3e130dec0e62a4f19493105f595d57 : <nl> - Fix incorrect stdout / stderr in remote action cache . Fixes # 9072 <nl> - + 960217631abdcab0a7ed95e2ab10acd55f636639 : <nl> - Automated rollback of commit <nl> - 0f0a0d58725603cf2f1c175963360b525718a195 . <nl> - + da557f96c697102ad787e57bbf7db2460f6a60a8 : <nl> - Windows : fix \" bazel run \" argument quoting <nl> - + ef8b6f68cc8ffd2e6523a894034ae383e87ec74c : <nl> - Return JavaInfo from java proto aspects . <nl> - + 209175ff8ffeb05628ed8a187dd414a3d2935c55 : <nl> - Revert back to the old behavior of not creating a proto source <nl> - root for generated . proto files . <nl> - + 644060b7a4bc98384b66e3d2343b950b875b5e35 : <nl> - Fix PatchUtil for parsing special patch format <nl> - + 067040d7bcb3b24a88432e210a96adacee3f37b4 : <nl> - Put the removal of the legacy repository - relative proto path <nl> - behind the - - incompatible_generated_protos_in_virtual_imports <nl> - flag . <nl> - + 76ed014e77d7b862f6eb2894600ae525ea570f11 : <nl> - repository mapping lookup : convert to canonical name first <nl> - + f791df0aada91c38018ad98b3b40a528ff226204 : <nl> - Release 0 . 29 . 0 ( 2019 - 08 - 28 ) <nl> - + 2c046486f5febb9e475a5589b59abae77f14245e : <nl> - Fix git_repository rule to support fetching a commit on a tag <nl> - + 9e1d65a1fcebff7169a63acad95c7b44302b89c4 : <nl> - Fix a serious regression in remote execution . Fixes # 9284 <nl> - + 8b0bfaf6716327ca6b60692704e3d57766f7ab1f : <nl> - Include cc configure headers in the cache key <nl> - + 5c02b92c45b5422971b3164685d9edb771367a1b : <nl> - Make - - workspace_status_command work with \" Builds without the <nl> - Bytes \" . <nl> + a0e3bb207fe2044120a2555a37162ee1f2b17500 : <nl> Remove support for authentication and . netrc <nl> + + ada2c55dcc106cd55bafbbe5d9a966e21e4770e0 : <nl> + Add explicit - - sdk argument to xcrun calls <nl> + + 847df729528f6e5919ec8374247eadf792cba544 : <nl> + toolchain_vanilla : Unset source and target language level <nl> + versions <nl> + + 5cfa0303d6ac3b5bd031ff60272ce80a704af8c2 : <nl> + Update java_tools version to javac11 - v5 . 1 . <nl> ` ` ` <nl> <nl> - This release contains contributions from many people at Google , as well as Artem Zinnatullin . <nl> + Incompatible changes : <nl> + <nl> + - Python , Windows : the <nl> + - - [ no ] incompatible_windows_escape_python_args is no longer <nl> + supported . ( It was flipped to true in Bazel 0 . 27 . 0 ) <nl> + - - - incompatible_use_native_patch is enabled by default <nl> + - Windows : - - incompatible_windows_bashless_run_command is now true <nl> + by default , meaning \" bazel run / / foo : bin \" will run the binary as <nl> + a subprocess of the Bazel client . ( When the flag is false , the <nl> + binary is executed as a subprocess of Bash . ) <nl> + - Windows : - - incompatible_windows_native_test_wrapper is enabled by <nl> + default <nl> + <nl> + New features : <nl> + <nl> + - Genrule now supports ` cmd_bash ` , ` cmd_ps ` , ` cmd_bat ` attributes . <nl> + More details at <nl> + https : / / docs . bazel . build / versions / master / be / general . html # genrule . c <nl> + md <nl> + - config_setting can now check multiple values on \" - - foo = firstVal <nl> + - - foo = secondVal . . . \" - style flags <nl> + - tags : use ` - - experimental_allow_tags_propagation ` flag to <nl> + propagate tags to the action \\' s execution requirements from <nl> + targets . Such tags should start with : ` no - ` , ` requires - ` , <nl> + ` supports - ` , ` block - ` , ` disable - ` , ` cpu : ` . See # 8830 for details . <nl> + - Users can now get generated def file from cc_library via <nl> + \" def_file \" output group on Windows . <nl> + - Platform - specific bazelrc : with - - enable_platform_specific_config <nl> + you can <nl> + enable flags in bazelrc according to your host platform . <nl> + - tags : use ` - - experimental_allow_tags_propagation ` flag to <nl> + propagate tags to the action \\' s execution requirements from <nl> + cc_library or cc_binary targets . Such tags should start with : <nl> + ` no - ` , ` requires - ` , ` supports - ` , ` block - ` , ` disable - ` , ` cpu : ` . <nl> + See # 8830 for details . <nl> + - tags : use - - experimental_allow_tags_propagation flag to propagate <nl> + tags to the action \\' s execution requirements from java targets . <nl> + Such tags should start with : no - , requires - , supports - , block - , <nl> + disable - , cpu : . See # 8830 for details . <nl> + <nl> + Important changes : <nl> + <nl> + - Bazel Android builds now use aapt2 by default . To revert to aapt , <nl> + set ` - - android_aapt = aapt ` . <nl> + - Make either - - subcommands or - - verbose_failures imply <nl> + - - materialize_param_files <nl> + - Bazel Android builds now use aapt2 by default . To revert to aapt , <nl> + set ` - - an . . . <nl> + RELNOTES : None <nl> + - by default all remote connections considered to be via ` gRPC ` <nl> + with TLS enabled , unless other specified . To disable TLS use <nl> + ` grpc : / / ` prefix for you endpoints . All remote connections via <nl> + ` gRPC ` affected - ` - - remote_cache ` , ` - - remote_executor ` or <nl> + ` - - bes_backend ` . http cache / executor is not affected . See # 8061 <nl> + for details . <nl> + - cc_ * rules support non - transitive defines through a <nl> + \\' local_defines \\' attribute . <nl> + - Enable <nl> + incompatible_disallow_rule_execution_platform_constraints_allowed <nl> + by default ( https : / / github . com / bazelbuild / bazel / issues / 8136 ) . <nl> + - incompatible_disallow_split_empty_separator is enabled by default <nl> + - Fixed Android build issues with aapt2 on Windows . See the [ GitHub <nl> + issue ] ( https : / / github . com / bazelbuild / bazel / issues / 9102 ) for more <nl> + information . <nl> + - - - incompatible_disable_static_cc_toolchains has been flipped . See <nl> + https : / / github . com / bazelbuild / bazel / issues / 8546 . <nl> + - - - remote_default_platform_properties has been deprecated in favor <nl> + of - - remote_default_exec_properties . <nl> + - The - - incompatible_make_thinlto_command_lines_standalone flag has <nl> + been flipped , see https : / / github . com / bazelbuild / bazel / issues / 6791 <nl> + for more information . <nl> + - The - - incompatible_use_specific_tool_files flag has been flipped . <nl> + See https : / / github . com / bazelbuild / bazel / pull / 9126 for more <nl> + information . <nl> + - Clarify default visibility . <nl> + - Enables incompatible_auto_configure_host_platform <nl> + - New incompatible flag - - incompatible_disable_depset_items <nl> + disables the \" items \" parameter in the Starlark depset <nl> + constructor . Use \" direct \" and \" transitive \" parameters instead . <nl> + - - - incompatible_assignment_identifiers_have_local_scope is enabled <nl> + - incompatible_disable_partition_default_parameter is enabled by <nl> + default ( ) <nl> + - incompatible_restrict_attribute_names is enabled <nl> + ( https : / / github . com / bazelbuild / bazel / issues / 6437 ) <nl> + - The - - incompatible_disable_nocopts flag has been flipped . See <nl> + https : / / github . com / bazelbuild / bazel / issues / 8546 for more <nl> + information . <nl> + - Deprecated Java - Starlark API java_common . create_provider is <nl> + removed . JavaInfo ( ) legacy args ( actions , sources , source_jars , <nl> + use_ijar , java_toolchain , host_javabase ) are removed . <nl> + - The flag incompatible_disallow_hashing_frozen_mutables is enabled <nl> + ( https : / / github . com / bazelbuild / bazel / issues / 7800 ) <nl> + - ` maven_jar ` and ` maven_server ` now disallow using plain HTTP URLs <nl> + without a specified checksum . If you are still using ` maven_jar ` , <nl> + consider migrating to <nl> + [ ` rules_jvm_external ` ] ( https : / / github . com / bazelbuild / rules_jvm_ext <nl> + ernal ) for transitive dependency management . See <nl> + [ # 8607 ] ( https : / / github . com / bazelbuild / bazel / issues / 8607 ) for more <nl> + information . <nl> + - Added ` sha256 ` and ` sha256_src ` attributes to ` maven_jar ` . Please <nl> + consider migrating to SHA - 256 as SHA - 1 has been deemed <nl> + cryptographically insecure ( [ https : / / shattered . io ] ( ) ) . Or , use <nl> + [ ` rules_jvm_external ` ] ( https : / / github . com / bazelbuild / rules_jvm_ext <nl> + ernal ) to manage your transitive Maven dependencies with artifact <nl> + pinning and SHA - 256 verification support . <nl> + - introducing per - target exec_properties <nl> + - Bazel now supports ThinLTO builds on Linux for Clang versions > = <nl> + 6 . 0 . ThinLTO can be enabled through - - features = thin_lto <nl> + - The Target . output_group field in Starlark is removed . Use <nl> + OutputGroupInfo instead . See <nl> + https : / / github . com / bazelbuild / bazel / issues / 7949 for details . <nl> + - Make a number of parameters of Starlark builtin functions <nl> + positional - only ( as opposed to specifiable by keyword ) . See <nl> + https : / / github . com / bazelbuild / bazel / issues / 8147 for details . <nl> + - incompatible_skip_genfiles_symlink is enabled by default ( # 8651 ) <nl> + - Change Pruned events will fire immediately after being checked . <nl> + - - - incompatible_remove_legacy_whole_archive has been flipped . See <nl> + https : / / github . com / bazelbuild / bazel / issues / 7362 for more <nl> + information <nl> + <nl> + This release contains contributions from many people at Google , as well as Adam Liddell , Alessandro Patti , Arshabh Kumar Agarwal , Artem Pelenitsyn , Artem Zinnatullin , Benjamin Peterson , David Ostrovsky , Emmanuel Goh , Farhim Ferdous , George Gensure , iirina , Keith Smiley , Kiril Videlov , Laurent Le Brun , Mantas Sakalauskas , Marwan Tammam , Matt Mukerjee , panzhongxian , Shachar Anchelovich , Stepan Koltsov , Stephan Wolski , Travis Clarke , Yannic Bonenberger , Yuta Saito . <nl> <nl> # # Release 0 . 29 . 0 ( 2019 - 08 - 28 ) <nl> <nl>\\n'"
     },
     "execution_count": 5,
     "metadata": {},
     "output_type": "execute_result"
    }
   ],
   "source": [
    "first_1000_lines[0]"
   ],
   "metadata": {
    "collapsed": false,
    "ExecuteTime": {
     "end_time": "2024-03-25T10:33:05.031099Z",
     "start_time": "2024-03-25T10:33:05.017574Z"
    }
   },
   "id": "92366c2eada5baab",
   "execution_count": 5
  },
  {
   "cell_type": "code",
   "outputs": [],
   "source": [],
   "metadata": {
    "collapsed": false
   },
   "id": "5e498199738d97e4"
  }
 ],
 "metadata": {
  "kernelspec": {
   "display_name": "Python 3",
   "language": "python",
   "name": "python3"
  },
  "language_info": {
   "codemirror_mode": {
    "name": "ipython",
    "version": 2
   },
   "file_extension": ".py",
   "mimetype": "text/x-python",
   "name": "python",
   "nbconvert_exporter": "python",
   "pygments_lexer": "ipython2",
   "version": "2.7.6"
  }
 },
 "nbformat": 4,
 "nbformat_minor": 5
}
