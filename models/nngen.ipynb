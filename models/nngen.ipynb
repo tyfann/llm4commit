{
 "cells": [
  {
   "cell_type": "code",
   "metadata": {
    "ExecuteTime": {
     "end_time": "2024-06-28T08:42:37.280027Z",
     "start_time": "2024-06-28T08:42:37.271895Z"
    }
   },
   "source": [
    "import re\n",
    "\n",
    "def convert_diff(diff_output):\n",
    "    # Replace diff --git a/ with mmm a/\n",
    "    diff_output = re.sub(r'diff --git a/(.*) b/(.*)', r'mmm a/\\1\\nppp b/\\1', diff_output)\n",
    "    # Replace newline characters with <nl>\n",
    "    diff_output = diff_output.replace('\\n', '<nl>')\n",
    "    # Split the output into individual words and join them back together with spaces\n",
    "    words = re.split(r'(\\W)', diff_output)\n",
    "    result = ' '.join(words)\n",
    "    # Replace multiple spaces with a single space\n",
    "    result = re.sub(r'\\s+', ' ', result)\n",
    "    result = result.replace('< nl >', '<nl>')\n",
    "    return result"
   ],
   "outputs": [],
   "execution_count": 1
  },
  {
   "metadata": {
    "ExecuteTime": {
     "end_time": "2024-06-28T08:44:13.520963Z",
     "start_time": "2024-06-28T08:44:09.991965Z"
    }
   },
   "cell_type": "code",
   "source": [
    "import json\n",
    "\n",
    "# for type in ['test_dev', 'db_data']:\n",
    "# for type in ['db_data']:\n",
    "for type in ['db_data']:\n",
    "    with open(f'../data/vdo_filtered/{type}.json') as f:\n",
    "        test_data = json.load(f)\n",
    "    \n",
    "    for item in test_data:\n",
    "        item['diff'] = convert_diff(item['diff'])\n",
    "    \n",
    "    # save diff to .diff file\n",
    "    with open('../data/vdo_filtered/generation/nngen/train.diff', 'w') as f:\n",
    "        for item in test_data:\n",
    "            f.write(item['diff'] + '\\n')\n",
    "    \n",
    "    with open('../data/vdo_filtered/generation/nngen/train.msg', 'w') as f:\n",
    "        for item in test_data:\n",
    "            escaped_string = item['msg'].replace(\"\\n\", \"\\\\n\").replace(\"\\r\", \"\\\\r\")\n",
    "            f.write(escaped_string + \"\\n\")"
   ],
   "outputs": [],
   "execution_count": 2
  },
  {
   "cell_type": "code",
   "metadata": {
    "ExecuteTime": {
     "end_time": "2024-06-28T08:44:43.713978Z",
     "start_time": "2024-06-28T08:44:43.619193Z"
    }
   },
   "source": [
    "import json\n",
    "\n",
    "# for type in ['test_dev', 'db_data']:\n",
    "# for type in ['db_data']:\n",
    "for type in ['dev_test_data']:\n",
    "    with open(f'../data/vdo_filtered/{type}.json') as f:\n",
    "        test_data = json.load(f)\n",
    "    \n",
    "    for item in test_data:\n",
    "        item['diff'] = convert_diff(item['diff'])\n",
    "    \n",
    "    # save diff to .diff file\n",
    "    with open('../data/vdo_filtered/generation/nngen/dev_test.diff', 'w') as f:\n",
    "        for item in test_data:\n",
    "            f.write(item['diff'] + '\\n')\n",
    "    \n",
    "    with open('../data/vdo_filtered/generation/nngen/dev_test.msg', 'w') as f:\n",
    "        for item in test_data:\n",
    "            # 将字符串中的换行符转义为\\\\n\n",
    "            escaped_string = item['msg'].replace(\"\\n\", \"\\\\n\").replace(\"\\r\", \"\\\\r\")\n",
    "            f.write(escaped_string + \"\\n\")"
   ],
   "outputs": [],
   "execution_count": 4
  },
  {
   "metadata": {
    "ExecuteTime": {
     "end_time": "2024-06-28T08:48:27.074888Z",
     "start_time": "2024-06-28T08:48:27.063362Z"
    }
   },
   "cell_type": "code",
   "source": [
    "import os\n",
    "os.path.dirname(\"../data/angular_filtered/subsets/dev_test.json\")"
   ],
   "outputs": [
    {
     "data": {
      "text/plain": [
       "'../data/angular_filtered/subsets'"
      ]
     },
     "execution_count": 5,
     "metadata": {},
     "output_type": "execute_result"
    }
   ],
   "execution_count": 5
  },
  {
   "cell_type": "code",
   "metadata": {
    "ExecuteTime": {
     "end_time": "2024-06-28T08:51:35.440454Z",
     "start_time": "2024-06-28T08:51:35.411523Z"
    }
   },
   "source": [
    "import json\n",
    "with open('../data/vdo_filtered/dev_test_data.json', 'r', encoding='UTF-8') as f:\n",
    "    org_data = json.load(f)\n",
    "\n",
    "output_file = '../data/vdo_filtered/generation/dev_test_nngen.txt'\n",
    "with open(output_file, 'r', encoding='UTF-8') as f:\n",
    "    lines = f.readlines()\n",
    "    for i in range(len(org_data)):\n",
    "        org_data[i]['nngen'] = lines[i].strip()\n",
    "\n",
    "with open('../data/vdo_filtered/generation/dev_test_nngen.json', 'w', encoding='UTF-8') as f:\n",
    "    json.dump(org_data, f, indent=4)"
   ],
   "outputs": [],
   "execution_count": 6
  },
  {
   "cell_type": "code",
   "execution_count": 2,
   "metadata": {},
   "outputs": [],
   "source": [
    "import json\n",
    "with open('../data/angular_filtered/subsets/dev_test.json', 'r', encoding='UTF-8') as f:\n",
    "    org_data = json.load(f)\n",
    "\n",
    "with open('../data/angular_filtered/subsets/generation/dev_test_ref.txt', 'w') as f:\n",
    "    for item in org_data:\n",
    "        # 将字符串中的换行符转义为\\\\n\n",
    "        escaped_string = item['msg'].replace(\"\\n\", \"\\\\n\").replace(\"\\r\", \"\\\\r\")\n",
    "        f.write(escaped_string + \"\\n\")"
   ]
  },
  {
   "cell_type": "code",
   "execution_count": null,
   "metadata": {},
   "outputs": [],
   "source": []
  }
 ],
 "metadata": {
  "kernelspec": {
   "display_name": "cmg",
   "language": "python",
   "name": "python3"
  },
  "language_info": {
   "codemirror_mode": {
    "name": "ipython",
    "version": 3
   },
   "file_extension": ".py",
   "mimetype": "text/x-python",
   "name": "python",
   "nbconvert_exporter": "python",
   "pygments_lexer": "ipython3",
   "version": "3.10.14"
  }
 },
 "nbformat": 4,
 "nbformat_minor": 2
}
