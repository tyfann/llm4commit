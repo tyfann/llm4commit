{
 "cells": [
  {
   "cell_type": "code",
   "id": "initial_id",
   "metadata": {
    "collapsed": true,
    "ExecuteTime": {
     "end_time": "2024-05-21T07:38:19.952975Z",
     "start_time": "2024-05-21T07:38:19.932375Z"
    }
   },
   "source": [
    "import json\n",
    "\n",
    "def count_py_diffs(file_path):\n",
    "    count = 0\n",
    "    with open(file_path, 'r') as file:\n",
    "        data = json.load(file)\n",
    "        data = data[:100]\n",
    "        for item in data:\n",
    "            if 'diff' in item and '.py' in item['diff']:\n",
    "                count += 1\n",
    "    return count\n",
    "\n",
    "# 假设 JSON 文件名为 'data.json'\n",
    "file_path = '../data/scenario/filtered_data/project_based_flask_diff_filtered.json'\n",
    "py_diff_count = count_py_diffs(file_path)\n",
    "print(f\"Number of diffs containing '.py': {py_diff_count}\")"
   ],
   "outputs": [
    {
     "name": "stdout",
     "output_type": "stream",
     "text": [
      "Number of diffs containing '.py': 29\n"
     ]
    }
   ],
   "execution_count": 1
  },
  {
   "metadata": {
    "ExecuteTime": {
     "end_time": "2024-05-21T07:39:05.697031Z",
     "start_time": "2024-05-21T07:39:05.687522Z"
    }
   },
   "cell_type": "code",
   "source": [
    "import json\n",
    "\n",
    "def count_py_diffs(file_path):\n",
    "    count = 0\n",
    "    with open(file_path, 'r') as file:\n",
    "        data = json.load(file)\n",
    "        data = data[:100]\n",
    "        for item in data:\n",
    "            if 'diff' in item and '.yaml' in item['diff']:\n",
    "                count += 1\n",
    "    return count\n",
    "\n",
    "# 假设 JSON 文件名为 'data.json'\n",
    "file_path = '../data/scenario/filtered_data/project_based_flask_diff_filtered.json'\n",
    "py_diff_count = count_py_diffs(file_path)\n",
    "print(f\"Number of diffs containing '.yaml': {py_diff_count}\")"
   ],
   "id": "fc30cbe1d8d6d7c8",
   "outputs": [
    {
     "name": "stdout",
     "output_type": "stream",
     "text": [
      "Number of diffs containing '.yaml': 44\n"
     ]
    }
   ],
   "execution_count": 2
  },
  {
   "metadata": {
    "ExecuteTime": {
     "end_time": "2024-05-21T07:39:35.097141Z",
     "start_time": "2024-05-21T07:39:35.083622Z"
    }
   },
   "cell_type": "code",
   "source": [
    "import json\n",
    "\n",
    "def count_py_diffs(file_path):\n",
    "    count = 0\n",
    "    with open(file_path, 'r') as file:\n",
    "        data = json.load(file)\n",
    "        data = data[:100]\n",
    "        for item in data:\n",
    "            if 'diff' in item and '.js' in item['diff']:\n",
    "                count += 1\n",
    "    return count\n",
    "\n",
    "# 假设 JSON 文件名为 'data.json'\n",
    "file_path = '../data/scenario/filtered_data/project_based_react_diff_filtered.json'\n",
    "py_diff_count = count_py_diffs(file_path)\n",
    "print(f\"Number of diffs containing '.js': {py_diff_count}\")"
   ],
   "id": "b037e301136343a5",
   "outputs": [
    {
     "name": "stdout",
     "output_type": "stream",
     "text": [
      "Number of diffs containing '.js': 79\n"
     ]
    }
   ],
   "execution_count": 3
  },
  {
   "metadata": {
    "ExecuteTime": {
     "end_time": "2024-05-21T07:42:58.932328Z",
     "start_time": "2024-05-21T07:42:58.902178Z"
    }
   },
   "cell_type": "code",
   "source": [
    "import json\n",
    "\n",
    "def count_py_diffs(file_path):\n",
    "    count = 0\n",
    "    with open(file_path, 'r') as file:\n",
    "        data = json.load(file)\n",
    "        for item in data:\n",
    "            if 'org_diff' in item and '.py' in item['org_diff']:\n",
    "                count += 1\n",
    "    return count\n",
    "\n",
    "# 假设 JSON 文件名为 'data.json'\n",
    "file_path = '../data/chronicle/rag_baseline/rag_baseline_python.json'\n",
    "py_diff_count = count_py_diffs(file_path)\n",
    "print(f\"Number of diffs containing '.py': {py_diff_count}\")"
   ],
   "id": "a63d1f2c79d5e0a7",
   "outputs": [
    {
     "name": "stdout",
     "output_type": "stream",
     "text": [
      "Number of diffs containing '.py': 816\n"
     ]
    }
   ],
   "execution_count": 8
  },
  {
   "metadata": {
    "ExecuteTime": {
     "end_time": "2024-05-21T07:46:08.659190Z",
     "start_time": "2024-05-21T07:46:08.630642Z"
    }
   },
   "cell_type": "code",
   "source": [
    "import json\n",
    "\n",
    "def count_js_diffs(file_path):\n",
    "    count = 0\n",
    "    with open(file_path, 'r') as file:\n",
    "        data = json.load(file)\n",
    "        for item in data:\n",
    "            if 'org_diff' in item and '.js' in item['org_diff']:\n",
    "                count += 1\n",
    "    return count\n",
    "\n",
    "# 假设 JSON 文件名为 'data.json'\n",
    "file_path = '../data/chronicle/rag_baseline/rag_baseline_js.json'\n",
    "py_diff_count = count_js_diffs(file_path)\n",
    "print(f\"Number of diffs containing '.js': {py_diff_count}\")"
   ],
   "id": "a928b6577816cc31",
   "outputs": [
    {
     "name": "stdout",
     "output_type": "stream",
     "text": [
      "Number of diffs containing '.js': 930\n"
     ]
    }
   ],
   "execution_count": 10
  },
  {
   "metadata": {
    "ExecuteTime": {
     "end_time": "2024-05-21T07:52:54.232385Z",
     "start_time": "2024-05-21T07:52:54.223466Z"
    }
   },
   "cell_type": "code",
   "source": [
    "import json\n",
    "\n",
    "keyword = '.yml'\n",
    "def count_py_diffs(file_path):\n",
    "    count = 0\n",
    "    with open(file_path, 'r') as file:\n",
    "        data = json.load(file)\n",
    "        data = data[:100]\n",
    "        for item in data:\n",
    "            if 'diff' in item and keyword in item['diff']:\n",
    "                count += 1\n",
    "    return count\n",
    "\n",
    "# 假设 JSON 文件名为 'data.json'\n",
    "file_path = '../data/scenario/filtered_data/project_based_django_diff_filtered.json'\n",
    "py_diff_count = count_py_diffs(file_path)\n",
    "print(f\"Number of diffs containing {keyword}: {py_diff_count}\")"
   ],
   "id": "6051a919598c8ed1",
   "outputs": [
    {
     "name": "stdout",
     "output_type": "stream",
     "text": [
      "Number of diffs containing .yml: 9\n"
     ]
    }
   ],
   "execution_count": 19
  },
  {
   "metadata": {},
   "cell_type": "code",
   "outputs": [],
   "execution_count": null,
   "source": "",
   "id": "29b753a74177bf16"
  }
 ],
 "metadata": {
  "kernelspec": {
   "display_name": "Python 3",
   "language": "python",
   "name": "python3"
  },
  "language_info": {
   "codemirror_mode": {
    "name": "ipython",
    "version": 2
   },
   "file_extension": ".py",
   "mimetype": "text/x-python",
   "name": "python",
   "nbconvert_exporter": "python",
   "pygments_lexer": "ipython2",
   "version": "2.7.6"
  }
 },
 "nbformat": 4,
 "nbformat_minor": 5
}
