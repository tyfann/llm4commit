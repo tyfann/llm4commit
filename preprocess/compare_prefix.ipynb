{
 "cells": [
  {
   "cell_type": "code",
   "execution_count": 1,
   "id": "initial_id",
   "metadata": {
    "ExecuteTime": {
     "end_time": "2024-06-10T21:35:56.105625Z",
     "start_time": "2024-06-10T21:35:56.084523Z"
    }
   },
   "outputs": [],
   "source": [
    "import re\n",
    "from collections import defaultdict\n",
    "\n",
    "def extract_keyword(msg):\n",
    "    \"\"\"\n",
    "    Extract the angular convention keyword from a commit message.\n",
    "    \n",
    "    Args:\n",
    "    msg (str): The commit message to extract the keyword from.\n",
    "    \n",
    "    Returns:\n",
    "    str: The extracted keyword, or None if no keyword is found.\n",
    "    \"\"\"\n",
    "    pattern = r'^(build|ci|docs|feat|fix|perf|refactor|style|test)(\\((\\s|\\S)+\\))?:'\n",
    "    match = re.match(pattern, msg)\n",
    "    if match:\n",
    "        return match.group(1)\n",
    "    return None\n",
    "\n",
    "def count_keywords(messages):\n",
    "    \"\"\"\n",
    "    Count the occurrence of each keyword in a list of commit messages.\n",
    "    \n",
    "    Args:\n",
    "    messages (list of str): The list of commit messages.\n",
    "    \n",
    "    Returns:\n",
    "    dict: A dictionary with keywords as keys and their counts as values.\n",
    "    \"\"\"\n",
    "    keyword_counts = defaultdict(int)\n",
    "    \n",
    "    for msg in messages:\n",
    "        keyword = extract_keyword(msg)\n",
    "        if keyword:\n",
    "            keyword_counts[keyword] += 1\n",
    "    \n",
    "    return dict(keyword_counts)\n",
    "\n",
    "def has_same_keyword(msg1, msg2):\n",
    "    \"\"\"\n",
    "    Check if two commit messages have the same Angular convention keyword.\n",
    "    \n",
    "    Args:\n",
    "    msg1 (str): The first commit message.\n",
    "    msg2 (str): The second commit message.\n",
    "    \n",
    "    Returns:\n",
    "    bool: True if both messages have the same keyword, False otherwise.\n",
    "    \"\"\"\n",
    "    keyword1 = extract_keyword(msg1)\n",
    "    keyword2 = extract_keyword(msg2)\n",
    "    return keyword1 == keyword2\n",
    "\n",
    "def count_same_keywords(messages1, messages2):\n",
    "    \"\"\"\n",
    "    Count the occurrence of each keyword match between two lists of commit messages.\n",
    "    \n",
    "    Args:\n",
    "    messages1 (list of str): The first list of commit messages.\n",
    "    messages2 (list of str): The second list of commit messages.\n",
    "    \n",
    "    Returns:\n",
    "    dict: A dictionary with keywords as keys and their match counts as values.\n",
    "    \"\"\"\n",
    "    keyword_counts = defaultdict(int)\n",
    "    \n",
    "    for msg1, msg2 in zip(messages1, messages2):\n",
    "        if has_same_keyword(msg1, msg2):\n",
    "            keyword = extract_keyword(msg1)\n",
    "            if keyword:\n",
    "                keyword_counts[keyword] += 1\n",
    "    \n",
    "    return dict(keyword_counts)"
   ]
  },
  {
   "cell_type": "code",
   "execution_count": 24,
   "id": "55055a54ba3674a7",
   "metadata": {
    "ExecuteTime": {
     "end_time": "2024-06-10T08:47:01.381492Z",
     "start_time": "2024-06-10T08:47:01.332191Z"
    }
   },
   "outputs": [
    {
     "name": "stdout",
     "output_type": "stream",
     "text": [
      "method is e5_100_prompt, same count is {'chore': 20, 'fix': 173, 'test': 13, 'feat': 17, 'refactor': 6, 'docs': 2}.\n",
      "method is e5_250_prompt, same count is {'fix': 176, 'test': 10, 'refactor': 13, 'chore': 21, 'feat': 24, 'docs': 4, 'style': 1}.\n",
      "method is e5_prompt, same count is {'chore': 24, 'test': 13, 'fix': 195, 'refactor': 15, 'feat': 16, 'docs': 3, 'style': 1}.\n",
      "method is miniLM_prompt, same count is {'fix': 181, 'test': 11, 'chore': 20, 'feat': 17, 'refactor': 13, 'docs': 4, 'style': 1}.\n",
      "method is mxbai_prompt, same count is {'fix': 183, 'test': 13, 'refactor': 14, 'chore': 24, 'feat': 21, 'docs': 3, 'style': 1}.\n",
      "method is golden_prompt, same count is {'style': 5, 'test': 29, 'fix': 286, 'chore': 62, 'refactor': 36, 'feat': 67, 'docs': 20}.\n"
     ]
    }
   ],
   "source": [
    "import json\n",
    "for method in ['e5_100_prompt', 'e5_250_prompt', 'e5_prompt', 'miniLM_prompt', 'mxbai_prompt', 'golden_prompt']:\n",
    "    with open(f\"../data/angular_filtered/rag/rag_test_data_{method}.json\", 'r', encoding='utf-8') as file:\n",
    "        data = json.load(file)\n",
    "    org_msg = [item['msg'] for item in data]\n",
    "    sim_msg = [item['sim_msg'] for item in data]\n",
    "    same_counts = count_same_keywords(org_msg, sim_msg)\n",
    "    print(f\"method is {method}, same count is {same_counts}.\")"
   ]
  },
  {
   "cell_type": "code",
   "execution_count": 32,
   "id": "d3ea7562e32d72c9",
   "metadata": {
    "ExecuteTime": {
     "end_time": "2024-06-10T09:26:48.305492Z",
     "start_time": "2024-06-10T09:26:48.252490Z"
    }
   },
   "outputs": [
    {
     "name": "stdout",
     "output_type": "stream",
     "text": [
      "method is e5_100, double same count is 231, triplet same count is 80.\n",
      "method is e5_250, double same count is 249, triplet same count is 101.\n",
      "method is e5_v2, double same count is 267, triplet same count is 119.\n",
      "method is miniLM, double same count is 247, triplet same count is 105.\n",
      "method is mxbai, double same count is 259, triplet same count is 107.\n"
     ]
    }
   ],
   "source": [
    "import json\n",
    "for method in ['e5_100', 'e5_250', 'e5_v2', 'miniLM', 'mxbai']:\n",
    "    with open(f\"../data/angular_filtered/test_result/test_data_js_gpt35_rag_{method}.json\", 'r', encoding='utf-8') as file:\n",
    "        data = json.load(file)\n",
    "    org_msg = [item['msg'] for item in data]\n",
    "    sim_msg = [item['sim_msg'] for item in data]\n",
    "    gen_msg = [item['chatgpt_rag'] for item in data]\n",
    "    triplet_count = 0\n",
    "    double_count = 0\n",
    "    for i in range(len(org_msg)):\n",
    "        if has_same_keyword(org_msg[i],sim_msg[i]):\n",
    "            double_count += 1\n",
    "    for i in range(len(org_msg)):\n",
    "        if has_same_keyword(org_msg[i],sim_msg[i]) and has_same_keyword(org_msg[i], gen_msg[i]):\n",
    "            triplet_count += 1\n",
    "    # same_counts = count_same_keywords(org_msg, sim_msg)\n",
    "    print(f\"method is {method}, double same count is {double_count}, triplet same count is {triplet_count}.\")"
   ]
  },
  {
   "cell_type": "code",
   "execution_count": 29,
   "id": "e61db46a5b7eb630",
   "metadata": {
    "ExecuteTime": {
     "end_time": "2024-06-10T09:00:05.791093Z",
     "start_time": "2024-06-10T09:00:05.776584Z"
    }
   },
   "outputs": [
    {
     "name": "stdout",
     "output_type": "stream",
     "text": [
      "same count is {'test': 27, 'chore': 43, 'refactor': 29, 'feat': 32, 'fix': 22, 'docs': 15, 'style': 1}.\n",
      "169\n"
     ]
    }
   ],
   "source": [
    "with open(f\"../data/angular_filtered/test_result/test_data_js_gpt35_rag_golden.json\", 'r', encoding='utf-8') as file:\n",
    "    data = json.load(file)\n",
    "org_msg = [item['msg'] for item in data]\n",
    "sim_msg = [item['chatgpt_rag'] for item in data]\n",
    "same_counts = count_same_keywords(org_msg, sim_msg)\n",
    "print(f\"same count is {same_counts}.\")\n",
    "sum_value = 0\n",
    "for item, value in same_counts.items():\n",
    "    sum_value += value\n",
    "print(sum_value)"
   ]
  },
  {
   "cell_type": "code",
   "execution_count": 17,
   "id": "8686660e62f21767",
   "metadata": {
    "ExecuteTime": {
     "end_time": "2024-06-10T08:34:42.794122Z",
     "start_time": "2024-06-10T08:34:42.758723Z"
    }
   },
   "outputs": [
    {
     "name": "stdout",
     "output_type": "stream",
     "text": [
      "datatype is train, keyword counts is {'refactor': 342, 'fix': 2284, 'test': 187, 'style': 67, 'feat': 447, 'chore': 530, 'docs': 159, 'perf': 19}\n",
      "datatype is val, keyword counts is {'chore': 83, 'style': 11, 'fix': 274, 'feat': 43, 'docs': 24, 'refactor': 43, 'test': 20, 'perf': 7}\n",
      "datatype is test, keyword counts is {'style': 5, 'test': 29, 'fix': 286, 'chore': 62, 'refactor': 36, 'feat': 67, 'docs': 20}\n"
     ]
    }
   ],
   "source": [
    "for data_type in ['train', 'val', 'test']:\n",
    "    with open(f\"../data/angular_filtered/{data_type}_data_js.json\", 'r', encoding='utf-8') as file:\n",
    "        data = json.load(file)\n",
    "    messages = [item['msg'] for item in data]\n",
    "    keyword_counts = count_keywords(messages)\n",
    "    print(f\"datatype is {data_type}, keyword counts is {keyword_counts}\")"
   ]
  },
  {
   "cell_type": "code",
   "execution_count": 3,
   "id": "e3a96e939bc19325",
   "metadata": {
    "ExecuteTime": {
     "end_time": "2024-06-10T21:37:16.398564Z",
     "start_time": "2024-06-10T21:37:16.309049Z"
    }
   },
   "outputs": [
    {
     "name": "stdout",
     "output_type": "stream",
     "text": [
      "keyword counts is {'refactor': 1513, 'fix': 10179, 'docs': 719, 'test': 893, 'feat': 1984, 'build': 205, 'perf': 93, 'ci': 58, 'style': 312}\n"
     ]
    }
   ],
   "source": [
    "import json\n",
    "with open(f\"../data/angular_filtered/data_js.json\", 'r', encoding='utf-8') as file:\n",
    "    data = json.load(file)\n",
    "messages = [item['msg'] for item in data]\n",
    "keyword_counts = count_keywords(messages)\n",
    "print(f\"keyword counts is {keyword_counts}\")"
   ]
  },
  {
   "cell_type": "code",
   "execution_count": 4,
   "id": "20e9b00332ab61e3",
   "metadata": {
    "ExecuteTime": {
     "end_time": "2024-06-10T21:40:28.499775Z",
     "start_time": "2024-06-10T21:40:28.300552Z"
    }
   },
   "outputs": [
    {
     "data": {
      "image/png": "[encoded data removed]",
      "text/plain": [
       "<Figure size 640x480 with 1 Axes>"
      ]
     },
     "metadata": {},
     "output_type": "display_data"
    }
   ],
   "source": [
    "import matplotlib.pyplot as plt\n",
    "\n",
    "# Extract values from the dictionary\n",
    "values = list(keyword_counts.values())\n",
    "\n",
    "# Plot the histogram\n",
    "plt.bar(keyword_counts.keys(), values, color='skyblue')\n",
    "plt.xlabel('Type of Commit')\n",
    "plt.ylabel('Frequency')\n",
    "plt.title('Frequency of Different Types of Commits in Our dataset')\n",
    "plt.xticks(rotation=45)  # Rotate x-axis labels for better readability\n",
    "plt.savefig('histogram.png', bbox_inches='tight')  # Save as PNG file, tight layout\n",
    "plt.show()"
   ]
  },
  {
   "cell_type": "code",
   "execution_count": 30,
   "id": "8c721e575598e161",
   "metadata": {
    "ExecuteTime": {
     "end_time": "2024-06-10T09:07:32.547062Z",
     "start_time": "2024-06-10T09:07:32.483501Z"
    }
   },
   "outputs": [
    {
     "name": "stdout",
     "output_type": "stream",
     "text": [
      "Data has been updated and saved to 'updated_data.json'\n"
     ]
    }
   ],
   "source": [
    "import json\n",
    "import re\n",
    "\n",
    "def extract_keyword(msg):\n",
    "    \"\"\"\n",
    "    Extract the angular convention keyword from a commit message.\n",
    "    \n",
    "    Args:\n",
    "    msg (str): The commit message to extract the keyword from.\n",
    "    \n",
    "    Returns:\n",
    "    str: The extracted keyword, or None if no keyword is found.\n",
    "    \"\"\"\n",
    "    pattern = r'^(chore|docs|feat|fix|perf|refactor|style|test)(\\((\\s|\\S)+\\))?:'\n",
    "    match = re.match(pattern, msg)\n",
    "    if match:\n",
    "        return match.group(1)\n",
    "    return None\n",
    "\n",
    "def find_matching_item(keyword, db_items):\n",
    "    \"\"\"\n",
    "    Find an item in the db_items list that has a matching keyword.\n",
    "    \n",
    "    Args:\n",
    "    keyword (str): The keyword to search for.\n",
    "    db_items (list): The list of items from the db JSON file.\n",
    "    \n",
    "    Returns:\n",
    "    dict: The matching item from the db, or None if no match is found.\n",
    "    \"\"\"\n",
    "    for item in db_items:\n",
    "        if 'msg' in item and extract_keyword(item['msg']) == keyword:\n",
    "            return item\n",
    "    return None\n",
    "\n",
    "def update_data_with_db(data_items, db_items):\n",
    "    \"\"\"\n",
    "    Update data items with matching msg and diff from db items.\n",
    "    \n",
    "    Args:\n",
    "    data_items (list): The list of items from the data JSON file.\n",
    "    db_items (list): The list of items from the db JSON file.\n",
    "    \n",
    "    Returns:\n",
    "    list: The updated list of data items.\n",
    "    \"\"\"\n",
    "    for data_item in data_items:\n",
    "        keyword = extract_keyword(data_item['msg'])\n",
    "        if keyword:\n",
    "            matching_db_item = find_matching_item(keyword, db_items)\n",
    "            if matching_db_item:\n",
    "                data_item['type'] = keyword\n",
    "    return data_items\n",
    "\n",
    "# Read the JSON files\n",
    "with open('../data/angular_filtered/test_data_js.json', 'r', encoding='UTF-8') as data_file:\n",
    "    data_items = json.load(data_file)\n",
    "\n",
    "with open('../data/angular_filtered/rag_db_js.json', 'r', encoding='UTF-8') as db_file:\n",
    "    db_items = json.load(db_file)\n",
    "\n",
    "# Update the data items with matching db items\n",
    "updated_data_items = update_data_with_db(data_items, db_items)\n",
    "\n",
    "# Write the updated data items to a new JSON file\n",
    "with open('../data/angular_filtered/rag/rag_test_data_golden_type_prompt.json', 'w', encoding='UTF-8') as updated_data_file:\n",
    "    json.dump(updated_data_items, updated_data_file, indent=4)\n",
    "\n",
    "print(\"Data has been updated and saved to 'updated_data.json'\")"
   ]
  },
  {
   "cell_type": "code",
   "execution_count": 33,
   "id": "4e4e10129e1934d6",
   "metadata": {
    "ExecuteTime": {
     "end_time": "2024-06-10T10:02:40.842130Z",
     "start_time": "2024-06-10T10:02:40.817509Z"
    }
   },
   "outputs": [
    {
     "name": "stdout",
     "output_type": "stream",
     "text": [
      "{'msg': 'style(loader): fix lint errors', 'diff': \"diff --git a/test/components/loader_spec.js b/test/components/loader_spec.js @@ -25,7 +25,6 @@ describe('Loader', function() {\\nit('should not contain the MSE/Flash based playbacks when PLAIN_HTML5_ONLY is set', function() {\\nconst loader = new Loader([], 0, true)\\n- // expected order from previous Clappr versions\\nconst expectedPlaybacks = [HTML5VideoPlayback, HTML5AudioPlayback, HTMLImgPlayback, NoOp]\\nexpect(loader.playbackPlugins).to.deep.equal(expectedPlaybacks)\\n})\\n\", 'date': '12.01.2018 13:52:38', 'repo': 'clappr/clappr-core'}\n"
     ]
    }
   ],
   "source": [
    "with open(\"../data/angular_filtered/test_data_js.json\", 'r', encoding='UTF-8') as file:\n",
    "    data = json.load(file)\n",
    "    print(data[0])"
   ]
  },
  {
   "cell_type": "code",
   "execution_count": 2,
   "id": "547668e93f557b2",
   "metadata": {
    "ExecuteTime": {
     "end_time": "2024-06-15T14:07:59.866710Z",
     "start_time": "2024-06-15T14:07:59.852701Z"
    }
   },
   "outputs": [],
   "source": [
    "import json\n",
    "with open('../data/angular_filtered/subsets/test_dev.json', 'r', encoding='UTF-8') as f:\n",
    "    org_data = json.load(f)\n",
    "\n",
    "# save msg to a file\n",
    "with open(\"../data/angular_filtered/subsets/generation/dev_test_ref.txt\", 'w', encoding='UTF-8') as file:\n",
    "    for item in org_data:\n",
    "        file.write(item['msg'].replace('\\n', '\\\\n').replace('\\r', '\\\\r') + '\\n')"
   ]
  },
  {
   "cell_type": "code",
   "execution_count": 2,
   "id": "2aff3eb5bf7029cf",
   "metadata": {
    "ExecuteTime": {
     "end_time": "2024-06-12T08:27:48.496894Z",
     "start_time": "2024-06-12T08:27:48.480858Z"
    }
   },
   "outputs": [],
   "source": [
    "import json\n",
    "with open('../data/angular_filtered/test_result/test_data_js_gpt35_cot.json', 'r', encoding='UTF-8') as f:\n",
    "    org_data = json.load(f)\n",
    "# save msg to txt\n",
    "output_file = '../data/angular_filtered/test_result/test_data_js_gpt35_cot.txt'\n",
    "with open(output_file, 'w', encoding='UTF-8') as f:\n",
    "    for item in org_data:\n",
    "        f.write(item['chatgpt_cot'].replace('\\n', '\\\\n').replace('\\r', '\\\\r') + '\\n')"
   ]
  },
  {
   "cell_type": "code",
   "execution_count": 6,
   "id": "1fb37ca61f4eb97d",
   "metadata": {
    "ExecuteTime": {
     "end_time": "2024-06-11T13:46:26.392482Z",
     "start_time": "2024-06-11T13:46:26.385789Z"
    }
   },
   "outputs": [],
   "source": [
    "import json\n",
    "with open('../data/angular_filtered/test_data_js.json', 'r', encoding='UTF-8') as f:\n",
    "    org_data = json.load(f)\n",
    "# read a txt file\n",
    "output_file = '../data/angular_filtered/test_result/test_data_js_nngen_v2.txt'\n",
    "with open(output_file, 'r', encoding='UTF-8') as f:\n",
    "    lines = f.readlines()\n",
    "    for i in range(len(org_data)):\n",
    "        org_data[i]['nngen'] = lines[i].strip()"
   ]
  },
  {
   "cell_type": "code",
   "execution_count": 7,
   "id": "4f397ac1f3e9ee30",
   "metadata": {
    "ExecuteTime": {
     "end_time": "2024-06-11T13:46:28.696205Z",
     "start_time": "2024-06-11T13:46:28.673521Z"
    }
   },
   "outputs": [],
   "source": [
    "# save org_data to a json file\n",
    "output_file = '../data/angular_filtered/test_result/test_data_js_nngen_v2.json'\n",
    "with open(output_file, 'w', encoding='UTF-8') as f:\n",
    "    json.dump(org_data, f, indent=4)"
   ]
  },
  {
   "cell_type": "code",
   "execution_count": 2,
   "id": "094e0278",
   "metadata": {},
   "outputs": [],
   "source": [
    "import json\n",
    "with open('../data/angular_filtered/subsets/test_dev.json', 'r', encoding='UTF-8') as f:\n",
    "    org_data = json.load(f)\n",
    "\n",
    "output_file = '../data/angular_filtered/subsets/generation/dev_test_nngen.txt'\n",
    "with open(output_file, 'r', encoding='UTF-8') as f:\n",
    "    lines = f.readlines()\n",
    "    for i in range(len(org_data)):\n",
    "        org_data[i]['nngen'] = lines[i].strip()\n",
    "\n",
    "with open('../data/angular_filtered/subsets/generation/dev_test_nngen.json', 'w', encoding='UTF-8') as f:\n",
    "    json.dump(org_data, f, indent=4)"
   ]
  },
  {
   "cell_type": "code",
   "execution_count": 3,
   "id": "5814c789",
   "metadata": {},
   "outputs": [],
   "source": []
  },
  {
   "cell_type": "code",
   "execution_count": null,
   "id": "62312805",
   "metadata": {},
   "outputs": [],
   "source": []
  }
 ],
 "metadata": {
  "kernelspec": {
   "display_name": "Python 3 (ipykernel)",
   "language": "python",
   "name": "python3"
  },
  "language_info": {
   "codemirror_mode": {
    "name": "ipython",
    "version": 3
   },
   "file_extension": ".py",
   "mimetype": "text/x-python",
   "name": "python",
   "nbconvert_exporter": "python",
   "pygments_lexer": "ipython3",
   "version": "3.10.14"
  }
 },
 "nbformat": 4,
 "nbformat_minor": 5
}
