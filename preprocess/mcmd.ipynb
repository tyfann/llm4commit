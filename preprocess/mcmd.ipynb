{
 "cells": [
  {
   "cell_type": "code",
   "execution_count": 23,
   "id": "initial_id",
   "metadata": {
    "ExecuteTime": {
     "end_time": "2024-06-05T10:42:08.781897Z",
     "start_time": "2024-06-05T10:42:08.629952Z"
    },
    "collapsed": true
   },
   "outputs": [],
   "source": [
    "\n",
    "train_msg = open(\"../../../MCMD/python/sort_random_train80_valid10_test10/train.msg.txt\", encoding='UTF-8').read().split(\"\\n\")\n",
    "len(train_msg)"
   ]
  },
  {
   "cell_type": "code",
   "execution_count": 3,
   "id": "12f6530c980b53cf",
   "metadata": {
    "ExecuteTime": {
     "end_time": "2024-06-05T10:24:58.784768Z",
     "start_time": "2024-06-05T10:24:53.147123Z"
    }
   },
   "outputs": [],
   "source": [
    "\n",
    "test_diff = open(\"../../../MCMD/python/sort_random_train80_valid10_test10/test.diff.txt\", encoding='UTF-8').read().split(\"\\n\")\n",
    "len(test_diff)"
   ]
  },
  {
   "cell_type": "code",
   "execution_count": 4,
   "id": "8453ef7e07d759f6",
   "metadata": {
    "ExecuteTime": {
     "end_time": "2024-06-05T10:25:04.288971Z",
     "start_time": "2024-06-05T10:25:04.281459Z"
    }
   },
   "outputs": [],
   "source": [
    "test_diff[0]"
   ]
  },
  {
   "cell_type": "code",
   "execution_count": 7,
   "id": "470ad0d71244ce87",
   "metadata": {
    "ExecuteTime": {
     "end_time": "2024-03-25T13:54:05.413218Z",
     "start_time": "2024-03-25T13:54:05.356923Z"
    },
    "collapsed": false
   },
   "outputs": [],
   "source": [
    "valid_msg = open(\"../../MCMD/java/sort_random_train80_valid10_test10/valid.msg.txt\", encoding='UTF-8').read().split(\"\\n\")\n",
    "len(valid_msg)"
   ]
  },
  {
   "cell_type": "code",
   "execution_count": 9,
   "id": "c4d51fd104df8efb",
   "metadata": {
    "ExecuteTime": {
     "end_time": "2024-03-25T13:54:37.173501Z",
     "start_time": "2024-03-25T13:54:37.144239Z"
    },
    "collapsed": false
   },
   "outputs": [],
   "source": [
    "test_msg = open(\"../../MCMD/java/sort_random_train80_valid10_test10/test.msg.txt\", encoding='UTF-8').read().split(\"\\n\")\n",
    "len(test_msg)"
   ]
  },
  {
   "cell_type": "code",
   "execution_count": 12,
   "id": "ffc484f8b5b9ef9a",
   "metadata": {
    "ExecuteTime": {
     "end_time": "2024-06-05T10:37:19.999293Z",
     "start_time": "2024-06-05T10:32:43.790904Z"
    }
   },
   "outputs": [],
   "source": [
    "\n",
    "train_diff = open(\"../../../MCMD/python/sort_random_train80_valid10_test10/train.diff.txt\", encoding='UTF-8').read().split(\"\\n\")\n"
   ]
  },
  {
   "cell_type": "code",
   "execution_count": 13,
   "id": "8fc3cf8d8b5b3554",
   "metadata": {
    "ExecuteTime": {
     "end_time": "2024-06-05T10:37:20.030626Z",
     "start_time": "2024-06-05T10:37:20.005704Z"
    }
   },
   "outputs": [],
   "source": [
    "len(train_diff)"
   ]
  },
  {
   "cell_type": "markdown",
   "id": "318ee7d84352eda0",
   "metadata": {
    "collapsed": false
   },
   "source": [
    "## Preprocess script"
   ]
  },
  {
   "cell_type": "code",
   "execution_count": 42,
   "id": "71a11aebc9891d36",
   "metadata": {
    "ExecuteTime": {
     "end_time": "2024-06-09T10:08:47.469208Z",
     "start_time": "2024-06-09T10:08:47.451210Z"
    }
   },
   "outputs": [],
   "source": [
    "import pickle\n",
    "\n",
    "# repo_raw_data = pickle.load(open(\"../../../MCMD/raw_data/javascript/angular/angular.js.pickle\",\"rb\"))"
   ]
  },
  {
   "cell_type": "code",
   "execution_count": 28,
   "id": "d0c6c3f781234187",
   "metadata": {
    "ExecuteTime": {
     "end_time": "2024-06-09T10:04:03.336750Z",
     "start_time": "2024-06-09T10:04:03.255551Z"
    }
   },
   "outputs": [],
   "source": [
    "from tqdm import tqdm\n",
    "import glob\n",
    "import os\n",
    "language = 'javascript'\n",
    "folder_path = f'../../../MCMD/raw_data/{language}'\n",
    "file_paths = glob.glob(os.path.join(folder_path, '**', '*'), recursive=True)\n",
    "file_paths = [f for f in file_paths if os.path.isfile(f)]"
   ]
  },
  {
   "cell_type": "code",
   "execution_count": 43,
   "id": "3e5250a44e309359",
   "metadata": {
    "ExecuteTime": {
     "end_time": "2024-06-09T10:10:49.497415Z",
     "start_time": "2024-06-09T10:08:50.605368Z"
    }
   },
   "outputs": [
    {
     "name": "stderr",
     "output_type": "stream",
     "text": [
      "100%|██████████| 5315/5315 [00:00<00:00, 24421.77it/s]\n",
      "100%|██████████| 807/807 [00:00<00:00, 67209.47it/s]\n",
      "100%|██████████| 17845/17845 [00:00<00:00, 18317.70it/s]\n",
      "100%|██████████| 252/252 [00:00<00:00, 250287.62it/s]\n",
      "100%|██████████| 836/836 [00:00<00:00, 46452.73it/s]\n",
      "100%|██████████| 1860/1860 [00:00<00:00, 371938.28it/s]\n",
      "100%|██████████| 2101/2101 [00:00<00:00, 6187.78it/s]\n",
      "100%|██████████| 7893/7893 [00:00<00:00, 10782.76it/s]\n",
      "100%|██████████| 1886/1886 [00:00<00:00, 23386.63it/s]\n",
      "100%|██████████| 9040/9040 [00:00<00:00, 77959.76it/s]\n",
      "100%|██████████| 3297/3297 [00:00<00:00, 13499.59it/s]\n",
      "100%|██████████| 702/702 [00:00<00:00, 18492.31it/s]\n",
      "100%|██████████| 38025/38025 [00:00<00:00, 72489.13it/s] \n",
      "100%|██████████| 13160/13160 [00:00<00:00, 50796.91it/s]\n",
      "100%|██████████| 4150/4150 [00:00<00:00, 217223.82it/s]\n",
      "100%|██████████| 1175/1175 [00:00<00:00, 143223.11it/s]\n",
      "100%|██████████| 7082/7082 [00:00<00:00, 110657.26it/s]\n",
      "100%|██████████| 1796/1796 [00:00<00:00, 56995.85it/s]\n",
      "100%|██████████| 479/479 [00:00<00:00, 1319.17it/s]\n",
      "100%|██████████| 6836/6836 [00:00<00:00, 120819.43it/s]\n",
      "100%|██████████| 14626/14626 [00:00<00:00, 37328.71it/s]\n",
      "100%|██████████| 4283/4283 [00:00<00:00, 16172.02it/s]\n",
      "100%|██████████| 7218/7218 [00:00<00:00, 13099.57it/s]\n",
      "100%|██████████| 20308/20308 [00:00<00:00, 74471.20it/s]\n",
      "100%|██████████| 5593/5593 [00:00<00:00, 230231.44it/s]\n",
      "100%|██████████| 2659/2659 [00:00<00:00, 64563.24it/s]\n",
      "100%|██████████| 21649/21649 [00:00<00:00, 66332.16it/s]\n",
      "100%|██████████| 13776/13776 [00:00<00:00, 59965.70it/s]\n",
      "100%|██████████| 74/74 [00:00<00:00, 347.73it/s]\n",
      "100%|██████████| 17533/17533 [00:00<00:00, 64365.77it/s]\n",
      "100%|██████████| 1649/1649 [00:00<00:00, 4241.54it/s]\n",
      "100%|██████████| 4412/4412 [00:00<00:00, 25165.73it/s]\n",
      "100%|██████████| 8556/8556 [00:00<00:00, 70848.92it/s]\n",
      "100%|██████████| 1961/1961 [00:00<00:00, 59212.92it/s]\n",
      "100%|██████████| 2734/2734 [00:00<00:00, 31790.01it/s]\n",
      "100%|██████████| 1199/1199 [00:00<00:00, 53462.15it/s]\n",
      "100%|██████████| 3452/3452 [00:00<00:00, 75265.44it/s]\n",
      "100%|██████████| 1280/1280 [00:00<00:00, 125492.84it/s]\n",
      "100%|██████████| 388/388 [00:00<00:00, 97059.10it/s]\n",
      "100%|██████████| 6420/6420 [00:00<00:00, 32035.26it/s]\n",
      "100%|██████████| 3386/3386 [00:00<00:00, 91664.28it/s]\n",
      "100%|██████████| 1531/1531 [00:00<00:00, 191354.65it/s]\n",
      "100%|██████████| 3516/3516 [00:00<00:00, 33640.77it/s]\n",
      "100%|██████████| 1525/1525 [00:18<00:00, 83.85it/s] \n",
      "100%|██████████| 736/736 [00:00<00:00, 61332.90it/s]\n",
      "100%|██████████| 6879/6879 [00:00<00:00, 59911.16it/s]\n",
      "100%|██████████| 446/446 [00:00<00:00, 446351.61it/s]\n",
      "100%|██████████| 2057/2057 [00:00<00:00, 105400.74it/s]\n",
      "100%|██████████| 8003/8003 [00:00<00:00, 50536.98it/s]\n",
      "100%|██████████| 1250/1250 [00:00<00:00, 2739.46it/s]\n",
      "100%|██████████| 2296/2296 [00:00<00:00, 69581.30it/s]\n",
      "100%|██████████| 3218/3218 [00:02<00:00, 1449.97it/s]\n",
      "100%|██████████| 23254/23254 [00:00<00:00, 47002.80it/s]\n",
      "100%|██████████| 587/587 [00:00<00:00, 34525.14it/s]\n",
      "100%|██████████| 2578/2578 [00:00<00:00, 7046.37it/s] \n",
      "100%|██████████| 3959/3959 [00:00<00:00, 25688.06it/s]\n",
      "100%|██████████| 13326/13326 [00:00<00:00, 90648.02it/s]\n",
      "100%|██████████| 15640/15640 [00:00<00:00, 43366.08it/s]\n",
      "100%|██████████| 625/625 [00:00<00:00, 36767.37it/s]\n",
      "100%|██████████| 6394/6394 [00:00<00:00, 15544.99it/s]\n",
      "100%|██████████| 2011/2011 [00:00<00:00, 10622.13it/s]\n",
      "100%|██████████| 5275/5275 [00:00<00:00, 92532.76it/s]\n",
      "100%|██████████| 4340/4340 [00:00<00:00, 83803.82it/s]\n",
      "100%|██████████| 6116/6116 [00:00<00:00, 54553.84it/s]\n",
      "100%|██████████| 2125/2125 [00:00<00:00, 68976.72it/s]\n",
      "100%|██████████| 16184/16184 [00:31<00:00, 510.48it/s] \n",
      "100%|██████████| 4660/4660 [00:00<00:00, 86166.34it/s]\n",
      "100%|██████████| 5178/5178 [00:00<00:00, 38169.10it/s]\n",
      "100%|██████████| 614/614 [00:00<00:00, 122779.63it/s]\n",
      "100%|██████████| 4576/4576 [00:00<00:00, 44119.41it/s]\n",
      "100%|██████████| 1871/1871 [00:00<00:00, 38484.95it/s]\n",
      "100%|██████████| 1146/1146 [00:00<00:00, 99669.73it/s]\n",
      "100%|██████████| 2270/2270 [00:00<00:00, 189161.59it/s]\n",
      "100%|██████████| 263/263 [00:00<00:00, 131572.27it/s]\n",
      "100%|██████████| 19129/19129 [00:01<00:00, 16837.99it/s]\n",
      "100%|██████████| 209/209 [00:00<00:00, 41749.28it/s]\n",
      "100%|██████████| 536/536 [00:00<00:00, 268115.32it/s]\n",
      "100%|██████████| 2538/2538 [00:00<00:00, 47420.71it/s]\n",
      "100%|██████████| 1263/1263 [00:00<00:00, 84200.75it/s]\n",
      "100%|██████████| 2612/2612 [00:00<00:00, 38796.54it/s]\n",
      "100%|██████████| 6684/6684 [00:01<00:00, 5692.68it/s]\n",
      "100%|██████████| 13384/13384 [00:00<00:00, 52814.18it/s]\n",
      "100%|██████████| 493/493 [00:00<00:00, 1751.06it/s]\n",
      "100%|██████████| 1798/1798 [00:00<00:00, 56188.64it/s]\n",
      "100%|██████████| 1043/1043 [00:00<00:00, 104300.10it/s]\n",
      "100%|██████████| 1824/1824 [00:00<00:00, 260412.91it/s]\n",
      "100%|██████████| 3183/3183 [00:00<00:00, 55834.71it/s]\n",
      "100%|██████████| 7954/7954 [00:00<00:00, 42696.65it/s]\n",
      "100%|██████████| 926/926 [00:00<00:00, 98324.74it/s]\n",
      "100%|██████████| 12060/12060 [00:00<00:00, 71470.79it/s]\n",
      "100%|██████████| 20465/20465 [00:02<00:00, 8585.57it/s]\n",
      "100%|██████████| 802/802 [00:00<00:00, 133633.87it/s]\n",
      "100%|██████████| 658/658 [00:00<00:00, 164619.86it/s]\n",
      "100%|██████████| 811/811 [00:00<00:00, 66886.51it/s]\n",
      "100%|██████████| 4861/4861 [00:00<00:00, 142951.88it/s]\n",
      "100%|██████████| 7564/7564 [00:00<00:00, 55522.29it/s]\n",
      "100%|██████████| 235/235 [00:00<00:00, 117452.51it/s]\n",
      "100%|██████████| 3194/3194 [00:00<00:00, 99310.63it/s]\n",
      "100%|██████████| 3133/3133 [00:00<00:00, 45887.97it/s]\n",
      "100%|██████████| 1077/1077 [00:00<00:00, 99015.07it/s]\n"
     ]
    }
   ],
   "source": [
    "target_data = []\n",
    "\n",
    "for file in file_paths:\n",
    "    repo_raw_data = pickle.load(open(file,\"rb\"))\n",
    "    for data in tqdm(repo_raw_data, total=len(repo_raw_data)):\n",
    "        if data['diff'] is None:\n",
    "            continue\n",
    "        if data['diff'].count('.js ')==1 and data['diff'].count('.js\\n')==3 and data['diff'].count('diff --git')==1:\n",
    "            item = {\n",
    "                'msg': data['msg'],\n",
    "                'diff': data['diff'],\n",
    "                'date': data['date'],\n",
    "                'repo': '/'.join(file.split('\\\\')[-2:]).split('.')[0]\n",
    "            }\n",
    "            target_data.append(item)"
   ]
  },
  {
   "cell_type": "code",
   "execution_count": 45,
   "id": "cf537875450974",
   "metadata": {
    "ExecuteTime": {
     "end_time": "2024-06-09T10:12:28.543117Z",
     "start_time": "2024-06-09T10:12:28.312665Z"
    }
   },
   "outputs": [],
   "source": [
    "for data in target_data:\n",
    "    data['msg'] = data['msg'].lstrip()"
   ]
  },
  {
   "cell_type": "code",
   "execution_count": 1,
   "id": "884e5e8085f9af0",
   "metadata": {
    "ExecuteTime": {
     "end_time": "2024-06-09T09:53:34.064148Z",
     "start_time": "2024-06-09T09:53:34.045854Z"
    }
   },
   "outputs": [],
   "source": [
    "import re"
   ]
  },
  {
   "cell_type": "code",
   "execution_count": 2,
   "id": "8cc1e5e466939ece",
   "metadata": {
    "ExecuteTime": {
     "end_time": "2024-06-09T09:53:34.079156Z",
     "start_time": "2024-06-09T09:53:34.066148Z"
    }
   },
   "outputs": [],
   "source": [
    "def check_angular_convention(msg, has_space=True, strict=True):\n",
    "    if has_space:\n",
    "        pattern = '((chore)|(docs)|(feat)|(fix)|(perf)|(refactor)|(style)|(test))\\s(\\((\\s|\\S)+\\)\\s)?:(\\s(\\s|\\S)+)?'\n",
    "    else:\n",
    "        pattern = '((chore)|(docs)|(feat)|(fix)|(perf)|(refactor)|(style)|(test))(\\((\\s|\\S)+\\))?:(\\s\\S+(\\s|\\S)+)?'\n",
    "    if not strict:\n",
    "        pattern = '^\\s*((chore)|(docs)|(feat)|(fix)|(perf)|(refactor)|(style)|(test))'\n",
    "    return re.match(pattern, msg) != None"
   ]
  },
  {
   "cell_type": "code",
   "execution_count": 2,
   "id": "8cbe3d94",
   "metadata": {},
   "outputs": [],
   "source": []
  },
  {
   "cell_type": "code",
   "execution_count": 46,
   "id": "99f2367aa31ce97c",
   "metadata": {
    "ExecuteTime": {
     "end_time": "2024-06-09T10:13:18.436233Z",
     "start_time": "2024-06-09T10:13:18.140756Z"
    }
   },
   "outputs": [],
   "source": [
    "mcmd_strict_match_template_list = []\n",
    "for index, item in enumerate(target_data):\n",
    "    if check_angular_convention(item['msg'], has_space=False) or check_angular_convention(item['msg'], has_space=True):\n",
    "        mcmd_strict_match_template_list.append(item)"
   ]
  },
  {
   "cell_type": "code",
   "execution_count": 50,
   "id": "33308172ac3bd4a8",
   "metadata": {
    "ExecuteTime": {
     "end_time": "2024-06-09T10:14:38.889133Z",
     "start_time": "2024-06-09T10:14:38.767665Z"
    }
   },
   "outputs": [],
   "source": [
    "# filter angular_filter_data by the length of the diff(1500) and msg(500)\n",
    "mcmd_filtered_length_data = [item for item in mcmd_strict_match_template_list if len(item['diff'])<=500 and len(item['msg'])<=100]"
   ]
  },
  {
   "cell_type": "code",
   "execution_count": 1,
   "id": "1814c7cee254af3c",
   "metadata": {
    "ExecuteTime": {
     "end_time": "2024-06-09T10:15:26.426337Z",
     "start_time": "2024-06-09T10:15:25.510387Z"
    }
   },
   "outputs": [],
   "source": [
    "import json\n",
    "with open('../../llm4commit/data/final_preprocessed_data/discriminator/db_data_js.json', 'r', encoding='UTF-8') as f:\n",
    "    target_data = json.load(f)"
   ]
  },
  {
   "cell_type": "code",
   "execution_count": 3,
   "id": "8bce31d6",
   "metadata": {},
   "outputs": [],
   "source": [
    "import re\n",
    "\n",
    "def check_angular_convention(msg, has_space=True):\n",
    "    types = '((build)|(ci)|(docs)|(feat)|(fix)|(perf)|(refactor)|(style)|(test)|(chore)|(revert))'\n",
    "    if has_space:\n",
    "        pattern = f'{types}\\s(\\((\\s|\\S)+\\)\\s)?:(\\s(\\s|\\S)+)?'\n",
    "    else:\n",
    "        pattern = f'{types}(\\((\\s|\\S)+\\))?:(\\s\\S+(\\s|\\S)+)?'\n",
    "    return re.match(pattern, msg) is not None\n"
   ]
  },
  {
   "cell_type": "code",
   "execution_count": 4,
   "id": "8f21c88c0c1e48a3",
   "metadata": {
    "ExecuteTime": {
     "end_time": "2024-06-09T10:15:35.893061Z",
     "start_time": "2024-06-09T10:15:35.647964Z"
    }
   },
   "outputs": [],
   "source": [
    "chronicle_strict_match_template_list = []\n",
    "for index, item in enumerate(target_data):\n",
    "    if check_angular_convention(item['msg'], has_space=False) or check_angular_convention(item['msg'], has_space=True):\n",
    "        chronicle_strict_match_template_list.append(item)"
   ]
  },
  {
   "cell_type": "code",
   "execution_count": 5,
   "id": "f44d3bbab37636c9",
   "metadata": {
    "ExecuteTime": {
     "end_time": "2024-06-09T10:16:37.910757Z",
     "start_time": "2024-06-09T10:16:37.896758Z"
    }
   },
   "outputs": [
    {
     "data": {
      "text/plain": [
       "15963"
      ]
     },
     "execution_count": 5,
     "metadata": {},
     "output_type": "execute_result"
    }
   ],
   "source": [
    "len(chronicle_strict_match_template_list)"
   ]
  },
  {
   "cell_type": "code",
   "execution_count": 55,
   "id": "5b72ce8e33460d3",
   "metadata": {
    "ExecuteTime": {
     "end_time": "2024-06-09T10:15:50.044956Z",
     "start_time": "2024-06-09T10:15:50.034939Z"
    }
   },
   "outputs": [],
   "source": [
    "def find_common_msg_indices(list1, list2):\n",
    "    common_indices = []\n",
    "\n",
    "    for index1, dict1 in enumerate(list1):\n",
    "        for index2, dict2 in enumerate(list2):\n",
    "            if dict1.get('msg') == dict2.get('msg'):\n",
    "                common_indices.append((index1, index2))\n",
    "    \n",
    "    return common_indices"
   ]
  },
  {
   "cell_type": "code",
   "execution_count": 56,
   "id": "6c6b0e0541bca455",
   "metadata": {
    "ExecuteTime": {
     "end_time": "2024-06-09T10:16:04.771123Z",
     "start_time": "2024-06-09T10:16:02.070423Z"
    }
   },
   "outputs": [],
   "source": [
    "common_indices = find_common_msg_indices(mcmd_filtered_length_data, chronicle_strict_match_template_list)"
   ]
  },
  {
   "cell_type": "code",
   "execution_count": 57,
   "id": "6d55d70570d56d53",
   "metadata": {
    "ExecuteTime": {
     "end_time": "2024-06-09T10:16:07.382396Z",
     "start_time": "2024-06-09T10:16:07.366050Z"
    }
   },
   "outputs": [
    {
     "data": {
      "text/plain": [
       "148"
      ]
     },
     "execution_count": 57,
     "metadata": {},
     "output_type": "execute_result"
    }
   ],
   "source": [
    "len(common_indices)"
   ]
  },
  {
   "cell_type": "code",
   "execution_count": 60,
   "id": "c91313991d6bcc26",
   "metadata": {
    "ExecuteTime": {
     "end_time": "2024-06-09T10:18:30.309325Z",
     "start_time": "2024-06-09T10:18:30.099868Z"
    }
   },
   "outputs": [],
   "source": [
    "import json\n",
    "with open('../../llm4commit/data/angular_filtered/data_js.json', 'w', encoding='UTF-8') as f:\n",
    "    json.dump(chronicle_strict_match_template_list, f, ensure_ascii=False, indent=4)"
   ]
  },
  {
   "cell_type": "code",
   "execution_count": 61,
   "id": "fcb8b8ce7902e471",
   "metadata": {
    "ExecuteTime": {
     "end_time": "2024-06-09T10:19:17.521417Z",
     "start_time": "2024-06-09T10:19:17.512412Z"
    }
   },
   "outputs": [
    {
     "data": {
      "text/plain": [
       "18048"
      ]
     },
     "execution_count": 61,
     "metadata": {},
     "output_type": "execute_result"
    }
   ],
   "source": [
    "len(chronicle_strict_match_template_list)"
   ]
  },
  {
   "cell_type": "code",
   "execution_count": 6,
   "id": "4a3cc65e1e5b9dd9",
   "metadata": {
    "ExecuteTime": {
     "end_time": "2024-06-09T10:21:44.404485Z",
     "start_time": "2024-06-09T10:21:42.647969Z"
    }
   },
   "outputs": [],
   "source": [
    "# shuffle the data, 13000 for rag db, for the rest, 4/5 for training, 1/10 for validation, 1/10 for testing\n",
    "import random\n",
    "from sklearn.model_selection import train_test_split\n",
    "\n",
    "def split_data(data, db_size=11000, train_ratio=0.8, val_ratio=0.1, test_ratio=0.1):\n",
    "    # Step 1: Shuffle the data\n",
    "    random.seed(42)\n",
    "    random.shuffle(data)\n",
    "    \n",
    "    # Step 2: Split off the first 13000 elements for the rag db\n",
    "    rag_db = data[:db_size]\n",
    "    remaining_data = data[db_size:]\n",
    "    \n",
    "    # Step 3: Use train_test_split to split the remaining data\n",
    "    train_data, temp_data = train_test_split(remaining_data, test_size=(val_ratio + test_ratio))\n",
    "    val_data, test_data = train_test_split(temp_data, test_size=test_ratio / (val_ratio + test_ratio))\n",
    "    \n",
    "    return rag_db, train_data, val_data, test_data"
   ]
  },
  {
   "cell_type": "code",
   "execution_count": 7,
   "id": "4767c4d2ce245dcd",
   "metadata": {
    "ExecuteTime": {
     "end_time": "2024-06-09T10:22:11.718069Z",
     "start_time": "2024-06-09T10:22:11.705557Z"
    }
   },
   "outputs": [],
   "source": [
    "rag_db, train_data, val_data, test_data = split_data(chronicle_strict_match_template_list)"
   ]
  },
  {
   "cell_type": "code",
   "execution_count": 9,
   "id": "5d32e1be",
   "metadata": {},
   "outputs": [],
   "source": [
    "with open('../../llm4commit/data/angular_filtered/data_js.json', 'w', encoding='UTF-8') as f:\n",
    "    json.dump(chronicle_strict_match_template_list, f, ensure_ascii=False, indent=4)"
   ]
  },
  {
   "cell_type": "code",
   "execution_count": 8,
   "id": "74620b2dbf50f898",
   "metadata": {
    "ExecuteTime": {
     "end_time": "2024-06-09T10:23:02.654868Z",
     "start_time": "2024-06-09T10:23:02.467166Z"
    }
   },
   "outputs": [],
   "source": [
    "# save the data\n",
    "import json\n",
    "with open('../../llm4commit/data/angular_filtered/rag_db_js.json', 'w', encoding='UTF-8') as f:\n",
    "    json.dump(rag_db, f, ensure_ascii=False, indent=4)\n",
    "with open('../../llm4commit/data/angular_filtered/train_data_js.json', 'w', encoding='UTF-8') as f:\n",
    "    json.dump(train_data, f, ensure_ascii=False, indent=4)\n",
    "with open('../../llm4commit/data/angular_filtered/val_data_js.json', 'w', encoding='UTF-8') as f:\n",
    "    json.dump(val_data, f, ensure_ascii=False, indent=4)\n",
    "with open('../../llm4commit/data/angular_filtered/test_data_js.json', 'w', encoding='UTF-8') as f:\n",
    "    json.dump(test_data, f, ensure_ascii=False, indent=4)"
   ]
  },
  {
   "cell_type": "code",
   "execution_count": 23,
   "id": "67695e470bc3c868",
   "metadata": {
    "ExecuteTime": {
     "end_time": "2024-06-09T08:42:01.832440Z",
     "start_time": "2024-06-09T08:42:01.819399Z"
    }
   },
   "outputs": [
    {
     "data": {
      "text/plain": [
       "14"
      ]
     },
     "execution_count": 23,
     "metadata": {},
     "output_type": "execute_result"
    }
   ],
   "source": [
    "target_data[1]['diff'].count('diff --git')"
   ]
  },
  {
   "cell_type": "code",
   "execution_count": 16,
   "id": "5fccdbfea948657",
   "metadata": {
    "ExecuteTime": {
     "end_time": "2024-06-09T08:38:41.838312Z",
     "start_time": "2024-06-09T08:38:41.827789Z"
    }
   },
   "outputs": [
    {
     "data": {
      "text/plain": [
       "1"
      ]
     },
     "execution_count": 16,
     "metadata": {},
     "output_type": "execute_result"
    }
   ],
   "source": [
    "target_data[1020]['diff'].count('.js ')"
   ]
  },
  {
   "cell_type": "code",
   "execution_count": 30,
   "id": "1de744fb8c3b0d25",
   "metadata": {
    "ExecuteTime": {
     "end_time": "2024-06-09T08:45:53.947336Z",
     "start_time": "2024-06-09T08:45:50.167559Z"
    }
   },
   "outputs": [],
   "source": [
    "import json\n",
    "with open('../../../MCMD/raw_data/js_after_length_filter.json', 'w', encoding='UTF-8') as f:\n",
    "    json.dump(target_data, f, ensure_ascii=False, indent=4)"
   ]
  },
  {
   "cell_type": "code",
   "execution_count": 81,
   "id": "e7f5fe348a551696",
   "metadata": {
    "ExecuteTime": {
     "end_time": "2024-06-09T09:16:47.989119Z",
     "start_time": "2024-06-09T09:16:47.022288Z"
    }
   },
   "outputs": [],
   "source": []
  },
  {
   "cell_type": "code",
   "execution_count": 82,
   "id": "d6aa49f9d3dfea75",
   "metadata": {
    "ExecuteTime": {
     "end_time": "2024-06-09T09:16:54.067791Z",
     "start_time": "2024-06-09T09:16:54.057279Z"
    }
   },
   "outputs": [
    {
     "data": {
      "text/plain": [
       "110717"
      ]
     },
     "execution_count": 82,
     "metadata": {},
     "output_type": "execute_result"
    }
   ],
   "source": [
    "len(target_data)"
   ]
  },
  {
   "cell_type": "code",
   "execution_count": 14,
   "id": "cf7b2684adfd0cc7",
   "metadata": {
    "ExecuteTime": {
     "end_time": "2024-06-08T23:14:30.097516Z",
     "start_time": "2024-06-08T23:14:30.082005Z"
    }
   },
   "outputs": [
    {
     "data": {
      "text/plain": [
       "{'msg': 'fix : Channel closed error in ProcessContainer',\n",
       " 'diff': \"diff --git a/lib/ProcessContainer.js b/lib/ProcessContainer.js\\nindex c31fe35ba..ad624c76e 100644\\n--- a/lib/ProcessContainer.js\\n+++ b/lib/ProcessContainer.js\\n@@ -33,6 +33,14 @@ delete process.env.pm2_env;\\n   var script      = pm2_env.pm_exec_path;\\n   var cronRestart = pm2_env.cron_restart;\\n \\n+  var original_send = process.send;\\n+  process.send = function() {\\n+    if (process.connected)\\n+      original_send.apply(this, arguments);\\n+    else\\n+      console.error('IPC channel with master closed');\\n+  };\\n+\\n   if (cst.MODIFY_REQUIRE)\\n     require.main.filename = pm2_env.pm_exec_path;\\n \\n\",\n",
       " 'source': 'Unitech'}"
      ]
     },
     "execution_count": 14,
     "metadata": {},
     "output_type": "execute_result"
    }
   ],
   "source": [
    "target_data[65131]"
   ]
  },
  {
   "cell_type": "code",
   "execution_count": 13,
   "id": "e26e46c27ca30cef",
   "metadata": {
    "ExecuteTime": {
     "end_time": "2024-06-08T23:11:47.864411Z",
     "start_time": "2024-06-08T23:11:47.855894Z"
    }
   },
   "outputs": [
    {
     "data": {
      "text/plain": [
       "67230"
      ]
     },
     "execution_count": 13,
     "metadata": {},
     "output_type": "execute_result"
    }
   ],
   "source": [
    "len(target_data)"
   ]
  },
  {
   "cell_type": "code",
   "execution_count": 49,
   "id": "83720d2be07372ee",
   "metadata": {
    "ExecuteTime": {
     "end_time": "2024-06-09T08:57:11.935071Z",
     "start_time": "2024-06-09T08:57:11.809434Z"
    }
   },
   "outputs": [],
   "source": [
    "## output all msg to a txt file\n",
    "with open('../../../MCMD/raw_data/js_after_length_filter.msg.txt', 'w', encoding='UTF-8') as f:\n",
    "    for item in target_data:\n",
    "        f.write(item['msg'].replace('\\n', '\\\\n').replace('\\r', '\\\\r').lstrip() + '\\n')"
   ]
  },
  {
   "cell_type": "code",
   "execution_count": null,
   "id": "7e9248ac8a5fd215",
   "metadata": {},
   "outputs": [],
   "source": []
  },
  {
   "cell_type": "code",
   "execution_count": 32,
   "id": "523b56304a6bed98",
   "metadata": {
    "ExecuteTime": {
     "end_time": "2024-06-08T22:48:24.187024Z",
     "start_time": "2024-06-08T22:48:24.181777Z"
    }
   },
   "outputs": [
    {
     "data": {
      "text/plain": [
       "2523"
      ]
     },
     "execution_count": 32,
     "metadata": {},
     "output_type": "execute_result"
    }
   ],
   "source": [
    "len(repo_raw_data[0]['diff'])"
   ]
  },
  {
   "cell_type": "code",
   "execution_count": 30,
   "id": "844a99cc4d3b2d8e",
   "metadata": {
    "ExecuteTime": {
     "end_time": "2024-06-08T22:47:44.294843Z",
     "start_time": "2024-06-08T22:47:44.286330Z"
    }
   },
   "outputs": [
    {
     "data": {
      "text/plain": [
       "145"
      ]
     },
     "execution_count": 30,
     "metadata": {},
     "output_type": "execute_result"
    }
   ],
   "source": [
    "len(repo_raw_data[0]['diff'].split(\" \"))"
   ]
  },
  {
   "cell_type": "code",
   "execution_count": 26,
   "id": "4703a73115d9ec0a",
   "metadata": {
    "ExecuteTime": {
     "end_time": "2024-06-05T10:42:41.300362Z",
     "start_time": "2024-06-05T10:42:41.288363Z"
    }
   },
   "outputs": [],
   "source": [
    "assert len(train_diff) == len(train_msg)"
   ]
  },
  {
   "cell_type": "code",
   "execution_count": null,
   "id": "89faf2f620aaa488",
   "metadata": {},
   "outputs": [],
   "source": [
    "def process_diff(diff_text):\n",
    "    # Replace <nl> with \\n\n",
    "    diff_text = diff_text.replace('<nl>', '\\n')\n",
    "    diff_text = re.sub(r'(?<=\\S)\\s*([^\\w\\s])\\s*(?=\\S)', r'\\1', diff_text)\n",
    "    diff_text = re.sub(r'\\n\\s+', r'\\n', diff_text)\n",
    "    diff_text = diff_text.replace('mmm', 'diff --git')\n",
    "    diff_text = diff_text.replace('\\nppp', '')\n",
    "    return diff_text"
   ]
  },
  {
   "cell_type": "code",
   "execution_count": 32,
   "id": "46f6b465df6dfe84",
   "metadata": {
    "ExecuteTime": {
     "end_time": "2024-06-05T10:51:41.221046Z",
     "start_time": "2024-06-05T10:45:08.931979Z"
    }
   },
   "outputs": [],
   "source": [
    "from tqdm import tqdm\n",
    "diffs = []\n",
    "msgs = []\n",
    "for index, train_diff_item in tqdm(enumerate(train_diff), total=len(train_diff)):\n",
    "    diff = process_diff(train_diff_item)\n",
    "    msg = train_msg[index]\n",
    "    if diff.count(\".py\")==2 and len(diff)<=300 and len(msg)<=50:\n",
    "        diffs.append(diff)\n",
    "        msgs.append(msg)"
   ]
  },
  {
   "cell_type": "code",
   "execution_count": 35,
   "id": "271258575c753684",
   "metadata": {
    "ExecuteTime": {
     "end_time": "2024-06-05T11:02:06.461348Z",
     "start_time": "2024-06-05T11:02:06.441342Z"
    }
   },
   "outputs": [],
   "source": [
    "# Output the diffs list to a text file\n",
    "output_diff_file = '../../../MCMD/python/sort_random_train80_valid10_test10/train_diff_processed.txt'\n",
    "output_msg_file = '../../../MCMD/python/sort_random_train80_valid10_test10/train_msg_processed.txt'\n",
    "with open(output_diff_file, 'w', encoding='UTF-8') as f:\n",
    "    for diff in diffs:\n",
    "        f.write(diff + '\\n')\n",
    "with open(output_msg_file, 'w', encoding='UTF-8') as f:\n",
    "    for msg in msgs:\n",
    "        f.write(msg + '\\n')\n"
   ]
  },
  {
   "cell_type": "code",
   "execution_count": 11,
   "id": "91cb2632b0741b5b",
   "metadata": {
    "ExecuteTime": {
     "end_time": "2024-06-05T10:31:17.033785Z",
     "start_time": "2024-06-05T10:31:17.020757Z"
    }
   },
   "outputs": [],
   "source": [
    "print(len(diffs))"
   ]
  },
  {
   "cell_type": "code",
   "execution_count": 5,
   "id": "6a44a24a43368028",
   "metadata": {
    "ExecuteTime": {
     "end_time": "2024-03-27T14:28:04.584697Z",
     "start_time": "2024-03-27T14:27:53.358353Z"
    },
    "collapsed": false
   },
   "outputs": [],
   "source": [
    "import json\n",
    "\n",
    "selected_messages = []\n",
    "selected_languages = []\n",
    "selected_diffs = []\n",
    "nmt_msg = []\n",
    "nngen_msg = []\n",
    "\n",
    "def extract_diffs(indices, diff_file_path, nngen_path, nmt_path):\n",
    "    with open(diff_path, 'r', encoding='UTF-8') as diff_file:\n",
    "        diff_line = diff_file.readlines()\n",
    "    \n",
    "    with open(nngen_path, 'r', encoding='UTF-8') as nngen_file:\n",
    "        nngen_line = nngen_file.readlines()\n",
    "\n",
    "    with open(nmt_path, 'r', encoding='UTF-8') as nmt_file:\n",
    "        nmt_line = nmt_file.readlines()\n",
    "    \n",
    "    \n",
    "    for i in indices:\n",
    "        diff = process_diff(diff_line[i])\n",
    "        nngen = nngen_line[i]\n",
    "        nmt = nmt_line[i]\n",
    "        selected_diffs.append(diff)\n",
    "        nngen_msg.append(nngen)\n",
    "        nmt_msg.append(nmt)\n",
    "\n",
    "mcmd_base_path = \"../../MCMD\"\n",
    "models_base_path = \"./data\"\n",
    "\n",
    "languages = [\"java\", \"cpp\", \"csharp\", \"python\", \"javascript\"]\n",
    "file_names = [\"test.msg.txt\", \"test.diff.txt\"]\n",
    "\n",
    "test_msg_path = [f\"{mcmd_base_path}/{lang}/sort_random_train80_valid10_test10/test.msg.txt\" for lang in languages]\n",
    "test_diff_path = [f\"{mcmd_base_path}/{lang}/sort_random_train80_valid10_test10/test.diff.txt\" for lang in languages]\n",
    "\n",
    "nngen_msg_path = [f\"{models_base_path}/model_NNGen/data_MCMD/{lang}/split_random/gen.msg\" for lang in languages]\n",
    "nmt_msg_path = [f\"{models_base_path}/model_NMT/data_MCMD/{lang}/split_random/gen.msg\" for lang in languages]\n",
    "\n",
    "\n",
    "for msg_path, diff_path, nngen_path, nmt_path in zip(test_msg_path, test_diff_path, nngen_msg_path, nmt_msg_path):\n",
    "    selected_indices = []\n",
    "    with open(msg_path, 'r', encoding='UTF-8') as f:\n",
    "        count = 0\n",
    "        for i, line in enumerate(f):\n",
    "            if count>= 1000:\n",
    "                break\n",
    "            # line = process_msg(line)\n",
    "            if len(line.split()) >= 5:\n",
    "                selected_indices.append(i)\n",
    "                selected_messages.append(line.strip())\n",
    "                selected_languages.append(msg_path.split('/')[3])\n",
    "                count += 1\n",
    "            \n",
    "        extract_diffs(selected_indices, diff_path, nngen_path, nmt_path)\n",
    "\n",
    "# Create a list of dictionaries containing selected messages and diffs\n",
    "data = []\n",
    "for msg, diff, nngen, nmt, language in zip(selected_messages, selected_diffs, nngen_msg, nmt_msg, selected_languages):\n",
    "    item = {\n",
    "        'msg': msg,\n",
    "        'diff': diff,\n",
    "        'nngen': nngen,\n",
    "        'nmt': nmt,\n",
    "        'language': language\n",
    "    }\n",
    "    data.append(item)\n",
    "\n",
    "# Write the data to a JSON file\n",
    "with open('data/selected_data.json', 'w', encoding='UTF-8') as f:\n",
    "    json.dump(data, f, ensure_ascii=False, indent=4)\n"
   ]
  },
  {
   "cell_type": "code",
   "execution_count": 20,
   "id": "2ce23e68a300aeb1",
   "metadata": {
    "ExecuteTime": {
     "end_time": "2024-03-27T21:06:04.102066Z",
     "start_time": "2024-03-27T21:06:02.745014Z"
    },
    "collapsed": false
   },
   "outputs": [],
   "source": [
    "import torch\n",
    "from transformers import RobertaTokenizer, RobertaConfig, RobertaForCausalLM\n",
    "\n",
    "device = torch.device(\"cuda\" if torch.cuda.is_available() else \"cpu\")\n",
    "tokenizer = RobertaTokenizer.from_pretrained(\"microsoft/codebert-base\", cache_dir='./')\n",
    "model = RobertaForCausalLM.from_pretrained(\"microsoft/codebert-base\", cache_dir='./', is_decoder=True)\n",
    "model.to(device)"
   ]
  },
  {
   "cell_type": "code",
   "execution_count": 23,
   "id": "e5dcd48fff223c0",
   "metadata": {
    "ExecuteTime": {
     "end_time": "2024-03-27T21:06:28.526495Z",
     "start_time": "2024-03-27T21:06:28.514496Z"
    },
    "collapsed": false
   },
   "outputs": [],
   "source": [
    "def generate_description(code):\n",
    "    inputs = tokenizer(code, return_tensors=\"pt\").to(device)\n",
    "    outputs = model.generate(**inputs, max_length=128, num_return_sequences=1)\n",
    "    description = tokenizer.decode(outputs[0], skip_special_tokens=True)\n",
    "    return description"
   ]
  },
  {
   "cell_type": "code",
   "execution_count": 25,
   "id": "f0631b8c509117e5",
   "metadata": {
    "ExecuteTime": {
     "end_time": "2024-03-27T21:07:10.480127Z",
     "start_time": "2024-03-27T21:07:10.201355Z"
    },
    "collapsed": false
   },
   "outputs": [],
   "source": [
    "generate_description(\"The following is a diff which describes the code changes in a commit, Your task is to write a short commit message accordingly. diff --git a/src/gwt/src/org/rstudio/studio/client/workbench/views/source/editors/text/TextEditingTargetRenameHelper.java b/src/gwt/src/org/rstudio/studio/client/workbench/views/source/editors/text/TextEditingTargetRenameHelper.java\\nindex e8d986667..ce243ca1f 100644\\n--- a/src/gwt/src/org/rstudio/studio/client/workbench/views/source/editors/text/TextEditingTargetRenameHelper.java\\n+++ b/src/gwt/src/org/rstudio/studio/client/workbench/views/source/editors/text/TextEditingTargetRenameHelper.java\\n@@ -44,7 +44,7 @@ public class TextEditingTargetRenameHelper\\n       \\n       editor_.setCursorPosition(position);\\n       \\n-      // Validate that we're looking at an R identifier (TODO: refactor strings?)\\n+      // Validate that we're looking at an R identifier\\n       String targetValue = cursor.currentValue();\\n       String targetType = cursor.currentType();\\n       \\n@@ -104,7 +104,6 @@ public class TextEditingTargetRenameHelper\\n       }\\n       \\n       // Otherwise, just rename the variable within the current scope.\\n-      // TODO: Do we need to look into parent scopes?\\n       return renameVariablesInScope(\\n             editor_.getCurrentScope(),\\n             targetValue,\\nAccording to the diff, the commit message should be:\")"
   ]
  },
  {
   "cell_type": "code",
   "execution_count": null,
   "id": "efb3f43632915f4",
   "metadata": {
    "collapsed": false
   },
   "outputs": [],
   "source": []
  }
 ],
 "metadata": {
  "kernelspec": {
   "display_name": "Python 3",
   "language": "python",
   "name": "python3"
  },
  "language_info": {
   "codemirror_mode": {
    "name": "ipython",
    "version": 3
   },
   "file_extension": ".py",
   "mimetype": "text/x-python",
   "name": "python",
   "nbconvert_exporter": "python",
   "pygments_lexer": "ipython3",
   "version": "3.10.14"
  }
 },
 "nbformat": 4,
 "nbformat_minor": 5
}
