{
 "cells": [
  {
   "cell_type": "code",
   "execution_count": 15,
   "id": "initial_id",
   "metadata": {
    "collapsed": true,
    "ExecuteTime": {
     "end_time": "2024-04-15T16:58:27.164770Z",
     "start_time": "2024-04-15T16:58:27.147765Z"
    }
   },
   "outputs": [],
   "source": [
    "def extract_content(file_path):\n",
    "    with open(file_path, 'r', encoding='UTF-8') as file:\n",
    "        lines = file.readlines()\n",
    "    \n",
    "    contents = []\n",
    "    current_content = \"\"\n",
    "    \n",
    "    for line in lines:\n",
    "        if line.startswith(\"index:\"):\n",
    "            # 如果当前内容不为空，则添加到结果列表中\n",
    "            if current_content.strip():\n",
    "                # 去除开头和结尾的引号\n",
    "                current_content = current_content.strip().strip('\"')\n",
    "                contents.append(current_content)\n",
    "            current_content = \"\"  # 重置当前内容\n",
    "        else:\n",
    "            current_content += line.strip() + \" \"  # 将当前行添加到当前内容中\n",
    "    \n",
    "    # 添加最后一个内容到结果列表\n",
    "    if current_content.strip():\n",
    "        # 去除开头和结尾的引号\n",
    "        current_content = current_content.strip().strip('\"')\n",
    "        contents.append(current_content)\n",
    "    \n",
    "    return contents\n",
    "\n",
    "def merge_contents(file_paths):\n",
    "    merged_contents = []\n",
    "    for file_path in file_paths:\n",
    "        contents = extract_content(file_path)\n",
    "        merged_contents.extend(contents)\n",
    "    return merged_contents\n",
    "\n",
    "file_paths = [\"../logs/llama2-7b-output1.txt\", \"../logs/llama2-7b-output2.txt\"]\n",
    "merged_contents = merge_contents(file_paths)"
   ]
  },
  {
   "cell_type": "code",
   "outputs": [],
   "source": [
    "import json\n",
    "with open('../data/msg_nngen_nmt_codebert_chatgpt_rag.json', 'r', encoding='UTF-8') as f:\n",
    "    org_data = json.load(f)\n",
    "\n",
    "for item, llama_msg in zip(org_data, merged_contents):\n",
    "    item['llama2'] = llama_msg\n",
    "\n",
    "output_file = '../data/msg_nngen_nmt_codebert_chatgpt_rag_llama2.json'\n",
    "with open(output_file, 'w', encoding='UTF-8') as f:\n",
    "    json.dump(org_data, f, ensure_ascii=False, indent=4)"
   ],
   "metadata": {
    "collapsed": false,
    "ExecuteTime": {
     "end_time": "2024-04-15T16:58:52.231879Z",
     "start_time": "2024-04-15T16:58:52.021394Z"
    }
   },
   "id": "db83a68142665753",
   "execution_count": 21
  },
  {
   "cell_type": "code",
   "outputs": [
    {
     "data": {
      "text/plain": "'\"Fixes drawing issue in PieChartRenderer by adding extra canvas for circles and center text.\"'"
     },
     "execution_count": 13,
     "metadata": {},
     "output_type": "execute_result"
    }
   ],
   "source": [
    "merged_contents[0]"
   ],
   "metadata": {
    "collapsed": false,
    "ExecuteTime": {
     "end_time": "2024-04-15T16:56:00.610101Z",
     "start_time": "2024-04-15T16:56:00.603100Z"
    }
   },
   "id": "b7d16f0dd4f5c555",
   "execution_count": 13
  },
  {
   "cell_type": "code",
   "outputs": [],
   "source": [],
   "metadata": {
    "collapsed": false
   },
   "id": "1c8fa3f6d17e2c24"
  }
 ],
 "metadata": {
  "kernelspec": {
   "display_name": "Python 3",
   "language": "python",
   "name": "python3"
  },
  "language_info": {
   "codemirror_mode": {
    "name": "ipython",
    "version": 2
   },
   "file_extension": ".py",
   "mimetype": "text/x-python",
   "name": "python",
   "nbconvert_exporter": "python",
   "pygments_lexer": "ipython2",
   "version": "2.7.6"
  }
 },
 "nbformat": 4,
 "nbformat_minor": 5
}
