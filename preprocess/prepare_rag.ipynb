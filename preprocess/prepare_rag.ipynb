{
 "cells": [
  {
   "cell_type": "code",
   "execution_count": 8,
   "id": "initial_id",
   "metadata": {
    "collapsed": true,
    "ExecuteTime": {
     "end_time": "2024-04-14T18:36:28.795022Z",
     "start_time": "2024-04-14T18:36:28.758602Z"
    }
   },
   "source": [
    "import re\n",
    "def process_diff(diff_text):\n",
    "    # Replace <nl> with \\n\n",
    "    diff_text = diff_text.replace('<nl>', '\\n')\n",
    "    diff_text = re.sub(r'(?<=\\S)\\s*([^\\w\\s])\\s*(?=\\S)', r'\\1', diff_text)\n",
    "    diff_text = re.sub(r'\\n\\s+', r'\\n', diff_text)\n",
    "    diff_text = diff_text.replace('mmm', 'diff --git')\n",
    "    diff_text = diff_text.replace('\\nppp', '')\n",
    "    return diff_text"
   ],
   "outputs": []
  },
  {
   "cell_type": "code",
   "source": [
    "languages = [\"java\", \"cpp\", \"csharp\", \"python\", \"javascript\"]\n",
    "mcmd_base_path = \"../../../MCMD\""
   ],
   "metadata": {
    "collapsed": false,
    "ExecuteTime": {
     "end_time": "2024-04-14T18:36:47.735731Z",
     "start_time": "2024-04-14T18:36:47.723731Z"
    }
   },
   "id": "418f4b5e353b1294",
   "execution_count": 9,
   "outputs": []
  },
  {
   "cell_type": "code",
   "source": [
    "train_msg_path = [f\"{mcmd_base_path}/{lang}/sort_random_train80_valid10_test10/train.msg.txt\" for lang in languages]\n",
    "train_diff_path = [f\"{mcmd_base_path}/{lang}/sort_random_train80_valid10_test10/train.diff.txt\" for lang in languages]"
   ],
   "metadata": {
    "collapsed": false,
    "ExecuteTime": {
     "end_time": "2024-04-14T19:23:31.878918Z",
     "start_time": "2024-04-14T19:23:31.866406Z"
    }
   },
   "id": "bb355c28ace6c784",
   "execution_count": 25,
   "outputs": []
  },
  {
   "cell_type": "code",
   "source": [
    "from tqdm import tqdm\n",
    "selected_messages = []\n",
    "selected_diffs = []\n",
    "selected_languages = []\n",
    "# use tqdm to show progress bar\n",
    "for msg_path, diff_path in zip(train_msg_path, train_diff_path):\n",
    "    count = 0\n",
    "    # collect 100000 messages and diffs\n",
    "    with open(msg_path, 'r', encoding='UTF-8') as f:\n",
    "        messages = f.readlines()\n",
    "    with open(diff_path, 'r', encoding='UTF-8') as f:\n",
    "        diffs = f.readlines()\n",
    "    # Iterate over messages and diffs simultaneously\n",
    "    total_count = 100000\n",
    "    with tqdm(total=total_count, desc=\"Processing messages\") as pbar:\n",
    "        for message, diff in zip(messages, diffs):\n",
    "            # Check if message length is at least 5 characters\n",
    "            if len(message.strip()) >= 5 and len(process_diff(diff)) <= 3000:\n",
    "                selected_messages.append(message.strip())\n",
    "                selected_diffs.append(process_diff(diff))\n",
    "                selected_languages.append(msg_path.split('/')[-3])\n",
    "                count += 1\n",
    "                pbar.update(1)  # 更新进度条\n",
    "            if count >= total_count:\n",
    "                break"
   ],
   "metadata": {
    "collapsed": false,
    "ExecuteTime": {
     "end_time": "2024-04-14T19:47:18.448565Z",
     "start_time": "2024-04-14T19:23:36.182509Z"
    }
   },
   "id": "3fbcd4a1ea2da042",
   "execution_count": 26,
   "outputs": []
  },
  {
   "cell_type": "code",
   "source": [
    "import json\n",
    "data = []\n",
    "\n",
    "assert len(selected_messages) == len(selected_diffs) == len(selected_languages) == 500000\n",
    "for msg, diff, language in zip(selected_messages, selected_diffs, selected_languages):\n",
    "    item = {\n",
    "        'msg': msg,\n",
    "        'diff': diff,\n",
    "        'language': language\n",
    "    }\n",
    "    data.append(item)\n",
    "\n",
    "# Write the data to a JSON file\n",
    "with open('../data/rag_data.json', 'w', encoding='UTF-8') as f:\n",
    "    json.dump(data, f, ensure_ascii=False, indent=4)"
   ],
   "metadata": {
    "collapsed": false,
    "ExecuteTime": {
     "end_time": "2024-04-14T20:08:08.020857Z",
     "start_time": "2024-04-14T20:07:53.192425Z"
    }
   },
   "id": "c1b9935eebf1647d",
   "execution_count": 27,
   "outputs": []
  },
  {
   "cell_type": "code",
   "source": [
    "len(selected_messages)"
   ],
   "metadata": {
    "collapsed": false,
    "ExecuteTime": {
     "end_time": "2024-04-14T20:08:25.587468Z",
     "start_time": "2024-04-14T20:08:25.567328Z"
    }
   },
   "id": "c0fe131739a48508",
   "execution_count": 28,
   "outputs": []
  },
  {
   "cell_type": "code",
   "source": [],
   "metadata": {
    "collapsed": false
   },
   "id": "d5ae0dfab3918c6e",
   "execution_count": null,
   "outputs": []
  }
 ],
 "metadata": {
  "kernelspec": {
   "display_name": "Python 3",
   "language": "python",
   "name": "python3"
  },
  "language_info": {
   "codemirror_mode": {
    "name": "ipython",
    "version": 2
   },
   "file_extension": ".py",
   "mimetype": "text/x-python",
   "name": "python",
   "nbconvert_exporter": "python",
   "pygments_lexer": "ipython2",
   "version": "2.7.6"
  }
 },
 "nbformat": 4,
 "nbformat_minor": 5
}
