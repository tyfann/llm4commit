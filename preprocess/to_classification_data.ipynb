{
 "cells": [
  {
   "cell_type": "markdown",
   "metadata": {},
   "source": [
    "## Angular format"
   ]
  },
  {
   "cell_type": "code",
   "metadata": {
    "ExecuteTime": {
     "end_time": "2024-06-26T15:55:58.938392Z",
     "start_time": "2024-06-26T15:55:58.861479Z"
    }
   },
   "source": [
    "import json\n",
    "import random\n",
    "\n",
    "# 读取mapping.txt文件\n",
    "def read_mapping(file_path):\n",
    "    mapping = {}\n",
    "    with open(file_path, 'r') as f:\n",
    "        for line in f:\n",
    "            key, value = line.strip().split(': ')\n",
    "            mapping[key] = int(value)\n",
    "    return mapping\n",
    "\n",
    "# 读取json文件\n",
    "def read_json(file_path):\n",
    "    with open(file_path, 'r') as f:\n",
    "        data = json.load(f)\n",
    "    return data\n",
    "\n",
    "# 写入jsonl文件\n",
    "def write_jsonl(file_path, data):\n",
    "    with open(file_path, 'w') as f:\n",
    "        for item in data:\n",
    "            json.dump(item, f)\n",
    "            f.write('\\n')\n",
    "\n",
    "# 主函数\n",
    "def main(mapping_file, json_file, output_file):\n",
    "    # 读取mapping和json数据\n",
    "    mapping = read_mapping(mapping_file)\n",
    "    json_data = read_json(json_file)\n",
    "    # random.seed(42)\n",
    "    # random.shuffle(json_data)\n",
    "\n",
    "    # 生成新的jsonl数据\n",
    "    new_data = []\n",
    "    for item in json_data:\n",
    "        new_item = {\n",
    "            \"code\": item[\"diff\"],\n",
    "            \"label\": mapping[item[\"type\"]]\n",
    "        }\n",
    "        new_data.append(new_item)\n",
    "\n",
    "    # 写入新的jsonl文件\n",
    "    write_jsonl(output_file, new_data)\n",
    "\n",
    "# 调用主函数\n",
    "mapping_file = '../data/vdo_filtered/classification/type_label_mapping.txt'\n",
    "json_file = '../data/vdo_filtered/dev_test_data.json'\n",
    "output_file = '../../CodeBERT-classification/dataset/dev_test_vdo.jsonl'\n",
    "main(mapping_file, json_file, output_file)"
   ],
   "outputs": [],
   "execution_count": 4
  },
  {
   "cell_type": "code",
   "metadata": {
    "ExecuteTime": {
     "end_time": "2024-06-21T09:40:54.692616Z",
     "start_time": "2024-06-21T09:40:54.668628Z"
    }
   },
   "source": [
    "import json\n",
    "import os\n",
    "# List of types and their corresponding labels\n",
    "types = [\n",
    "    'build', 'ci', 'docs', 'feat', 'fix', \n",
    "    'perf', 'refactor', 'style', 'test', 'chore'\n",
    "]\n",
    "type_label_mapping = {type_name: idx for idx, type_name in enumerate(types)}\n",
    "all_test_items = []\n",
    "\n",
    "# Read and process all test JSON files\n",
    "test_file = os.path.join('../data/angular_filtered/subsets', 'dev_test.json')\n",
    "if os.path.exists(test_file):\n",
    "    with open(test_file, 'r') as f:\n",
    "        items = json.load(f)\n",
    "        for item in items:\n",
    "            all_test_items.append({\n",
    "                \"code\": item['diff'],\n",
    "                \"label\": type_label_mapping[item['type']]\n",
    "            })\n",
    "\n",
    "# Save all items to a single JSONL file\n",
    "with open(os.path.join('../data/angular_filtered/subsets/classification', 'angular_dev_test.jsonl'), 'w') as jsonl_file:\n",
    "    for item in all_test_items:\n",
    "        jsonl_file.write(json.dumps(item) + '\\n')\n",
    "\n",
    "print(\"Merging and conversion to JSONL completed.\")"
   ],
   "outputs": [
    {
     "name": "stdout",
     "output_type": "stream",
     "text": [
      "Merging and conversion to JSONL completed.\n"
     ]
    }
   ],
   "execution_count": 1
  },
  {
   "cell_type": "markdown",
   "metadata": {},
   "source": [
    "## V-DO format"
   ]
  },
  {
   "cell_type": "code",
   "metadata": {
    "ExecuteTime": {
     "end_time": "2024-06-24T10:10:05.451040Z",
     "start_time": "2024-06-24T10:10:05.424495Z"
    }
   },
   "source": [
    "import json\n",
    "\n",
    "\n",
    "# 读取json文件\n",
    "def read_json(file_path):\n",
    "    with open(file_path, 'r') as f:\n",
    "        data = json.load(f)\n",
    "    return data\n",
    "\n",
    "# 写入jsonl文件\n",
    "def write_jsonl(file_path, data):\n",
    "    with open(file_path, 'w') as f:\n",
    "        for item in data:\n",
    "            json.dump(item, f)\n",
    "            f.write('\\n')\n",
    "\n",
    "# 主函数\n",
    "def main(json_file, output_file):\n",
    "    # 读取mapping和json数据\n",
    "    json_data = read_json(json_file)\n",
    "\n",
    "    # 生成新的jsonl数据\n",
    "    new_data = []\n",
    "    for item in json_data:\n",
    "        new_item = {\n",
    "            \"code\": item[\"diff\"],\n",
    "            \"label\": 0\n",
    "        }\n",
    "        new_data.append(new_item)\n",
    "\n",
    "    # 写入新的jsonl文件\n",
    "    write_jsonl(output_file, new_data)\n",
    "\n",
    "# 调用主函数\n",
    "json_file = '../data/vdo_filtered/lemma_dev_test_150.json'\n",
    "output_file = '../data/vdo_filtered/classification/vdo_test_dev_150.jsonl'\n",
    "main(json_file, output_file)"
   ],
   "outputs": [],
   "execution_count": 2
  },
  {
   "cell_type": "code",
   "execution_count": null,
   "metadata": {},
   "outputs": [],
   "source": []
  }
 ],
 "metadata": {
  "kernelspec": {
   "display_name": "llm4commit",
   "language": "python",
   "name": "python3"
  },
  "language_info": {
   "codemirror_mode": {
    "name": "ipython",
    "version": 3
   },
   "file_extension": ".py",
   "mimetype": "text/x-python",
   "name": "python",
   "nbconvert_exporter": "python",
   "pygments_lexer": "ipython3",
   "version": "3.10.14"
  }
 },
 "nbformat": 4,
 "nbformat_minor": 2
}
