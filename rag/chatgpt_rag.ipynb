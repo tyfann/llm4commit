{
 "cells": [
  {
   "cell_type": "code",
   "id": "initial_id",
   "metadata": {
    "collapsed": true,
    "ExecuteTime": {
     "end_time": "2024-06-27T13:19:18.418955Z",
     "start_time": "2024-06-27T13:19:18.183981Z"
    }
   },
   "source": [
    "from openai import OpenAI\n",
    "\n",
    "client = OpenAI(\n",
    "    # defaults to os.environ.get(\"OPENAI_API_KEY\")\n",
    "    api_key=\"\",\n",
    "    # base_url=\"https://api.chatanywhere.tech/v1\"\n",
    "    base_url=\"https://api.chatanywhere.cn/v1\"\n",
    ")"
   ],
   "outputs": [],
   "execution_count": 11
  },
  {
   "cell_type": "code",
   "source": [
    "def gpt_35_api(messages: list):\n",
    "\n",
    "    completion = client.chat.completions.create(model=\"gpt-3.5-turbo-0125\", messages=messages, temperature=0)\n",
    "    return completion.choices[0].message.content"
   ],
   "metadata": {
    "collapsed": false,
    "ExecuteTime": {
     "end_time": "2024-06-27T13:19:18.715283Z",
     "start_time": "2024-06-27T13:19:18.697763Z"
    }
   },
   "id": "ec804f733bdb1890",
   "outputs": [],
   "execution_count": 12
  },
  {
   "cell_type": "code",
   "source": [
    "import json\n",
    "from tqdm import tqdm"
   ],
   "metadata": {
    "collapsed": false,
    "ExecuteTime": {
     "end_time": "2024-06-27T13:19:19.898032Z",
     "start_time": "2024-06-27T13:19:19.880084Z"
    }
   },
   "id": "1929b998d5ce80de",
   "outputs": [],
   "execution_count": 13
  },
  {
   "metadata": {},
   "cell_type": "markdown",
   "source": "## Classification enhanced RAG",
   "id": "17e88070dfc5776a"
  },
  {
   "cell_type": "code",
   "source": [
    "# from langchain import hub\n",
    "# \n",
    "# prompt = hub.pull(\"tyfann/llm4commit-rag:b843ef0b\")\n",
    "\n",
    "from langchain import hub\n",
    "prompt = hub.pull(\"tyfann/llm4commit-rag\")"
   ],
   "metadata": {
    "collapsed": false,
    "ExecuteTime": {
     "end_time": "2024-06-27T13:19:23.415942Z",
     "start_time": "2024-06-27T13:19:22.725694Z"
    }
   },
   "id": "fdb997cde6ec8ef0",
   "outputs": [],
   "execution_count": 14
  },
  {
   "metadata": {
    "ExecuteTime": {
     "end_time": "2024-06-27T13:27:04.972325Z",
     "start_time": "2024-06-27T13:19:51.477380Z"
    }
   },
   "cell_type": "code",
   "source": [
    "# for model in ['mxbai', 'miniLM']:\n",
    "for model in ['model_classified_rag']:\n",
    "    with open(f'../data/vdo_filtered/generation/rag/dev_test_{model}_prompt.json', 'r', encoding='UTF-8') as f:\n",
    "        org_data = json.load(f)\n",
    "    gpt_msg = []\n",
    "    for index, data in tqdm(enumerate(org_data), total=len(org_data), desc=\"Processing documents\"):\n",
    "        # merged_diff = '\\n'.join(diff['diff'] for diff in data['diff'])\n",
    "        messages = prompt.invoke(\n",
    "            {\"context\": data['sim_diff'], \"msg\": data['sim_msg'], \"type\": data['classifier_type'], \"diff\": data['diff']}\n",
    "        ).to_messages()\n",
    "        example_prompt = [{'role': 'user','content': messages[0].content},]\n",
    "        try:\n",
    "            gpt_msg.append(gpt_35_api(example_prompt))\n",
    "        except:\n",
    "            print(index)\n",
    "            gpt_msg.append('')\n",
    "        # gpt_msg.append(gpt_35_api(example_prompt))\n",
    "    \n",
    "    for item, msg in zip(org_data, gpt_msg):\n",
    "        item['chatgpt_rag'] = msg\n",
    "    \n",
    "    output_file = f'../data/vdo_filtered/generation/dev_test_gpt35_{model}.json'\n",
    "    with open(output_file, 'w', encoding='UTF-8') as f:\n",
    "        json.dump(org_data, f, ensure_ascii=False, indent=4)\n",
    "        \n",
    "    output_file = f'../data/vdo_filtered/generation/dev_test_gpt35_{model}.txt'\n",
    "    with open(output_file, 'w', encoding='UTF-8') as f:\n",
    "        for item in org_data:\n",
    "            f.write(item['chatgpt_rag'].replace('\\n', '\\\\n').replace('\\r', '\\\\r') + '\\n')"
   ],
   "id": "df5474355f8505dd",
   "outputs": [
    {
     "name": "stderr",
     "output_type": "stream",
     "text": [
      "Processing documents: 100%|██████████| 567/567 [07:13<00:00,  1.31it/s]\n"
     ]
    }
   ],
   "execution_count": 15
  },
  {
   "metadata": {
    "ExecuteTime": {
     "end_time": "2024-06-27T15:10:24.412622Z",
     "start_time": "2024-06-27T15:10:24.072845Z"
    }
   },
   "cell_type": "code",
   "source": [
    "with open(f'../data/angular_filtered/subsets/db_data.json', 'r', encoding='UTF-8') as f:\n",
    "    db_data = json.load(f)\n",
    "    \n",
    "with open(f'../data/angular_filtered/subsets/test_data.json', 'r', encoding='UTF-8') as f:\n",
    "    test_data = json.load(f)"
   ],
   "id": "4a793b9f03163ac5",
   "outputs": [],
   "execution_count": 17
  },
  {
   "metadata": {
    "ExecuteTime": {
     "end_time": "2024-06-27T15:10:30.176894Z",
     "start_time": "2024-06-27T15:10:30.147760Z"
    }
   },
   "cell_type": "code",
   "source": "len(db_data), len(test_data)",
   "id": "487488fd3b9c57b4",
   "outputs": [
    {
     "data": {
      "text/plain": [
       "(50703, 5636)"
      ]
     },
     "execution_count": 18,
     "metadata": {},
     "output_type": "execute_result"
    }
   ],
   "execution_count": 18
  },
  {
   "metadata": {
    "ExecuteTime": {
     "end_time": "2024-06-27T15:10:43.168967Z",
     "start_time": "2024-06-27T15:10:43.155453Z"
    }
   },
   "cell_type": "code",
   "source": "len(db_data) + len(test_data)",
   "id": "b3d555b27bbae692",
   "outputs": [
    {
     "data": {
      "text/plain": [
       "56339"
      ]
     },
     "execution_count": 19,
     "metadata": {},
     "output_type": "execute_result"
    }
   ],
   "execution_count": 19
  },
  {
   "cell_type": "code",
   "source": [
    "gpt_msg = []\n",
    "for index, data in tqdm(enumerate(org_data), total=len(org_data), desc=\"Processing documents\"):\n",
    "    messages = prompt.invoke(\n",
    "        {\"context\": data['sim_diff'], \"msg\": data['sim_msg'], \"diff\": data['diff']}\n",
    "    ).to_messages()\n",
    "    example_prompt = [{'role': 'user','content': messages[0].content},]\n",
    "    try:\n",
    "        gpt_msg.append(gpt_35_api(example_prompt))\n",
    "    except:\n",
    "        print(index)\n",
    "        gpt_msg.append(\"\")\n",
    "\n",
    "for item, msg in zip(org_data, gpt_msg):\n",
    "    item['chatgpt_rag'] = msg\n",
    "\n",
    "output_file = '../data/angular_filtered/test_result/test_data_js_gpt35_rag_golden.json'\n",
    "with open(output_file, 'w', encoding='UTF-8') as f:\n",
    "    json.dump(org_data, f, ensure_ascii=False, indent=4)\n",
    "\n",
    "output_file = '../data/angular_filtered/test_result/test_data_js_gpt35_rag_golden.txt'\n",
    "with open(output_file, 'w', encoding='UTF-8') as f:\n",
    "    for item in org_data:\n",
    "        f.write(item['chatgpt_rag'] + '\\n')"
   ],
   "metadata": {
    "collapsed": false,
    "ExecuteTime": {
     "end_time": "2024-06-10T08:54:21.684512Z",
     "start_time": "2024-06-10T08:47:49.286180Z"
    }
   },
   "id": "6104b8546eaddbf1",
   "outputs": [
    {
     "name": "stderr",
     "output_type": "stream",
     "text": [
      "Processing documents: 100%|██████████| 505/505 [06:32<00:00,  1.29it/s]\n"
     ]
    }
   ],
   "execution_count": 6
  },
  {
   "metadata": {},
   "cell_type": "markdown",
   "source": "## Vanilla RAG",
   "id": "e0d91c154b3e3b25"
  },
  {
   "metadata": {
    "ExecuteTime": {
     "end_time": "2024-06-27T12:39:05.434827Z",
     "start_time": "2024-06-27T12:39:05.046708Z"
    }
   },
   "cell_type": "code",
   "source": [
    "from langchain import hub\n",
    "prompt = hub.pull(\"tyfann/llm4commit-rag:b843ef0b\")"
   ],
   "id": "ef76484886f1376",
   "outputs": [],
   "execution_count": 8
  },
  {
   "metadata": {
    "ExecuteTime": {
     "end_time": "2024-06-27T12:46:38.474907Z",
     "start_time": "2024-06-27T12:39:13.366650Z"
    }
   },
   "cell_type": "code",
   "source": [
    "# for model in ['mxbai', 'miniLM']:\n",
    "for model in ['rag']:\n",
    "    basic_folder = '../data/vdo_filtered/generation'\n",
    "    with open(f'{basic_folder}/rag/dev_test_{model}_prompt.json', 'r', encoding='UTF-8') as f:\n",
    "        org_data = json.load(f)\n",
    "    gpt_msg = []\n",
    "    for index, data in tqdm(enumerate(org_data), total=len(org_data), desc=\"Processing documents\"):\n",
    "        # merged_diff = '\\n'.join(diff['diff'] for diff in data['diff'])\n",
    "        messages = prompt.invoke(\n",
    "            {\"context\": data['sim_diff'], \"msg\": data['sim_msg'], \"diff\": data['diff']}\n",
    "        ).to_messages()\n",
    "        example_prompt = [{'role': 'user','content': messages[0].content},]\n",
    "        try:\n",
    "            gpt_msg.append(gpt_35_api(example_prompt))\n",
    "        except:\n",
    "            print(index)\n",
    "            gpt_msg.append('')\n",
    "        # gpt_msg.append(gpt_35_api(example_prompt))\n",
    "    \n",
    "    for item, msg in zip(org_data, gpt_msg):\n",
    "        item['chatgpt_rag'] = msg\n",
    "    \n",
    "    output_file = f'{basic_folder}/dev_test_gpt35_{model}.json'\n",
    "    with open(output_file, 'w', encoding='UTF-8') as f:\n",
    "        json.dump(org_data, f, ensure_ascii=False, indent=4)\n",
    "        \n",
    "    output_file = f'{basic_folder}/dev_test_gpt35_{model}.txt'\n",
    "    with open(output_file, 'w', encoding='UTF-8') as f:\n",
    "        for item in org_data:\n",
    "            f.write(item['chatgpt_rag'].replace('\\n', '\\\\n').replace('\\r', '\\\\r') + '\\n')"
   ],
   "id": "ad9aa7fb74a573c7",
   "outputs": [
    {
     "name": "stderr",
     "output_type": "stream",
     "text": [
      "Processing documents: 100%|██████████| 567/567 [07:25<00:00,  1.27it/s]\n"
     ]
    }
   ],
   "execution_count": 10
  },
  {
   "metadata": {},
   "cell_type": "code",
   "outputs": [],
   "execution_count": null,
   "source": [
    "# for model in ['mxbai', 'miniLM']:\n",
    "for model in ['rag']:\n",
    "    basic_folder = '../data/vdo_filtered/generation'\n",
    "    with open(f'{basic_folder}/rag/dev_test_{model}_prompt.json', 'r', encoding='UTF-8') as f:\n",
    "        org_data = json.load(f)\n",
    "    gpt_msg = []\n",
    "    for index, data in tqdm(enumerate(org_data), total=len(org_data), desc=\"Processing documents\"):\n",
    "        # merged_diff = '\\n'.join(diff['diff'] for diff in data['diff'])\n",
    "        messages = prompt.invoke(\n",
    "            {\"context\": data['sim_diff'], \"msg\": data['sim_msg'], \"diff\": data['diff']}\n",
    "        ).to_messages()\n",
    "        example_prompt = [{'role': 'user','content': messages[0].content},]\n",
    "        try:\n",
    "            gpt_msg.append(gpt_35_api(example_prompt))\n",
    "        except:\n",
    "            print(index)\n",
    "            gpt_msg.append('')\n",
    "        # gpt_msg.append(gpt_35_api(example_prompt))\n",
    "    \n",
    "    for item, msg in zip(org_data, gpt_msg):\n",
    "        item['chatgpt_rag'] = msg\n",
    "    \n",
    "    output_file = f'{basic_folder}/dev_test_gpt35_{model}.json'\n",
    "    with open(output_file, 'w', encoding='UTF-8') as f:\n",
    "        json.dump(org_data, f, ensure_ascii=False, indent=4)\n",
    "        \n",
    "    output_file = f'{basic_folder}/dev_test_gpt35_{model}.txt'\n",
    "    with open(output_file, 'w', encoding='UTF-8') as f:\n",
    "        for item in org_data:\n",
    "            f.write(item['chatgpt_rag'].replace('\\n', '\\\\n').replace('\\r', '\\\\r') + '\\n')"
   ],
   "id": "afe69ccfbf23e45a"
  }
 ],
 "metadata": {
  "kernelspec": {
   "display_name": "Python 3",
   "language": "python",
   "name": "python3"
  },
  "language_info": {
   "codemirror_mode": {
    "name": "ipython",
    "version": 2
   },
   "file_extension": ".py",
   "mimetype": "text/x-python",
   "name": "python",
   "nbconvert_exporter": "python",
   "pygments_lexer": "ipython2",
   "version": "2.7.6"
  }
 },
 "nbformat": 4,
 "nbformat_minor": 5
}
