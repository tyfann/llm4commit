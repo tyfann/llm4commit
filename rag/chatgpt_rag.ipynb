{
 "cells": [
  {
   "cell_type": "code",
   "execution_count": 13,
   "id": "initial_id",
   "metadata": {
    "collapsed": true,
    "ExecuteTime": {
     "end_time": "2024-04-23T15:43:52.409950Z",
     "start_time": "2024-04-23T15:43:52.199627Z"
    }
   },
   "outputs": [],
   "source": [
    "from openai import OpenAI\n",
    "\n",
    "client = OpenAI(\n",
    "    # defaults to os.environ.get(\"OPENAI_API_KEY\")\n",
    "    api_key=\"sk-0rLvuRkMiD4Mw25QYygh6rUlZVjpQWNGNF4yez7z3PZ7yCOm\",\n",
    "    # api_key=\"sk-tMbkq3K1iO5vf0FRMlrmzslGXJZwE0us3mve4QXuvpnZcumG\",\n",
    "    base_url=\"https://api.chatanywhere.tech/v1\"\n",
    "    # base_url=\"https://api.chatanywhere.cn/v1\"\n",
    ")"
   ]
  },
  {
   "cell_type": "code",
   "outputs": [],
   "source": [
    "def gpt_35_api(messages: list):\n",
    "\n",
    "    completion = client.chat.completions.create(model=\"gpt-3.5-turbo-0125\", messages=messages, temperature=0.5)\n",
    "    return completion.choices[0].message.content"
   ],
   "metadata": {
    "collapsed": false,
    "ExecuteTime": {
     "end_time": "2024-04-23T15:43:53.748979Z",
     "start_time": "2024-04-23T15:43:53.732430Z"
    }
   },
   "id": "ec804f733bdb1890",
   "execution_count": 14
  },
  {
   "cell_type": "code",
   "outputs": [],
   "source": [
    "import json\n",
    "from tqdm import tqdm"
   ],
   "metadata": {
    "collapsed": false,
    "ExecuteTime": {
     "end_time": "2024-04-23T15:43:54.344036Z",
     "start_time": "2024-04-23T15:43:54.326511Z"
    }
   },
   "id": "1929b998d5ce80de",
   "execution_count": 15
  },
  {
   "cell_type": "code",
   "outputs": [],
   "source": [
    "from langchain import hub\n",
    "\n",
    "prompt = hub.pull(\"tyfann/llm4commit-rag\")"
   ],
   "metadata": {
    "collapsed": false,
    "ExecuteTime": {
     "end_time": "2024-04-23T15:43:55.961219Z",
     "start_time": "2024-04-23T15:43:55.120003Z"
    }
   },
   "id": "fdb997cde6ec8ef0",
   "execution_count": 16
  },
  {
   "cell_type": "code",
   "outputs": [],
   "source": [
    "with open('../data/chronicle/data_with_similar_diff.json', 'r', encoding='UTF-8') as f:\n",
    "    org_data = json.load(f)"
   ],
   "metadata": {
    "collapsed": false,
    "ExecuteTime": {
     "end_time": "2024-04-23T15:44:02.127609Z",
     "start_time": "2024-04-23T15:44:02.022274Z"
    }
   },
   "id": "787db25ca0cfda54",
   "execution_count": 17
  },
  {
   "cell_type": "code",
   "outputs": [
    {
     "name": "stderr",
     "output_type": "stream",
     "text": [
      "Processing documents: 100%|██████████| 100/100 [02:29<00:00,  1.50s/it]\n"
     ]
    }
   ],
   "source": [
    "gpt_msg = []\n",
    "for data in tqdm(org_data[:100], total=len(org_data[:100]), desc=\"Processing documents\"):\n",
    "    messages = prompt.invoke(\n",
    "        {\"context\": data['sim_diff'] + \"\\nCommit message:\"+ data['sim_msg'], \"question\": data['org_diff']}\n",
    "    ).to_messages()\n",
    "    example_prompt = [{'role': 'user','content': messages[0].content},]\n",
    "    gpt_msg.append(gpt_35_api(example_prompt))"
   ],
   "metadata": {
    "collapsed": false,
    "ExecuteTime": {
     "end_time": "2024-04-23T15:48:17.695755Z",
     "start_time": "2024-04-23T15:45:47.907892Z"
    }
   },
   "id": "6104b8546eaddbf1",
   "execution_count": 18
  },
  {
   "cell_type": "code",
   "outputs": [],
   "source": [
    "with open('../data/chronicle/chronicle_chatgpt.json', 'r', encoding='UTF-8') as f:\n",
    "    chronicle_data = json.load(f)\n",
    "\n",
    "for item, msg in zip(chronicle_data, gpt_msg):\n",
    "    item['chatgpt_rag'] = msg\n",
    "\n",
    "output_file = '../data/chronicle/chronicle_chatgpt_rag.json'\n",
    "with open(output_file, 'w', encoding='UTF-8') as f:\n",
    "    json.dump(chronicle_data, f, ensure_ascii=False, indent=4)"
   ],
   "metadata": {
    "collapsed": false,
    "ExecuteTime": {
     "end_time": "2024-04-23T15:48:17.711311Z",
     "start_time": "2024-04-23T15:48:17.698753Z"
    }
   },
   "id": "feafc4cb7dec62fc",
   "execution_count": 19
  },
  {
   "cell_type": "code",
   "outputs": [],
   "source": [],
   "metadata": {
    "collapsed": false
   },
   "id": "4282b54f9f0b21ac"
  }
 ],
 "metadata": {
  "kernelspec": {
   "display_name": "Python 3",
   "language": "python",
   "name": "python3"
  },
  "language_info": {
   "codemirror_mode": {
    "name": "ipython",
    "version": 2
   },
   "file_extension": ".py",
   "mimetype": "text/x-python",
   "name": "python",
   "nbconvert_exporter": "python",
   "pygments_lexer": "ipython2",
   "version": "2.7.6"
  }
 },
 "nbformat": 4,
 "nbformat_minor": 5
}
