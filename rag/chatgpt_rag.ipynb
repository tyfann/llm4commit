{
 "cells": [
  {
   "cell_type": "code",
   "id": "initial_id",
   "metadata": {
    "collapsed": true,
    "ExecuteTime": {
     "end_time": "2024-05-06T08:19:29.877241Z",
     "start_time": "2024-05-06T08:19:29.041226Z"
    }
   },
   "source": [
    "from openai import OpenAI\n",
    "\n",
    "client = OpenAI(\n",
    "    # defaults to os.environ.get(\"OPENAI_API_KEY\")\n",
    "    api_key=\"sk-0rLvuRkMiD4Mw25QYygh6rUlZVjpQWNGNF4yez7z3PZ7yCOm\",\n",
    "    # api_key=\"sk-tMbkq3K1iO5vf0FRMlrmzslGXJZwE0us3mve4QXuvpnZcumG\",\n",
    "    base_url=\"https://api.chatanywhere.tech/v1\"\n",
    "    # base_url=\"https://api.chatanywhere.cn/v1\"\n",
    ")"
   ],
   "outputs": [],
   "execution_count": 1
  },
  {
   "cell_type": "code",
   "source": [
    "def gpt_35_api(messages: list):\n",
    "\n",
    "    completion = client.chat.completions.create(model=\"gpt-3.5-turbo-ca\", messages=messages, temperature=0.5)\n",
    "    return completion.choices[0].message.content"
   ],
   "metadata": {
    "collapsed": false,
    "ExecuteTime": {
     "end_time": "2024-05-06T08:19:29.893343Z",
     "start_time": "2024-05-06T08:19:29.879448Z"
    }
   },
   "id": "ec804f733bdb1890",
   "outputs": [],
   "execution_count": 2
  },
  {
   "cell_type": "code",
   "source": [
    "import json\n",
    "from tqdm import tqdm"
   ],
   "metadata": {
    "collapsed": false,
    "ExecuteTime": {
     "end_time": "2024-05-06T08:19:29.924430Z",
     "start_time": "2024-05-06T08:19:29.895342Z"
    }
   },
   "id": "1929b998d5ce80de",
   "outputs": [],
   "execution_count": 3
  },
  {
   "cell_type": "code",
   "source": [
    "from langchain import hub\n",
    "\n",
    "prompt = hub.pull(\"tyfann/llm4commit-rag\")"
   ],
   "metadata": {
    "collapsed": false,
    "ExecuteTime": {
     "end_time": "2024-05-06T08:19:31.622282Z",
     "start_time": "2024-05-06T08:19:29.926938Z"
    }
   },
   "id": "fdb997cde6ec8ef0",
   "outputs": [],
   "execution_count": 4
  },
  {
   "cell_type": "code",
   "source": [
    "with open('../data/chronicle/rag_baseline/rag_baseline_js.json', 'r', encoding='UTF-8') as f:\n",
    "    org_data = json.load(f)"
   ],
   "metadata": {
    "collapsed": false,
    "ExecuteTime": {
     "end_time": "2024-05-05T20:35:27.567711Z",
     "start_time": "2024-05-05T20:35:27.539153Z"
    }
   },
   "id": "787db25ca0cfda54",
   "outputs": [],
   "execution_count": 5
  },
  {
   "cell_type": "code",
   "source": [
    "gpt_msg = []\n",
    "for data in tqdm(org_data, total=len(org_data), desc=\"Processing documents\"):\n",
    "    messages = prompt.invoke(\n",
    "        {\"context\": data['sim_diff'], \"msg\": data['sim_msg'], \"diff\": data['org_diff']}\n",
    "    ).to_messages()\n",
    "    example_prompt = [{'role': 'user','content': messages[0].content},]\n",
    "    gpt_msg.append(gpt_35_api(example_prompt))"
   ],
   "metadata": {
    "collapsed": false,
    "ExecuteTime": {
     "end_time": "2024-05-05T22:12:24.943886Z",
     "start_time": "2024-05-05T20:35:41.885873Z"
    }
   },
   "id": "6104b8546eaddbf1",
   "outputs": [
    {
     "name": "stderr",
     "output_type": "stream",
     "text": [
      "Processing documents: 100%|██████████| 1000/1000 [1:36:43<00:00,  5.80s/it] \n"
     ]
    }
   ],
   "execution_count": 6
  },
  {
   "cell_type": "code",
   "source": [
    "# with open('../data/chronicle/rag_dev/zeroshot/chronicle_chatgpt_dev.json', 'r', encoding='UTF-8') as f:\n",
    "#     chronicle_data = json.load(f)\n",
    "\n",
    "for item, msg in zip(org_data, gpt_msg):\n",
    "    item['chatgpt_rag'] = msg\n",
    "\n",
    "output_file = '../data/chronicle/rag_baseline/vanilla_rag/rag_baseline_js_chatgpt_vanilla.json'\n",
    "with open(output_file, 'w', encoding='UTF-8') as f:\n",
    "    json.dump(org_data, f, ensure_ascii=False, indent=4)"
   ],
   "metadata": {
    "collapsed": false,
    "ExecuteTime": {
     "end_time": "2024-05-05T22:12:24.990821Z",
     "start_time": "2024-05-05T22:12:24.945883Z"
    }
   },
   "id": "feafc4cb7dec62fc",
   "outputs": [],
   "execution_count": 7
  },
  {
   "metadata": {
    "ExecuteTime": {
     "end_time": "2024-05-06T09:01:32.589445Z",
     "start_time": "2024-05-06T08:20:51.837391Z"
    }
   },
   "cell_type": "code",
   "source": [
    "with open('../data/chronicle/rag_baseline/rag_baseline_python.json', 'r', encoding='UTF-8') as f:\n",
    "    org_data = json.load(f)\n",
    "\n",
    "gpt_msg = []\n",
    "for index, data in tqdm(enumerate(org_data), total=len(org_data), desc=\"Processing documents\"):\n",
    "    try:\n",
    "        messages = prompt.invoke(\n",
    "            {\"context\": data['sim_diff'], \"msg\": data['sim_msg'], \"diff\": data['org_diff']}\n",
    "        ).to_messages()\n",
    "        example_prompt = [{'role': 'user','content': messages[0].content},]\n",
    "        gpt_msg.append(gpt_35_api(example_prompt))\n",
    "    except:\n",
    "        print(index)\n",
    "        gpt_msg.append('')\n",
    "\n",
    "# with open('../data/chronicle/rag_dev/zeroshot/chronicle_chatgpt_dev.json', 'r', encoding='UTF-8') as f:\n",
    "#     chronicle_data = json.load(f)\n",
    "\n",
    "for item, msg in zip(org_data, gpt_msg):\n",
    "    item['chatgpt_rag'] = msg\n",
    "\n",
    "output_file = '../data/chronicle/rag_baseline/vanilla_rag/rag_baseline_python_chatgpt_vanilla.json'\n",
    "with open(output_file, 'w', encoding='UTF-8') as f:\n",
    "    json.dump(org_data, f, ensure_ascii=False, indent=4)"
   ],
   "id": "a87dbad958f0e721",
   "outputs": [
    {
     "name": "stderr",
     "output_type": "stream",
     "text": [
      "Processing documents: 100%|██████████| 1000/1000 [40:40<00:00,  2.44s/it]\n"
     ]
    }
   ],
   "execution_count": 5
  },
  {
   "cell_type": "code",
   "source": [
    "prompt = hub.pull(\"tyfann/llm4commit-rag-4sim\")\n",
    "\n",
    "with open('../data/chronicle/rag_baseline/top4_rag/rag_baseline_top4_python.json', 'r', encoding='UTF-8') as f:\n",
    "    org_data = json.load(f)\n",
    "\n",
    "gpt_msg = []\n",
    "for index, data in tqdm(enumerate(org_data), total=len(org_data), desc=\"Processing documents\"):\n",
    "    try:\n",
    "        messages = prompt.invoke(\n",
    "            {\"diff1\": data['sim_diff_0'],  \"msg1\": data['sim_msg_0'],\n",
    "             \"diff2\": data['sim_diff_1'],  \"msg2\": data['sim_msg_1'],\n",
    "             \"diff3\": data['sim_diff_2'],  \"msg3\": data['sim_msg_2'],\n",
    "             \"diff4\": data['sim_diff_3'],  \"msg4\": data['sim_msg_3'],\n",
    "             \"question\": data['org_diff']}\n",
    "        ).to_messages()\n",
    "        example_prompt = [{'role': 'user','content': messages[0].content},]\n",
    "        gpt_msg.append(gpt_35_api(example_prompt))\n",
    "    except:\n",
    "        print(index)\n",
    "        gpt_msg.append('')\n",
    "\n",
    "with open('../data/chronicle/rag_baseline/zeroshot/rag_baseline_python_chatgpt.json', 'r', encoding='UTF-8') as f:\n",
    "    chronicle_data = json.load(f)\n",
    "\n",
    "for item, msg in zip(chronicle_data, gpt_msg):\n",
    "    item['chatgpt_rag'] = msg\n",
    "\n",
    "output_file = '../data/chronicle/rag_baseline/top4_rag/rag_baseline_top4_python_chatgpt.json'\n",
    "with open(output_file, 'w', encoding='UTF-8') as f:\n",
    "    json.dump(chronicle_data, f, ensure_ascii=False, indent=4)"
   ],
   "metadata": {
    "collapsed": false,
    "ExecuteTime": {
     "end_time": "2024-05-06T09:41:11.432753Z",
     "start_time": "2024-05-06T09:01:32.591809Z"
    }
   },
   "id": "fbcdda2ea61990d7",
   "outputs": [
    {
     "name": "stderr",
     "output_type": "stream",
     "text": [
      "Processing documents:   3%|▎         | 30/1000 [01:25<1:22:20,  5.09s/it]"
     ]
    },
    {
     "name": "stdout",
     "output_type": "stream",
     "text": [
      "29\n"
     ]
    },
    {
     "name": "stderr",
     "output_type": "stream",
     "text": [
      "Processing documents: 100%|██████████| 1000/1000 [39:38<00:00,  2.38s/it]\n"
     ]
    }
   ],
   "execution_count": 6
  },
  {
   "metadata": {
    "ExecuteTime": {
     "end_time": "2024-05-06T10:23:13.290168Z",
     "start_time": "2024-05-06T09:41:11.434752Z"
    }
   },
   "cell_type": "code",
   "source": [
    "prompt = hub.pull(\"tyfann/llm4commit-rag-4sim\")\n",
    "\n",
    "with open('../data/chronicle/rag_baseline/top4_rag/rag_baseline_top4_js.json', 'r', encoding='UTF-8') as f:\n",
    "    org_data = json.load(f)\n",
    "\n",
    "gpt_msg = []\n",
    "for index, data in tqdm(enumerate(org_data), total=len(org_data), desc=\"Processing documents\"):\n",
    "    try:\n",
    "        messages = prompt.invoke(\n",
    "            {\"diff1\": data['sim_diff_0'],  \"msg1\": data['sim_msg_0'],\n",
    "             \"diff2\": data['sim_diff_1'],  \"msg2\": data['sim_msg_1'],\n",
    "             \"diff3\": data['sim_diff_2'],  \"msg3\": data['sim_msg_2'],\n",
    "             \"diff4\": data['sim_diff_3'],  \"msg4\": data['sim_msg_3'],\n",
    "             \"question\": data['org_diff']}\n",
    "        ).to_messages()\n",
    "        example_prompt = [{'role': 'user','content': messages[0].content},]\n",
    "        gpt_msg.append(gpt_35_api(example_prompt))\n",
    "    except:\n",
    "        print(index)\n",
    "        gpt_msg.append('')\n",
    "\n",
    "with open('../data/chronicle/rag_baseline/zeroshot/rag_baseline_js_chatgpt.json', 'r', encoding='UTF-8') as f:\n",
    "    chronicle_data = json.load(f)\n",
    "\n",
    "for item, msg in zip(chronicle_data, gpt_msg):\n",
    "    item['chatgpt_rag'] = msg\n",
    "\n",
    "output_file = '../data/chronicle/rag_baseline/top4_rag/rag_baseline_top4_js_chatgpt.json'\n",
    "with open(output_file, 'w', encoding='UTF-8') as f:\n",
    "    json.dump(chronicle_data, f, ensure_ascii=False, indent=4)"
   ],
   "id": "3b7bf58e30e95b09",
   "outputs": [
    {
     "name": "stderr",
     "output_type": "stream",
     "text": [
      "Processing documents: 100%|██████████| 1000/1000 [42:01<00:00,  2.52s/it] \n"
     ]
    }
   ],
   "execution_count": 7
  },
  {
   "metadata": {
    "ExecuteTime": {
     "end_time": "2024-05-06T17:10:48.976398Z",
     "start_time": "2024-05-06T15:54:53.262307Z"
    }
   },
   "cell_type": "code",
   "source": [
    "prompt = hub.pull(\"tyfann/llm4commit-rag-msg\")\n",
    "with open('../data/chronicle/rag_baseline/sim_msg_rag/rag_baseline_sim_msg_python.json', 'r', encoding='UTF-8') as f:\n",
    "    org_data = json.load(f)\n",
    "\n",
    "gpt_msg = []\n",
    "for index, data in tqdm(enumerate(org_data), total=len(org_data), desc=\"Processing documents\"):\n",
    "    try:\n",
    "        messages = prompt.invoke(\n",
    "            {\"diff1\": data['sim_diff'],  \"msg1\": data['sim_msg'],\n",
    "             \"question\": data['org_diff'], 'draft': data['org_msg']}\n",
    "        ).to_messages()\n",
    "        example_prompt = [{'role': 'user','content': messages[0].content},]\n",
    "        gpt_msg.append(gpt_35_api(example_prompt))\n",
    "    except:\n",
    "        print(index)\n",
    "        gpt_msg.append('')\n",
    "\n",
    "\n",
    "with open('../data/chronicle/rag_baseline/zeroshot/rag_baseline_python_chatgpt.json', 'r', encoding='UTF-8') as f:\n",
    "    chronicle_data = json.load(f)\n",
    "\n",
    "for item, msg in zip(chronicle_data, gpt_msg):\n",
    "    item['chatgpt_rag'] = msg\n",
    "\n",
    "output_file = '../data/chronicle/rag_baseline/sim_msg_rag/rag_baseline_sim_msg_python_chatgpt.json'\n",
    "with open(output_file, 'w', encoding='UTF-8') as f:\n",
    "    json.dump(chronicle_data, f, ensure_ascii=False, indent=4)"
   ],
   "id": "5902f72d84288be6",
   "outputs": [
    {
     "name": "stderr",
     "output_type": "stream",
     "text": [
      "Processing documents: 100%|██████████| 1000/1000 [1:15:54<00:00,  4.55s/it]\n"
     ]
    }
   ],
   "execution_count": 9
  },
  {
   "metadata": {
    "ExecuteTime": {
     "end_time": "2024-05-06T17:54:53.065132Z",
     "start_time": "2024-05-06T17:10:48.978402Z"
    }
   },
   "cell_type": "code",
   "source": [
    "prompt = hub.pull(\"tyfann/llm4commit-rag-msg\")\n",
    "with open('../data/chronicle/rag_baseline/sim_msg_rag/rag_baseline_sim_msg_js.json', 'r', encoding='UTF-8') as f:\n",
    "    org_data = json.load(f)\n",
    "\n",
    "gpt_msg = []\n",
    "for index, data in tqdm(enumerate(org_data), total=len(org_data), desc=\"Processing documents\"):\n",
    "    try:\n",
    "        messages = prompt.invoke(\n",
    "            {\"diff1\": data['sim_diff'],  \"msg1\": data['sim_msg'],\n",
    "             \"question\": data['org_diff'], 'draft': data['org_msg']}\n",
    "        ).to_messages()\n",
    "        example_prompt = [{'role': 'user','content': messages[0].content},]\n",
    "        gpt_msg.append(gpt_35_api(example_prompt))\n",
    "    except:\n",
    "        print(index)\n",
    "        gpt_msg.append('')\n",
    "\n",
    "\n",
    "with open('../data/chronicle/rag_baseline/zeroshot/rag_baseline_js_chatgpt.json', 'r', encoding='UTF-8') as f:\n",
    "    chronicle_data = json.load(f)\n",
    "\n",
    "for item, msg in zip(chronicle_data, gpt_msg):\n",
    "    item['chatgpt_rag'] = msg\n",
    "\n",
    "output_file = '../data/chronicle/rag_baseline/sim_msg_rag/rag_baseline_sim_msg_js_chatgpt.json'\n",
    "with open(output_file, 'w', encoding='UTF-8') as f:\n",
    "    json.dump(chronicle_data, f, ensure_ascii=False, indent=4)"
   ],
   "id": "7bed645a2a9d3de3",
   "outputs": [
    {
     "name": "stderr",
     "output_type": "stream",
     "text": [
      "Processing documents: 100%|██████████| 1000/1000 [44:03<00:00,  2.64s/it]\n"
     ]
    }
   ],
   "execution_count": 10
  },
  {
   "metadata": {},
   "cell_type": "code",
   "outputs": [],
   "execution_count": null,
   "source": "",
   "id": "6bbd5e586522a739"
  }
 ],
 "metadata": {
  "kernelspec": {
   "display_name": "Python 3",
   "language": "python",
   "name": "python3"
  },
  "language_info": {
   "codemirror_mode": {
    "name": "ipython",
    "version": 2
   },
   "file_extension": ".py",
   "mimetype": "text/x-python",
   "name": "python",
   "nbconvert_exporter": "python",
   "pygments_lexer": "ipython2",
   "version": "2.7.6"
  }
 },
 "nbformat": 4,
 "nbformat_minor": 5
}
