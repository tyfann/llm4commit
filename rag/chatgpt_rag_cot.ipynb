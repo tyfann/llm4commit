{
 "cells": [
  {
   "cell_type": "code",
   "id": "initial_id",
   "metadata": {
    "collapsed": true,
    "ExecuteTime": {
     "end_time": "2024-05-16T12:36:19.589375Z",
     "start_time": "2024-05-16T12:36:18.627072Z"
    }
   },
   "source": [
    "from openai import OpenAI\n",
    "\n",
    "client = OpenAI(\n",
    "    # defaults to os.environ.get(\"OPENAI_API_KEY\")\n",
    "    api_key=\"sk-0rLvuRkMiD4Mw25QYygh6rUlZVjpQWNGNF4yez7z3PZ7yCOm\",\n",
    "    # api_key=\"sk-tMbkq3K1iO5vf0FRMlrmzslGXJZwE0us3mve4QXuvpnZcumG\",\n",
    "    base_url=\"https://api.chatanywhere.tech/v1\"\n",
    "    # base_url=\"https://api.chatanywhere.cn/v1\"\n",
    ")"
   ],
   "execution_count": 1,
   "outputs": []
  },
  {
   "metadata": {
    "ExecuteTime": {
     "end_time": "2024-05-16T12:36:19.604628Z",
     "start_time": "2024-05-16T12:36:19.591376Z"
    }
   },
   "cell_type": "code",
   "source": [
    "def gpt_35_api(messages: list):\n",
    "    completion = client.chat.completions.create(model=\"gpt-3.5-turbo-ca\", messages=messages, temperature=0.5)\n",
    "    return completion.choices[0].message.content\n"
   ],
   "id": "5c9ce9cb7ed134eb",
   "execution_count": 2,
   "outputs": []
  },
  {
   "metadata": {
    "ExecuteTime": {
     "end_time": "2024-05-16T12:36:20.055324Z",
     "start_time": "2024-05-16T12:36:19.606637Z"
    }
   },
   "cell_type": "code",
   "source": [
    "\n",
    "import json\n",
    "from tqdm import tqdm\n",
    "from langchain import hub"
   ],
   "id": "749abcea515c7060",
   "execution_count": 3,
   "outputs": []
  },
  {
   "metadata": {
    "ExecuteTime": {
     "end_time": "2024-05-16T12:41:28.871919Z",
     "start_time": "2024-05-16T12:37:28.162422Z"
    }
   },
   "cell_type": "code",
   "source": [
    "\n",
    "prompt = hub.pull(\"tyfann/llm4commit-rag-cot\")\n",
    "with open('../data/scenario/rag/scenario_django_chatgpt_rag_prompt.json', 'r', encoding='UTF-8') as f:\n",
    "    org_data = json.load(f)\n",
    "example_q = \"\"\"\"diff --git a/java/client/src/org/openqa/selenium/htmlunit/HtmlUnitAlert.java  b/java/client/src/org/openqa/selenium/htmlunit/HtmlUnitAlert.java \\npublic void sendKeys(String keysToSend){ \\npublic void authenticateUsing(Credentials credentials){}+@Override+public void setCredentials(Credentials credentials){+}++@Override \\npublic void handleAlert(Page page,String message){ \\nQueue<String>queue=queues.get(page); \\n\" \"\"\"\n",
    "example_a = \"\"\"First, the scope of code changes is to add a method, and second, according to the filename \"HtmlUnitAlert\", and the function of the file could be an alert, the modification \"@Overide\" is an annotation which can solve the compilation issue, so the modification can help solve the compilation problem to the alert file. So the commit message for the code diff is \"fix compilation issue because of new method in Alert\".\"\"\"\n",
    "gpt_msg = []\n",
    "for data in tqdm(org_data, total=len(org_data), desc=\"Processing documents\"):\n",
    "    messages = prompt.invoke(\n",
    "        {\"Example_Question\": example_q, \"Example_Answer\": example_a, \"context\": data['sim_diff'], \"msg\": data['sim_msg'], \"Question\": data['org_diff']}\n",
    "    ).to_messages()\n",
    "    example_prompt = [{'role': 'user', 'content': messages[0].content}, ]\n",
    "    gpt_msg.append(gpt_35_api(example_prompt))\n",
    "# with open('../data/chronicle/rag_dev/zeroshot/chronicle_chatgpt_dev.json', 'r', encoding='UTF-8') as f:\n",
    "#     chronicle_data = json.load(f)\n",
    "\n",
    "for item, msg in zip(org_data, gpt_msg):\n",
    "    item['chatgpt_rag_cot'] = msg\n",
    "\n",
    "output_file = '../data/scenario/rag_cot/scenario_django_chatgpt_rag_cot.json'\n",
    "with open(output_file, 'w', encoding='UTF-8') as f:\n",
    "    json.dump(org_data, f, ensure_ascii=False, indent=4)"
   ],
   "id": "9a2d4417314aad03",
   "execution_count": 4,
   "outputs": []
  },
  {
   "metadata": {
    "ExecuteTime": {
     "end_time": "2024-05-16T12:47:26.830305Z",
     "start_time": "2024-05-16T12:41:28.874933Z"
    }
   },
   "cell_type": "code",
   "source": [
    "\n",
    "prompt = hub.pull(\"tyfann/llm4commit-rag-cot\")\n",
    "with open('../data/scenario/rag/scenario_react_chatgpt_rag_prompt.json', 'r', encoding='UTF-8') as f:\n",
    "    org_data = json.load(f)\n",
    "example_q = \"\"\"\"diff --git a/java/client/src/org/openqa/selenium/htmlunit/HtmlUnitAlert.java  b/java/client/src/org/openqa/selenium/htmlunit/HtmlUnitAlert.java \\npublic void sendKeys(String keysToSend){ \\npublic void authenticateUsing(Credentials credentials){}+@Override+public void setCredentials(Credentials credentials){+}++@Override \\npublic void handleAlert(Page page,String message){ \\nQueue<String>queue=queues.get(page); \\n\" \"\"\"\n",
    "example_a = \"\"\"First, the scope of code changes is to add a method, and second, according to the filename \"HtmlUnitAlert\", and the function of the file could be an alert, the modification \"@Overide\" is an annotation which can solve the compilation issue, so the modification can help solve the compilation problem to the alert file. So the commit message for the code diff is \"fix compilation issue because of new method in Alert\".\"\"\"\n",
    "gpt_msg = []\n",
    "for data in tqdm(org_data, total=len(org_data), desc=\"Processing documents\"):\n",
    "    messages = prompt.invoke(\n",
    "        {\"Example_Question\": example_q, \"Example_Answer\": example_a, \"context\": data['sim_diff'], \"msg\": data['sim_msg'], \"Question\": data['org_diff']}\n",
    "    ).to_messages()\n",
    "    example_prompt = [{'role': 'user', 'content': messages[0].content}, ]\n",
    "    gpt_msg.append(gpt_35_api(example_prompt))\n",
    "# with open('../data/chronicle/rag_dev/zeroshot/chronicle_chatgpt_dev.json', 'r', encoding='UTF-8') as f:\n",
    "#     chronicle_data = json.load(f)\n",
    "\n",
    "for item, msg in zip(org_data, gpt_msg):\n",
    "    item['chatgpt_rag_cot'] = msg\n",
    "\n",
    "output_file = '../data/scenario/rag_cot/scenario_react_chatgpt_rag_cot.json'\n",
    "with open(output_file, 'w', encoding='UTF-8') as f:\n",
    "    json.dump(org_data, f, ensure_ascii=False, indent=4)"
   ],
   "id": "63af82a1eb5401bc",
   "execution_count": 5,
   "outputs": []
  },
  {
   "metadata": {
    "ExecuteTime": {
     "end_time": "2024-05-16T20:08:49.653188Z",
     "start_time": "2024-05-16T20:05:34.288407Z"
    }
   },
   "cell_type": "code",
   "source": [
    "prompt = hub.pull(\"tyfann/llm4commit-rag-cot\")\n",
    "with open('../data/scenario/rag/scenario_flask_chatgpt_rag_prompt.json', 'r', encoding='UTF-8') as f:\n",
    "    org_data = json.load(f)\n",
    "example_q = \"\"\"\"diff --git a/java/client/src/org/openqa/selenium/htmlunit/HtmlUnitAlert.java  b/java/client/src/org/openqa/selenium/htmlunit/HtmlUnitAlert.java \\npublic void sendKeys(String keysToSend){ \\npublic void authenticateUsing(Credentials credentials){}+@Override+public void setCredentials(Credentials credentials){+}++@Override \\npublic void handleAlert(Page page,String message){ \\nQueue<String>queue=queues.get(page); \\n\" \"\"\"\n",
    "example_a = \"\"\"First, the scope of code changes is to add a method, and second, according to the filename \"HtmlUnitAlert\", and the function of the file could be an alert, the modification \"@Overide\" is an annotation which can solve the compilation issue, so the modification can help solve the compilation problem to the alert file. So the commit message for the code diff is \"fix compilation issue because of new method in Alert\".\"\"\"\n",
    "gpt_msg = []\n",
    "for data in tqdm(org_data, total=len(org_data), desc=\"Processing documents\"):\n",
    "    messages = prompt.invoke(\n",
    "        {\"Example_Question\": example_q, \"Example_Answer\": example_a, \"context\": data['sim_diff'], \"msg\": data['sim_msg'], \"Question\": data['org_diff']}\n",
    "    ).to_messages()\n",
    "    example_prompt = [{'role': 'user', 'content': messages[0].content}, ]\n",
    "    gpt_msg.append(gpt_35_api(example_prompt))\n",
    "# with open('../data/chronicle/rag_dev/zeroshot/chronicle_chatgpt_dev.json', 'r', encoding='UTF-8') as f:\n",
    "#     chronicle_data = json.load(f)\n",
    "\n",
    "for item, msg in zip(org_data, gpt_msg):\n",
    "    item['chatgpt_rag_cot'] = msg\n",
    "\n",
    "output_file = '../data/scenario/rag_cot/scenario_flask_chatgpt_rag_cot.json'\n",
    "with open(output_file, 'w', encoding='UTF-8') as f:\n",
    "    json.dump(org_data, f, ensure_ascii=False, indent=4)"
   ],
   "id": "15e3bc2c87e284f0",
   "execution_count": 6,
   "outputs": []
  },
  {
   "metadata": {},
   "cell_type": "code",
   "execution_count": null,
   "source": [
    "\n",
    "prompt = hub.pull(\"tyfann/llm4commit-rag-cot\")\n",
    "with open('../data/scenario/rag/scenario_flask_chatgpt_rag_prompt.json', 'r', encoding='UTF-8') as f:\n",
    "    org_data = json.load(f)\n",
    "example_q = \"\"\"\"diff --git a/java/client/src/org/openqa/selenium/htmlunit/HtmlUnitAlert.java  b/java/client/src/org/openqa/selenium/htmlunit/HtmlUnitAlert.java \\npublic void sendKeys(String keysToSend){ \\npublic void authenticateUsing(Credentials credentials){}+@Override+public void setCredentials(Credentials credentials){+}++@Override \\npublic void handleAlert(Page page,String message){ \\nQueue<String>queue=queues.get(page); \\n\" \"\"\"\n",
    "example_a = \"\"\"First, the scope of code changes is to add a method, and second, according to the filename \"HtmlUnitAlert\", and the function of the file could be an alert, the modification \"@Overide\" is an annotation which can solve the compilation issue, so the modification can help solve the compilation problem to the alert file. So the commit message for the code diff is \"fix compilation issue because of new method in Alert\".\"\"\"\n",
    "gpt_msg = []\n",
    "for data in tqdm(org_data, total=len(org_data), desc=\"Processing documents\"):\n",
    "    messages = prompt.invoke(\n",
    "        {\"Example_Question\": example_q, \"Example_Answer\": example_a, \"context\": data['sim_diff'], \"msg\": data['sim_msg'], \"Question\": data['org_diff']}\n",
    "    ).to_messages()\n",
    "    example_prompt = [{'role': 'user', 'content': messages[0].content}, ]\n",
    "    gpt_msg.append(gpt_35_api(example_prompt))\n",
    "# with open('../data/chronicle/rag_dev/zeroshot/chronicle_chatgpt_dev.json', 'r', encoding='UTF-8') as f:\n",
    "#     chronicle_data = json.load(f)\n",
    "\n",
    "for item, msg in zip(org_data, gpt_msg):\n",
    "    item['chatgpt_rag_cot'] = msg\n",
    "\n",
    "output_file = '../data/scenario/rag_cot/scenario_flask_chatgpt_rag_cot.json'\n",
    "with open(output_file, 'w', encoding='UTF-8') as f:\n",
    "    json.dump(org_data, f, ensure_ascii=False, indent=4)"
   ],
   "id": "921c9d9192a8660a",
   "outputs": []
  },
  {
   "metadata": {
    "ExecuteTime": {
     "end_time": "2024-05-14T15:45:11.153596Z",
     "start_time": "2024-05-14T14:53:06.135075Z"
    }
   },
   "cell_type": "code",
   "source": [
    "\n",
    "prompt = hub.pull(\"tyfann/llm4commit-rag-cot\")\n",
    "with open('../data/chronicle/rag_baseline/rag_baseline_js.json', 'r', encoding='UTF-8') as f:\n",
    "    org_data = json.load(f)\n",
    "example_q = \"\"\"\"diff --git a/java/client/src/org/openqa/selenium/htmlunit/HtmlUnitAlert.java  b/java/client/src/org/openqa/selenium/htmlunit/HtmlUnitAlert.java \\npublic void sendKeys(String keysToSend){ \\npublic void authenticateUsing(Credentials credentials){}+@Override+public void setCredentials(Credentials credentials){+}++@Override \\npublic void handleAlert(Page page,String message){ \\nQueue<String>queue=queues.get(page); \\n\" \"\"\"\n",
    "example_a = \"\"\"First, the scope of code changes is to add a method, and second, according to the filename \"HtmlUnitAlert\", and the function of the file could be an alert, the modification \"@Overide\" is an annotation which can solve the compilation issue, so the modification can help solve the compilation problem to the alert file. So the commit message for the code diff is \"fix compilation issue because of new method in Alert\".\"\"\"\n",
    "gpt_msg = []\n",
    "for data in tqdm(org_data, total=len(org_data), desc=\"Processing documents\"):\n",
    "    messages = prompt.invoke(\n",
    "        {\"Example_Question\": example_q, \"Example_Answer\": example_a, \"context\": data['sim_diff'], \"msg\": data['sim_msg'], \"Question\": data['org_diff']}\n",
    "    ).to_messages()\n",
    "    example_prompt = [{'role': 'user', 'content': messages[0].content}, ]\n",
    "    gpt_msg.append(gpt_35_api(example_prompt))\n",
    "# with open('../data/chronicle/rag_dev/zeroshot/chronicle_chatgpt_dev.json', 'r', encoding='UTF-8') as f:\n",
    "#     chronicle_data = json.load(f)\n",
    "\n",
    "for item, msg in zip(org_data, gpt_msg):\n",
    "    item['chatgpt_cot'] = msg\n",
    "\n",
    "output_file = '../data/chronicle/rag_baseline/rag_cot/rag_baseline_cot_js_chatgpt.json'\n",
    "with open(output_file, 'w', encoding='UTF-8') as f:\n",
    "    json.dump(org_data, f, ensure_ascii=False, indent=4)"
   ],
   "id": "1c12b8d5f4daa2e1",
   "execution_count": 6,
   "outputs": []
  },
  {
   "metadata": {},
   "cell_type": "code",
   "execution_count": null,
   "source": "",
   "id": "4882e8545c48fe9d",
   "outputs": []
  }
 ],
 "metadata": {
  "kernelspec": {
   "display_name": "Python 3",
   "language": "python",
   "name": "python3"
  },
  "language_info": {
   "codemirror_mode": {
    "name": "ipython",
    "version": 2
   },
   "file_extension": ".py",
   "mimetype": "text/x-python",
   "name": "python",
   "nbconvert_exporter": "python",
   "pygments_lexer": "ipython2",
   "version": "2.7.6"
  }
 },
 "nbformat": 4,
 "nbformat_minor": 5
}
