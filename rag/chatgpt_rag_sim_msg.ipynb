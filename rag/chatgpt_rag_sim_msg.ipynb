{
 "cells": [
  {
   "cell_type": "code",
   "id": "initial_id",
   "metadata": {
    "collapsed": true,
    "ExecuteTime": {
     "end_time": "2024-05-17T16:17:00.468030Z",
     "start_time": "2024-05-17T16:16:59.530164Z"
    }
   },
   "source": [
    "from openai import OpenAI\n",
    "\n",
    "client = OpenAI(\n",
    "    # defaults to os.environ.get(\"OPENAI_API_KEY\")\n",
    "    api_key=\"sk-0rLvuRkMiD4Mw25QYygh6rUlZVjpQWNGNF4yez7z3PZ7yCOm\",\n",
    "    # api_key=\"sk-tMbkq3K1iO5vf0FRMlrmzslGXJZwE0us3mve4QXuvpnZcumG\",\n",
    "    base_url=\"https://api.chatanywhere.tech/v1\"\n",
    "    # base_url=\"https://api.chatanywhere.cn/v1\"\n",
    ")"
   ],
   "execution_count": 1,
   "outputs": []
  },
  {
   "cell_type": "code",
   "source": [
    "def gpt_35_api(messages: list):\n",
    "\n",
    "    completion = client.chat.completions.create(model=\"gpt-3.5-turbo-ca\", messages=messages, temperature=0.5)\n",
    "    return completion.choices[0].message.content"
   ],
   "metadata": {
    "collapsed": false,
    "ExecuteTime": {
     "end_time": "2024-05-17T16:17:00.484031Z",
     "start_time": "2024-05-17T16:17:00.470027Z"
    }
   },
   "id": "ec804f733bdb1890",
   "execution_count": 2,
   "outputs": []
  },
  {
   "cell_type": "code",
   "source": [
    "import json\n",
    "from tqdm import tqdm"
   ],
   "metadata": {
    "collapsed": false,
    "ExecuteTime": {
     "end_time": "2024-05-17T16:17:00.515699Z",
     "start_time": "2024-05-17T16:17:00.485542Z"
    }
   },
   "id": "1929b998d5ce80de",
   "execution_count": 3,
   "outputs": []
  },
  {
   "cell_type": "code",
   "source": [
    "from langchain import hub\n",
    "prompt = hub.pull(\"tyfann/llm4commit-rag-msg\")"
   ],
   "metadata": {
    "collapsed": false,
    "ExecuteTime": {
     "end_time": "2024-05-17T16:17:02.360926Z",
     "start_time": "2024-05-17T16:17:00.518698Z"
    }
   },
   "id": "fdb997cde6ec8ef0",
   "execution_count": 4,
   "outputs": []
  },
  {
   "metadata": {},
   "cell_type": "markdown",
   "source": "# Python part",
   "id": "91849601a8738954"
  },
  {
   "cell_type": "code",
   "source": [
    "with open('../data/scenario/multi_diff/multi_diff_rag_sim_msg_django_prompt.json', 'r', encoding='UTF-8') as f:\n",
    "    org_data = json.load(f)"
   ],
   "metadata": {
    "collapsed": false,
    "ExecuteTime": {
     "end_time": "2024-05-17T16:17:53.715408Z",
     "start_time": "2024-05-17T16:17:53.701889Z"
    }
   },
   "id": "787db25ca0cfda54",
   "execution_count": 5,
   "outputs": []
  },
  {
   "cell_type": "code",
   "source": [
    "gpt_msg = []\n",
    "for data in tqdm(org_data[:100], total=len(org_data[:100]), desc=\"Processing documents\"):\n",
    "    messages = prompt.invoke(\n",
    "        {\"diff1\": data['sim_diff'],  \"msg1\": data['sim_msg'],\n",
    "         \"question\": data['org_diff'], 'draft': data['org_msg']}\n",
    "    ).to_messages()\n",
    "    example_prompt = [{'role': 'user','content': messages[0].content},]\n",
    "    gpt_msg.append(gpt_35_api(example_prompt))"
   ],
   "metadata": {
    "collapsed": false,
    "ExecuteTime": {
     "end_time": "2024-05-17T16:23:59.849774Z",
     "start_time": "2024-05-17T16:18:12.216535Z"
    }
   },
   "id": "6104b8546eaddbf1",
   "execution_count": 6,
   "outputs": []
  },
  {
   "cell_type": "code",
   "source": [
    "with open('../data/scenario/filtered_data/project_based_django_multi_diff_filtered.json', 'r', encoding='UTF-8') as f:\n",
    "    chronicle_data = json.load(f)\n",
    "\n",
    "for item, msg in zip(chronicle_data[:100], gpt_msg):\n",
    "    item['chatgpt_rag'] = msg\n",
    "\n",
    "output_file = '../data/scenario/multi_diff/multi_diff_rag_sim_msg_django.json'\n",
    "with open(output_file, 'w', encoding='UTF-8') as f:\n",
    "    json.dump(chronicle_data[:100], f, ensure_ascii=False, indent=4)"
   ],
   "metadata": {
    "collapsed": false,
    "ExecuteTime": {
     "end_time": "2024-05-17T16:23:59.881034Z",
     "start_time": "2024-05-17T16:23:59.852195Z"
    }
   },
   "id": "feafc4cb7dec62fc",
   "execution_count": 7,
   "outputs": []
  },
  {
   "metadata": {
    "ExecuteTime": {
     "end_time": "2024-05-17T16:29:49.964227Z",
     "start_time": "2024-05-17T16:23:59.883034Z"
    }
   },
   "cell_type": "code",
   "source": [
    "with open('../data/scenario/multi_diff/multi_diff_rag_sim_msg_react_prompt.json', 'r', encoding='UTF-8') as f:\n",
    "    org_data = json.load(f)\n",
    "gpt_msg = []\n",
    "for data in tqdm(org_data[:100], total=len(org_data[:100]), desc=\"Processing documents\"):\n",
    "    messages = prompt.invoke(\n",
    "        {\"diff1\": data['sim_diff'],  \"msg1\": data['sim_msg'],\n",
    "         \"question\": data['org_diff'], 'draft': data['org_msg']}\n",
    "    ).to_messages()\n",
    "    example_prompt = [{'role': 'user','content': messages[0].content},]\n",
    "    gpt_msg.append(gpt_35_api(example_prompt))\n",
    "\n",
    "with open('../data/scenario/filtered_data/project_based_react_multi_diff_filtered.json', 'r', encoding='UTF-8') as f:\n",
    "    chronicle_data = json.load(f)\n",
    "\n",
    "for item, msg in zip(chronicle_data[:100], gpt_msg):\n",
    "    item['chatgpt_rag'] = msg\n",
    "\n",
    "output_file = '../data/scenario/multi_diff/multi_diff_rag_sim_msg_react_v2.json'\n",
    "with open(output_file, 'w', encoding='UTF-8') as f:\n",
    "    json.dump(chronicle_data[:100], f, ensure_ascii=False, indent=4)"
   ],
   "id": "e57588d8b9c662d3",
   "execution_count": 8,
   "outputs": []
  },
  {
   "metadata": {
    "ExecuteTime": {
     "end_time": "2024-05-17T16:35:56.522435Z",
     "start_time": "2024-05-17T16:29:49.965540Z"
    }
   },
   "cell_type": "code",
   "source": [
    "with open('../data/scenario/multi_diff/multi_diff_rag_sim_msg_flask_prompt.json', 'r', encoding='UTF-8') as f:\n",
    "    org_data = json.load(f)\n",
    "gpt_msg = []\n",
    "for data in tqdm(org_data[:100], total=len(org_data[:100]), desc=\"Processing documents\"):\n",
    "    messages = prompt.invoke(\n",
    "        {\"diff1\": data['sim_diff'],  \"msg1\": data['sim_msg'],\n",
    "         \"question\": data['org_diff'], 'draft': data['org_msg']}\n",
    "    ).to_messages()\n",
    "    example_prompt = [{'role': 'user','content': messages[0].content},]\n",
    "    gpt_msg.append(gpt_35_api(example_prompt))\n",
    "\n",
    "with open('../data/scenario/filtered_data/project_based_flask_multi_diff_filtered.json', 'r', encoding='UTF-8') as f:\n",
    "    chronicle_data = json.load(f)\n",
    "\n",
    "for item, msg in zip(chronicle_data[:100], gpt_msg):\n",
    "    item['chatgpt_rag'] = msg\n",
    "\n",
    "output_file = '../data/scenario/multi_diff/multi_diff_rag_sim_msg_flask_v2.json'\n",
    "with open(output_file, 'w', encoding='UTF-8') as f:\n",
    "    json.dump(chronicle_data[:100], f, ensure_ascii=False, indent=4)"
   ],
   "id": "2b1be8a9da72b176",
   "execution_count": 9,
   "outputs": []
  },
  {
   "metadata": {
    "ExecuteTime": {
     "end_time": "2024-05-12T08:02:06.705252Z",
     "start_time": "2024-05-12T07:56:01.298054Z"
    }
   },
   "cell_type": "code",
   "source": [
    "with open('../data/scenario/multi_diff/multi_diff_rag_sim_msg_js_prompt.json', 'r', encoding='UTF-8') as f:\n",
    "    org_data = json.load(f)\n",
    "gpt_msg = []\n",
    "for data in tqdm(org_data[:100], total=len(org_data[:100]), desc=\"Processing documents\"):\n",
    "    messages = prompt.invoke(\n",
    "        {\"diff1\": data['sim_diff'],  \"msg1\": data['sim_msg'],\n",
    "         \"question\": data['org_diff'], 'draft': data['org_msg']}\n",
    "    ).to_messages()\n",
    "    example_prompt = [{'role': 'user','content': messages[0].content},]\n",
    "    gpt_msg.append(gpt_35_api(example_prompt))\n",
    "\n",
    "with open('../data/scenario/multi_diff/scenario_react_multi_diff_chatgpt_zeroshot.json', 'r', encoding='UTF-8') as f:\n",
    "    chronicle_data = json.load(f)\n",
    "\n",
    "for item, msg in zip(chronicle_data[:100], gpt_msg):\n",
    "    item['chatgpt_rag'] = msg\n",
    "\n",
    "output_file = '../data/scenario/multi_diff/multi_diff_rag_sim_msg_js.json'\n",
    "with open(output_file, 'w', encoding='UTF-8') as f:\n",
    "    json.dump(chronicle_data[:100], f, ensure_ascii=False, indent=4)"
   ],
   "id": "6ec0b71af1f5b936",
   "execution_count": 8,
   "outputs": []
  },
  {
   "metadata": {},
   "cell_type": "markdown",
   "source": "# JavaScript part",
   "id": "2483820be0c1521"
  },
  {
   "cell_type": "code",
   "source": [
    "with open('../data/chronicle/rag_dev/mxbai/data_with_similar_msg_mxbai_query_js.json', 'r', encoding='UTF-8') as f:\n",
    "    org_data = json.load(f)"
   ],
   "metadata": {
    "collapsed": false,
    "ExecuteTime": {
     "end_time": "2024-05-03T13:47:34.768931Z",
     "start_time": "2024-05-03T13:47:34.755890Z"
    }
   },
   "id": "fbcdda2ea61990d7",
   "execution_count": 8,
   "outputs": []
  },
  {
   "metadata": {
    "ExecuteTime": {
     "end_time": "2024-05-03T13:50:10.843328Z",
     "start_time": "2024-05-03T13:47:34.771013Z"
    }
   },
   "cell_type": "code",
   "source": [
    "gpt_msg = []\n",
    "for data in tqdm(org_data[:100], total=len(org_data[:100]), desc=\"Processing documents\"):\n",
    "    messages = prompt.invoke(\n",
    "        {\"diff1\": data['sim_diff'],  \"msg1\": data['sim_msg'],\n",
    "         \"question\": data['org_diff'], 'draft': data['org_msg']}\n",
    "    ).to_messages()\n",
    "    example_prompt = [{'role': 'user','content': messages[0].content},]\n",
    "    gpt_msg.append(gpt_35_api(example_prompt))"
   ],
   "id": "906d9076af933da6",
   "execution_count": 9,
   "outputs": []
  },
  {
   "metadata": {
    "ExecuteTime": {
     "end_time": "2024-05-03T13:50:10.874373Z",
     "start_time": "2024-05-03T13:50:10.845878Z"
    }
   },
   "cell_type": "code",
   "source": [
    "with open('../data/chronicle/rag_dev/zeroshot/chronicle_chatgpt_dev_js.json', 'r', encoding='UTF-8') as f:\n",
    "    chronicle_data = json.load(f)\n",
    "\n",
    "for item, msg in zip(chronicle_data[:100], gpt_msg):\n",
    "    item['chatgpt_rag'] = msg\n",
    "\n",
    "output_file = '../data/chronicle/rag_dev/mxbai/chronicle_rag_dev_mxbai_query_sim_msg_js.json'\n",
    "with open(output_file, 'w', encoding='UTF-8') as f:\n",
    "    json.dump(chronicle_data[:100], f, ensure_ascii=False, indent=4)"
   ],
   "id": "cb2c3b538b2a9d0",
   "execution_count": 10,
   "outputs": []
  },
  {
   "metadata": {},
   "cell_type": "code",
   "execution_count": null,
   "source": "",
   "id": "c66e944e406ec970",
   "outputs": []
  }
 ],
 "metadata": {
  "kernelspec": {
   "display_name": "Python 3",
   "language": "python",
   "name": "python3"
  },
  "language_info": {
   "codemirror_mode": {
    "name": "ipython",
    "version": 2
   },
   "file_extension": ".py",
   "mimetype": "text/x-python",
   "name": "python",
   "nbconvert_exporter": "python",
   "pygments_lexer": "ipython2",
   "version": "2.7.6"
  }
 },
 "nbformat": 4,
 "nbformat_minor": 5
}
