{
 "cells": [
  {
   "cell_type": "code",
   "id": "initial_id",
   "metadata": {
    "collapsed": true,
    "ExecuteTime": {
     "end_time": "2024-05-03T09:32:50.187849Z",
     "start_time": "2024-05-03T09:32:48.958397Z"
    }
   },
   "source": [
    "from openai import OpenAI\n",
    "\n",
    "client = OpenAI(\n",
    "    # defaults to os.environ.get(\"OPENAI_API_KEY\")\n",
    "    api_key=\"sk-0rLvuRkMiD4Mw25QYygh6rUlZVjpQWNGNF4yez7z3PZ7yCOm\",\n",
    "    # api_key=\"sk-tMbkq3K1iO5vf0FRMlrmzslGXJZwE0us3mve4QXuvpnZcumG\",\n",
    "    base_url=\"https://api.chatanywhere.tech/v1\"\n",
    "    # base_url=\"https://api.chatanywhere.cn/v1\"\n",
    ")"
   ],
   "outputs": [],
   "execution_count": 1
  },
  {
   "cell_type": "code",
   "source": [
    "def gpt_35_api(messages: list):\n",
    "\n",
    "    completion = client.chat.completions.create(model=\"gpt-3.5-turbo-0125\", messages=messages, temperature=0.5)\n",
    "    return completion.choices[0].message.content"
   ],
   "metadata": {
    "collapsed": false,
    "ExecuteTime": {
     "end_time": "2024-05-03T09:33:15.762636Z",
     "start_time": "2024-05-03T09:33:15.748125Z"
    }
   },
   "id": "ec804f733bdb1890",
   "outputs": [],
   "execution_count": 2
  },
  {
   "cell_type": "code",
   "source": [
    "import json\n",
    "from tqdm import tqdm"
   ],
   "metadata": {
    "collapsed": false,
    "ExecuteTime": {
     "end_time": "2024-05-03T09:33:17.177914Z",
     "start_time": "2024-05-03T09:33:17.148739Z"
    }
   },
   "id": "1929b998d5ce80de",
   "outputs": [],
   "execution_count": 3
  },
  {
   "cell_type": "code",
   "source": [
    "from langchain import hub\n",
    "prompt = hub.pull(\"tyfann/llm4commit-rag-4sim\")"
   ],
   "metadata": {
    "collapsed": false,
    "ExecuteTime": {
     "end_time": "2024-05-03T09:33:20.784922Z",
     "start_time": "2024-05-03T09:33:19.043885Z"
    }
   },
   "id": "fdb997cde6ec8ef0",
   "outputs": [],
   "execution_count": 4
  },
  {
   "cell_type": "code",
   "source": [
    "with open('../data/chronicle/rag_dev/mxbai/data_with_similar_diff_mxbai_split_500chunk_query_js_top4.json', 'r', encoding='UTF-8') as f:\n",
    "    org_data = json.load(f)"
   ],
   "metadata": {
    "collapsed": false,
    "ExecuteTime": {
     "end_time": "2024-05-03T09:36:30.637199Z",
     "start_time": "2024-05-03T09:36:30.619417Z"
    }
   },
   "id": "787db25ca0cfda54",
   "outputs": [],
   "execution_count": 8
  },
  {
   "cell_type": "code",
   "source": [
    "gpt_msg = []\n",
    "for data in tqdm(org_data[:100], total=len(org_data[:100]), desc=\"Processing documents\"):\n",
    "    messages = prompt.invoke(\n",
    "        {\"diff1\": data['sim_diff_0'],  \"msg1\": data['sim_msg_0'],\n",
    "         \"diff2\": data['sim_diff_1'],  \"msg2\": data['sim_msg_1'],\n",
    "         \"diff3\": data['sim_diff_2'],  \"msg3\": data['sim_msg_2'],\n",
    "         \"diff4\": data['sim_diff_3'],  \"msg4\": data['sim_msg_3'],\n",
    "         \"question\": data['org_diff']}\n",
    "    ).to_messages()\n",
    "    example_prompt = [{'role': 'user','content': messages[0].content},]\n",
    "    gpt_msg.append(gpt_35_api(example_prompt))"
   ],
   "metadata": {
    "collapsed": false,
    "ExecuteTime": {
     "end_time": "2024-05-03T09:38:45.825727Z",
     "start_time": "2024-05-03T09:36:32.935762Z"
    }
   },
   "id": "6104b8546eaddbf1",
   "outputs": [
    {
     "name": "stderr",
     "output_type": "stream",
     "text": [
      "Processing documents: 100%|██████████| 100/100 [02:12<00:00,  1.33s/it]\n"
     ]
    }
   ],
   "execution_count": 9
  },
  {
   "cell_type": "code",
   "source": [
    "with open('../data/chronicle/rag_dev/zeroshot/chronicle_chatgpt_dev_js.json', 'r', encoding='UTF-8') as f:\n",
    "    chronicle_data = json.load(f)\n",
    "\n",
    "for item, msg in zip(chronicle_data[:100], gpt_msg):\n",
    "    item['chatgpt_rag'] = msg\n",
    "\n",
    "output_file = '../data/chronicle/rag_dev/mxbai/chronicle_rag_dev_mxbai_500chunk_query_top4_js.json'\n",
    "with open(output_file, 'w', encoding='UTF-8') as f:\n",
    "    json.dump(chronicle_data[:100], f, ensure_ascii=False, indent=4)"
   ],
   "metadata": {
    "collapsed": false,
    "ExecuteTime": {
     "end_time": "2024-05-03T09:38:45.841827Z",
     "start_time": "2024-05-03T09:38:45.828727Z"
    }
   },
   "id": "feafc4cb7dec62fc",
   "outputs": [],
   "execution_count": 10
  },
  {
   "cell_type": "code",
   "outputs": [],
   "source": [
    "import json\n",
    "\n",
    "# 打开 JSON 文件\n",
    "with  open('../data/chronicle/rag_dev/codebert/chronicle_rag_dev_codebert.json', 'r+') as f:\n",
    "    # 读取 JSON 数据\n",
    "    data = json.load(f)\n",
    "    # 保留前 100 条数据\n",
    "    data = data[:100]\n",
    "    # 将文件指针移到文件开头\n",
    "    f.seek(0)\n",
    "    # 将数据写回文件\n",
    "    json.dump(data, f, indent=4)\n",
    "    # 删除文件末尾的空白字符\n",
    "    f.truncate()"
   ],
   "metadata": {
    "collapsed": false,
    "ExecuteTime": {
     "end_time": "2024-04-30T18:11:21.774359Z",
     "start_time": "2024-04-30T18:11:21.761646Z"
    }
   },
   "id": "4282b54f9f0b21ac",
   "execution_count": 9
  },
  {
   "cell_type": "code",
   "outputs": [],
   "source": [],
   "metadata": {
    "collapsed": false
   },
   "id": "fbcdda2ea61990d7",
   "execution_count": null
  }
 ],
 "metadata": {
  "kernelspec": {
   "display_name": "Python 3",
   "language": "python",
   "name": "python3"
  },
  "language_info": {
   "codemirror_mode": {
    "name": "ipython",
    "version": 2
   },
   "file_extension": ".py",
   "mimetype": "text/x-python",
   "name": "python",
   "nbconvert_exporter": "python",
   "pygments_lexer": "ipython2",
   "version": "2.7.6"
  }
 },
 "nbformat": 4,
 "nbformat_minor": 5
}
