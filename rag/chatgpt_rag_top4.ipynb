{
 "cells": [
  {
   "cell_type": "code",
   "id": "initial_id",
   "metadata": {
    "collapsed": true,
    "ExecuteTime": {
     "end_time": "2024-05-17T16:53:17.690336Z",
     "start_time": "2024-05-17T16:53:16.907414Z"
    }
   },
   "source": [
    "from openai import OpenAI\n",
    "\n",
    "client = OpenAI(\n",
    "    # defaults to os.environ.get(\"OPENAI_API_KEY\")\n",
    "    api_key=\"sk-0rLvuRkMiD4Mw25QYygh6rUlZVjpQWNGNF4yez7z3PZ7yCOm\",\n",
    "    # api_key=\"sk-tMbkq3K1iO5vf0FRMlrmzslGXJZwE0us3mve4QXuvpnZcumG\",\n",
    "    base_url=\"https://api.chatanywhere.tech/v1\"\n",
    "    # base_url=\"https://api.chatanywhere.cn/v1\"\n",
    ")"
   ],
   "execution_count": 1,
   "outputs": []
  },
  {
   "cell_type": "code",
   "source": [
    "def gpt_35_api(messages: list):\n",
    "\n",
    "    completion = client.chat.completions.create(model=\"gpt-3.5-turbo-ca\", messages=messages, temperature=0.5)\n",
    "    return completion.choices[0].message.content"
   ],
   "metadata": {
    "collapsed": false,
    "ExecuteTime": {
     "end_time": "2024-05-17T16:53:17.705505Z",
     "start_time": "2024-05-17T16:53:17.692836Z"
    }
   },
   "id": "ec804f733bdb1890",
   "execution_count": 2,
   "outputs": []
  },
  {
   "cell_type": "code",
   "source": [
    "import json\n",
    "from tqdm import tqdm"
   ],
   "metadata": {
    "collapsed": false,
    "ExecuteTime": {
     "end_time": "2024-05-17T16:53:17.720442Z",
     "start_time": "2024-05-17T16:53:17.706913Z"
    }
   },
   "id": "1929b998d5ce80de",
   "execution_count": 3,
   "outputs": []
  },
  {
   "cell_type": "code",
   "source": [
    "from langchain import hub\n",
    "prompt = hub.pull(\"tyfann/llm4commit-rag-4sim\")"
   ],
   "metadata": {
    "collapsed": false,
    "ExecuteTime": {
     "end_time": "2024-05-17T16:53:19.219925Z",
     "start_time": "2024-05-17T16:53:17.722450Z"
    }
   },
   "id": "fdb997cde6ec8ef0",
   "execution_count": 4,
   "outputs": []
  },
  {
   "cell_type": "code",
   "source": [
    "with open('../data/scenario/multi_diff/multi_diff_rag_top4_django_prompt.json', 'r', encoding='UTF-8') as f:\n",
    "    org_data = json.load(f)"
   ],
   "metadata": {
    "collapsed": false,
    "ExecuteTime": {
     "end_time": "2024-05-17T16:53:29.983299Z",
     "start_time": "2024-05-17T16:53:29.953784Z"
    }
   },
   "id": "787db25ca0cfda54",
   "execution_count": 5,
   "outputs": []
  },
  {
   "cell_type": "code",
   "source": [
    "gpt_msg = []\n",
    "for data in tqdm(org_data[:100], total=len(org_data[:100]), desc=\"Processing documents\"):\n",
    "    messages = prompt.invoke(\n",
    "        {\"diff1\": data['sim_diff_0'],  \"msg1\": data['sim_msg_0'],\n",
    "         \"diff2\": data['sim_diff_1'],  \"msg2\": data['sim_msg_1'],\n",
    "         \"diff3\": data['sim_diff_2'],  \"msg3\": data['sim_msg_2'],\n",
    "         \"diff4\": data['sim_diff_3'],  \"msg4\": data['sim_msg_3'],\n",
    "         \"question\": data['org_diff']}\n",
    "    ).to_messages()\n",
    "    example_prompt = [{'role': 'user','content': messages[0].content},]\n",
    "    gpt_msg.append(gpt_35_api(example_prompt))"
   ],
   "metadata": {
    "collapsed": false,
    "ExecuteTime": {
     "end_time": "2024-05-15T16:34:44.418584Z",
     "start_time": "2024-05-15T16:29:03.150843Z"
    }
   },
   "id": "6104b8546eaddbf1",
   "execution_count": 6,
   "outputs": []
  },
  {
   "cell_type": "code",
   "source": [
    "with open('../data/scenario/filtered_data/project_based_django_diff_filtered.json', 'r', encoding='UTF-8') as f:\n",
    "    chronicle_data = json.load(f)\n",
    "\n",
    "for item, msg in zip(chronicle_data[:100], gpt_msg):\n",
    "    item['chatgpt_rag'] = msg\n",
    "\n",
    "output_file = '../data/scenario/top4/scenario_django_chatgpt_rag_top4.json'\n",
    "with open(output_file, 'w', encoding='UTF-8') as f:\n",
    "    json.dump(chronicle_data[:100], f, ensure_ascii=False, indent=4)"
   ],
   "metadata": {
    "collapsed": false,
    "ExecuteTime": {
     "end_time": "2024-05-15T16:34:44.433787Z",
     "start_time": "2024-05-15T16:34:44.420902Z"
    }
   },
   "id": "feafc4cb7dec62fc",
   "execution_count": 7,
   "outputs": []
  },
  {
   "metadata": {
    "ExecuteTime": {
     "end_time": "2024-05-17T17:00:45.854690Z",
     "start_time": "2024-05-17T16:54:19.658164Z"
    }
   },
   "cell_type": "code",
   "source": [
    "with open('../data/scenario/multi_diff/multi_diff_rag_top4_django_prompt.json', 'r', encoding='UTF-8') as f:\n",
    "    org_data = json.load(f)\n",
    "\n",
    "gpt_msg = []\n",
    "for index, data in tqdm(enumerate(org_data[:100]), total=len(org_data[:100]), desc=\"Processing documents\"):\n",
    "    messages = prompt.invoke(\n",
    "        {\"diff1\": data['sim_diff_0'],  \"msg1\": data['sim_msg_0'],\n",
    "         \"diff2\": data['sim_diff_1'],  \"msg2\": data['sim_msg_1'],\n",
    "         \"diff3\": data['sim_diff_2'],  \"msg3\": data['sim_msg_2'],\n",
    "         \"diff4\": data['sim_diff_3'],  \"msg4\": data['sim_msg_3'],\n",
    "         \"question\": data['org_diff']}\n",
    "    ).to_messages()\n",
    "    example_prompt = [{'role': 'user','content': messages[0].content},]\n",
    "    try:\n",
    "        gpt_msg.append(gpt_35_api(example_prompt))\n",
    "    except:\n",
    "        print(index)\n",
    "        rag_prompt = hub.pull(\"tyfann/llm4commit-rag\")\n",
    "        messages = rag_prompt.invoke(\n",
    "            {\"context\": data['sim_diff_0'], \"msg\": data['sim_msg_0'], \"diff\": data['org_diff']}\n",
    "        ).to_messages()\n",
    "        example_prompt = [{'role': 'user','content': messages[0].content},]\n",
    "        gpt_msg.append(gpt_35_api(example_prompt))\n",
    "\n",
    "with open('../data/scenario/filtered_data/project_based_django_multi_diff_filtered.json', 'r', encoding='UTF-8') as f:\n",
    "    chronicle_data = json.load(f)\n",
    "\n",
    "for item, msg in zip(chronicle_data[:100], gpt_msg):\n",
    "    item['chatgpt_rag'] = msg\n",
    "\n",
    "output_file = '../data/scenario/multi_diff/multi_diff_rag_top4_django.json'\n",
    "with open(output_file, 'w', encoding='UTF-8') as f:\n",
    "    json.dump(chronicle_data[:100], f, ensure_ascii=False, indent=4)"
   ],
   "id": "7c9bbf2327d42891",
   "execution_count": 6,
   "outputs": []
  },
  {
   "metadata": {
    "ExecuteTime": {
     "end_time": "2024-05-17T17:06:59.815308Z",
     "start_time": "2024-05-17T17:00:45.857108Z"
    }
   },
   "cell_type": "code",
   "source": [
    "with open('../data/scenario/multi_diff/multi_diff_rag_top4_react_prompt.json', 'r', encoding='UTF-8') as f:\n",
    "    org_data = json.load(f)\n",
    "\n",
    "gpt_msg = []\n",
    "for index, data in tqdm(enumerate(org_data[:100]), total=len(org_data[:100]), desc=\"Processing documents\"):\n",
    "    messages = prompt.invoke(\n",
    "        {\"diff1\": data['sim_diff_0'],  \"msg1\": data['sim_msg_0'],\n",
    "         \"diff2\": data['sim_diff_1'],  \"msg2\": data['sim_msg_1'],\n",
    "         \"diff3\": data['sim_diff_2'],  \"msg3\": data['sim_msg_2'],\n",
    "         \"diff4\": data['sim_diff_3'],  \"msg4\": data['sim_msg_3'],\n",
    "         \"question\": data['org_diff']}\n",
    "    ).to_messages()\n",
    "    example_prompt = [{'role': 'user','content': messages[0].content},]\n",
    "    try:\n",
    "        gpt_msg.append(gpt_35_api(example_prompt))\n",
    "    except:\n",
    "        print(index)\n",
    "        rag_prompt = hub.pull(\"tyfann/llm4commit-rag\")\n",
    "        messages = rag_prompt.invoke(\n",
    "            {\"context\": data['sim_diff_0'], \"msg\": data['sim_msg_0'], \"diff\": data['org_diff']}\n",
    "        ).to_messages()\n",
    "        example_prompt = [{'role': 'user','content': messages[0].content},]\n",
    "        gpt_msg.append(gpt_35_api(example_prompt))\n",
    "\n",
    "with open('../data/scenario/filtered_data/project_based_react_multi_diff_filtered.json', 'r', encoding='UTF-8') as f:\n",
    "    chronicle_data = json.load(f)\n",
    "\n",
    "for item, msg in zip(chronicle_data[:100], gpt_msg):\n",
    "    item['chatgpt_rag'] = msg\n",
    "\n",
    "output_file = '../data/scenario/multi_diff/multi_diff_rag_top4_react_v2.json'\n",
    "with open(output_file, 'w', encoding='UTF-8') as f:\n",
    "    json.dump(chronicle_data[:100], f, ensure_ascii=False, indent=4)"
   ],
   "id": "260811f8f497492d",
   "execution_count": 7,
   "outputs": []
  },
  {
   "metadata": {
    "ExecuteTime": {
     "end_time": "2024-05-17T17:13:08.438416Z",
     "start_time": "2024-05-17T17:06:59.816391Z"
    }
   },
   "cell_type": "code",
   "source": [
    "with open('../data/scenario/multi_diff/multi_diff_rag_top4_flask_prompt.json', 'r', encoding='UTF-8') as f:\n",
    "    org_data = json.load(f)\n",
    "\n",
    "gpt_msg = []\n",
    "for index, data in tqdm(enumerate(org_data[:100]), total=len(org_data[:100]), desc=\"Processing documents\"):\n",
    "    messages = prompt.invoke(\n",
    "        {\"diff1\": data['sim_diff_0'],  \"msg1\": data['sim_msg_0'],\n",
    "         \"diff2\": data['sim_diff_1'],  \"msg2\": data['sim_msg_1'],\n",
    "         \"diff3\": data['sim_diff_2'],  \"msg3\": data['sim_msg_2'],\n",
    "         \"diff4\": data['sim_diff_3'],  \"msg4\": data['sim_msg_3'],\n",
    "         \"question\": data['org_diff']}\n",
    "    ).to_messages()\n",
    "    example_prompt = [{'role': 'user','content': messages[0].content},]\n",
    "    try:\n",
    "        gpt_msg.append(gpt_35_api(example_prompt))\n",
    "    except:\n",
    "        print(index)\n",
    "        rag_prompt = hub.pull(\"tyfann/llm4commit-rag\")\n",
    "        messages = rag_prompt.invoke(\n",
    "            {\"context\": data['sim_diff_0'], \"msg\": data['sim_msg_0'], \"diff\": data['org_diff']}\n",
    "        ).to_messages()\n",
    "        example_prompt = [{'role': 'user','content': messages[0].content},]\n",
    "        gpt_msg.append(gpt_35_api(example_prompt))\n",
    "\n",
    "with open('../data/scenario/filtered_data/project_based_flask_multi_diff_filtered.json', 'r', encoding='UTF-8') as f:\n",
    "    chronicle_data = json.load(f)\n",
    "\n",
    "for item, msg in zip(chronicle_data[:100], gpt_msg):\n",
    "    item['chatgpt_rag'] = msg\n",
    "\n",
    "output_file = '../data/scenario/multi_diff/multi_diff_rag_top4_flask_v2.json'\n",
    "with open(output_file, 'w', encoding='UTF-8') as f:\n",
    "    json.dump(chronicle_data[:100], f, ensure_ascii=False, indent=4)"
   ],
   "id": "d9fef0641317c5f2",
   "execution_count": 8,
   "outputs": []
  },
  {
   "metadata": {
    "ExecuteTime": {
     "end_time": "2024-05-12T09:36:37.376306Z",
     "start_time": "2024-05-12T09:36:37.366307Z"
    }
   },
   "cell_type": "code",
   "source": [
    "data = org_data[11]\n",
    "messages = prompt.invoke(\n",
    "        {\"diff1\": data['sim_diff_0'],  \"msg1\": data['sim_msg_0'],\n",
    "         \"diff2\": data['sim_diff_1'],  \"msg2\": data['sim_msg_1'],\n",
    "         \"diff3\": data['sim_diff_2'],  \"msg3\": data['sim_msg_2'],\n",
    "         \"diff4\": data['sim_diff_3'],  \"msg4\": data['sim_msg_3'],\n",
    "         \"question\": data['org_diff']}\n",
    ").to_messages()\n",
    "example_prompt = [{'role': 'user','content': messages[0].content},]"
   ],
   "id": "a53f7f6e02a58056",
   "execution_count": 17,
   "outputs": []
  },
  {
   "metadata": {
    "ExecuteTime": {
     "end_time": "2024-05-12T09:36:43.335934Z",
     "start_time": "2024-05-12T09:36:38.091214Z"
    }
   },
   "cell_type": "code",
   "source": "gpt_35_api(example_prompt)",
   "id": "b588df20d88b3935",
   "execution_count": 18,
   "outputs": []
  },
  {
   "cell_type": "code",
   "source": [
    "import json\n",
    "\n",
    "# 打开 JSON 文件\n",
    "with  open('../data/chronicle/rag_dev/codebert/chronicle_rag_dev_codebert.json', 'r+') as f:\n",
    "    # 读取 JSON 数据\n",
    "    data = json.load(f)\n",
    "    # 保留前 100 条数据\n",
    "    data = data[:100]\n",
    "    # 将文件指针移到文件开头\n",
    "    f.seek(0)\n",
    "    # 将数据写回文件\n",
    "    json.dump(data, f, indent=4)\n",
    "    # 删除文件末尾的空白字符\n",
    "    f.truncate()"
   ],
   "metadata": {
    "collapsed": false,
    "ExecuteTime": {
     "end_time": "2024-04-30T18:11:21.774359Z",
     "start_time": "2024-04-30T18:11:21.761646Z"
    }
   },
   "id": "4282b54f9f0b21ac",
   "execution_count": 9,
   "outputs": []
  },
  {
   "cell_type": "code",
   "source": [],
   "metadata": {
    "collapsed": false
   },
   "id": "fbcdda2ea61990d7",
   "execution_count": null,
   "outputs": []
  }
 ],
 "metadata": {
  "kernelspec": {
   "display_name": "Python 3",
   "language": "python",
   "name": "python3"
  },
  "language_info": {
   "codemirror_mode": {
    "name": "ipython",
    "version": 2
   },
   "file_extension": ".py",
   "mimetype": "text/x-python",
   "name": "python",
   "nbconvert_exporter": "python",
   "pygments_lexer": "ipython2",
   "version": "2.7.6"
  }
 },
 "nbformat": 4,
 "nbformat_minor": 5
}
