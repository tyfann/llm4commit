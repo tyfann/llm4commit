{
 "cells": [
  {
   "cell_type": "code",
   "outputs": [],
   "source": [
    "from huggingface_hub import hf_hub_download, snapshot_download\n",
    "import pyarrow.parquet as pq\n",
    "import glob\n",
    "import os\n",
    "from tqdm.auto import tqdm\n",
    "import json\n",
    "import pickle"
   ],
   "metadata": {
    "collapsed": false
   },
   "id": "43d71dba5790769d"
  },
  {
   "cell_type": "code",
   "execution_count": null,
   "id": "initial_id",
   "metadata": {
    "collapsed": true
   },
   "outputs": [],
   "source": [
    "snapshot_download(repo_id=\"JetBrains-Research/commit-chronicle\", repo_type=\"dataset\", cache_dir='./')"
   ]
  },
  {
   "cell_type": "code",
   "outputs": [],
   "source": [
    "folder_path = './datasets--JetBrains-Research--commit-chronicle/snapshots/5fd076e67b812a9f3d1999e5e40f71715f84bb51/data'  # 文件夹的路径\n",
    "\n",
    "df = pq.read_table(folder_path + '/train-00000-of-00061-2a7ccc8e843f5f5b.parquet').to_pandas()"
   ],
   "metadata": {
    "collapsed": false
   },
   "id": "6e78546ecd1dc381"
  },
  {
   "cell_type": "code",
   "outputs": [],
   "source": [
    "\n",
    "\n",
    "# Create empty DataFrames for each language\n",
    "languages = ['Java', 'Python', 'C#', 'C++', 'JavaScript']\n",
    "dfs = {lang: [] for lang in languages}\n",
    "\n",
    "# Create a tqdm progress bar for each language\n",
    "bars = {lang: tqdm(total=100000, desc=lang) for lang in languages}\n",
    "\n",
    "folder_path = './datasets--JetBrains-Research--commit-chronicle/snapshots/5fd076e67b812a9f3d1999e5e40f71715f84bb51/data'  # 文件夹的路径\n",
    "\n",
    "files = glob.glob(os.path.join(folder_path, 'train*'))\n",
    "for file in files:\n",
    "    df = pq.read_table(file).to_pandas()\n",
    "\n",
    "    # Iterate over each language\n",
    "    for lang in languages:\n",
    "        # Filter rows where language column matches the current language\n",
    "        lang_df = df[(df['language'] == lang) & (df['mods'].apply(len) == 1) & (df['mods'].apply(lambda x: x[0]['change_type']) == 'MODIFY') & (df['mods'].apply(lambda x: len(f\"diff --git a/{x[0]['old_path']} b/{x[0]['new_path']} {x[0]['diff']}\") <= 3000))]\n",
    "\n",
    "        # Iterate over each row in the filtered DataFrame\n",
    "        for index, row in lang_df.iterrows():\n",
    "            diff = row['mods'][0]\n",
    "            old_path = 'a/' + diff['old_path']\n",
    "            new_path = 'b/' + diff['new_path']\n",
    "            diff_content = diff['diff']  # assume diff_content is an empty string\n",
    "            item = {\n",
    "                'msg': row['message'],\n",
    "                'diff': f\"diff --git {old_path} {new_path} {diff_content}\",\n",
    "                'lang': lang\n",
    "            }\n",
    "            dfs[lang].append(item)\n",
    "            bars[lang].update(1)\n",
    "\n",
    "            # Check if the language has reached 100,000 rows\n",
    "            if len(dfs[lang]) >= 100000:\n",
    "                print(f\"Reached 100,000 rows for {lang}\")\n",
    "                languages.remove(lang)  # Remove language from list to avoid further processing\n",
    "                break\n",
    "    # Break out of the loop if all languages have reached 100,000 rows\n",
    "    if not languages:\n",
    "        break"
   ],
   "metadata": {
    "collapsed": false
   },
   "id": "9ed484a077a1e440"
  },
  {
   "cell_type": "code",
   "outputs": [],
   "source": [
    "# Create a single list of all items\n",
    "all_items = [item for lang in dfs for item in dfs[lang]]\n",
    "\n",
    "# Dump the data to a JSON file\n",
    "with open('../data/chronicle/chronicle_rag_db.json', 'w') as f:\n",
    "    json.dump(all_items, f, indent=4)"
   ],
   "metadata": {
    "collapsed": false
   },
   "id": "e372e3a9767c5f38"
  },
  {
   "cell_type": "code",
   "outputs": [],
   "source": [
    "data = {}\n",
    "for index, item in enumerate(all_items):\n",
    "    data[index+1] = item['msg']\n",
    "\n",
    "with open(\"../data/chronicle/rag_msg.pkl\", \"wb\") as f:\n",
    "    pickle.dump(data, f)"
   ],
   "metadata": {
    "collapsed": false
   },
   "id": "860eb081f89e3f41"
  }
 ],
 "metadata": {
  "kernelspec": {
   "display_name": "Python 3",
   "language": "python",
   "name": "python3"
  },
  "language_info": {
   "codemirror_mode": {
    "name": "ipython",
    "version": 2
   },
   "file_extension": ".py",
   "mimetype": "text/x-python",
   "name": "python",
   "nbconvert_exporter": "python",
   "pygments_lexer": "ipython2",
   "version": "2.7.6"
  }
 },
 "nbformat": 4,
 "nbformat_minor": 5
}
