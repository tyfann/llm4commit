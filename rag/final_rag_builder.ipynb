{
 "cells": [
  {
   "cell_type": "code",
   "id": "initial_id",
   "metadata": {
    "collapsed": true,
    "ExecuteTime": {
     "end_time": "2024-06-15T09:48:02.897690Z",
     "start_time": "2024-06-15T09:48:02.317795Z"
    }
   },
   "source": [
    "from langchain_community.document_loaders import JSONLoader\n",
    "from tqdm.auto import tqdm\n",
    "import json\n",
    "import pickle\n",
    "from langchain.text_splitter import Language\n",
    "from langchain.text_splitter import RecursiveCharacterTextSplitter\n",
    "from langchain.embeddings import HuggingFaceEmbeddings\n",
    "from langchain_community.vectorstores import Chroma\n",
    "import glob\n",
    "import os"
   ],
   "outputs": [],
   "execution_count": 1
  },
  {
   "metadata": {},
   "cell_type": "markdown",
   "source": "## JS Part",
   "id": "323ec73532231435"
  },
  {
   "metadata": {
    "ExecuteTime": {
     "end_time": "2024-06-14T09:02:18.568654Z",
     "start_time": "2024-06-14T09:02:18.558655Z"
    }
   },
   "cell_type": "code",
   "source": [
    "folder_path = '../data/angular_filtered/subsets/type_db'\n",
    "files = glob.glob(os.path.join(folder_path, '*db.json'))"
   ],
   "id": "d46f7483dbb2852c",
   "outputs": [],
   "execution_count": 5
  },
  {
   "metadata": {
    "ExecuteTime": {
     "end_time": "2024-06-14T09:11:09.277689Z",
     "start_time": "2024-06-14T09:11:09.259662Z"
    }
   },
   "cell_type": "code",
   "source": "",
   "id": "a4723e5d0d17c810",
   "outputs": [
    {
     "data": {
      "text/plain": [
       "'build'"
      ]
     },
     "execution_count": 12,
     "metadata": {},
     "output_type": "execute_result"
    }
   ],
   "execution_count": 12
  },
  {
   "metadata": {
    "ExecuteTime": {
     "end_time": "2024-06-15T09:48:11.922824Z",
     "start_time": "2024-06-15T09:48:05.010604Z"
    }
   },
   "cell_type": "code",
   "source": [
    "# Define the path to the pre-trained model you want to use\n",
    "# modelPath = \"mixedbread-ai/mxbai-embed-large-v1\"\n",
    "# modelPath = \"mchochlov/codebert-base-cd-ft\"\n",
    "# modelPath= \"microsoft/unixcoder-base\"\n",
    "# modelPath =\"codecompletedeployment/st-codesearch-distilroberta-base\"\n",
    "modelPath = \"intfloat/e5-small-v2\"\n",
    "# modelPath = \"sentence-transformers/all-MiniLM-L6-v2\"\n",
    "# modelPath = \"../models/models-e5-v2-finetuned-10w-epoch20\"\n",
    "\n",
    "# for modelPath in [\"mixedbread-ai/mxbai-embed-large-v1\", \"intfloat/e5-small-v2\", \"sentence-transformers/all-MiniLM-L6-v2\"]:\n",
    "model_kwargs = {'device':'cuda', 'trust_remote_code': True}\n",
    "\n",
    "# Create a dictionary with encoding options, specifically setting 'normalize_embeddings' to False\n",
    "encode_kwargs = {'normalize_embeddings': True}\n",
    "\n",
    "# Initialize an instance of HuggingFaceEmbeddings with the specified parameters\n",
    "embeddings = HuggingFaceEmbeddings(\n",
    "    cache_folder = '../models',\n",
    "    model_name=modelPath,     # Provide the pre-trained model's path\n",
    "    model_kwargs=model_kwargs, # Pass the model configuration options\n",
    "    encode_kwargs=encode_kwargs # Pass the encoding options\n",
    ")"
   ],
   "id": "f31c0c8c8d739dfc",
   "outputs": [],
   "execution_count": 2
  },
  {
   "metadata": {
    "ExecuteTime": {
     "end_time": "2024-06-15T09:56:59.192906Z",
     "start_time": "2024-06-15T09:49:19.489613Z"
    }
   },
   "cell_type": "code",
   "source": [
    "file = '../data/angular_filtered/subsets/db_data.json'\n",
    "splitter = RecursiveCharacterTextSplitter.from_language(Language.JS, chunk_size=1000, chunk_overlap=200)\n",
    "diff_loader = JSONLoader(\n",
    "    file_path=file,\n",
    "    jq_schema='.[].diff',\n",
    "    text_content=False)\n",
    "\n",
    "diff_data = diff_loader.load()\n",
    "\n",
    "msg_loader = JSONLoader(\n",
    "    file_path=file,\n",
    "    jq_schema='.[].msg',\n",
    "    text_content=False)\n",
    "\n",
    "msg_data = msg_loader.load()\n",
    "diff_split = []\n",
    "\n",
    "for i, doc in tqdm(enumerate(diff_data), total=len(diff_data), desc=\"Processing documents\"):\n",
    "    diff_split += splitter.split_documents([doc])\n",
    "\n",
    "type = file.split('\\\\')[-1].split('_')[1]\n",
    "db = Chroma.from_documents(diff_split, embeddings, persist_directory=f\"../data/angular_filtered/subsets/type_db/rag_all_types_db_e5\")"
   ],
   "id": "b4bd10da50c906f5",
   "outputs": [
    {
     "data": {
      "text/plain": [
       "Processing documents:   0%|          | 0/54598 [00:00<?, ?it/s]"
      ],
      "application/vnd.jupyter.widget-view+json": {
       "version_major": 2,
       "version_minor": 0,
       "model_id": "15241e0038014c03afb7e6d55f868e32"
      }
     },
     "metadata": {},
     "output_type": "display_data"
    }
   ],
   "execution_count": 3
  },
  {
   "metadata": {
    "ExecuteTime": {
     "end_time": "2024-06-14T09:18:45.302047Z",
     "start_time": "2024-06-14T09:11:47.966131Z"
    }
   },
   "cell_type": "code",
   "source": [
    "splitter = RecursiveCharacterTextSplitter.from_language(Language.JS, chunk_size=1000, chunk_overlap=200)\n",
    "for file in files:\n",
    "    diff_loader = JSONLoader(\n",
    "        file_path=file,\n",
    "        jq_schema='.[].diff',\n",
    "        text_content=False)\n",
    "    \n",
    "    diff_data = diff_loader.load()\n",
    "    \n",
    "    # msg_loader = JSONLoader(\n",
    "    #     file_path=file,\n",
    "    #     jq_schema='.[].msg',\n",
    "    #     text_content=False)\n",
    "    # \n",
    "    # msg_data = msg_loader.load()\n",
    "    diff_split = []\n",
    "\n",
    "    for i, doc in tqdm(enumerate(diff_data), total=len(diff_data), desc=\"Processing documents\"):\n",
    "        diff_split += splitter.split_documents([doc])\n",
    "    \n",
    "    type = file.split('\\\\')[-1].split('_')[1]\n",
    "    db = Chroma.from_documents(diff_split, embeddings, persist_directory=f\"../data/angular_filtered/subsets/type_db/rag_{type}_db_e5\")"
   ],
   "id": "81344d196c0726",
   "outputs": [
    {
     "data": {
      "text/plain": [
       "Processing documents:   0%|          | 0/1784 [00:00<?, ?it/s]"
      ],
      "application/vnd.jupyter.widget-view+json": {
       "version_major": 2,
       "version_minor": 0,
       "model_id": "7b94dfe075c04c9da58ed508e5535674"
      }
     },
     "metadata": {},
     "output_type": "display_data"
    },
    {
     "data": {
      "text/plain": [
       "Processing documents:   0%|          | 0/9000 [00:00<?, ?it/s]"
      ],
      "application/vnd.jupyter.widget-view+json": {
       "version_major": 2,
       "version_minor": 0,
       "model_id": "cd1285d5c5864f4ba0dc31a596eb83cb"
      }
     },
     "metadata": {},
     "output_type": "display_data"
    },
    {
     "data": {
      "text/plain": [
       "Processing documents:   0%|          | 0/1618 [00:00<?, ?it/s]"
      ],
      "application/vnd.jupyter.widget-view+json": {
       "version_major": 2,
       "version_minor": 0,
       "model_id": "21904c3c3d1643a489630b65e2e5f0ca"
      }
     },
     "metadata": {},
     "output_type": "display_data"
    },
    {
     "data": {
      "text/plain": [
       "Processing documents:   0%|          | 0/9000 [00:00<?, ?it/s]"
      ],
      "application/vnd.jupyter.widget-view+json": {
       "version_major": 2,
       "version_minor": 0,
       "model_id": "8e0a336975b4453ca8a44ea5eb4a7b06"
      }
     },
     "metadata": {},
     "output_type": "display_data"
    },
    {
     "data": {
      "text/plain": [
       "Processing documents:   0%|          | 0/9000 [00:00<?, ?it/s]"
      ],
      "application/vnd.jupyter.widget-view+json": {
       "version_major": 2,
       "version_minor": 0,
       "model_id": "ebcb73a6c35a4efdadf4d70f407e3294"
      }
     },
     "metadata": {},
     "output_type": "display_data"
    },
    {
     "data": {
      "text/plain": [
       "Processing documents:   0%|          | 0/9000 [00:00<?, ?it/s]"
      ],
      "application/vnd.jupyter.widget-view+json": {
       "version_major": 2,
       "version_minor": 0,
       "model_id": "24dca669dd7141e0a5e9eac0fa5ad619"
      }
     },
     "metadata": {},
     "output_type": "display_data"
    },
    {
     "data": {
      "text/plain": [
       "Processing documents:   0%|          | 0/513 [00:00<?, ?it/s]"
      ],
      "application/vnd.jupyter.widget-view+json": {
       "version_major": 2,
       "version_minor": 0,
       "model_id": "06110639d7da4bcc987ffdeeb507c5ca"
      }
     },
     "metadata": {},
     "output_type": "display_data"
    },
    {
     "data": {
      "text/plain": [
       "Processing documents:   0%|          | 0/7811 [00:00<?, ?it/s]"
      ],
      "application/vnd.jupyter.widget-view+json": {
       "version_major": 2,
       "version_minor": 0,
       "model_id": "44651a06acf74db4aa2663096713bd92"
      }
     },
     "metadata": {},
     "output_type": "display_data"
    },
    {
     "data": {
      "text/plain": [
       "Processing documents:   0%|          | 0/1157 [00:00<?, ?it/s]"
      ],
      "application/vnd.jupyter.widget-view+json": {
       "version_major": 2,
       "version_minor": 0,
       "model_id": "88824308e08543c680d72c11a2edaf24"
      }
     },
     "metadata": {},
     "output_type": "display_data"
    },
    {
     "data": {
      "text/plain": [
       "Processing documents:   0%|          | 0/5715 [00:00<?, ?it/s]"
      ],
      "application/vnd.jupyter.widget-view+json": {
       "version_major": 2,
       "version_minor": 0,
       "model_id": "022e982a3245466387bf329bd1bdd6d0"
      }
     },
     "metadata": {},
     "output_type": "display_data"
    }
   ],
   "execution_count": 13
  },
  {
   "metadata": {
    "ExecuteTime": {
     "end_time": "2024-06-11T15:44:57.091367Z",
     "start_time": "2024-06-11T15:44:57.077365Z"
    }
   },
   "cell_type": "code",
   "source": "",
   "id": "6083064caf520ffc",
   "outputs": [],
   "execution_count": 3
  },
  {
   "metadata": {
    "ExecuteTime": {
     "end_time": "2024-06-11T15:44:58.476445Z",
     "start_time": "2024-06-11T15:44:57.093365Z"
    }
   },
   "cell_type": "code",
   "source": "",
   "id": "930e506239f0f355",
   "outputs": [
    {
     "data": {
      "text/plain": [
       "Processing documents:   0%|          | 0/11000 [00:00<?, ?it/s]"
      ],
      "application/vnd.jupyter.widget-view+json": {
       "version_major": 2,
       "version_minor": 0,
       "model_id": "41124296b64242bb82ca8ddf5550c9a9"
      }
     },
     "metadata": {},
     "output_type": "display_data"
    }
   ],
   "execution_count": 4
  },
  {
   "metadata": {
    "ExecuteTime": {
     "end_time": "2024-06-13T08:16:37.629681Z",
     "start_time": "2024-06-13T08:16:30.550434Z"
    }
   },
   "cell_type": "code",
   "source": "",
   "id": "3373954306d5d819",
   "outputs": [],
   "execution_count": 3
  },
  {
   "metadata": {
    "ExecuteTime": {
     "end_time": "2024-06-06T18:20:46.370438Z",
     "start_time": "2024-06-06T18:20:45.913518Z"
    }
   },
   "cell_type": "code",
   "source": [
    "# from langchain_openai import OpenAIEmbeddings\n",
    "# embeddings = OpenAIEmbeddings(api_key=\"sk-0rLvuRkMiD4Mw25QYygh6rUlZVjpQWNGNF4yez7z3PZ7yCOm\", base_url=\"https://api.chatanywhere.cn/v1\", model=\"text-embedding-3-small\")"
   ],
   "id": "d2c51cb554affa55",
   "outputs": [],
   "execution_count": 16
  },
  {
   "metadata": {
    "ExecuteTime": {
     "end_time": "2024-06-13T08:17:22.481338Z",
     "start_time": "2024-06-13T08:16:50.370320Z"
    }
   },
   "cell_type": "code",
   "source": [
    "# Load the document, split it into chunks, embed each chunk and load it into the vector store.\n",
    "\n",
    "# db = Chroma.from_documents(diff_data, embeddings, persist_directory=\"./final_js_rag_single_diff_db_300_distilroberta\")"
   ],
   "id": "21c7f0852d9988e4",
   "outputs": [],
   "execution_count": 4
  },
  {
   "metadata": {
    "ExecuteTime": {
     "end_time": "2024-06-06T18:20:49.060934Z",
     "start_time": "2024-06-06T18:20:49.046876Z"
    }
   },
   "cell_type": "code",
   "source": "# db = Chroma(persist_directory=\"../data/angular_filtered/rag/rag_db_e5\", embedding_function=embeddings)",
   "id": "8283496ad4ed7641",
   "outputs": [],
   "execution_count": 17
  },
  {
   "metadata": {
    "ExecuteTime": {
     "end_time": "2024-06-15T09:59:04.522459Z",
     "start_time": "2024-06-15T09:59:04.453006Z"
    }
   },
   "cell_type": "code",
   "source": [
    "test_diff_loader = JSONLoader(\n",
    "    file_path='../data/angular_filtered/subsets/test_dev.json',\n",
    "    jq_schema='.[].diff',\n",
    "    text_content=False)\n",
    "\n",
    "test_diff_data = test_diff_loader.load()\n",
    "# test_diff_data = test_diff_loader.load()[:1000]\n",
    "\n",
    "with open('../data/angular_filtered/subsets/test_dev.json', 'r', encoding='UTF-8') as f:\n",
    "    test_data = json.load(f)\n",
    "    # test_data = json.load(f)[:1000]"
   ],
   "id": "2568f907127e3bf2",
   "outputs": [],
   "execution_count": 4
  },
  {
   "metadata": {
    "ExecuteTime": {
     "end_time": "2024-06-13T08:23:44.983295Z",
     "start_time": "2024-06-13T08:23:44.970297Z"
    }
   },
   "cell_type": "code",
   "source": [
    "import re\n",
    "def process_diff(diff_text):\n",
    "    # Replace <nl> with \\n\n",
    "    diff_text = diff_text.replace('<nl>', '\\n')\n",
    "    diff_text = re.sub(r'(?<=\\S)\\s*([^\\w\\s])\\s*(?=\\S)', r'\\1', diff_text)\n",
    "    diff_text = re.sub(r'\\n\\s+', r'\\n', diff_text)\n",
    "    diff_text = diff_text.replace('mmm', 'diff --git')\n",
    "    diff_text = diff_text.replace('\\nppp ', '')\n",
    "    return diff_text"
   ],
   "id": "bb915d42955194e8",
   "outputs": [],
   "execution_count": 8
  },
  {
   "metadata": {
    "ExecuteTime": {
     "end_time": "2024-06-15T10:04:10.540550Z",
     "start_time": "2024-06-15T10:04:10.535029Z"
    }
   },
   "cell_type": "code",
   "source": [
    "def similarity_search(documents, db):\n",
    "    # Initialize an empty dictionary to store aggregate scores for each candidate ID\n",
    "    aggregate_scores = {}\n",
    "\n",
    "    # Iterate through each document in the documents list\n",
    "    for document in documents:\n",
    "        # Apply similarity search function to the document\n",
    "        results = db.similarity_search_with_relevance_scores(document.page_content, score_threshold=0.0)\n",
    "        # Iterate through the results for each document\n",
    "        for candidate_doc in results:\n",
    "            id = candidate_doc[0].metadata['seq_num']\n",
    "            score = candidate_doc[1]\n",
    "            # Update the aggregate score for the candidate ID\n",
    "            aggregate_scores[id] = aggregate_scores.get(id, 0) + score\n",
    "\n",
    "    # Find the candidate ID with the highest aggregate score\n",
    "    if aggregate_scores:\n",
    "        max_candidate_id = max(aggregate_scores, key=aggregate_scores.get)\n",
    "    else:\n",
    "        max_candidate_id = -1\n",
    "\n",
    "    return max_candidate_id"
   ],
   "id": "f05424897a781196",
   "outputs": [],
   "execution_count": 7
  },
  {
   "metadata": {
    "ExecuteTime": {
     "end_time": "2024-06-15T10:04:23.912950Z",
     "start_time": "2024-06-15T10:04:10.893611Z"
    }
   },
   "cell_type": "code",
   "source": [
    "# db = Chroma(persist_directory=\"./final_js_rag_single_diff_db_300\", embedding_function=embeddings)\n",
    "# retriever = db.as_retriever(search_kwargs={\"k\": 1})\n",
    "similar_diff_id = []\n",
    "for diff_doc in tqdm(test_diff_data, total=len(test_diff_data), desc=\"Processing documents\"):\n",
    "    documents = splitter.split_documents([diff_doc])\n",
    "    # similar_diff.append(retriever.invoke(diff_doc.page_content)[0])\n",
    "    similar_diff_id.append(similarity_search(documents, db))\n",
    "\n",
    "data = []\n",
    "\n",
    "for sim_diff_id, test_diff in zip(similar_diff_id, test_data):\n",
    "    item = {'diff': test_diff['diff'],\n",
    "            'msg': test_diff['msg'],\n",
    "            'sim_msg': msg_data[sim_diff_id-1].page_content,\n",
    "            'sim_diff': diff_data[sim_diff_id-1].page_content}\n",
    "    data.append(item)\n",
    "    \n",
    "# Write the data to a JSON file\n",
    "with open('../data/angular_filtered/subsets/generation/rag_prompt/dev_test_rag_prompt.json', 'w', encoding='UTF-8') as f:\n",
    "    json.dump(data, f, ensure_ascii=False, indent=4)"
   ],
   "id": "f426f84d900c3f13",
   "outputs": [
    {
     "data": {
      "text/plain": [
       "Processing documents:   0%|          | 0/603 [00:00<?, ?it/s]"
      ],
      "application/vnd.jupyter.widget-view+json": {
       "version_major": 2,
       "version_minor": 0,
       "model_id": "80d2ba5b8b324b4db5d7545f44fa899f"
      }
     },
     "metadata": {},
     "output_type": "display_data"
    }
   ],
   "execution_count": 8
  },
  {
   "metadata": {
    "ExecuteTime": {
     "end_time": "2024-06-09T12:41:24.839802Z",
     "start_time": "2024-06-09T12:41:24.811387Z"
    }
   },
   "cell_type": "code",
   "source": "",
   "id": "3b56050db9976324",
   "outputs": [],
   "execution_count": 7
  },
  {
   "metadata": {
    "ExecuteTime": {
     "end_time": "2024-06-04T18:46:14.336013Z",
     "start_time": "2024-06-04T18:46:14.318465Z"
    }
   },
   "cell_type": "code",
   "source": [
    "with open(\"../data/final_preprocessed_data/discriminator/dis_train_data_retrieve_openai_embedding.json\", 'r', encoding='UTF-8') as f:\n",
    "# with open(\"../data/final_preprocessed_data/js_baseline/js_baseline_test_data_300_golden.json\", 'r', encoding='UTF-8') as f:\n",
    "    golden_data = json.load(f)"
   ],
   "id": "e723140fe3b6f47",
   "outputs": [],
   "execution_count": 29
  },
  {
   "metadata": {
    "ExecuteTime": {
     "end_time": "2024-06-04T18:47:24.437035Z",
     "start_time": "2024-06-04T18:47:14.187881Z"
    }
   },
   "cell_type": "code",
   "source": [
    "retriever = db.as_retriever(search_kwargs={\"k\": 100})\n",
    "sim_count = 0\n",
    "for diff_doc, golden in tqdm(zip(test_diff_data,golden_data), total=len(test_diff_data), desc=\"Processing documents\"):\n",
    "    # documents = splitters[1].split_documents([diff_doc])\n",
    "    for res in retriever.invoke(diff_doc.page_content):\n",
    "        if golden['sim_diff']==res.page_content:\n",
    "            sim_count+=1\n",
    "            break\n",
    "\n",
    "print(sim_count)"
   ],
   "id": "ce39667ac14b0a88",
   "outputs": [
    {
     "data": {
      "text/plain": [
       "Processing documents:   0%|          | 0/500 [00:00<?, ?it/s]"
      ],
      "application/vnd.jupyter.widget-view+json": {
       "version_major": 2,
       "version_minor": 0,
       "model_id": "e91445e558804e4293fb467306e66828"
      }
     },
     "metadata": {},
     "output_type": "display_data"
    },
    {
     "name": "stdout",
     "output_type": "stream",
     "text": [
      "10\n"
     ]
    }
   ],
   "execution_count": 33
  },
  {
   "metadata": {
    "ExecuteTime": {
     "end_time": "2024-06-03T16:21:48.030317Z",
     "start_time": "2024-06-03T16:21:48.016318Z"
    }
   },
   "cell_type": "code",
   "source": "golden_data[0]['sim_diff']",
   "id": "f676ef44e26a6f41",
   "outputs": [
    {
     "data": {
      "text/plain": [
       "\"diff --git a/test/custom-pages.js b/test/custom-pages.js @@ -31,6 +31,8 @@ describe('custom-pages', function() {\\n}\\n}\\n});\\n+\\n+ assert(apos && apos.__meta.name === 'apostrophe');\\n});\\nit('should fire a dispatch route for its homepage', async function() {\\n\""
      ]
     },
     "execution_count": 16,
     "metadata": {},
     "output_type": "execute_result"
    }
   ],
   "execution_count": 16
  },
  {
   "metadata": {
    "ExecuteTime": {
     "end_time": "2024-06-06T19:40:01.677464Z",
     "start_time": "2024-06-06T19:40:00.491237Z"
    }
   },
   "cell_type": "code",
   "source": [
    "\n",
    "data = []\n",
    "\n",
    "for sim_diff, test_diff in zip(similar_diff, test_data):\n",
    "    item = {'org_diff': test_diff['diff'],\n",
    "            'org_msg': test_diff['msg'],\n",
    "            'sim_msg': msg_data[sim_diff.metadata['seq_num']-1].page_content,\n",
    "            # 'sim_msg': msg_data[sim_diff-1].page_content,\n",
    "            # 'sim_diff': diff_data[sim_diff-1].page_content}\n",
    "            'sim_diff': diff_data[sim_diff.metadata['seq_num']-1].page_content}\n",
    "    data.append(item)\n",
    "    \n",
    "# Write the data to a JSON file\n",
    "with open('../data/final_preprocessed_data/discriminator/dis_train_data_retrieve_openai_embedding.json', 'w', encoding='UTF-8') as f:\n",
    "    json.dump(data, f, ensure_ascii=False, indent=4)"
   ],
   "id": "f76b629e464de18b",
   "outputs": [],
   "execution_count": 19
  },
  {
   "metadata": {},
   "cell_type": "markdown",
   "source": "## JS Part",
   "id": "225396fbfd2b7034"
  },
  {
   "metadata": {
    "ExecuteTime": {
     "end_time": "2024-05-27T08:28:40.054613Z",
     "start_time": "2024-05-27T08:26:36.901955Z"
    }
   },
   "cell_type": "code",
   "source": [
    "diff_loader = JSONLoader(\n",
    "    file_path='../data/final_preprocessed_data/js_rag_db_data_300.json',\n",
    "    jq_schema='.[].diff',\n",
    "    text_content=False)\n",
    "\n",
    "diff_data = diff_loader.load()\n",
    "\n",
    "# diff_split = []\n",
    "# for i, doc in tqdm(enumerate(diff_data), total=len(diff_data), desc=\"Processing documents\"):\n",
    "#     diff_split += splitters[language_dict['JavaScript']].split_documents([doc])\n",
    "\n",
    "# Load the document, split it into chunks, embed each chunk and load it into the vector store.\n",
    "db = Chroma.from_documents(diff_data, embeddings, persist_directory=\"./final_js_rag_single_diff_db_300\")"
   ],
   "id": "bcae7647527acc58",
   "execution_count": 3,
   "outputs": []
  },
  {
   "metadata": {
    "ExecuteTime": {
     "end_time": "2024-05-27T08:32:07.737508Z",
     "start_time": "2024-05-27T08:32:07.727882Z"
    }
   },
   "cell_type": "code",
   "source": "diff_data[0]",
   "id": "3a2927ce504f3b10",
   "execution_count": 4,
   "outputs": []
  },
  {
   "metadata": {},
   "cell_type": "markdown",
   "source": "# SIM_MSG",
   "id": "e05658dfee1d5d82"
  },
  {
   "metadata": {
    "ExecuteTime": {
     "end_time": "2024-05-23T17:29:29.759676Z",
     "start_time": "2024-05-23T17:29:17.310166Z"
    }
   },
   "cell_type": "code",
   "source": [
    "msg_loader = JSONLoader(\n",
    "    file_path='../data/final_preprocessed_data/python_rag_db_data.json',\n",
    "    jq_schema='.[].msg',\n",
    "    text_content=False)\n",
    "\n",
    "msg_data = msg_loader.load()\n",
    "\n",
    "# Define the path to the pre-trained model you want to use\n",
    "modelPath = \"mixedbread-ai/mxbai-embed-large-v1\"\n",
    "\n",
    "# Create a dictionary with model configuration options, specifying to use the CPU for computations\n",
    "model_kwargs = {'device':'cuda', 'trust_remote_code': True}\n",
    "\n",
    "# Create a dictionary with encoding options, specifically setting 'normalize_embeddings' to False\n",
    "encode_kwargs = {'normalize_embeddings': True}\n",
    "\n",
    "# Initialize an instance of HuggingFaceEmbeddings with the specified parameters\n",
    "embeddings = HuggingFaceEmbeddings(\n",
    "    cache_folder = '../models',\n",
    "    \n",
    "    model_name=modelPath,     # Provide the pre-trained model's path\n",
    "    model_kwargs=model_kwargs, # Pass the model configuration options\n",
    "    encode_kwargs=encode_kwargs # Pass the encoding options\n",
    ")"
   ],
   "id": "8ada311b7ea76bbe",
   "execution_count": 2,
   "outputs": []
  },
  {
   "metadata": {
    "ExecuteTime": {
     "end_time": "2024-05-23T17:34:50.806357Z",
     "start_time": "2024-05-23T17:29:51.660633Z"
    }
   },
   "cell_type": "code",
   "source": [
    "# Load the document, split it into chunks, embed each chunk and load it into the vector store.\n",
    "db = Chroma.from_documents(msg_data, embeddings, persist_directory=\"./final_python_rag_single_diff_sim_msg_db\")"
   ],
   "id": "6d77bf10c929a111",
   "execution_count": 3,
   "outputs": []
  },
  {
   "metadata": {
    "ExecuteTime": {
     "end_time": "2024-05-25T10:58:00.905927Z",
     "start_time": "2024-05-25T10:52:49.415334Z"
    }
   },
   "cell_type": "code",
   "source": [
    "msg_loader = JSONLoader(\n",
    "    file_path='../data/final_preprocessed_data/js_rag_db_data.json',\n",
    "    jq_schema='.[].msg',\n",
    "    text_content=False)\n",
    "\n",
    "msg_data = msg_loader.load()\n",
    "\n",
    "# Load the document, split it into chunks, embed each chunk and load it into the vector store.\n",
    "db = Chroma.from_documents(msg_data, embeddings, persist_directory=\"./final_js_rag_single_diff_sim_msg_db\")"
   ],
   "id": "f554531a5f243eb6",
   "execution_count": 5,
   "outputs": []
  },
  {
   "metadata": {},
   "cell_type": "code",
   "execution_count": null,
   "source": "",
   "id": "ebcec49274fd0094",
   "outputs": []
  }
 ],
 "metadata": {
  "kernelspec": {
   "display_name": "Python 3",
   "language": "python",
   "name": "python3"
  },
  "language_info": {
   "codemirror_mode": {
    "name": "ipython",
    "version": 2
   },
   "file_extension": ".py",
   "mimetype": "text/x-python",
   "name": "python",
   "nbconvert_exporter": "python",
   "pygments_lexer": "ipython2",
   "version": "2.7.6"
  }
 },
 "nbformat": 4,
 "nbformat_minor": 5
}
