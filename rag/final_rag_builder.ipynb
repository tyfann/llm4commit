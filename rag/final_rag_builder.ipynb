{
 "cells": [
  {
   "cell_type": "code",
   "id": "initial_id",
   "metadata": {
    "collapsed": true,
    "ExecuteTime": {
     "end_time": "2024-06-27T13:08:56.718112Z",
     "start_time": "2024-06-27T13:08:56.703741Z"
    }
   },
   "source": [
    "from langchain_community.document_loaders import JSONLoader\n",
    "from tqdm.auto import tqdm\n",
    "import json\n",
    "import pickle\n",
    "from langchain.text_splitter import Language\n",
    "from langchain.text_splitter import RecursiveCharacterTextSplitter\n",
    "from langchain.embeddings import HuggingFaceEmbeddings\n",
    "from langchain_community.vectorstores import Chroma\n",
    "import glob\n",
    "import os\n",
    "from collections import defaultdict"
   ],
   "outputs": [],
   "execution_count": 13
  },
  {
   "metadata": {},
   "cell_type": "markdown",
   "source": "## JS Part",
   "id": "323ec73532231435"
  },
  {
   "metadata": {
    "ExecuteTime": {
     "end_time": "2024-06-27T13:08:58.778551Z",
     "start_time": "2024-06-27T13:08:58.756512Z"
    }
   },
   "cell_type": "code",
   "source": [
    "folder_path = '../data/vdo_filtered/type_db'\n",
    "files = glob.glob(os.path.join(folder_path, '*db.json'))"
   ],
   "id": "d46f7483dbb2852c",
   "outputs": [],
   "execution_count": 14
  },
  {
   "metadata": {
    "ExecuteTime": {
     "end_time": "2024-06-27T13:09:03.960671Z",
     "start_time": "2024-06-27T13:09:02.022975Z"
    }
   },
   "cell_type": "code",
   "source": [
    "# Define the path to the pre-trained model you want to use\n",
    "# modelPath = \"mixedbread-ai/mxbai-embed-large-v1\"\n",
    "# modelPath = \"mchochlov/codebert-base-cd-ft\"\n",
    "# modelPath= \"microsoft/unixcoder-base\"\n",
    "# modelPath =\"codecompletedeployment/st-codesearch-distilroberta-base\"\n",
    "modelPath = \"intfloat/e5-small-v2\"\n",
    "# modelPath = \"sentence-transformers/all-MiniLM-L6-v2\"\n",
    "# modelPath = \"../models/models-e5-v2-finetuned-10w-epoch20\"\n",
    "\n",
    "# for modelPath in [\"mixedbread-ai/mxbai-embed-large-v1\", \"intfloat/e5-small-v2\", \"sentence-transformers/all-MiniLM-L6-v2\"]:\n",
    "model_kwargs = {'device':'cuda', 'trust_remote_code': True}\n",
    "\n",
    "# Create a dictionary with encoding options, specifically setting 'normalize_embeddings' to False\n",
    "encode_kwargs = {'normalize_embeddings': True}\n",
    "\n",
    "# Initialize an instance of HuggingFaceEmbeddings with the specified parameters\n",
    "embeddings = HuggingFaceEmbeddings(\n",
    "    cache_folder = '../models',\n",
    "    model_name=modelPath,     # Provide the pre-trained model's path\n",
    "    model_kwargs=model_kwargs, # Pass the model configuration options\n",
    "    encode_kwargs=encode_kwargs # Pass the encoding options\n",
    ")"
   ],
   "id": "f31c0c8c8d739dfc",
   "outputs": [],
   "execution_count": 15
  },
  {
   "metadata": {
    "ExecuteTime": {
     "end_time": "2024-06-24T12:49:25.976838Z",
     "start_time": "2024-06-24T12:49:25.964315Z"
    }
   },
   "cell_type": "code",
   "source": [
    "def similarity_search(documents, db):\n",
    "    # Initialize an empty dictionary to store aggregate scores for each candidate ID\n",
    "    aggregate_scores = {}\n",
    "\n",
    "    # Iterate through each document in the documents list\n",
    "    for document in documents:\n",
    "        # Apply similarity search function to the document\n",
    "        results = db.similarity_search_with_relevance_scores(document.page_content, score_threshold=0.0)\n",
    "        # Iterate through the results for each document\n",
    "        for candidate_doc in results:\n",
    "            id = candidate_doc[0].metadata['seq_num']\n",
    "            score = candidate_doc[1]\n",
    "            # Update the aggregate score for the candidate ID\n",
    "            aggregate_scores[id] = aggregate_scores.get(id, 0) + score\n",
    "\n",
    "    # Find the candidate ID with the highest aggregate score\n",
    "    if aggregate_scores:\n",
    "        max_candidate_id = max(aggregate_scores, key=aggregate_scores.get)\n",
    "    else:\n",
    "        max_candidate_id = -1\n",
    "\n",
    "    return max_candidate_id"
   ],
   "id": "c5e0958b9f1b4e65",
   "outputs": [],
   "execution_count": 14
  },
  {
   "metadata": {
    "ExecuteTime": {
     "end_time": "2024-06-27T13:11:38.612795Z",
     "start_time": "2024-06-27T13:11:38.541794Z"
    }
   },
   "cell_type": "code",
   "source": [
    "test_diff_loader = JSONLoader(\n",
    "    file_path='../data/vdo_filtered/classification/dev_test_with_classification.json',\n",
    "    jq_schema='.[].diff',\n",
    "    text_content=False)\n",
    "\n",
    "test_diff_data = test_diff_loader.load()\n",
    "# test_diff_data = test_diff_loader.load()[:1000]\n",
    "\n",
    "with open('../data/vdo_filtered/classification/dev_test_with_classification.json', 'r', encoding='UTF-8') as f:\n",
    "    test_data = json.load(f)"
   ],
   "id": "144f9c3bf173d4aa",
   "outputs": [],
   "execution_count": 19
  },
  {
   "metadata": {},
   "cell_type": "markdown",
   "source": "## Retrieve diff by the type",
   "id": "8cbd88766a75814b"
  },
  {
   "metadata": {
    "ExecuteTime": {
     "end_time": "2024-06-27T13:17:55.855848Z",
     "start_time": "2024-06-27T13:15:00.638838Z"
    }
   },
   "cell_type": "code",
   "source": [
    "grouped_data = defaultdict(list)\n",
    "for entry in test_data:\n",
    "    grouped_data[entry['classifier_type']].append(entry)\n",
    "# splitter = RecursiveCharacterTextSplitter.from_language(Language.JS, chunk_size=1000, chunk_overlap=200)\n",
    "for file in files:\n",
    "    diff_loader = JSONLoader(\n",
    "        file_path=file,\n",
    "        jq_schema='.[].diff',\n",
    "        text_content=False)\n",
    "    \n",
    "    diff_data = diff_loader.load()\n",
    "    \n",
    "    msg_loader = JSONLoader(\n",
    "        file_path=file,\n",
    "        jq_schema='.[].msg',\n",
    "        text_content=False)\n",
    "\n",
    "    msg_data = msg_loader.load()\n",
    "    # diff_split = []\n",
    "\n",
    "    # for i, doc in tqdm(enumerate(diff_data), total=len(diff_data), desc=\"Processing documents\"):\n",
    "    #     diff_split += splitter.split_documents([doc])\n",
    "    \n",
    "    type = file.split('\\\\')[-1].split('_')[0]\n",
    "    if os.path.exists(f\"../data/vdo_filtered/type_db/rag_{type}_db_e5\"):\n",
    "        db = Chroma(persist_directory=f\"../data/vdo_filtered/type_db/rag_{type}_db_e5\", embedding_function=embeddings)\n",
    "    else:\n",
    "        db = Chroma.from_documents(diff_data, embeddings, persist_directory=f\"../data/vdo_filtered/type_db/rag_{type}_db_e5\")\n",
    "    # db = Chroma(persist_directory=f\"../data/angular_filtered/subsets/type_db/rag_{type}_db_e5\", embedding_function=embeddings)\n",
    "    similar_diff = []\n",
    "    retriever = db.as_retriever()\n",
    "    indexs = [item['seq_num'] for item in grouped_data[type]]\n",
    "    for index in tqdm(indexs, total=len(indexs), desc=\"Processing documents\"):\n",
    "        # documents = splitter.split_documents([test_diff_data[index]])\n",
    "        # similar_diff.append(retriever.invoke(diff_doc.page_content)[0])\n",
    "        # similar_diff_id.append(similarity_search(documents, db))\n",
    "        similar_diff.append(retriever.invoke(test_diff_data[index].page_content)[0])\n",
    "    \n",
    "    for sim_diff, test_diff in zip(similar_diff, grouped_data[type]):\n",
    "        test_diff['sim_msg'] = msg_data[sim_diff.metadata['seq_num']-1].page_content\n",
    "        test_diff['sim_diff'] = diff_data[sim_diff.metadata['seq_num']-1].page_content"
   ],
   "id": "5d13a68b4539e810",
   "outputs": [
    {
     "data": {
      "text/plain": [
       "Processing documents:   0%|          | 0/74 [00:00<?, ?it/s]"
      ],
      "application/vnd.jupyter.widget-view+json": {
       "version_major": 2,
       "version_minor": 0,
       "model_id": "4e12c160ef1c4c02875ea005667fafce"
      }
     },
     "metadata": {},
     "output_type": "display_data"
    },
    {
     "data": {
      "text/plain": [
       "Processing documents:   0%|          | 0/52 [00:00<?, ?it/s]"
      ],
      "application/vnd.jupyter.widget-view+json": {
       "version_major": 2,
       "version_minor": 0,
       "model_id": "e76f9982b7594eea9dec74e6eeb93007"
      }
     },
     "metadata": {},
     "output_type": "display_data"
    },
    {
     "data": {
      "text/plain": [
       "Processing documents:   0%|          | 0/58 [00:00<?, ?it/s]"
      ],
      "application/vnd.jupyter.widget-view+json": {
       "version_major": 2,
       "version_minor": 0,
       "model_id": "5bc1e6aeffe14e5a95f92ae2b3c145ff"
      }
     },
     "metadata": {},
     "output_type": "display_data"
    },
    {
     "data": {
      "text/plain": [
       "Processing documents:   0%|          | 0/26 [00:00<?, ?it/s]"
      ],
      "application/vnd.jupyter.widget-view+json": {
       "version_major": 2,
       "version_minor": 0,
       "model_id": "d109c65776fd430699db4b250a537c60"
      }
     },
     "metadata": {},
     "output_type": "display_data"
    },
    {
     "data": {
      "text/plain": [
       "Processing documents:   0%|          | 0/15 [00:00<?, ?it/s]"
      ],
      "application/vnd.jupyter.widget-view+json": {
       "version_major": 2,
       "version_minor": 0,
       "model_id": "04e402f753b345d9a42659a5f3dc5e23"
      }
     },
     "metadata": {},
     "output_type": "display_data"
    },
    {
     "data": {
      "text/plain": [
       "Processing documents:   0%|          | 0/80 [00:00<?, ?it/s]"
      ],
      "application/vnd.jupyter.widget-view+json": {
       "version_major": 2,
       "version_minor": 0,
       "model_id": "07e2dbe423ce42e3b6aa4a227170dabc"
      }
     },
     "metadata": {},
     "output_type": "display_data"
    },
    {
     "data": {
      "text/plain": [
       "Processing documents:   0%|          | 0/1 [00:00<?, ?it/s]"
      ],
      "application/vnd.jupyter.widget-view+json": {
       "version_major": 2,
       "version_minor": 0,
       "model_id": "4dccf77d70e1426ea119dcaeb39a3955"
      }
     },
     "metadata": {},
     "output_type": "display_data"
    },
    {
     "data": {
      "text/plain": [
       "Processing documents:   0%|          | 0/5 [00:00<?, ?it/s]"
      ],
      "application/vnd.jupyter.widget-view+json": {
       "version_major": 2,
       "version_minor": 0,
       "model_id": "52728fc654ac42b1bfcb2967994e3c64"
      }
     },
     "metadata": {},
     "output_type": "display_data"
    },
    {
     "data": {
      "text/plain": [
       "Processing documents:   0%|          | 0/76 [00:00<?, ?it/s]"
      ],
      "application/vnd.jupyter.widget-view+json": {
       "version_major": 2,
       "version_minor": 0,
       "model_id": "9117197fee5a4bf49671f626216ae4a0"
      }
     },
     "metadata": {},
     "output_type": "display_data"
    },
    {
     "data": {
      "text/plain": [
       "Processing documents:   0%|          | 0/33 [00:00<?, ?it/s]"
      ],
      "application/vnd.jupyter.widget-view+json": {
       "version_major": 2,
       "version_minor": 0,
       "model_id": "e83cc1abdd8d4635b13db820538b8720"
      }
     },
     "metadata": {},
     "output_type": "display_data"
    },
    {
     "data": {
      "text/plain": [
       "Processing documents:   0%|          | 0/24 [00:00<?, ?it/s]"
      ],
      "application/vnd.jupyter.widget-view+json": {
       "version_major": 2,
       "version_minor": 0,
       "model_id": "d739f6f2d8324f41998ff76bb86e7d54"
      }
     },
     "metadata": {},
     "output_type": "display_data"
    },
    {
     "data": {
      "text/plain": [
       "Processing documents:   0%|          | 0/7 [00:00<?, ?it/s]"
      ],
      "application/vnd.jupyter.widget-view+json": {
       "version_major": 2,
       "version_minor": 0,
       "model_id": "fccde4bbd83644fe8f3093743bb6389e"
      }
     },
     "metadata": {},
     "output_type": "display_data"
    },
    {
     "data": {
      "text/plain": [
       "Processing documents:   0%|          | 0/43 [00:00<?, ?it/s]"
      ],
      "application/vnd.jupyter.widget-view+json": {
       "version_major": 2,
       "version_minor": 0,
       "model_id": "53b5cda3818046d4bb8526e62e6e6e1a"
      }
     },
     "metadata": {},
     "output_type": "display_data"
    },
    {
     "data": {
      "text/plain": [
       "Processing documents:   0%|          | 0/56 [00:00<?, ?it/s]"
      ],
      "application/vnd.jupyter.widget-view+json": {
       "version_major": 2,
       "version_minor": 0,
       "model_id": "c6f93a1b535e47119e93a8271ab02b6e"
      }
     },
     "metadata": {},
     "output_type": "display_data"
    },
    {
     "data": {
      "text/plain": [
       "Processing documents:   0%|          | 0/17 [00:00<?, ?it/s]"
      ],
      "application/vnd.jupyter.widget-view+json": {
       "version_major": 2,
       "version_minor": 0,
       "model_id": "e226288ccb874a7aaca1096321cce81b"
      }
     },
     "metadata": {},
     "output_type": "display_data"
    }
   ],
   "execution_count": 26
  },
  {
   "metadata": {
    "ExecuteTime": {
     "end_time": "2024-06-27T13:18:08.231094Z",
     "start_time": "2024-06-27T13:18:08.218575Z"
    }
   },
   "cell_type": "code",
   "source": [
    "values_list = [value for values in grouped_data.values() for value in values]\n",
    "sorted_items = sorted(values_list, key=lambda x: x['seq_num'])"
   ],
   "id": "8256763fac3b3d97",
   "outputs": [],
   "execution_count": 27
  },
  {
   "metadata": {
    "ExecuteTime": {
     "end_time": "2024-06-27T13:18:26.738169Z",
     "start_time": "2024-06-27T13:18:26.708041Z"
    }
   },
   "cell_type": "code",
   "source": [
    "\n",
    "# Write the data to a JSON file\n",
    "with open('../data/vdo_filtered/generation/rag/dev_test_model_classified_rag_prompt.json', 'w', encoding='UTF-8') as f:\n",
    "    json.dump(sorted_items, f, ensure_ascii=False, indent=4)"
   ],
   "id": "81344d196c0726",
   "outputs": [],
   "execution_count": 28
  },
  {
   "metadata": {
    "ExecuteTime": {
     "end_time": "2024-06-17T07:56:27.289081Z",
     "start_time": "2024-06-17T07:56:27.242043Z"
    }
   },
   "cell_type": "code",
   "source": [
    "version = 'e5'\n",
    "with open(f'../data/angular_filtered/subsets/generation/dev_test_gpt35_model_classified_rag_{version}.json', 'r', encoding='UTF-8') as f:\n",
    "    model_data = json.load(f)\n",
    "\n",
    "model_data_sorted = sorted(model_data, key=lambda x: x['seq_num'])\n",
    "with open(f'../data/angular_filtered/subsets/generation/dev_test_gpt35_model_classified_rag_{version}.json', 'w', encoding='UTF-8') as f:\n",
    "    json.dump(model_data_sorted, f, ensure_ascii=False, indent=4)\n",
    "\n",
    "with open(f'../data/angular_filtered/subsets/generation/dev_test_gpt35_model_classified_rag_{version}.txt', 'w', encoding='UTF-8') as f:\n",
    "    for item in model_data_sorted:\n",
    "        f.write(item['chatgpt_rag'].replace('\\n', '\\\\n').replace('\\r', '\\\\r') + '\\n')"
   ],
   "id": "d297dd8e16d1180d",
   "outputs": [],
   "execution_count": 21
  },
  {
   "metadata": {
    "ExecuteTime": {
     "end_time": "2024-06-17T07:44:04.909505Z",
     "start_time": "2024-06-17T07:44:04.899453Z"
    }
   },
   "cell_type": "code",
   "source": "",
   "id": "bcc6598e480a131a",
   "outputs": [],
   "execution_count": 15
  },
  {
   "metadata": {
    "ExecuteTime": {
     "end_time": "2024-06-16T09:24:45.294494Z",
     "start_time": "2024-06-16T09:24:45.280973Z"
    }
   },
   "cell_type": "code",
   "source": [
    "from collections import defaultdict\n",
    "\n",
    "# 示例 defaultdict，里面有10个key，每个key对应一个数组\n",
    "example_dict = defaultdict(list, {\n",
    "    'type1': [{'seq_num': 2, 'data': 'a'}, {'seq_num': 1, 'data': 'b'}],\n",
    "    'type2': [{'seq_num': 4, 'data': 'c'}, {'seq_num': 3, 'data': 'd'}],\n",
    "    # 其他类型的数据...\n",
    "})\n",
    "\n",
    "# 定义一个空数组，用于存储排序后的数据\n",
    "merged_data = []\n",
    "\n",
    "# 将 defaultdict 里的所有条目按 seq_num 排序后追加到 merged_data 中\n",
    "for key, items in example_dict.items():\n",
    "    sorted_items = sorted(items, key=lambda x: x['seq_num'])\n",
    "    merged_data.extend(sorted_items)\n",
    "\n",
    "# 输出结果\n",
    "print(merged_data)\n"
   ],
   "id": "aba73e3d22cf42fb",
   "outputs": [
    {
     "name": "stdout",
     "output_type": "stream",
     "text": [
      "[{'seq_num': 1, 'data': 'b'}, {'seq_num': 2, 'data': 'a'}, {'seq_num': 3, 'data': 'd'}, {'seq_num': 4, 'data': 'c'}]\n"
     ]
    }
   ],
   "execution_count": 20
  },
  {
   "metadata": {},
   "cell_type": "code",
   "outputs": [],
   "execution_count": null,
   "source": [
    "file = '../data/angular_filtered/subsets/db_data.json'\n",
    "splitter = RecursiveCharacterTextSplitter.from_language(Language.JS, chunk_size=1000, chunk_overlap=200)\n",
    "diff_loader = JSONLoader(\n",
    "    file_path=file,\n",
    "    jq_schema='.[].diff',\n",
    "    text_content=False)\n",
    "\n",
    "diff_data = diff_loader.load()\n",
    "\n",
    "msg_loader = JSONLoader(\n",
    "    file_path=file,\n",
    "    jq_schema='.[].msg',\n",
    "    text_content=False)\n",
    "\n",
    "msg_data = msg_loader.load()\n",
    "diff_split = []\n",
    "\n",
    "for i, doc in tqdm(enumerate(diff_data), total=len(diff_data), desc=\"Processing documents\"):\n",
    "    diff_split += splitter.split_documents([doc])\n",
    "\n",
    "type = file.split('\\\\')[-1].split('_')[1]\n",
    "db = Chroma.from_documents(diff_split, embeddings, persist_directory=f\"../data/angular_filtered/subsets/type_db/rag_all_types_db_e5\")"
   ],
   "id": "494d9e69ecd97102"
  },
  {
   "metadata": {
    "ExecuteTime": {
     "end_time": "2024-06-13T08:17:22.481338Z",
     "start_time": "2024-06-13T08:16:50.370320Z"
    }
   },
   "cell_type": "code",
   "source": [
    "# Load the document, split it into chunks, embed each chunk and load it into the vector store.\n",
    "\n",
    "# db = Chroma.from_documents(diff_data, embeddings, persist_directory=\"./final_js_rag_single_diff_db_300_distilroberta\")"
   ],
   "id": "21c7f0852d9988e4",
   "outputs": [],
   "execution_count": 4
  },
  {
   "metadata": {
    "ExecuteTime": {
     "end_time": "2024-06-06T18:20:49.060934Z",
     "start_time": "2024-06-06T18:20:49.046876Z"
    }
   },
   "cell_type": "code",
   "source": "# db = Chroma(persist_directory=\"../data/angular_filtered/rag/rag_db_e5\", embedding_function=embeddings)",
   "id": "8283496ad4ed7641",
   "outputs": [],
   "execution_count": 17
  },
  {
   "metadata": {
    "ExecuteTime": {
     "end_time": "2024-06-13T08:23:44.983295Z",
     "start_time": "2024-06-13T08:23:44.970297Z"
    }
   },
   "cell_type": "code",
   "source": [
    "import re\n",
    "def process_diff(diff_text):\n",
    "    # Replace <nl> with \\n\n",
    "    diff_text = diff_text.replace('<nl>', '\\n')\n",
    "    diff_text = re.sub(r'(?<=\\S)\\s*([^\\w\\s])\\s*(?=\\S)', r'\\1', diff_text)\n",
    "    diff_text = re.sub(r'\\n\\s+', r'\\n', diff_text)\n",
    "    diff_text = diff_text.replace('mmm', 'diff --git')\n",
    "    diff_text = diff_text.replace('\\nppp ', '')\n",
    "    return diff_text"
   ],
   "id": "bb915d42955194e8",
   "outputs": [],
   "execution_count": 8
  },
  {
   "metadata": {},
   "cell_type": "markdown",
   "source": "## all types Part",
   "id": "225396fbfd2b7034"
  },
  {
   "metadata": {
    "ExecuteTime": {
     "end_time": "2024-06-27T10:04:47.311562Z",
     "start_time": "2024-06-27T10:04:44.909402Z"
    }
   },
   "cell_type": "code",
   "source": [
    "diff_loader = JSONLoader(\n",
    "    file_path='../data/vdo_filtered/db_data.json',\n",
    "    jq_schema='.[].diff',\n",
    "    text_content=False)\n",
    "\n",
    "diff_data = diff_loader.load()\n",
    "\n",
    "msg_loader = JSONLoader(\n",
    "    file_path='../data/vdo_filtered/db_data.json',\n",
    "    jq_schema='.[].msg',\n",
    "    text_content=False)\n",
    "\n",
    "msg_data = msg_loader.load()"
   ],
   "id": "ebcec49274fd0094",
   "outputs": [],
   "execution_count": 4
  },
  {
   "metadata": {
    "ExecuteTime": {
     "end_time": "2024-06-27T12:32:30.936236Z",
     "start_time": "2024-06-27T12:32:30.864248Z"
    }
   },
   "cell_type": "code",
   "source": [
    "test_diff_loader = JSONLoader(\n",
    "    file_path='../data/vdo_filtered/dev_test_data.json',\n",
    "    jq_schema='.[].diff',\n",
    "    text_content=False)\n",
    "\n",
    "test_diff_data = test_diff_loader.load()\n",
    "# test_diff_data = test_diff_loader.load()[:1000]\n",
    "\n",
    "with open('../data/vdo_filtered/dev_test_data.json', 'r', encoding='UTF-8') as f:\n",
    "    test_data = json.load(f)"
   ],
   "id": "d666347b91b106aa",
   "outputs": [],
   "execution_count": 7
  },
  {
   "metadata": {
    "ExecuteTime": {
     "end_time": "2024-06-27T10:16:47.262608Z",
     "start_time": "2024-06-27T10:14:03.155481Z"
    }
   },
   "cell_type": "code",
   "source": [
    "# diff_split = []\n",
    "# splitter = RecursiveCharacterTextSplitter.from_language(Language.JS, chunk_size=1000, chunk_overlap=200)\n",
    "# for i, doc in tqdm(enumerate(diff_data), total=len(diff_data), desc=\"Processing documents\"):\n",
    "#     diff_split += splitter.split_documents([doc])\n",
    "db = Chroma.from_documents(diff_data, embeddings, persist_directory=\"../data/vdo_filtered/type_db/rag_all_types_db_e5_nochunk\")\n",
    "\n",
    "# db = Chroma(persist_directory=\"../data/angular_filtered/subsets/type_db/rag_all_types_db_e5\", embedding_function=embeddings)"
   ],
   "id": "510fe4d292928645",
   "outputs": [],
   "execution_count": 5
  },
  {
   "metadata": {
    "ExecuteTime": {
     "end_time": "2024-06-27T12:32:48.031388Z",
     "start_time": "2024-06-27T12:32:37.583585Z"
    }
   },
   "cell_type": "code",
   "source": [
    "similar_diff = []\n",
    "retriever = db.as_retriever()\n",
    "for diff_doc in tqdm(test_diff_data, total=len(test_diff_data), desc=\"Processing documents\"):\n",
    "    # documents = splitter.split_documents([diff_doc])\n",
    "    similar_diff.append(retriever.invoke(diff_doc.page_content)[0])"
   ],
   "id": "c2d27c6071142a68",
   "outputs": [
    {
     "data": {
      "text/plain": [
       "Processing documents:   0%|          | 0/567 [00:00<?, ?it/s]"
      ],
      "application/vnd.jupyter.widget-view+json": {
       "version_major": 2,
       "version_minor": 0,
       "model_id": "b2b18af8a33446aa840003a3a94e6ca4"
      }
     },
     "metadata": {},
     "output_type": "display_data"
    }
   ],
   "execution_count": 8
  },
  {
   "metadata": {
    "ExecuteTime": {
     "end_time": "2024-06-27T12:33:42.998448Z",
     "start_time": "2024-06-27T12:33:42.936236Z"
    }
   },
   "cell_type": "code",
   "source": [
    "for sim_diff, test_item in zip(similar_diff, test_data):\n",
    "    test_item['sim_msg'] = msg_data[sim_diff.metadata['seq_num']-1].page_content\n",
    "    test_item['sim_diff'] = diff_data[sim_diff.metadata['seq_num']-1].page_content"
   ],
   "id": "4c02f3776e71761c",
   "outputs": [],
   "execution_count": 10
  },
  {
   "metadata": {
    "ExecuteTime": {
     "end_time": "2024-06-27T12:33:43.621527Z",
     "start_time": "2024-06-27T12:33:43.594983Z"
    }
   },
   "cell_type": "code",
   "source": [
    "# Write the data to a JSON file\n",
    "with open('../data/vdo_filtered/generation/rag/dev_test_rag_prompt.json', 'w', encoding='UTF-8') as f:\n",
    "    json.dump(test_data, f, ensure_ascii=False, indent=4)"
   ],
   "id": "b474cfcda3ca6af0",
   "outputs": [],
   "execution_count": 11
  },
  {
   "metadata": {
    "ExecuteTime": {
     "end_time": "2024-06-27T12:58:14.433651Z",
     "start_time": "2024-06-27T12:58:14.414877Z"
    }
   },
   "cell_type": "code",
   "source": [
    "count = 0\n",
    "for item in test_data:\n",
    "    msg = item['msg']\n",
    "    first_word = msg.split()[0] if msg else ''\n",
    "    \n",
    "    sim_msg = item['sim_msg']\n",
    "    sim_first_word = sim_msg.split()[0] if sim_msg else ''\n",
    "    if first_word == sim_first_word:\n",
    "        count +=1\n",
    "\n",
    "print(count / len(test_data))"
   ],
   "id": "385a902fb2707135",
   "outputs": [
    {
     "name": "stdout",
     "output_type": "stream",
     "text": [
      "0.2698412698412698\n"
     ]
    }
   ],
   "execution_count": 12
  },
  {
   "metadata": {},
   "cell_type": "code",
   "outputs": [],
   "execution_count": null,
   "source": "",
   "id": "8cb3a7300e86431b"
  }
 ],
 "metadata": {
  "kernelspec": {
   "display_name": "Python 3",
   "language": "python",
   "name": "python3"
  },
  "language_info": {
   "codemirror_mode": {
    "name": "ipython",
    "version": 2
   },
   "file_extension": ".py",
   "mimetype": "text/x-python",
   "name": "python",
   "nbconvert_exporter": "python",
   "pygments_lexer": "ipython2",
   "version": "2.7.6"
  }
 },
 "nbformat": 4,
 "nbformat_minor": 5
}
