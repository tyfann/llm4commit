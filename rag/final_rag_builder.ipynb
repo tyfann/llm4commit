{
 "cells": [
  {
   "cell_type": "code",
   "id": "initial_id",
   "metadata": {
    "collapsed": true,
    "ExecuteTime": {
     "end_time": "2024-05-27T08:25:51.969529Z",
     "start_time": "2024-05-27T08:25:51.294643Z"
    }
   },
   "source": [
    "from langchain_community.document_loaders import JSONLoader\n",
    "from tqdm.auto import tqdm\n",
    "import json\n",
    "import pickle\n",
    "from langchain.text_splitter import Language\n",
    "from langchain.text_splitter import RecursiveCharacterTextSplitter\n",
    "from langchain.embeddings import HuggingFaceEmbeddings\n",
    "from langchain_community.vectorstores import Chroma\n"
   ],
   "execution_count": 1,
   "outputs": []
  },
  {
   "metadata": {},
   "cell_type": "markdown",
   "source": "## Python Part",
   "id": "323ec73532231435"
  },
  {
   "metadata": {
    "ExecuteTime": {
     "end_time": "2024-05-26T09:28:17.687804Z",
     "start_time": "2024-05-26T09:28:14.153896Z"
    }
   },
   "cell_type": "code",
   "source": [
    "diff_loader = JSONLoader(\n",
    "    file_path='../data/final_preprocessed_data/python_rag_db_data.json',\n",
    "    jq_schema='.[].diff',\n",
    "    text_content=False)\n",
    "\n",
    "diff_data = diff_loader.load()"
   ],
   "id": "81344d196c0726",
   "execution_count": 2,
   "outputs": []
  },
  {
   "metadata": {
    "ExecuteTime": {
     "end_time": "2024-05-25T08:30:58.149153Z",
     "start_time": "2024-05-25T08:30:58.133081Z"
    }
   },
   "cell_type": "code",
   "source": [
    "# 1-1000 data use java splitter, 1000-2000 use cpp splitter, 2000-3000 use csharp splitter, 3000-4000 use python splitter, 4000-5000 use javascript splitter\n",
    "\n",
    "\n",
    "# languages = [Language.JAVA, Language.CPP, Language.CSHARP, Language.PYTHON, Language.JS]\n",
    "languages = [Language.PYTHON, Language.JS]\n",
    "splitters = [RecursiveCharacterTextSplitter.from_language(language, chunk_size=500, chunk_overlap=50) for language in languages]\n",
    "\n",
    "# language_dict = {'java': 0, 'c++': 1, 'c#': 2, 'python': 3, 'javascript': 4}\n",
    "language_dict = {'Python': 0, 'JavaScript': 1}"
   ],
   "id": "6083064caf520ffc",
   "execution_count": 2,
   "outputs": []
  },
  {
   "metadata": {
    "ExecuteTime": {
     "end_time": "2024-05-23T14:28:49.282453Z",
     "start_time": "2024-05-23T14:28:42.235646Z"
    }
   },
   "cell_type": "code",
   "source": [
    "diff_split = []\n",
    "\n",
    "for i, doc in tqdm(enumerate(diff_data), total=len(diff_data), desc=\"Processing documents\"):\n",
    "    diff_split += splitters[language_dict['Python']].split_documents([doc])"
   ],
   "id": "930e506239f0f355",
   "execution_count": 4,
   "outputs": []
  },
  {
   "metadata": {},
   "cell_type": "code",
   "source": "len(diff_split)",
   "id": "7e600ca9dda98f77",
   "execution_count": 6,
   "outputs": []
  },
  {
   "metadata": {
    "ExecuteTime": {
     "end_time": "2024-05-27T08:26:32.510255Z",
     "start_time": "2024-05-27T08:26:23.600242Z"
    }
   },
   "cell_type": "code",
   "source": [
    "# Define the path to the pre-trained model you want to use\n",
    "modelPath = \"mixedbread-ai/mxbai-embed-large-v1\"\n",
    "\n",
    "# Create a dictionary with model configuration options, specifying to use the CPU for computations\n",
    "model_kwargs = {'device':'cuda', 'trust_remote_code': True}\n",
    "\n",
    "# Create a dictionary with encoding options, specifically setting 'normalize_embeddings' to False\n",
    "encode_kwargs = {'normalize_embeddings': True}\n",
    "\n",
    "# Initialize an instance of HuggingFaceEmbeddings with the specified parameters\n",
    "embeddings = HuggingFaceEmbeddings(\n",
    "    cache_folder = '../models',\n",
    "    \n",
    "    model_name=modelPath,     # Provide the pre-trained model's path\n",
    "    model_kwargs=model_kwargs, # Pass the model configuration options\n",
    "    encode_kwargs=encode_kwargs # Pass the encoding options\n",
    ")"
   ],
   "id": "3373954306d5d819",
   "execution_count": 2,
   "outputs": []
  },
  {
   "metadata": {
    "ExecuteTime": {
     "end_time": "2024-05-26T10:19:37.125367Z",
     "start_time": "2024-05-26T09:28:56.814213Z"
    }
   },
   "cell_type": "code",
   "source": [
    "# Load the document, split it into chunks, embed each chunk and load it into the vector store.\n",
    "db = Chroma.from_documents(diff_data, embeddings, persist_directory=\"./final_python_rag_single_diff_nochunk_db\")"
   ],
   "id": "21c7f0852d9988e4",
   "execution_count": 4,
   "outputs": []
  },
  {
   "metadata": {},
   "cell_type": "markdown",
   "source": "## JS Part",
   "id": "225396fbfd2b7034"
  },
  {
   "metadata": {
    "ExecuteTime": {
     "end_time": "2024-05-27T08:28:40.054613Z",
     "start_time": "2024-05-27T08:26:36.901955Z"
    }
   },
   "cell_type": "code",
   "source": [
    "diff_loader = JSONLoader(\n",
    "    file_path='../data/final_preprocessed_data/js_rag_db_data_300.json',\n",
    "    jq_schema='.[].diff',\n",
    "    text_content=False)\n",
    "\n",
    "diff_data = diff_loader.load()\n",
    "\n",
    "# diff_split = []\n",
    "# for i, doc in tqdm(enumerate(diff_data), total=len(diff_data), desc=\"Processing documents\"):\n",
    "#     diff_split += splitters[language_dict['JavaScript']].split_documents([doc])\n",
    "\n",
    "# Load the document, split it into chunks, embed each chunk and load it into the vector store.\n",
    "db = Chroma.from_documents(diff_data, embeddings, persist_directory=\"./final_js_rag_single_diff_db_300\")"
   ],
   "id": "bcae7647527acc58",
   "execution_count": 3,
   "outputs": []
  },
  {
   "metadata": {
    "ExecuteTime": {
     "end_time": "2024-05-27T08:32:07.737508Z",
     "start_time": "2024-05-27T08:32:07.727882Z"
    }
   },
   "cell_type": "code",
   "source": "diff_data[0]",
   "id": "3a2927ce504f3b10",
   "execution_count": 4,
   "outputs": []
  },
  {
   "metadata": {},
   "cell_type": "markdown",
   "source": "# SIM_MSG",
   "id": "e05658dfee1d5d82"
  },
  {
   "metadata": {
    "ExecuteTime": {
     "end_time": "2024-05-23T17:29:29.759676Z",
     "start_time": "2024-05-23T17:29:17.310166Z"
    }
   },
   "cell_type": "code",
   "source": [
    "msg_loader = JSONLoader(\n",
    "    file_path='../data/final_preprocessed_data/python_rag_db_data.json',\n",
    "    jq_schema='.[].msg',\n",
    "    text_content=False)\n",
    "\n",
    "msg_data = msg_loader.load()\n",
    "\n",
    "# Define the path to the pre-trained model you want to use\n",
    "modelPath = \"mixedbread-ai/mxbai-embed-large-v1\"\n",
    "\n",
    "# Create a dictionary with model configuration options, specifying to use the CPU for computations\n",
    "model_kwargs = {'device':'cuda', 'trust_remote_code': True}\n",
    "\n",
    "# Create a dictionary with encoding options, specifically setting 'normalize_embeddings' to False\n",
    "encode_kwargs = {'normalize_embeddings': True}\n",
    "\n",
    "# Initialize an instance of HuggingFaceEmbeddings with the specified parameters\n",
    "embeddings = HuggingFaceEmbeddings(\n",
    "    cache_folder = '../models',\n",
    "    \n",
    "    model_name=modelPath,     # Provide the pre-trained model's path\n",
    "    model_kwargs=model_kwargs, # Pass the model configuration options\n",
    "    encode_kwargs=encode_kwargs # Pass the encoding options\n",
    ")"
   ],
   "id": "8ada311b7ea76bbe",
   "execution_count": 2,
   "outputs": []
  },
  {
   "metadata": {
    "ExecuteTime": {
     "end_time": "2024-05-23T17:34:50.806357Z",
     "start_time": "2024-05-23T17:29:51.660633Z"
    }
   },
   "cell_type": "code",
   "source": [
    "# Load the document, split it into chunks, embed each chunk and load it into the vector store.\n",
    "db = Chroma.from_documents(msg_data, embeddings, persist_directory=\"./final_python_rag_single_diff_sim_msg_db\")"
   ],
   "id": "6d77bf10c929a111",
   "execution_count": 3,
   "outputs": []
  },
  {
   "metadata": {
    "ExecuteTime": {
     "end_time": "2024-05-25T10:58:00.905927Z",
     "start_time": "2024-05-25T10:52:49.415334Z"
    }
   },
   "cell_type": "code",
   "source": [
    "msg_loader = JSONLoader(\n",
    "    file_path='../data/final_preprocessed_data/js_rag_db_data.json',\n",
    "    jq_schema='.[].msg',\n",
    "    text_content=False)\n",
    "\n",
    "msg_data = msg_loader.load()\n",
    "\n",
    "# Load the document, split it into chunks, embed each chunk and load it into the vector store.\n",
    "db = Chroma.from_documents(msg_data, embeddings, persist_directory=\"./final_js_rag_single_diff_sim_msg_db\")"
   ],
   "id": "f554531a5f243eb6",
   "execution_count": 5,
   "outputs": []
  },
  {
   "metadata": {},
   "cell_type": "code",
   "execution_count": null,
   "source": "",
   "id": "ebcec49274fd0094",
   "outputs": []
  }
 ],
 "metadata": {
  "kernelspec": {
   "display_name": "Python 3",
   "language": "python",
   "name": "python3"
  },
  "language_info": {
   "codemirror_mode": {
    "name": "ipython",
    "version": 2
   },
   "file_extension": ".py",
   "mimetype": "text/x-python",
   "name": "python",
   "nbconvert_exporter": "python",
   "pygments_lexer": "ipython2",
   "version": "2.7.6"
  }
 },
 "nbformat": 4,
 "nbformat_minor": 5
}
