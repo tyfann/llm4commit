{
 "cells": [
  {
   "cell_type": "code",
   "execution_count": null,
   "metadata": {
    "id": "mSV1X4nOoF9x"
   },
   "outputs": [],
   "source": [
    "!pip install langchain\n",
    "!pip install jq\n",
    "!pip install sentence-transformers"
   ]
  },
  {
   "cell_type": "code",
   "execution_count": 8,
   "metadata": {
    "id": "JmawYD7kGNLZ",
    "ExecuteTime": {
     "end_time": "2024-04-23T07:42:20.906110Z",
     "start_time": "2024-04-23T07:42:19.930417Z"
    }
   },
   "outputs": [],
   "source": [
    "from huggingface_hub import hf_hub_download, snapshot_download"
   ]
  },
  {
   "cell_type": "code",
   "execution_count": null,
   "metadata": {
    "id": "64DjqlrSKZta"
   },
   "outputs": [],
   "source": [
    "snapshot_download(repo_id=\"JetBrains-Research/commit-chronicle\", repo_type=\"dataset\", cache_dir='./')"
   ]
  },
  {
   "cell_type": "code",
   "outputs": [],
   "source": [
    "import pyarrow.parquet as pq\n",
    "\n",
    "folder_path = './datasets--JetBrains-Research--commit-chronicle/snapshots/5fd076e67b812a9f3d1999e5e40f71715f84bb51/data'  # 文件夹的路径\n",
    "\n",
    "df = pq.read_table(folder_path + '/train-00000-of-00061-2a7ccc8e843f5f5b.parquet').to_pandas()"
   ],
   "metadata": {
    "collapsed": false,
    "ExecuteTime": {
     "end_time": "2024-04-23T08:09:50.298075Z",
     "start_time": "2024-04-23T08:09:48.450860Z"
    }
   },
   "execution_count": 11
  },
  {
   "cell_type": "code",
   "outputs": [
    {
     "data": {
      "text/plain": "977"
     },
     "execution_count": 17,
     "metadata": {},
     "output_type": "execute_result"
    }
   ],
   "source": [
    "len(df.iloc[0]['mods'][0]['diff'])"
   ],
   "metadata": {
    "collapsed": false,
    "ExecuteTime": {
     "end_time": "2024-04-23T08:10:50.544292Z",
     "start_time": "2024-04-23T08:10:50.525258Z"
    }
   },
   "execution_count": 17
  },
  {
   "cell_type": "code",
   "execution_count": 31,
   "metadata": {
    "colab": {
     "background_save": true,
     "base_uri": "https://localhost:8080/"
    },
    "id": "IZ5ADPd3Iled",
    "outputId": "25bf40e9-c9bb-45a6-fd79-eda31b94b2c8",
    "ExecuteTime": {
     "end_time": "2024-04-23T08:20:38.978271Z",
     "start_time": "2024-04-23T08:19:42.769575Z"
    }
   },
   "outputs": [
    {
     "data": {
      "text/plain": "Java:   0%|          | 0/100000 [00:00<?, ?it/s]",
      "application/vnd.jupyter.widget-view+json": {
       "version_major": 2,
       "version_minor": 0,
       "model_id": "0e5b11ebe8104e76a98e6f128d5a18e7"
      }
     },
     "metadata": {},
     "output_type": "display_data"
    },
    {
     "data": {
      "text/plain": "Python:   0%|          | 0/100000 [00:00<?, ?it/s]",
      "application/vnd.jupyter.widget-view+json": {
       "version_major": 2,
       "version_minor": 0,
       "model_id": "2cf167cd9a0441118bd697d3f92e9f86"
      }
     },
     "metadata": {},
     "output_type": "display_data"
    },
    {
     "data": {
      "text/plain": "C#:   0%|          | 0/100000 [00:00<?, ?it/s]",
      "application/vnd.jupyter.widget-view+json": {
       "version_major": 2,
       "version_minor": 0,
       "model_id": "6c7b54755e9249b19b30cf06aa35f370"
      }
     },
     "metadata": {},
     "output_type": "display_data"
    },
    {
     "data": {
      "text/plain": "C++:   0%|          | 0/100000 [00:00<?, ?it/s]",
      "application/vnd.jupyter.widget-view+json": {
       "version_major": 2,
       "version_minor": 0,
       "model_id": "e0136c19a8044ea98265107f90f5db52"
      }
     },
     "metadata": {},
     "output_type": "display_data"
    },
    {
     "data": {
      "text/plain": "JavaScript:   0%|          | 0/100000 [00:00<?, ?it/s]",
      "application/vnd.jupyter.widget-view+json": {
       "version_major": 2,
       "version_minor": 0,
       "model_id": "b48b089177bf40b8a545a98cf9cdb24b"
      }
     },
     "metadata": {},
     "output_type": "display_data"
    },
    {
     "name": "stdout",
     "output_type": "stream",
     "text": [
      "Reached 100,000 rows for Python\n",
      "Reached 100,000 rows for JavaScript\n",
      "Reached 100,000 rows for Java\n",
      "Reached 100,000 rows for C++\n",
      "Reached 100,000 rows for C#\n"
     ]
    }
   ],
   "source": [
    "import pyarrow.parquet as pq\n",
    "import glob\n",
    "import os\n",
    "from tqdm.auto import tqdm\n",
    "\n",
    "# Create empty DataFrames for each language\n",
    "languages = ['Java', 'Python', 'C#', 'C++', 'JavaScript']\n",
    "dfs = {lang: [] for lang in languages}\n",
    "\n",
    "# Create a tqdm progress bar for each language\n",
    "bars = {lang: tqdm(total=100000, desc=lang) for lang in languages}\n",
    "\n",
    "folder_path = './datasets--JetBrains-Research--commit-chronicle/snapshots/5fd076e67b812a9f3d1999e5e40f71715f84bb51/data'  # 文件夹的路径\n",
    "\n",
    "files = glob.glob(os.path.join(folder_path, 'train*'))\n",
    "for file in files:\n",
    "    df = pq.read_table(file).to_pandas()\n",
    "\n",
    "    # Iterate over each language\n",
    "    for lang in languages:\n",
    "        # Filter rows where language column matches the current language\n",
    "        lang_df = df[(df['language'] == lang) & (df['mods'].apply(len) == 1) & (df['mods'].apply(lambda x: x[0]['change_type']) == 'MODIFY') & (df['mods'].apply(lambda x: len(f\"diff --git a/{x[0]['old_path']} b/{x[0]['new_path']} {x[0]['diff']}\") <= 3000))]\n",
    "\n",
    "        # Iterate over each row in the filtered DataFrame\n",
    "        for index, row in lang_df.iterrows():\n",
    "            diff = row['mods'][0]\n",
    "            old_path = 'a/' + diff['old_path']\n",
    "            new_path = 'b/' + diff['new_path']\n",
    "            diff_content = diff['diff']  # assume diff_content is an empty string\n",
    "            item = {\n",
    "                'msg': row['message'],\n",
    "                'diff': f\"diff --git {old_path} {new_path} {diff_content}\",\n",
    "                'lang': lang\n",
    "            }\n",
    "            dfs[lang].append(item)\n",
    "            bars[lang].update(1)\n",
    "\n",
    "            # Check if the language has reached 100,000 rows\n",
    "            if len(dfs[lang]) >= 100000:\n",
    "                print(f\"Reached 100,000 rows for {lang}\")\n",
    "                languages.remove(lang)  # Remove language from list to avoid further processing\n",
    "                break\n",
    "    # Break out of the loop if all languages have reached 100,000 rows\n",
    "    if not languages:\n",
    "        break"
   ]
  },
  {
   "cell_type": "code",
   "outputs": [],
   "source": [
    "import json\n",
    "\n",
    "# Create a single list of all items\n",
    "all_items = [item for lang in dfs for item in dfs[lang]]"
   ],
   "metadata": {
    "collapsed": false,
    "ExecuteTime": {
     "end_time": "2024-04-23T08:22:59.953035Z",
     "start_time": "2024-04-23T08:22:59.915897Z"
    }
   },
   "execution_count": 34
  },
  {
   "cell_type": "code",
   "outputs": [
    {
     "data": {
      "text/plain": "{'msg': 'Add progress-bar dependency to bom',\n 'diff': \"diff --git a/webjars-bom/pom.xml b/webjars-bom/pom.xml <artifactId>vaadin-upload</artifactId>\\n<version>2.1.2</version>\\n</dependency>\\n+ <dependency>\\n+ <groupId>org.webjars.bower</groupId>\\n+ <artifactId>vaadin-progress-bar</artifactId>\\n+ <version>1.0.0-alpha5</version>\\n+ </dependency>\\n<!-- WebJars' transitive dependencies resolutions -->\\n<dependency>\\n\",\n 'lang': 'Java'}"
     },
     "execution_count": 40,
     "metadata": {},
     "output_type": "execute_result"
    }
   ],
   "source": [
    "all_items[9999]"
   ],
   "metadata": {
    "collapsed": false,
    "ExecuteTime": {
     "end_time": "2024-04-23T08:33:41.618024Z",
     "start_time": "2024-04-23T08:33:41.607507Z"
    }
   },
   "execution_count": 40
  },
  {
   "cell_type": "code",
   "outputs": [],
   "source": [
    "\n",
    "# Dump the data to a JSON file\n",
    "with open('../data/chronicle/chronicle_rag_db.json', 'w') as f:\n",
    "    json.dump(all_items, f, indent=4)"
   ],
   "metadata": {
    "collapsed": false,
    "ExecuteTime": {
     "end_time": "2024-04-23T08:23:56.806661Z",
     "start_time": "2024-04-23T08:23:51.270984Z"
    }
   },
   "execution_count": 36
  },
  {
   "cell_type": "code",
   "execution_count": 2,
   "metadata": {
    "collapsed": false,
    "ExecuteTime": {
     "end_time": "2024-04-23T15:18:05.551705Z",
     "start_time": "2024-04-23T15:18:05.545194Z"
    }
   },
   "outputs": [],
   "source": [
    "import pickle"
   ]
  },
  {
   "cell_type": "code",
   "outputs": [],
   "source": [
    "data = {}\n",
    "for index, item in enumerate(all_items):\n",
    "    data[index+1] = item['msg']\n",
    "\n",
    "with open(\"../data/chronicle/rag_msg.pkl\", \"wb\") as f:\n",
    "    pickle.dump(data, f)"
   ],
   "metadata": {
    "id": "TDtKdeFY7nYj",
    "ExecuteTime": {
     "end_time": "2024-04-23T08:34:56.400355Z",
     "start_time": "2024-04-23T08:34:56.133733Z"
    }
   },
   "execution_count": 42
  },
  {
   "cell_type": "code",
   "execution_count": 17,
   "metadata": {
    "id": "6j2XMd6gCdQE",
    "ExecuteTime": {
     "end_time": "2024-04-23T15:23:27.585496Z",
     "start_time": "2024-04-23T15:23:27.469318Z"
    }
   },
   "outputs": [],
   "source": [
    "with open(\"../data/chronicle/rag_msg.pkl\", \"rb\") as f:\n",
    "    msg_data = pickle.load(f)"
   ]
  },
  {
   "cell_type": "code",
   "execution_count": 4,
   "metadata": {
    "id": "BALEGM_pnsp2",
    "ExecuteTime": {
     "end_time": "2024-04-23T15:18:12.146333Z",
     "start_time": "2024-04-23T15:18:11.776667Z"
    }
   },
   "outputs": [],
   "source": [
    "from langchain_community.document_loaders import JSONLoader"
   ]
  },
  {
   "cell_type": "code",
   "execution_count": null,
   "metadata": {
    "collapsed": false
   },
   "outputs": [],
   "source": [
    "diff_loader = JSONLoader(\n",
    "    file_path='../data/chronicle/chronicle_rag_db.json',\n",
    "    jq_schema='.[].diff',\n",
    "    text_content=False)\n",
    "\n",
    "diff_data = diff_loader.load()"
   ]
  },
  {
   "cell_type": "code",
   "outputs": [],
   "source": [
    "\n",
    "language_loader = JSONLoader(\n",
    "    file_path='../data/chronicle/chronicle_rag_db.json',\n",
    "    jq_schema='.[].lang',\n",
    "    text_content=False)\n",
    "\n",
    "language_data = language_loader.load()"
   ],
   "metadata": {
    "id": "ltaWG7hinsp4",
    "ExecuteTime": {
     "end_time": "2024-04-23T08:38:14.942337Z",
     "start_time": "2024-04-23T08:37:59.281624Z"
    }
   },
   "execution_count": 53
  },
  {
   "cell_type": "code",
   "execution_count": 55,
   "metadata": {
    "id": "R4qftc5k1bOh",
    "ExecuteTime": {
     "end_time": "2024-04-23T08:40:27.134470Z",
     "start_time": "2024-04-23T08:40:27.124312Z"
    }
   },
   "outputs": [],
   "source": [
    "# 1-1000 data use java splitter, 1000-2000 use cpp splitter, 2000-3000 use csharp splitter, 3000-4000 use python splitter, 4000-5000 use javascript splitter\n",
    "from langchain.text_splitter import Language\n",
    "from langchain.text_splitter import RecursiveCharacterTextSplitter\n",
    "\n",
    "languages = [Language.JAVA, Language.CPP, Language.CSHARP, Language.PYTHON, Language.JS]\n",
    "splitters = [RecursiveCharacterTextSplitter.from_language(language, chunk_size=300, chunk_overlap=0) for language in languages]\n",
    "\n",
    "\n",
    "language_dict = {'java': 0, 'c++': 1, 'c#': 2, 'python': 3, 'javascript': 4}"
   ]
  },
  {
   "cell_type": "code",
   "execution_count": 56,
   "metadata": {
    "id": "LJ1DFYLKnsp6",
    "outputId": "fe0afd44-16c4-4be2-bde4-b99cb0cfb9f8",
    "ExecuteTime": {
     "end_time": "2024-04-23T08:41:13.616257Z",
     "start_time": "2024-04-23T08:40:28.306149Z"
    }
   },
   "outputs": [
    {
     "data": {
      "text/plain": "Processing documents:   0%|          | 0/500000 [00:00<?, ?it/s]",
      "application/vnd.jupyter.widget-view+json": {
       "version_major": 2,
       "version_minor": 0,
       "model_id": "726edd3a4b57485d922ba3d70ed9c573"
      }
     },
     "metadata": {},
     "output_type": "display_data"
    }
   ],
   "source": [
    "from tqdm.auto import tqdm\n",
    "diff_split = []\n",
    "for i, doc in tqdm(enumerate(diff_data), total=len(diff_data), desc=\"Processing documents\"):\n",
    "    diff_split += splitters[language_dict[language_data[i].page_content.lower()]].split_documents([doc])"
   ]
  },
  {
   "cell_type": "code",
   "execution_count": 57,
   "metadata": {
    "colab": {
     "base_uri": "https://localhost:8080/"
    },
    "id": "s6GP2dtfnsp6",
    "outputId": "0562b022-f590-4524-8940-d145ab263519",
    "ExecuteTime": {
     "end_time": "2024-04-23T08:41:21.976330Z",
     "start_time": "2024-04-23T08:41:21.958365Z"
    }
   },
   "outputs": [
    {
     "data": {
      "text/plain": "2082804"
     },
     "execution_count": 57,
     "metadata": {},
     "output_type": "execute_result"
    }
   ],
   "source": [
    "len(diff_split)"
   ]
  },
  {
   "cell_type": "code",
   "execution_count": 58,
   "metadata": {
    "colab": {
     "base_uri": "https://localhost:8080/"
    },
    "id": "ijarR3jwnsp7",
    "outputId": "e30308bc-a098-4567-de38-3a6d50df1667",
    "ExecuteTime": {
     "end_time": "2024-04-23T08:41:27.213597Z",
     "start_time": "2024-04-23T08:41:27.198196Z"
    }
   },
   "outputs": [
    {
     "data": {
      "text/plain": "'diff --git a/testsuite/integration-arquillian/tests/base/src/test/java/org/keycloak/testsuite/admin/partialimport/PartialImportTest.java b/testsuite/integration-arquillian/tests/base/src/test/java/org/keycloak/testsuite/admin/partialimport/PartialImportTest.java @@ -133,7 +133,7 @@ public class'"
     },
     "execution_count": 58,
     "metadata": {},
     "output_type": "execute_result"
    }
   ],
   "source": [
    "diff_split[0].page_content"
   ]
  },
  {
   "cell_type": "code",
   "execution_count": 5,
   "metadata": {
    "id": "95oAllkYnsp8",
    "ExecuteTime": {
     "end_time": "2024-04-23T15:18:28.183129Z",
     "start_time": "2024-04-23T15:18:28.010184Z"
    }
   },
   "outputs": [],
   "source": [
    "from langchain.embeddings import HuggingFaceEmbeddings"
   ]
  },
  {
   "cell_type": "code",
   "execution_count": 6,
   "metadata": {
    "id": "anrWXU4pnsp8",
    "ExecuteTime": {
     "end_time": "2024-04-23T15:18:38.422505Z",
     "start_time": "2024-04-23T15:18:30.571160Z"
    }
   },
   "outputs": [],
   "source": [
    "# Define the path to the pre-trained model you want to use\n",
    "modelPath = \"mixedbread-ai/mxbai-embed-large-v1\"\n",
    "\n",
    "# Create a dictionary with model configuration options, specifying to use the CPU for computations\n",
    "model_kwargs = {'device':'cuda'}\n",
    "\n",
    "# Create a dictionary with encoding options, specifically setting 'normalize_embeddings' to False\n",
    "encode_kwargs = {'normalize_embeddings': False}\n",
    "\n",
    "# Initialize an instance of HuggingFaceEmbeddings with the specified parameters\n",
    "embeddings = HuggingFaceEmbeddings(\n",
    "    cache_folder = '../models',\n",
    "    model_name=modelPath,     # Provide the pre-trained model's path\n",
    "    model_kwargs=model_kwargs, # Pass the model configuration options\n",
    "    encode_kwargs=encode_kwargs # Pass the encoding options\n",
    ")"
   ]
  },
  {
   "cell_type": "code",
   "execution_count": 8,
   "metadata": {
    "id": "pkBBdBwu1bOj",
    "ExecuteTime": {
     "end_time": "2024-04-23T15:18:52.772016Z",
     "start_time": "2024-04-23T15:18:52.747463Z"
    }
   },
   "outputs": [],
   "source": [
    "from langchain_community.vectorstores import Chroma"
   ]
  },
  {
   "cell_type": "code",
   "execution_count": 9,
   "metadata": {
    "id": "2SsHq3uH1bOk",
    "ExecuteTime": {
     "end_time": "2024-04-23T15:18:54.671772Z",
     "start_time": "2024-04-23T15:18:53.821738Z"
    }
   },
   "outputs": [],
   "source": [
    "db = Chroma(persist_directory=\"./chroma_chronicle_db\", embedding_function=embeddings)"
   ]
  },
  {
   "cell_type": "code",
   "execution_count": 62,
   "metadata": {
    "id": "PIVtFdbCpfOA",
    "outputId": "1ce605eb-033e-4b15-99a4-abe85b7cf03b",
    "ExecuteTime": {
     "end_time": "2024-04-23T13:08:23.021600Z",
     "start_time": "2024-04-23T08:51:38.787298Z"
    }
   },
   "outputs": [],
   "source": [
    "\n",
    "# Load the document, split it into chunks, embed each chunk and load it into the vector store.\n",
    "db = Chroma.from_documents(diff_data, embeddings, persist_directory=\"./chroma_chronicle_db\")"
   ]
  },
  {
   "cell_type": "code",
   "execution_count": null,
   "metadata": {
    "id": "mW-qZOhPpwnF"
   },
   "outputs": [],
   "source": [
    "db.persist()"
   ]
  },
  {
   "cell_type": "code",
   "execution_count": 10,
   "metadata": {
    "id": "mgGByBi_soe-",
    "ExecuteTime": {
     "end_time": "2024-04-23T15:19:00.688454Z",
     "start_time": "2024-04-23T15:19:00.481247Z"
    }
   },
   "outputs": [],
   "source": [
    "test_diff_loader = JSONLoader(\n",
    "    file_path='../data/chronicle/chronicle_data.json',\n",
    "    jq_schema='.[].diff',\n",
    "    text_content=False)\n",
    "\n",
    "test_diff_data = test_diff_loader.load()"
   ]
  },
  {
   "cell_type": "code",
   "execution_count": 11,
   "metadata": {
    "id": "Z2LFKd0QzFqA",
    "ExecuteTime": {
     "end_time": "2024-04-23T15:19:03.209723Z",
     "start_time": "2024-04-23T15:19:03.191692Z"
    }
   },
   "outputs": [],
   "source": [
    "def similarity_search(documents):\n",
    "    # Initialize an empty dictionary to store aggregate scores for each candidate ID\n",
    "    aggregate_scores = {}\n",
    "\n",
    "    # Iterate through each document in the documents list\n",
    "    for document in documents:\n",
    "        # Apply similarity search function to the document\n",
    "        results = db.similarity_search_with_relevance_scores(document.page_content, score_threshold=0.0)\n",
    "        # Iterate through the results for each document\n",
    "        for candidate_doc in results:\n",
    "            id = candidate_doc[0].metadata['seq_num']\n",
    "            score = candidate_doc[1]\n",
    "            # Update the aggregate score for the candidate ID\n",
    "            aggregate_scores[id] = aggregate_scores.get(id, 0) + score\n",
    "\n",
    "    # Find the candidate ID with the highest aggregate score\n",
    "    max_candidate_id = max(aggregate_scores, key=aggregate_scores.get)\n",
    "    return max_candidate_id"
   ]
  },
  {
   "cell_type": "code",
   "execution_count": 12,
   "metadata": {
    "id": "cKHfEli61bOl",
    "ExecuteTime": {
     "end_time": "2024-04-23T15:19:05.268080Z",
     "start_time": "2024-04-23T15:19:05.254462Z"
    }
   },
   "outputs": [],
   "source": [
    "retriever = db.as_retriever()"
   ]
  },
  {
   "cell_type": "code",
   "execution_count": 13,
   "metadata": {
    "id": "8CSnKNz51bOl",
    "ExecuteTime": {
     "end_time": "2024-04-23T15:19:06.847835Z",
     "start_time": "2024-04-23T15:19:06.837319Z"
    }
   },
   "outputs": [],
   "source": [
    "from tqdm.auto import tqdm"
   ]
  },
  {
   "cell_type": "code",
   "outputs": [],
   "source": [
    "import random \n",
    "random.seed(42)\n",
    "random.shuffle(test_diff_data)"
   ],
   "metadata": {
    "collapsed": false,
    "ExecuteTime": {
     "end_time": "2024-04-23T15:39:58.334149Z",
     "start_time": "2024-04-23T15:39:58.315625Z"
    }
   },
   "execution_count": 20
  },
  {
   "cell_type": "code",
   "execution_count": 21,
   "metadata": {
    "id": "aa6gOAlgGzQY",
    "outputId": "0c7fc1ef-e9c8-48c1-974e-a43b6b95990c",
    "ExecuteTime": {
     "end_time": "2024-04-23T15:43:06.374390Z",
     "start_time": "2024-04-23T15:40:01.947571Z"
    }
   },
   "outputs": [
    {
     "data": {
      "text/plain": "Processing documents:   0%|          | 0/5000 [00:00<?, ?it/s]",
      "application/vnd.jupyter.widget-view+json": {
       "version_major": 2,
       "version_minor": 0,
       "model_id": "9e01862fc4ed4a7db328aaa2a10634c4"
      }
     },
     "metadata": {},
     "output_type": "display_data"
    }
   ],
   "source": [
    "similar_diff = []\n",
    "for i, test_data in tqdm(enumerate(test_diff_data), total=len(test_diff_data), desc=\"Processing documents\"):\n",
    "    query = test_data.page_content\n",
    "    similar_diff.append(retriever.get_relevant_documents(query)[0])"
   ]
  },
  {
   "cell_type": "code",
   "execution_count": 23,
   "metadata": {
    "id": "BTU8eiRk1bOm",
    "ExecuteTime": {
     "end_time": "2024-04-23T15:43:32.277209Z",
     "start_time": "2024-04-23T15:43:32.252495Z"
    }
   },
   "outputs": [],
   "source": [
    "import json\n",
    "data = []\n",
    "\n",
    "for sim_diff, test_diff in zip(similar_diff, test_diff_data):\n",
    "    item = {\n",
    "        'sim_msg': msg_data[sim_diff.metadata['seq_num']],\n",
    "        'sim_diff': sim_diff.page_content,\n",
    "        'org_diff': test_diff.page_content\n",
    "    }\n",
    "    data.append(item)"
   ]
  },
  {
   "cell_type": "code",
   "execution_count": 24,
   "metadata": {
    "id": "aVxF1tkQ1bOn",
    "ExecuteTime": {
     "end_time": "2024-04-23T15:43:32.962158Z",
     "start_time": "2024-04-23T15:43:32.847952Z"
    }
   },
   "outputs": [],
   "source": [
    "# Write the data to a JSON file\n",
    "with open('../data/chronicle/data_with_similar_diff.json', 'w', encoding='UTF-8') as f:\n",
    "    json.dump(data, f, ensure_ascii=False, indent=4)"
   ]
  },
  {
   "cell_type": "code",
   "execution_count": null,
   "metadata": {
    "id": "wZIq_6gg1bOn"
   },
   "outputs": [],
   "source": [
    "query =test_diff_data[0].page_content\n",
    "documents = splitters[0].create_documents([query])"
   ]
  },
  {
   "cell_type": "code",
   "execution_count": null,
   "metadata": {
    "id": "PqVPILnd1bOn"
   },
   "outputs": [],
   "source": [
    "docs = retriever.get_relevant_documents(documents[0].page_content)"
   ]
  },
  {
   "cell_type": "code",
   "execution_count": null,
   "metadata": {
    "id": "Koa40Rjq1bOn",
    "outputId": "fa716cd0-68a1-46dd-ba86-610da08a60ec"
   },
   "outputs": [
    {
     "data": {
      "text/plain": "(Document(page_content='diff --git a/MPChartLib/src/main/java/com/github/mikephil/charting/renderer/BubbleChartRenderer.java \\nppp b/MPChartLib/src/main/java/com/github/mikephil/charting/renderer/BubbleChartRenderer.java \\nprotected void drawDataSet(Canvas c,IBubbleDataSet dataSet){ \\nif(! mViewPortHandler.isInBoundsRight(pointBuffer[0]- shapeHalf)) \\nbreak;- final int color=dataSet.getColor(( int)entry.getX());+final int color=dataSet.getColor(j); \\nmRenderPaint.setColor(color); \\nc.drawCircle(pointBuffer[0], pointBuffer[1], shapeHalf,mRenderPaint); \\n', metadata={'seq_num': 27766, 'source': 'D:\\\\TU Delft\\\\thesis\\\\LLM_CMG\\\\llm4commit\\\\data\\\\rag_data.json'}),\n 0.736459085862412)"
     },
     "execution_count": 57,
     "metadata": {},
     "output_type": "execute_result"
    }
   ],
   "source": [
    "db.similarity_search_with_relevance_scores(documents[0].page_content)[1]"
   ]
  },
  {
   "cell_type": "code",
   "execution_count": null,
   "metadata": {
    "id": "aoFH8fVp1bOn",
    "outputId": "5c826c6f-ac6e-448c-ec68-2f02928c05ff"
   },
   "outputs": [
    {
     "name": "stderr",
     "output_type": "stream",
     "text": [
      "Processing documents: 100%|██████████| 5000/5000 [1:46:31<00:00,  1.28s/it]  \n"
     ]
    }
   ],
   "source": []
  },
  {
   "cell_type": "code",
   "execution_count": null,
   "metadata": {
    "id": "_qrn9Hq71bOo"
   },
   "outputs": [],
   "source": [
    "with open('../data/msg_nngen_nmt_codebert_chatgpt.json', 'r', encoding='UTF-8') as f:\n",
    "    org_data = json.load(f)\n",
    "\n",
    "for item, msg in zip(org_data, gpt_msg):\n",
    "    item['chatgpt_rag'] = msg\n",
    "\n",
    "output_file = '../data/msg_nngen_nmt_codebert_chatgpt_rag.json'\n",
    "with open(output_file, 'w', encoding='UTF-8') as f:\n",
    "    json.dump(org_data, f, ensure_ascii=False, indent=4)"
   ]
  },
  {
   "cell_type": "code",
   "execution_count": null,
   "metadata": {
    "id": "bdG2o7Mk1bOo",
    "outputId": "f292bd93-07dc-43cf-ee4e-9263050e1a08"
   },
   "outputs": [
    {
     "data": {
      "text/plain": "5000"
     },
     "execution_count": 88,
     "metadata": {},
     "output_type": "execute_result"
    }
   ],
   "source": [
    "len(gpt_msg)"
   ]
  },
  {
   "cell_type": "code",
   "execution_count": null,
   "metadata": {
    "id": "cZAYCP851bOo"
   },
   "outputs": [],
   "source": []
  }
 ],
 "metadata": {
  "accelerator": "GPU",
  "colab": {
   "gpuType": "T4",
   "provenance": []
  },
  "kernelspec": {
   "name": "python3",
   "language": "python",
   "display_name": "Python 3 (ipykernel)"
  },
  "language_info": {
   "codemirror_mode": {
    "name": "ipython",
    "version": 3
   },
   "file_extension": ".py",
   "mimetype": "text/x-python",
   "name": "python",
   "nbconvert_exporter": "python",
   "pygments_lexer": "ipython3",
   "version": "3.9.18"
  }
 },
 "nbformat": 4,
 "nbformat_minor": 0
}
