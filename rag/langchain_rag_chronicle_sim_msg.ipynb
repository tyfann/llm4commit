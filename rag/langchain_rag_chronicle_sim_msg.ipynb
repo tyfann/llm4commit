{
 "cells": [
  {
   "metadata": {
    "ExecuteTime": {
     "end_time": "2024-05-08T08:01:06.337195Z",
     "start_time": "2024-05-08T08:01:05.787119Z"
    }
   },
   "cell_type": "code",
   "source": [
    "from langchain_community.document_loaders import JSONLoader\n",
    "from tqdm.auto import tqdm\n",
    "import json\n",
    "import pickle\n",
    "from langchain.text_splitter import Language\n",
    "from langchain.text_splitter import RecursiveCharacterTextSplitter\n",
    "from langchain.embeddings import HuggingFaceEmbeddings\n",
    "from langchain_community.vectorstores import Chroma"
   ],
   "id": "a19fe917ecaffe3b",
   "execution_count": 1,
   "outputs": []
  },
  {
   "metadata": {
    "ExecuteTime": {
     "end_time": "2024-05-08T08:01:59.729418Z",
     "start_time": "2024-05-08T08:01:11.154962Z"
    }
   },
   "cell_type": "code",
   "source": [
    "diff_loader = JSONLoader(\n",
    "    file_path='../data/chronicle/chronicle_rag_db.json',\n",
    "    jq_schema='.[].diff',\n",
    "    text_content=False)\n",
    "\n",
    "diff_data = diff_loader.load()\n",
    "\n",
    "msg_loader = JSONLoader(\n",
    "    file_path='../data/chronicle/chronicle_rag_db.json',\n",
    "    jq_schema='.[].msg',\n",
    "    text_content=False)\n",
    "\n",
    "msg_data = msg_loader.load()\n",
    "\n",
    "language_loader = JSONLoader(\n",
    "    file_path='../data/chronicle/chronicle_rag_db.json',\n",
    "    jq_schema='.[].lang',\n",
    "    text_content=False)\n",
    "\n",
    "language_data = language_loader.load()"
   ],
   "id": "45576b3c48c76ff6",
   "execution_count": 2,
   "outputs": []
  },
  {
   "metadata": {
    "ExecuteTime": {
     "end_time": "2024-05-08T08:02:06.933441Z",
     "start_time": "2024-05-08T08:01:59.731420Z"
    }
   },
   "cell_type": "code",
   "source": [
    "# Define the path to the pre-trained model you want to use\n",
    "modelPath = \"mixedbread-ai/mxbai-embed-large-v1\"\n",
    "\n",
    "# Create a dictionary with model configuration options, specifying to use the CPU for computations\n",
    "model_kwargs = {'device':'cuda', 'trust_remote_code': True}\n",
    "\n",
    "# Create a dictionary with encoding options, specifically setting 'normalize_embeddings' to False\n",
    "encode_kwargs = {'normalize_embeddings': True}\n",
    "\n",
    "# Initialize an instance of HuggingFaceEmbeddings with the specified parameters\n",
    "embeddings = HuggingFaceEmbeddings(\n",
    "    cache_folder = '../models',\n",
    "    \n",
    "    model_name=modelPath,     # Provide the pre-trained model's path\n",
    "    model_kwargs=model_kwargs, # Pass the model configuration options\n",
    "    encode_kwargs=encode_kwargs # Pass the encoding options\n",
    ")"
   ],
   "id": "d54ba1963bb3bc24",
   "execution_count": 3,
   "outputs": []
  },
  {
   "metadata": {},
   "cell_type": "markdown",
   "source": "# Python part",
   "id": "6af3cad67f10e597"
  },
  {
   "metadata": {
    "ExecuteTime": {
     "end_time": "2024-05-03T13:18:57.897091Z",
     "start_time": "2024-05-03T13:18:57.637710Z"
    }
   },
   "cell_type": "code",
   "source": [
    "msg_python = []\n",
    "for i, doc in tqdm(enumerate(msg_data), total=len(msg_data), desc=\"Processing documents\"):\n",
    "    if language_data[i].page_content=='Python':\n",
    "        msg_python.append(doc)"
   ],
   "id": "eab74269416beb5a",
   "execution_count": 3,
   "outputs": []
  },
  {
   "metadata": {
    "ExecuteTime": {
     "end_time": "2024-05-03T13:24:45.476604Z",
     "start_time": "2024-05-03T13:19:47.794173Z"
    }
   },
   "cell_type": "code",
   "source": [
    "# Load the document, split it into chunks, embed each chunk and load it into the vector store.\n",
    "db = Chroma.from_documents(msg_python, embeddings, persist_directory=\"./chroma_chronicle_db_mxbai_500chunk_normalized_msg_python\")"
   ],
   "id": "b5630ee45114ecb3",
   "execution_count": 6,
   "outputs": []
  },
  {
   "metadata": {
    "ExecuteTime": {
     "end_time": "2024-05-08T08:03:56.319722Z",
     "start_time": "2024-05-08T08:03:56.290Z"
    }
   },
   "cell_type": "code",
   "source": "db = Chroma(persist_directory=\"./chroma_chronicle_db_mxbai_500chunk_normalized_msg_js\", embedding_function=embeddings)",
   "id": "512484c65ff84847",
   "execution_count": 7,
   "outputs": []
  },
  {
   "metadata": {
    "ExecuteTime": {
     "end_time": "2024-05-08T08:04:07.799835Z",
     "start_time": "2024-05-08T08:04:07.749468Z"
    }
   },
   "cell_type": "code",
   "source": [
    "test_diff_loader = JSONLoader(\n",
    "    file_path='../data/scenario/scenario_react_chatgpt_zeroshot.json',\n",
    "    jq_schema='.[].chatgpt',\n",
    "    text_content=False)\n",
    "\n",
    "test_diff_data = test_diff_loader.load()\n",
    "\n",
    "with open('../data/scenario/scenario_react_chatgpt_zeroshot.json', 'r', encoding='UTF-8') as f:\n",
    "    test_data = json.load(f)"
   ],
   "id": "4146b5cde228ac3f",
   "execution_count": 8,
   "outputs": []
  },
  {
   "cell_type": "code",
   "id": "initial_id",
   "metadata": {
    "collapsed": true,
    "ExecuteTime": {
     "end_time": "2024-05-08T08:04:23.954881Z",
     "start_time": "2024-05-08T08:04:20.777043Z"
    }
   },
   "source": [
    "# db = Chroma(persist_directory=\"./chroma_chronicle_db_mxbai_500chunk_normalized_msg_python\", embedding_function=embeddings)\n",
    "similar_msg = []\n",
    "retriever = db.as_retriever()\n",
    "for i, data in tqdm(enumerate(test_diff_data[:100]), total=len(test_diff_data[:100]), desc=\"Processing documents\"):\n",
    "    similar_msg.append(retriever.invoke(data.page_content)[0])\n",
    "\n",
    "data = []\n",
    "\n",
    "for sim_msg, test_diff in zip(similar_msg, test_diff_data[:100]):\n",
    "    item = {'org_diff': test_data[test_diff.metadata['seq_num']-1]['diff'],\n",
    "            'org_msg': test_diff.page_content,\n",
    "            'sim_msg': sim_msg.page_content,\n",
    "            'sim_diff': diff_data[sim_msg.metadata['seq_num']-1].page_content,}\n",
    "    data.append(item)\n",
    "    \n",
    "# Write the data to a JSON file\n",
    "with open('../data/scenario/scenario_react_chatgpt_rag_sim_msg_prompt.json', 'w', encoding='UTF-8') as f:\n",
    "    json.dump(data, f, ensure_ascii=False, indent=4)"
   ],
   "execution_count": 9,
   "outputs": []
  },
  {
   "metadata": {},
   "cell_type": "markdown",
   "source": "# JavaScript part",
   "id": "de6600534dc257a5"
  },
  {
   "metadata": {
    "ExecuteTime": {
     "end_time": "2024-05-03T13:27:29.838911Z",
     "start_time": "2024-05-03T13:27:29.206280Z"
    }
   },
   "cell_type": "code",
   "source": [
    "msg_js = []\n",
    "for i, doc in tqdm(enumerate(msg_data), total=len(msg_data), desc=\"Processing documents\"):\n",
    "    if language_data[i].page_content=='JavaScript':\n",
    "        msg_js.append(doc)"
   ],
   "id": "16cdef78377a3421",
   "execution_count": 10,
   "outputs": []
  },
  {
   "metadata": {
    "ExecuteTime": {
     "end_time": "2024-05-03T13:32:33.568940Z",
     "start_time": "2024-05-03T13:27:31.411452Z"
    }
   },
   "cell_type": "code",
   "source": [
    "# Load the document, split it into chunks, embed each chunk and load it into the vector store.\n",
    "db = Chroma.from_documents(msg_js, embeddings, persist_directory=\"./chroma_chronicle_db_mxbai_500chunk_normalized_msg_js\")"
   ],
   "id": "7c434f9a09fd3013",
   "execution_count": 11,
   "outputs": []
  },
  {
   "metadata": {
    "ExecuteTime": {
     "end_time": "2024-05-06T07:51:12.240359Z",
     "start_time": "2024-05-06T07:51:12.212291Z"
    }
   },
   "cell_type": "code",
   "source": "db = Chroma(persist_directory=\"./chroma_chronicle_db_mxbai_500chunk_normalized_msg_js\", embedding_function=embeddings)",
   "id": "19df3cea417b62d9",
   "execution_count": 8,
   "outputs": []
  },
  {
   "metadata": {
    "ExecuteTime": {
     "end_time": "2024-05-06T07:55:34.370772Z",
     "start_time": "2024-05-06T07:55:34.247313Z"
    }
   },
   "cell_type": "code",
   "source": [
    "test_diff_loader = JSONLoader(\n",
    "    file_path='../data/chronicle/rag_baseline/zeroshot/rag_baseline_js_chatgpt.json',\n",
    "    jq_schema='.[].chatgpt',\n",
    "    text_content=False)\n",
    "\n",
    "test_diff_data = test_diff_loader.load()\n",
    "\n",
    "with open('../data/chronicle/rag_baseline/zeroshot/rag_baseline_js_chatgpt.json', 'r', encoding='UTF-8') as f:\n",
    "    test_data = json.load(f)"
   ],
   "id": "f5cd2025bd325999",
   "execution_count": 9,
   "outputs": []
  },
  {
   "metadata": {
    "ExecuteTime": {
     "end_time": "2024-05-06T07:56:35.534088Z",
     "start_time": "2024-05-06T07:56:11.317136Z"
    }
   },
   "cell_type": "code",
   "source": [
    "# db = Chroma(persist_directory=\"./chroma_chronicle_db_mxbai_500chunk_normalized_msg_python\", embedding_function=embeddings)\n",
    "similar_msg = []\n",
    "retriever = db.as_retriever()\n",
    "for i, data in tqdm(enumerate(test_diff_data), total=len(test_diff_data), desc=\"Processing documents\"):\n",
    "    similar_msg.append(retriever.invoke(data.page_content)[0])\n",
    "\n",
    "data = []\n",
    "\n",
    "for sim_msg, test_diff in zip(similar_msg, test_diff_data):\n",
    "    item = {'org_diff': test_data[test_diff.metadata['seq_num']-1]['org_diff'],\n",
    "            'org_msg': test_diff.page_content,\n",
    "            'sim_msg': sim_msg.page_content,\n",
    "            'sim_diff': diff_data[sim_msg.metadata['seq_num']-1].page_content,}\n",
    "    data.append(item)\n",
    "    \n",
    "# Write the data to a JSON file\n",
    "with open('../data/chronicle/rag_baseline/sim_msg_rag/rag_baseline_sim_msg_js.json', 'w', encoding='UTF-8') as f:\n",
    "    json.dump(data, f, ensure_ascii=False, indent=4)"
   ],
   "id": "940735d6be0ff63",
   "execution_count": 10,
   "outputs": []
  },
  {
   "metadata": {},
   "cell_type": "code",
   "execution_count": null,
   "source": "",
   "id": "87a61b5390315557",
   "outputs": []
  }
 ],
 "metadata": {
  "kernelspec": {
   "display_name": "Python 3",
   "language": "python",
   "name": "python3"
  },
  "language_info": {
   "codemirror_mode": {
    "name": "ipython",
    "version": 2
   },
   "file_extension": ".py",
   "mimetype": "text/x-python",
   "name": "python",
   "nbconvert_exporter": "python",
   "pygments_lexer": "ipython2",
   "version": "2.7.6"
  }
 },
 "nbformat": 4,
 "nbformat_minor": 5
}
