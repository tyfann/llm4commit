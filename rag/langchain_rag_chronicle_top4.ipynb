{
 "cells": [
  {
   "metadata": {
    "ExecuteTime": {
     "end_time": "2024-05-08T07:54:16.394242Z",
     "start_time": "2024-05-08T07:54:15.810179Z"
    }
   },
   "cell_type": "code",
   "source": [
    "from langchain_community.document_loaders import JSONLoader\n",
    "from tqdm.auto import tqdm\n",
    "import json\n",
    "import pickle\n",
    "from langchain.text_splitter import Language\n",
    "from langchain.text_splitter import RecursiveCharacterTextSplitter\n",
    "from langchain.embeddings import HuggingFaceEmbeddings\n",
    "from langchain_community.vectorstores import Chroma"
   ],
   "id": "a19fe917ecaffe3b",
   "execution_count": 1,
   "outputs": []
  },
  {
   "metadata": {
    "ExecuteTime": {
     "end_time": "2024-05-08T07:54:38.253762Z",
     "start_time": "2024-05-08T07:54:18.823620Z"
    }
   },
   "cell_type": "code",
   "source": [
    "with open(\"../data/chronicle/rag_msg.pkl\", \"rb\") as f:\n",
    "    msg_data = pickle.load(f)\n",
    "\n",
    "diff_loader = JSONLoader(\n",
    "    file_path='../data/chronicle/chronicle_rag_db.json',\n",
    "    jq_schema='.[].diff',\n",
    "    text_content=False)\n",
    "\n",
    "diff_data = diff_loader.load()"
   ],
   "id": "859487f15c555b9e",
   "execution_count": 2,
   "outputs": []
  },
  {
   "metadata": {
    "ExecuteTime": {
     "end_time": "2024-05-08T07:54:38.268771Z",
     "start_time": "2024-05-08T07:54:38.256764Z"
    }
   },
   "cell_type": "code",
   "source": [
    "# 1-1000 data use java splitter, 1000-2000 use cpp splitter, 2000-3000 use csharp splitter, 3000-4000 use python splitter, 4000-5000 use javascript splitter\n",
    "\n",
    "\n",
    "# languages = [Language.JAVA, Language.CPP, Language.CSHARP, Language.PYTHON, Language.JS]\n",
    "languages = [Language.PYTHON, Language.JS]\n",
    "splitters = [RecursiveCharacterTextSplitter.from_language(language, chunk_size=500, chunk_overlap=50) for language in languages]\n",
    "\n",
    "# language_dict = {'java': 0, 'c++': 1, 'c#': 2, 'python': 3, 'javascript': 4}\n",
    "language_dict = {'Python': 0, 'JavaScript': 1}"
   ],
   "id": "bf231ebe48578f34",
   "execution_count": 3,
   "outputs": []
  },
  {
   "metadata": {
    "ExecuteTime": {
     "end_time": "2024-05-08T07:54:45.265717Z",
     "start_time": "2024-05-08T07:54:38.270771Z"
    }
   },
   "cell_type": "code",
   "source": [
    "# Define the path to the pre-trained model you want to use\n",
    "modelPath = \"mixedbread-ai/mxbai-embed-large-v1\"\n",
    "\n",
    "# Create a dictionary with model configuration options, specifying to use the CPU for computations\n",
    "model_kwargs = {'device':'cuda', 'trust_remote_code': True}\n",
    "\n",
    "# Create a dictionary with encoding options, specifically setting 'normalize_embeddings' to False\n",
    "encode_kwargs = {'normalize_embeddings': True}\n",
    "\n",
    "# Initialize an instance of HuggingFaceEmbeddings with the specified parameters\n",
    "embeddings = HuggingFaceEmbeddings(\n",
    "    cache_folder = '../models',\n",
    "    \n",
    "    model_name=modelPath,     # Provide the pre-trained model's path\n",
    "    model_kwargs=model_kwargs, # Pass the model configuration options\n",
    "    encode_kwargs=encode_kwargs # Pass the encoding options\n",
    ")"
   ],
   "id": "ef84084256913f9b",
   "execution_count": 4,
   "outputs": []
  },
  {
   "metadata": {
    "ExecuteTime": {
     "end_time": "2024-05-08T07:54:45.280926Z",
     "start_time": "2024-05-08T07:54:45.267717Z"
    }
   },
   "cell_type": "code",
   "source": [
    "def similarity_search_top_4(documents):\n",
    "    # Initialize an empty dictionary to store aggregate scores for each candidate ID\n",
    "    aggregate_scores = {}\n",
    "\n",
    "    # Iterate through each document in the documents list\n",
    "    for document in documents:\n",
    "        # Apply similarity search function to the document\n",
    "        results = db.similarity_search_with_relevance_scores(document.page_content, score_threshold=0.0)\n",
    "        # Iterate through the results for each document\n",
    "        for candidate_doc in results:\n",
    "            id = candidate_doc[0].metadata['seq_num']\n",
    "            score = candidate_doc[1]\n",
    "            # Update the aggregate score for the candidate ID\n",
    "            aggregate_scores[id] = aggregate_scores.get(id, 0) + score\n",
    "\n",
    "    # Find the top 4 candidate IDs with the highest aggregate scores\n",
    "    top_candidates = sorted(aggregate_scores.items(), key=lambda x: x[1], reverse=True)[:4]\n",
    "\n",
    "    # Extract the IDs of the top 4 candidates\n",
    "    top_candidate_ids = [id for id, score in top_candidates]\n",
    "\n",
    "    return top_candidate_ids"
   ],
   "id": "d687254dc40b796f",
   "execution_count": 5,
   "outputs": []
  },
  {
   "metadata": {
    "ExecuteTime": {
     "end_time": "2024-05-08T07:57:13.285645Z",
     "start_time": "2024-05-08T07:57:13.240730Z"
    }
   },
   "cell_type": "code",
   "source": [
    "test_diff_loader = JSONLoader(\n",
    "    # file_path='../data/chronicle/rag_baseline/rag_baseline_python.json',\n",
    "    file_path='../data/scenario/scenario_react_chatgpt_zeroshot.json',\n",
    "    jq_schema='.[].diff',\n",
    "    text_content=False)\n",
    "\n",
    "test_diff_data = test_diff_loader.load()\n",
    "\n",
    "with open('../data/scenario/scenario_react_chatgpt_zeroshot.json', 'r', encoding='UTF-8') as f:\n",
    "    test_data = json.load(f)"
   ],
   "id": "8944d3ab5c23e65e",
   "execution_count": 8,
   "outputs": []
  },
  {
   "metadata": {
    "ExecuteTime": {
     "end_time": "2024-05-08T07:57:43.955610Z",
     "start_time": "2024-05-08T07:57:34.135796Z"
    }
   },
   "cell_type": "code",
   "source": [
    "db = Chroma(persist_directory=\"./chroma_chronicle_db_mxbai_500chunk_normalized_js\", embedding_function=embeddings)\n",
    "similar_diff = []\n",
    "for i, data in tqdm(enumerate(test_diff_data[:100]), total=len(test_diff_data[:100]), desc=\"Processing documents\"):\n",
    "    documents = splitters[1].split_documents([data])\n",
    "    candidate_ids = similarity_search_top_4(documents)\n",
    "    sim_diff = []\n",
    "    for candidate_id in candidate_ids:\n",
    "        if candidate_id != -1:\n",
    "            sim_diff.append(diff_data[candidate_id-1])\n",
    "        else:\n",
    "            sim_diff.append(None)\n",
    "    similar_diff.append(sim_diff)\n",
    "\n",
    "data = []\n",
    "\n",
    "for sim_diff, test_diff in zip(similar_diff, test_diff_data[:100]):\n",
    "    item = {}\n",
    "    item['org_diff'] = test_diff.page_content\n",
    "    for index, can_diff in enumerate(sim_diff):\n",
    "        if can_diff is not None:\n",
    "            item[f'sim_diff_{index}'] = can_diff.page_content\n",
    "            item[f'sim_msg_{index}'] = msg_data[can_diff.metadata['seq_num']]\n",
    "        else:\n",
    "            item[f'sim_diff_{index}'] = None\n",
    "            item[f'sim_msg_{index}'] = None\n",
    "    data.append(item)\n",
    "    \n",
    "# Write the data to a JSON file\n",
    "with open('../data/scenario/scenario_react_chatgpt_rag_top4_prompt.json', 'w', encoding='UTF-8') as f:\n",
    "    json.dump(data, f, ensure_ascii=False, indent=4)"
   ],
   "id": "de64e930d2be1067",
   "execution_count": 9,
   "outputs": []
  },
  {
   "metadata": {
    "ExecuteTime": {
     "end_time": "2024-05-06T07:22:26.822467Z",
     "start_time": "2024-05-06T07:22:26.704445Z"
    }
   },
   "cell_type": "code",
   "source": [
    "\n",
    "test_diff_loader = JSONLoader(\n",
    "    file_path='../data/chronicle/rag_baseline/rag_baseline_js.json',\n",
    "    jq_schema='.[].org_diff',\n",
    "    text_content=False)\n",
    "\n",
    "test_diff_data = test_diff_loader.load()\n",
    "\n",
    "with open('../data/chronicle/rag_baseline/rag_baseline_js.json', 'r', encoding='UTF-8') as f:\n",
    "    test_data = json.load(f)"
   ],
   "id": "30121e980d5b9c36",
   "execution_count": 6,
   "outputs": []
  },
  {
   "cell_type": "code",
   "id": "initial_id",
   "metadata": {
    "collapsed": true,
    "ExecuteTime": {
     "end_time": "2024-05-06T07:26:08.582646Z",
     "start_time": "2024-05-06T07:24:56.055024Z"
    }
   },
   "source": [
    "db = Chroma(persist_directory=\"./chroma_chronicle_db_mxbai_500chunk_normalized_js\", embedding_function=embeddings)\n",
    "similar_diff = []\n",
    "for i, data in tqdm(enumerate(test_diff_data), total=len(test_diff_data), desc=\"Processing documents\"):\n",
    "    documents = splitters[1].split_documents([data])\n",
    "    candidate_ids = similarity_search_top_4(documents)\n",
    "    sim_diff = []\n",
    "    for candidate_id in candidate_ids:\n",
    "        if candidate_id != -1:\n",
    "            sim_diff.append(diff_data[candidate_id-1])\n",
    "        else:\n",
    "            sim_diff.append(None)\n",
    "    similar_diff.append(sim_diff)\n",
    "\n",
    "data = []\n",
    "\n",
    "for sim_diff, test_diff in zip(similar_diff, test_diff_data):\n",
    "    item = {}\n",
    "    item['org_diff'] = test_diff.page_content\n",
    "    for index, can_diff in enumerate(sim_diff):\n",
    "        if can_diff is not None:\n",
    "            item[f'sim_diff_{index}'] = can_diff.page_content\n",
    "            item[f'sim_msg_{index}'] = msg_data[can_diff.metadata['seq_num']]\n",
    "        else:\n",
    "            item[f'sim_diff_{index}'] = None\n",
    "            item[f'sim_msg_{index}'] = None\n",
    "    data.append(item)\n",
    "    \n",
    "# Write the data to a JSON file\n",
    "with open('../data/chronicle/rag_baseline/top4_rag/rag_baseline_top4_js.json', 'w', encoding='UTF-8') as f:\n",
    "    json.dump(data, f, ensure_ascii=False, indent=4)"
   ],
   "execution_count": 7,
   "outputs": []
  },
  {
   "metadata": {},
   "cell_type": "code",
   "execution_count": null,
   "source": "",
   "id": "9b96b2d7051707bc",
   "outputs": []
  }
 ],
 "metadata": {
  "kernelspec": {
   "display_name": "Python 3",
   "language": "python",
   "name": "python3"
  },
  "language_info": {
   "codemirror_mode": {
    "name": "ipython",
    "version": 2
   },
   "file_extension": ".py",
   "mimetype": "text/x-python",
   "name": "python",
   "nbconvert_exporter": "python",
   "pygments_lexer": "ipython2",
   "version": "2.7.6"
  }
 },
 "nbformat": 4,
 "nbformat_minor": 5
}
