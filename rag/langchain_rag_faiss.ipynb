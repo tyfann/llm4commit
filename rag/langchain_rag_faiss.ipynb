{
 "cells": [
  {
   "cell_type": "code",
   "id": "initial_id",
   "metadata": {
    "collapsed": true,
    "ExecuteTime": {
     "end_time": "2024-05-28T13:51:48.745793Z",
     "start_time": "2024-05-28T13:51:48.731755Z"
    }
   },
   "source": [
    "from langchain_community.document_loaders import TextLoader\n",
    "from langchain_community.vectorstores import FAISS\n",
    "from langchain_community.document_loaders import JSONLoader\n",
    "from langchain.embeddings import HuggingFaceEmbeddings\n",
    "import json"
   ],
   "outputs": [],
   "execution_count": 5
  },
  {
   "metadata": {
    "ExecuteTime": {
     "end_time": "2024-05-28T13:51:49.820828Z",
     "start_time": "2024-05-28T13:51:49.333333Z"
    }
   },
   "cell_type": "code",
   "source": [
    "diff_loader = JSONLoader(\n",
    "    file_path='../data/final_preprocessed_data/js_rag_db_data_300.json',\n",
    "    jq_schema='.[].diff',\n",
    "    text_content=False)\n",
    "\n",
    "diff_data = diff_loader.load()"
   ],
   "id": "289a05846f95718e",
   "outputs": [],
   "execution_count": 6
  },
  {
   "metadata": {
    "ExecuteTime": {
     "end_time": "2024-05-28T13:47:33.200855Z",
     "start_time": "2024-05-28T13:47:24.181491Z"
    }
   },
   "cell_type": "code",
   "source": [
    "# Define the path to the pre-trained model you want to use\n",
    "modelPath = \"mixedbread-ai/mxbai-embed-large-v1\"\n",
    "\n",
    "# Create a dictionary with model configuration options, specifying to use the CPU for computations\n",
    "model_kwargs = {'device':'cuda', 'trust_remote_code': True}\n",
    "\n",
    "# Create a dictionary with encoding options, specifically setting 'normalize_embeddings' to False\n",
    "encode_kwargs = {'normalize_embeddings': True}\n",
    "\n",
    "# Initialize an instance of HuggingFaceEmbeddings with the specified parameters\n",
    "embeddings = HuggingFaceEmbeddings(\n",
    "    cache_folder = '../models',\n",
    "    \n",
    "    model_name=modelPath,     # Provide the pre-trained model's path\n",
    "    model_kwargs=model_kwargs, # Pass the model configuration options\n",
    "    encode_kwargs=encode_kwargs # Pass the encoding options\n",
    ")"
   ],
   "id": "8b9d3501f22b0f4f",
   "outputs": [],
   "execution_count": 3
  },
  {
   "metadata": {
    "ExecuteTime": {
     "end_time": "2024-05-28T13:53:44.866989Z",
     "start_time": "2024-05-28T13:51:53.823997Z"
    }
   },
   "cell_type": "code",
   "source": "db = FAISS.from_documents(diff_data, embeddings)",
   "id": "e1686b1f144268e1",
   "outputs": [],
   "execution_count": 7
  },
  {
   "metadata": {
    "ExecuteTime": {
     "end_time": "2024-05-28T14:11:52.622481Z",
     "start_time": "2024-05-28T14:11:52.530332Z"
    }
   },
   "cell_type": "code",
   "source": "db.save_local('./faiss_final_js_rag_single_diff_db_300')",
   "id": "d6405615fecd204",
   "outputs": [],
   "execution_count": 8
  },
  {
   "metadata": {
    "ExecuteTime": {
     "end_time": "2024-05-28T14:13:45.587326Z",
     "start_time": "2024-05-28T14:13:45.137463Z"
    }
   },
   "cell_type": "code",
   "source": "db = FAISS.load_local('./faiss_final_js_rag_single_diff_db_300', embeddings=embeddings, allow_dangerous_deserialization=True)",
   "id": "73cbed133c8f688a",
   "outputs": [],
   "execution_count": 10
  },
  {
   "metadata": {
    "ExecuteTime": {
     "end_time": "2024-05-28T14:14:24.432994Z",
     "start_time": "2024-05-28T14:14:24.373084Z"
    }
   },
   "cell_type": "code",
   "source": [
    "test_diff_loader = JSONLoader(\n",
    "    file_path='../data/final_preprocessed_data/js_baseline_test_data_300.json',\n",
    "    jq_schema='.[].diff',\n",
    "    text_content=False)\n",
    "\n",
    "test_diff_data = test_diff_loader.load()[:1000]\n",
    "\n",
    "with open('../data/final_preprocessed_data/js_baseline_test_data_300.json', 'r', encoding='UTF-8') as f:\n",
    "    test_data = json.load(f)[:1000]"
   ],
   "id": "65cb162bf99d9bdd",
   "outputs": [],
   "execution_count": 13
  },
  {
   "metadata": {
    "ExecuteTime": {
     "end_time": "2024-05-28T14:15:49.177722Z",
     "start_time": "2024-05-28T14:15:48.886546Z"
    }
   },
   "cell_type": "code",
   "source": "db.similarity_search_with_relevance_scores(test_diff_data[0].page_content)",
   "id": "d311d8a1ad989e52",
   "outputs": [
    {
     "data": {
      "text/plain": [
       "[(Document(page_content='diff --git a/protocols/delegate/test/Delegate-unit.js b/protocols/delegate/test/Delegate-unit.js @@ -181,7 +181,8 @@ contract(\\'Delegate Unit Tests\\', async accounts => {\\nPRICE_COEF,\\nEXP,\\n{ from: notOwner }\\n- )\\n+ ),\\n+ \"Ownable: caller is not the owner\"\\n)\\n})\\n', metadata={'source': 'D:\\\\TU Delft\\\\thesis\\\\LLM_CMG\\\\llm4commit\\\\data\\\\final_preprocessed_data\\\\js_rag_db_data_300.json', 'seq_num': 1960}),\n",
       "  0.8124383897847589),\n",
       " (Document(page_content=\"diff --git a/tests/unit/utils.test.js b/tests/unit/utils.test.js @@ -66,7 +66,7 @@ suite('utils', function() {\\nvar owner = 'test';\\nvar entity = {\\ncomponents: {\\n- 'networked-remote' : { data: { owner: owner}}\\n+ 'networked' : { data: { owner: owner}}\\n}\\n};\\n\", metadata={'source': 'D:\\\\TU Delft\\\\thesis\\\\LLM_CMG\\\\llm4commit\\\\data\\\\final_preprocessed_data\\\\js_rag_db_data_300.json', 'seq_num': 8875}),\n",
       "  0.8062819574759241),\n",
       " (Document(page_content=\"diff --git a/examples/peer/test/Peer.js b/examples/peer/test/Peer.js @@ -54,7 +54,6 @@ contract('Peer', async accounts => {\\nalicePeer = await Peer.new(swapAddress, aliceAddress, {\\nfrom: aliceAddress,\\n})\\n- await alicePeer.setSwapContract(swapAddress)\\n})\\n})\\n\", metadata={'source': 'D:\\\\TU Delft\\\\thesis\\\\LLM_CMG\\\\llm4commit\\\\data\\\\final_preprocessed_data\\\\js_rag_db_data_300.json', 'seq_num': 1957}),\n",
       "  0.7774012510023192),\n",
       " (Document(page_content=\"diff --git a/app/components/Features/SimplePermissionsForm/index.js b/app/components/Features/SimplePermissionsForm/index.js @@ -45,7 +45,7 @@ const makeTransaction = values => {\\naccount: values.owner,\\npermission: 'owner',\\nparent: '',\\n- auth: values.activeKey,\\n+ auth: values.ownerKey,\\n},\\n});\\n}\\n\", metadata={'source': 'D:\\\\TU Delft\\\\thesis\\\\LLM_CMG\\\\llm4commit\\\\data\\\\final_preprocessed_data\\\\js_rag_db_data_300.json', 'seq_num': 716}),\n",
       "  0.7721396384342192)]"
      ]
     },
     "execution_count": 15,
     "metadata": {},
     "output_type": "execute_result"
    }
   ],
   "execution_count": 15
  },
  {
   "metadata": {},
   "cell_type": "code",
   "outputs": [],
   "execution_count": null,
   "source": "",
   "id": "5512d219aa7033be"
  }
 ],
 "metadata": {
  "kernelspec": {
   "display_name": "Python 3",
   "language": "python",
   "name": "python3"
  },
  "language_info": {
   "codemirror_mode": {
    "name": "ipython",
    "version": 2
   },
   "file_extension": ".py",
   "mimetype": "text/x-python",
   "name": "python",
   "nbconvert_exporter": "python",
   "pygments_lexer": "ipython2",
   "version": "2.7.6"
  }
 },
 "nbformat": 4,
 "nbformat_minor": 5
}
