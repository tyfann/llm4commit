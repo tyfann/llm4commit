{
 "cells": [
  {
   "cell_type": "code",
   "id": "initial_id",
   "metadata": {
    "collapsed": true,
    "ExecuteTime": {
     "end_time": "2024-05-28T13:12:03.291543Z",
     "start_time": "2024-05-28T13:12:01.202038Z"
    }
   },
   "source": [
    "from langchain_community.document_loaders import JSONLoader\n",
    "from tqdm.auto import tqdm\n",
    "import json\n",
    "import pickle\n",
    "from langchain.text_splitter import Language\n",
    "from langchain.text_splitter import RecursiveCharacterTextSplitter\n",
    "from langchain.embeddings import HuggingFaceEmbeddings\n",
    "from langchain_community.vectorstores import Chroma\n",
    "import weaviate\n",
    "from langchain_weaviate.vectorstores import WeaviateVectorStore"
   ],
   "execution_count": 1,
   "outputs": []
  },
  {
   "metadata": {
    "ExecuteTime": {
     "end_time": "2024-05-28T13:12:36.032118Z",
     "start_time": "2024-05-28T13:12:36.010445Z"
    }
   },
   "cell_type": "code",
   "source": "from langchain.vectorstores.weaviate import Weaviate",
   "id": "77ba2fe134987812",
   "execution_count": 3,
   "outputs": []
  },
  {
   "metadata": {
    "ExecuteTime": {
     "end_time": "2024-05-28T13:30:53.116945Z",
     "start_time": "2024-05-28T13:30:52.540564Z"
    }
   },
   "cell_type": "code",
   "source": [
    "diff_loader = JSONLoader(\n",
    "    file_path='../data/final_preprocessed_data/js_rag_db_data_300.json',\n",
    "    jq_schema='.[].diff',\n",
    "    text_content=False)\n",
    "\n",
    "diff_data = diff_loader.load()"
   ],
   "id": "7c80324516d025ac",
   "execution_count": 18,
   "outputs": []
  },
  {
   "metadata": {
    "ExecuteTime": {
     "end_time": "2024-05-28T07:28:26.535099Z",
     "start_time": "2024-05-28T07:28:26.254446Z"
    }
   },
   "cell_type": "code",
   "source": [
    "msg_loader = JSONLoader(\n",
    "    file_path='../data/final_preprocessed_data/js_rag_db_data_300.json',\n",
    "    jq_schema='.[].msg',\n",
    "    text_content=False)\n",
    "\n",
    "msg_data = msg_loader.load()"
   ],
   "id": "f765fd11e8808278",
   "execution_count": 4,
   "outputs": []
  },
  {
   "metadata": {
    "ExecuteTime": {
     "end_time": "2024-05-28T13:12:04.110209Z",
     "start_time": "2024-05-28T13:12:03.294543Z"
    }
   },
   "cell_type": "code",
   "source": [
    "import os\n",
    "client = weaviate.connect_to_wcs(\n",
    "    cluster_url=\"https://js-sandbox-rehprp85.weaviate.network\",  # Replace with your Weaviate Cloud URL\n",
    "    auth_credentials=weaviate.auth.AuthApiKey(\"zUqPuPT0LqQH6JuGa8CkguOuomjJS8NTholY\"),  # Replace with your Weaviate Cloud key\n",
    ")\n",
    "\n",
    "print(client.is_ready())"
   ],
   "id": "88248d0b238cbc1c",
   "execution_count": 2,
   "outputs": []
  },
  {
   "metadata": {
    "ExecuteTime": {
     "end_time": "2024-05-28T13:14:32.533767Z",
     "start_time": "2024-05-28T13:14:31.994783Z"
    }
   },
   "cell_type": "code",
   "source": [
    "client = weaviate.Client(\n",
    "    url = \"https://js-sandbox-rehprp85.weaviate.network\",  # Replace with your Weaviate endpoint\n",
    "    auth_client_secret=weaviate.auth.AuthApiKey(api_key=\"zUqPuPT0LqQH6JuGa8CkguOuomjJS8NTholY\"),  # Replace with your Weaviate instance API key\n",
    ")"
   ],
   "id": "e7d743f81dbfc99c",
   "execution_count": 5,
   "outputs": []
  },
  {
   "metadata": {},
   "cell_type": "code",
   "execution_count": 6,
   "source": "weaviate_client = weaviate.connect_to_local()",
   "id": "26ba31efa2af1fd0",
   "outputs": []
  },
  {
   "metadata": {
    "ExecuteTime": {
     "end_time": "2024-05-28T13:16:37.936059Z",
     "start_time": "2024-05-28T13:16:29.275849Z"
    }
   },
   "cell_type": "code",
   "source": [
    "# Define the path to the pre-trained model you want to use\n",
    "modelPath = \"mixedbread-ai/mxbai-embed-large-v1\"\n",
    "\n",
    "# Create a dictionary with model configuration options, specifying to use the CPU for computations\n",
    "model_kwargs = {'device':'cuda', 'trust_remote_code': True}\n",
    "\n",
    "# Create a dictionary with encoding options, specifically setting 'normalize_embeddings' to False\n",
    "encode_kwargs = {'normalize_embeddings': True}\n",
    "\n",
    "# Initialize an instance of HuggingFaceEmbeddings with the specified parameters\n",
    "embeddings = HuggingFaceEmbeddings(\n",
    "    cache_folder = '../models',\n",
    "    \n",
    "    model_name=modelPath,     # Provide the pre-trained model's path\n",
    "    model_kwargs=model_kwargs, # Pass the model configuration options\n",
    "    encode_kwargs=encode_kwargs # Pass the encoding options\n",
    ")"
   ],
   "id": "4b2ded40657d83c2",
   "execution_count": 10,
   "outputs": []
  },
  {
   "metadata": {
    "ExecuteTime": {
     "end_time": "2024-05-28T13:32:10.097055Z",
     "start_time": "2024-05-28T13:32:09.990617Z"
    }
   },
   "cell_type": "code",
   "source": "vectorstore = Weaviate.from_texts(diff_data, embedding=embeddings, client=client, index_name=\"LangChain_3dc65c162ea84f5289e883328db194ba\")",
   "id": "105dfcb222cf6bcb",
   "execution_count": 19,
   "outputs": []
  },
  {
   "metadata": {
    "ExecuteTime": {
     "end_time": "2024-05-28T08:31:15.693246Z",
     "start_time": "2024-05-28T08:29:10.872670Z"
    }
   },
   "cell_type": "code",
   "source": "db = WeaviateVectorStore.from_documents(diff_data, embeddings, client=client)",
   "id": "5bb856b47dfc1840",
   "execution_count": 31,
   "outputs": []
  },
  {
   "metadata": {
    "ExecuteTime": {
     "end_time": "2024-05-28T12:57:12.406071Z",
     "start_time": "2024-05-28T12:57:12.387326Z"
    }
   },
   "cell_type": "code",
   "source": "client.collections.get('LangChain_3dc65c162ea84f5289e883328db194ba')",
   "id": "7dad7d44c1d7c6e4",
   "execution_count": 41,
   "outputs": []
  },
  {
   "metadata": {
    "ExecuteTime": {
     "end_time": "2024-05-28T13:15:18.717325Z",
     "start_time": "2024-05-28T13:15:18.637990Z"
    }
   },
   "cell_type": "code",
   "source": [
    "test_diff_loader = JSONLoader(\n",
    "    file_path='../data/final_preprocessed_data/js_baseline_test_data_300.json',\n",
    "    jq_schema='.[].diff',\n",
    "    text_content=False)\n",
    "\n",
    "test_diff_data = test_diff_loader.load()[:1000]\n",
    "\n",
    "with open('../data/final_preprocessed_data/js_baseline_test_data_300.json', 'r', encoding='UTF-8') as f:\n",
    "    test_data = json.load(f)[:1000]"
   ],
   "id": "4ae62bd59e9a036d",
   "execution_count": 7,
   "outputs": []
  },
  {
   "metadata": {
    "ExecuteTime": {
     "end_time": "2024-05-28T13:25:52.053998Z",
     "start_time": "2024-05-28T13:25:51.635475Z"
    }
   },
   "cell_type": "code",
   "source": "vectorstore.similarity_search_with_relevance_scores(test_diff_data[2].page_content)",
   "id": "bfcd00e1269a830",
   "execution_count": 16,
   "outputs": []
  },
  {
   "metadata": {
    "ExecuteTime": {
     "end_time": "2024-05-28T07:41:26.906701Z",
     "start_time": "2024-05-28T07:41:26.575934Z"
    }
   },
   "cell_type": "code",
   "source": "result = db.similarity_search_with_relevance_scores(test_diff_data[2].page_content)",
   "id": "2d9de68b50bc88c3",
   "execution_count": 12,
   "outputs": []
  },
  {
   "metadata": {
    "ExecuteTime": {
     "end_time": "2024-05-28T07:43:51.296211Z",
     "start_time": "2024-05-28T07:43:51.028015Z"
    }
   },
   "cell_type": "code",
   "source": [
    "retriever = db.as_retriever()\n",
    "retriever.invoke(test_diff_data[2].page_content)[0]"
   ],
   "id": "ee487a0d050c74f",
   "execution_count": 16,
   "outputs": []
  },
  {
   "metadata": {
    "ExecuteTime": {
     "end_time": "2024-05-28T07:44:52.916075Z",
     "start_time": "2024-05-28T07:44:52.902560Z"
    }
   },
   "cell_type": "code",
   "source": [
    "deb = []\n",
    "deb.append(None)\n",
    "deb.append(1)\n",
    "deb"
   ],
   "id": "af9aed4d03d2ef82",
   "execution_count": 17,
   "outputs": []
  },
  {
   "metadata": {
    "ExecuteTime": {
     "end_time": "2024-05-28T07:45:58.723248Z",
     "start_time": "2024-05-28T07:45:25.707036Z"
    }
   },
   "cell_type": "code",
   "source": [
    "# db = Chroma(persist_directory=\"./final_js_rag_single_diff_db_300\", embedding_function=embeddings)\n",
    "retriever = db.as_retriever()\n",
    "similar_diff = []\n",
    "for index, diff_doc in tqdm(enumerate(test_diff_data), total=len(test_diff_data), desc=\"Processing documents\"):\n",
    "    # documents = splitters[1].split_documents([diff_doc])\n",
    "    candidates = db.similarity_search_with_relevance_scores(diff_doc.page_content)\n",
    "    if candidates[0][1]>=0.8:\n",
    "        # similar_diff.append(retriever.invoke(diff_doc.page_content)[0])\n",
    "        similar_diff.append(candidates[0][0])\n",
    "        print(index)\n",
    "    else:\n",
    "        similar_diff.append(None)\n",
    "    # similar_diff.append(similarity_search(documents, db))"
   ],
   "id": "ffbb9cef916c66c6",
   "execution_count": 18,
   "outputs": []
  },
  {
   "metadata": {
    "ExecuteTime": {
     "end_time": "2024-05-27T21:36:11.467594Z",
     "start_time": "2024-05-27T21:36:11.437833Z"
    }
   },
   "cell_type": "code",
   "source": "msg_data[similar_diff[0].metadata['seq_num'] - 1]",
   "id": "ac22344e8044ce0a",
   "execution_count": 29,
   "outputs": []
  },
  {
   "metadata": {
    "ExecuteTime": {
     "end_time": "2024-05-27T21:36:32.927483Z",
     "start_time": "2024-05-27T21:36:32.898459Z"
    }
   },
   "cell_type": "code",
   "source": [
    "\n",
    "data = []\n",
    "\n",
    "for sim_diff, test_diff in zip(similar_diff, test_data):\n",
    "    item = {'org_diff': test_diff['diff'],\n",
    "            'org_msg': test_diff['msg'],\n",
    "            'sim_msg': msg_data[int(sim_diff.metadata['seq_num']-1)].page_content,\n",
    "            # 'sim_msg': msg_data[sim_diff-1].page_content,\n",
    "            # 'sim_diff': diff_data[sim_diff-1].page_content}\n",
    "            'sim_diff': diff_data[int(sim_diff.metadata['seq_num']-1)].page_content}\n",
    "    data.append(item)\n",
    "    \n",
    "# Write the data to a JSON file\n",
    "with open('../data/final_preprocessed_data/js_baseline/js_baseline_weaviate_rag_300_prompt.json', 'w', encoding='UTF-8') as f:\n",
    "    json.dump(data, f, ensure_ascii=False, indent=4)"
   ],
   "id": "15571817320dbf7b",
   "execution_count": 30,
   "outputs": []
  },
  {
   "metadata": {
    "ExecuteTime": {
     "end_time": "2024-05-27T21:31:52.342804Z",
     "start_time": "2024-05-27T21:31:52.334964Z"
    }
   },
   "cell_type": "code",
   "source": "test_diff_data[2]",
   "id": "d94a1ed67016de86",
   "execution_count": 19,
   "outputs": []
  },
  {
   "metadata": {
    "ExecuteTime": {
     "end_time": "2024-05-28T08:00:30.074467Z",
     "start_time": "2024-05-28T08:00:30.007023Z"
    }
   },
   "cell_type": "code",
   "source": [
    "with open('../../../LLM4Commit/experiment_data/all_result.json', 'r', encoding='UTF-8') as f:\n",
    "    llm4commit_data = json.load(f)"
   ],
   "id": "975778d8f2a3135e",
   "execution_count": 20,
   "outputs": []
  },
  {
   "metadata": {
    "ExecuteTime": {
     "end_time": "2024-05-28T08:01:12.946974Z",
     "start_time": "2024-05-28T08:01:12.926733Z"
    }
   },
   "cell_type": "code",
   "source": [
    "max_len = 0\n",
    "for data in llm4commit_data:\n",
    "    max_len = max(max_len, len(data['diff']))"
   ],
   "id": "77e560ee1897fca5",
   "execution_count": 21,
   "outputs": []
  },
  {
   "metadata": {
    "ExecuteTime": {
     "end_time": "2024-05-28T08:01:18.820502Z",
     "start_time": "2024-05-28T08:01:18.803502Z"
    }
   },
   "cell_type": "code",
   "source": "max_len",
   "id": "1127e22d14afc244",
   "execution_count": 22,
   "outputs": []
  },
  {
   "metadata": {
    "ExecuteTime": {
     "end_time": "2024-05-28T08:04:47.626743Z",
     "start_time": "2024-05-28T08:04:47.610745Z"
    }
   },
   "cell_type": "code",
   "source": "len(llm4commit_data)",
   "id": "a41c8f15cc58d8e6",
   "execution_count": 23,
   "outputs": []
  },
  {
   "metadata": {
    "ExecuteTime": {
     "end_time": "2024-05-28T08:11:06.483037Z",
     "start_time": "2024-05-28T08:11:06.464038Z"
    }
   },
   "cell_type": "code",
   "source": "llm4commit_data = llm4commit_data[:100]",
   "id": "1635cbe2f4bd8b4e",
   "execution_count": 24,
   "outputs": []
  },
  {
   "metadata": {},
   "cell_type": "code",
   "execution_count": null,
   "source": "",
   "id": "1f42816248e41472",
   "outputs": []
  }
 ],
 "metadata": {
  "kernelspec": {
   "display_name": "Python 3",
   "language": "python",
   "name": "python3"
  },
  "language_info": {
   "codemirror_mode": {
    "name": "ipython",
    "version": 2
   },
   "file_extension": ".py",
   "mimetype": "text/x-python",
   "name": "python",
   "nbconvert_exporter": "python",
   "pygments_lexer": "ipython2",
   "version": "2.7.6"
  }
 },
 "nbformat": 4,
 "nbformat_minor": 5
}
