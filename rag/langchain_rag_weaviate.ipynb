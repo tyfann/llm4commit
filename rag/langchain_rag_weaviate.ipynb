{
 "cells": [
  {
   "cell_type": "code",
   "id": "initial_id",
   "metadata": {
    "collapsed": true,
    "ExecuteTime": {
     "end_time": "2024-05-28T13:12:03.291543Z",
     "start_time": "2024-05-28T13:12:01.202038Z"
    }
   },
   "source": [
    "from langchain_community.document_loaders import JSONLoader\n",
    "from tqdm.auto import tqdm\n",
    "import json\n",
    "import pickle\n",
    "from langchain.text_splitter import Language\n",
    "from langchain.text_splitter import RecursiveCharacterTextSplitter\n",
    "from langchain.embeddings import HuggingFaceEmbeddings\n",
    "from langchain_community.vectorstores import Chroma\n",
    "import weaviate\n",
    "from langchain_weaviate.vectorstores import WeaviateVectorStore"
   ],
   "outputs": [],
   "execution_count": 1
  },
  {
   "metadata": {
    "ExecuteTime": {
     "end_time": "2024-05-28T13:12:36.032118Z",
     "start_time": "2024-05-28T13:12:36.010445Z"
    }
   },
   "cell_type": "code",
   "source": "from langchain.vectorstores.weaviate import Weaviate",
   "id": "77ba2fe134987812",
   "outputs": [],
   "execution_count": 3
  },
  {
   "metadata": {
    "ExecuteTime": {
     "end_time": "2024-05-28T13:30:53.116945Z",
     "start_time": "2024-05-28T13:30:52.540564Z"
    }
   },
   "cell_type": "code",
   "source": [
    "diff_loader = JSONLoader(\n",
    "    file_path='../data/final_preprocessed_data/js_rag_db_data_300.json',\n",
    "    jq_schema='.[].diff',\n",
    "    text_content=False)\n",
    "\n",
    "diff_data = diff_loader.load()"
   ],
   "id": "7c80324516d025ac",
   "outputs": [],
   "execution_count": 18
  },
  {
   "metadata": {
    "ExecuteTime": {
     "end_time": "2024-05-28T07:28:26.535099Z",
     "start_time": "2024-05-28T07:28:26.254446Z"
    }
   },
   "cell_type": "code",
   "source": [
    "msg_loader = JSONLoader(\n",
    "    file_path='../data/final_preprocessed_data/js_rag_db_data_300.json',\n",
    "    jq_schema='.[].msg',\n",
    "    text_content=False)\n",
    "\n",
    "msg_data = msg_loader.load()"
   ],
   "id": "f765fd11e8808278",
   "outputs": [],
   "execution_count": 4
  },
  {
   "metadata": {
    "ExecuteTime": {
     "end_time": "2024-05-28T13:12:04.110209Z",
     "start_time": "2024-05-28T13:12:03.294543Z"
    }
   },
   "cell_type": "code",
   "source": [
    "import os\n",
    "client = weaviate.connect_to_wcs(\n",
    "    cluster_url=\"https://js-sandbox-rehprp85.weaviate.network\",  # Replace with your Weaviate Cloud URL\n",
    "    auth_credentials=weaviate.auth.AuthApiKey(\"zUqPuPT0LqQH6JuGa8CkguOuomjJS8NTholY\"),  # Replace with your Weaviate Cloud key\n",
    ")\n",
    "\n",
    "print(client.is_ready())"
   ],
   "id": "88248d0b238cbc1c",
   "outputs": [
    {
     "name": "stdout",
     "output_type": "stream",
     "text": [
      "True\n"
     ]
    }
   ],
   "execution_count": 2
  },
  {
   "metadata": {
    "ExecuteTime": {
     "end_time": "2024-05-28T13:14:32.533767Z",
     "start_time": "2024-05-28T13:14:31.994783Z"
    }
   },
   "cell_type": "code",
   "source": [
    "client = weaviate.Client(\n",
    "    url = \"https://js-sandbox-rehprp85.weaviate.network\",  # Replace with your Weaviate endpoint\n",
    "    auth_client_secret=weaviate.auth.AuthApiKey(api_key=\"zUqPuPT0LqQH6JuGa8CkguOuomjJS8NTholY\"),  # Replace with your Weaviate instance API key\n",
    ")"
   ],
   "id": "e7d743f81dbfc99c",
   "outputs": [
    {
     "name": "stderr",
     "output_type": "stream",
     "text": [
      "C:\\Users\\tyfann\\anaconda3\\envs\\llm4commit\\lib\\site-packages\\weaviate\\warnings.py:162: DeprecationWarning: Dep016: Python client v3 `weaviate.Client(...)` connections and methods are deprecated. Update\n",
      "            your code to use Python client v4 `weaviate.WeaviateClient` connections and methods.\n",
      "\n",
      "            For Python Client v4 usage, see: https://weaviate.io/developers/weaviate/client-libraries/python\n",
      "            For code migration, see: https://weaviate.io/developers/weaviate/client-libraries/python/v3_v4_migration\n",
      "            \n",
      "  warnings.warn(\n"
     ]
    }
   ],
   "execution_count": 5
  },
  {
   "metadata": {},
   "cell_type": "code",
   "outputs": [],
   "execution_count": 6,
   "source": "weaviate_client = weaviate.connect_to_local()",
   "id": "26ba31efa2af1fd0"
  },
  {
   "metadata": {
    "ExecuteTime": {
     "end_time": "2024-05-28T13:16:37.936059Z",
     "start_time": "2024-05-28T13:16:29.275849Z"
    }
   },
   "cell_type": "code",
   "source": [
    "# Define the path to the pre-trained model you want to use\n",
    "modelPath = \"mixedbread-ai/mxbai-embed-large-v1\"\n",
    "\n",
    "# Create a dictionary with model configuration options, specifying to use the CPU for computations\n",
    "model_kwargs = {'device':'cuda', 'trust_remote_code': True}\n",
    "\n",
    "# Create a dictionary with encoding options, specifically setting 'normalize_embeddings' to False\n",
    "encode_kwargs = {'normalize_embeddings': True}\n",
    "\n",
    "# Initialize an instance of HuggingFaceEmbeddings with the specified parameters\n",
    "embeddings = HuggingFaceEmbeddings(\n",
    "    cache_folder = '../models',\n",
    "    \n",
    "    model_name=modelPath,     # Provide the pre-trained model's path\n",
    "    model_kwargs=model_kwargs, # Pass the model configuration options\n",
    "    encode_kwargs=encode_kwargs # Pass the encoding options\n",
    ")"
   ],
   "id": "4b2ded40657d83c2",
   "outputs": [
    {
     "name": "stderr",
     "output_type": "stream",
     "text": [
      "C:\\Users\\tyfann\\anaconda3\\envs\\llm4commit\\lib\\site-packages\\torch\\__init__.py:1427: ResourceWarning: unclosed <ssl.SSLSocket fd=584, family=AddressFamily.AF_INET, type=SocketKind.SOCK_STREAM, proto=0, laddr=('192.168.0.160', 11609), raddr=('34.149.137.116', 443)>\n",
      "  _C._initExtension(manager_path())\n",
      "ResourceWarning: Enable tracemalloc to get the object allocation traceback\n"
     ]
    }
   ],
   "execution_count": 10
  },
  {
   "metadata": {
    "ExecuteTime": {
     "end_time": "2024-05-28T13:32:10.097055Z",
     "start_time": "2024-05-28T13:32:09.990617Z"
    }
   },
   "cell_type": "code",
   "source": "vectorstore = Weaviate.from_texts(diff_data, embedding=embeddings, client=client, index_name=\"LangChain_3dc65c162ea84f5289e883328db194ba\")",
   "id": "105dfcb222cf6bcb",
   "outputs": [
    {
     "ename": "AttributeError",
     "evalue": "'Document' object has no attribute 'replace'",
     "output_type": "error",
     "traceback": [
      "\u001B[1;31m---------------------------------------------------------------------------\u001B[0m",
      "\u001B[1;31mAttributeError\u001B[0m                            Traceback (most recent call last)",
      "Cell \u001B[1;32mIn[19], line 1\u001B[0m\n\u001B[1;32m----> 1\u001B[0m vectorstore \u001B[38;5;241m=\u001B[39m \u001B[43mWeaviate\u001B[49m\u001B[38;5;241;43m.\u001B[39;49m\u001B[43mfrom_texts\u001B[49m\u001B[43m(\u001B[49m\u001B[43mdiff_data\u001B[49m\u001B[43m,\u001B[49m\u001B[43m \u001B[49m\u001B[43membedding\u001B[49m\u001B[38;5;241;43m=\u001B[39;49m\u001B[43membeddings\u001B[49m\u001B[43m,\u001B[49m\u001B[43m \u001B[49m\u001B[43mclient\u001B[49m\u001B[38;5;241;43m=\u001B[39;49m\u001B[43mclient\u001B[49m\u001B[43m,\u001B[49m\u001B[43m \u001B[49m\u001B[43mindex_name\u001B[49m\u001B[38;5;241;43m=\u001B[39;49m\u001B[38;5;124;43m\"\u001B[39;49m\u001B[38;5;124;43mLangChain_3dc65c162ea84f5289e883328db194ba\u001B[39;49m\u001B[38;5;124;43m\"\u001B[39;49m\u001B[43m)\u001B[49m\n",
      "File \u001B[1;32m~\\anaconda3\\envs\\llm4commit\\lib\\site-packages\\langchain_community\\vectorstores\\weaviate.py:468\u001B[0m, in \u001B[0;36mWeaviate.from_texts\u001B[1;34m(cls, texts, embedding, metadatas, client, weaviate_url, weaviate_api_key, batch_size, index_name, text_key, by_text, relevance_score_fn, **kwargs)\u001B[0m\n\u001B[0;32m    465\u001B[0m \u001B[38;5;28;01mif\u001B[39;00m \u001B[38;5;129;01mnot\u001B[39;00m client\u001B[38;5;241m.\u001B[39mschema\u001B[38;5;241m.\u001B[39mexists(index_name):\n\u001B[0;32m    466\u001B[0m     client\u001B[38;5;241m.\u001B[39mschema\u001B[38;5;241m.\u001B[39mcreate_class(schema)\n\u001B[1;32m--> 468\u001B[0m embeddings \u001B[38;5;241m=\u001B[39m \u001B[43membedding\u001B[49m\u001B[38;5;241;43m.\u001B[39;49m\u001B[43membed_documents\u001B[49m\u001B[43m(\u001B[49m\u001B[43mtexts\u001B[49m\u001B[43m)\u001B[49m \u001B[38;5;28;01mif\u001B[39;00m embedding \u001B[38;5;28;01melse\u001B[39;00m \u001B[38;5;28;01mNone\u001B[39;00m\n\u001B[0;32m    469\u001B[0m attributes \u001B[38;5;241m=\u001B[39m \u001B[38;5;28mlist\u001B[39m(metadatas[\u001B[38;5;241m0\u001B[39m]\u001B[38;5;241m.\u001B[39mkeys()) \u001B[38;5;28;01mif\u001B[39;00m metadatas \u001B[38;5;28;01melse\u001B[39;00m \u001B[38;5;28;01mNone\u001B[39;00m\n\u001B[0;32m    471\u001B[0m \u001B[38;5;66;03m# If the UUID of one of the objects already exists\u001B[39;00m\n\u001B[0;32m    472\u001B[0m \u001B[38;5;66;03m# then the existing object will be replaced by the new object.\u001B[39;00m\n",
      "File \u001B[1;32m~\\anaconda3\\envs\\llm4commit\\lib\\site-packages\\langchain_community\\embeddings\\huggingface.py:92\u001B[0m, in \u001B[0;36mHuggingFaceEmbeddings.embed_documents\u001B[1;34m(self, texts)\u001B[0m\n\u001B[0;32m     82\u001B[0m \u001B[38;5;250m\u001B[39m\u001B[38;5;124;03m\"\"\"Compute doc embeddings using a HuggingFace transformer model.\u001B[39;00m\n\u001B[0;32m     83\u001B[0m \n\u001B[0;32m     84\u001B[0m \u001B[38;5;124;03mArgs:\u001B[39;00m\n\u001B[1;32m   (...)\u001B[0m\n\u001B[0;32m     88\u001B[0m \u001B[38;5;124;03m    List of embeddings, one for each text.\u001B[39;00m\n\u001B[0;32m     89\u001B[0m \u001B[38;5;124;03m\"\"\"\u001B[39;00m\n\u001B[0;32m     90\u001B[0m \u001B[38;5;28;01mimport\u001B[39;00m \u001B[38;5;21;01msentence_transformers\u001B[39;00m\n\u001B[1;32m---> 92\u001B[0m texts \u001B[38;5;241m=\u001B[39m \u001B[38;5;28;43mlist\u001B[39;49m\u001B[43m(\u001B[49m\u001B[38;5;28;43mmap\u001B[39;49m\u001B[43m(\u001B[49m\u001B[38;5;28;43;01mlambda\u001B[39;49;00m\u001B[43m \u001B[49m\u001B[43mx\u001B[49m\u001B[43m:\u001B[49m\u001B[43m \u001B[49m\u001B[43mx\u001B[49m\u001B[38;5;241;43m.\u001B[39;49m\u001B[43mreplace\u001B[49m\u001B[43m(\u001B[49m\u001B[38;5;124;43m\"\u001B[39;49m\u001B[38;5;130;43;01m\\n\u001B[39;49;00m\u001B[38;5;124;43m\"\u001B[39;49m\u001B[43m,\u001B[49m\u001B[43m \u001B[49m\u001B[38;5;124;43m\"\u001B[39;49m\u001B[38;5;124;43m \u001B[39;49m\u001B[38;5;124;43m\"\u001B[39;49m\u001B[43m)\u001B[49m\u001B[43m,\u001B[49m\u001B[43m \u001B[49m\u001B[43mtexts\u001B[49m\u001B[43m)\u001B[49m\u001B[43m)\u001B[49m\n\u001B[0;32m     93\u001B[0m \u001B[38;5;28;01mif\u001B[39;00m \u001B[38;5;28mself\u001B[39m\u001B[38;5;241m.\u001B[39mmulti_process:\n\u001B[0;32m     94\u001B[0m     pool \u001B[38;5;241m=\u001B[39m \u001B[38;5;28mself\u001B[39m\u001B[38;5;241m.\u001B[39mclient\u001B[38;5;241m.\u001B[39mstart_multi_process_pool()\n",
      "File \u001B[1;32m~\\anaconda3\\envs\\llm4commit\\lib\\site-packages\\langchain_community\\embeddings\\huggingface.py:92\u001B[0m, in \u001B[0;36mHuggingFaceEmbeddings.embed_documents.<locals>.<lambda>\u001B[1;34m(x)\u001B[0m\n\u001B[0;32m     82\u001B[0m \u001B[38;5;250m\u001B[39m\u001B[38;5;124;03m\"\"\"Compute doc embeddings using a HuggingFace transformer model.\u001B[39;00m\n\u001B[0;32m     83\u001B[0m \n\u001B[0;32m     84\u001B[0m \u001B[38;5;124;03mArgs:\u001B[39;00m\n\u001B[1;32m   (...)\u001B[0m\n\u001B[0;32m     88\u001B[0m \u001B[38;5;124;03m    List of embeddings, one for each text.\u001B[39;00m\n\u001B[0;32m     89\u001B[0m \u001B[38;5;124;03m\"\"\"\u001B[39;00m\n\u001B[0;32m     90\u001B[0m \u001B[38;5;28;01mimport\u001B[39;00m \u001B[38;5;21;01msentence_transformers\u001B[39;00m\n\u001B[1;32m---> 92\u001B[0m texts \u001B[38;5;241m=\u001B[39m \u001B[38;5;28mlist\u001B[39m(\u001B[38;5;28mmap\u001B[39m(\u001B[38;5;28;01mlambda\u001B[39;00m x: \u001B[43mx\u001B[49m\u001B[38;5;241;43m.\u001B[39;49m\u001B[43mreplace\u001B[49m(\u001B[38;5;124m\"\u001B[39m\u001B[38;5;130;01m\\n\u001B[39;00m\u001B[38;5;124m\"\u001B[39m, \u001B[38;5;124m\"\u001B[39m\u001B[38;5;124m \u001B[39m\u001B[38;5;124m\"\u001B[39m), texts))\n\u001B[0;32m     93\u001B[0m \u001B[38;5;28;01mif\u001B[39;00m \u001B[38;5;28mself\u001B[39m\u001B[38;5;241m.\u001B[39mmulti_process:\n\u001B[0;32m     94\u001B[0m     pool \u001B[38;5;241m=\u001B[39m \u001B[38;5;28mself\u001B[39m\u001B[38;5;241m.\u001B[39mclient\u001B[38;5;241m.\u001B[39mstart_multi_process_pool()\n",
      "\u001B[1;31mAttributeError\u001B[0m: 'Document' object has no attribute 'replace'"
     ]
    }
   ],
   "execution_count": 19
  },
  {
   "metadata": {
    "ExecuteTime": {
     "end_time": "2024-05-28T08:31:15.693246Z",
     "start_time": "2024-05-28T08:29:10.872670Z"
    }
   },
   "cell_type": "code",
   "source": "db = WeaviateVectorStore.from_documents(diff_data, embeddings, client=client)",
   "id": "5bb856b47dfc1840",
   "outputs": [],
   "execution_count": 31
  },
  {
   "metadata": {
    "ExecuteTime": {
     "end_time": "2024-05-28T12:57:12.406071Z",
     "start_time": "2024-05-28T12:57:12.387326Z"
    }
   },
   "cell_type": "code",
   "source": "client.collections.get('LangChain_3dc65c162ea84f5289e883328db194ba')",
   "id": "7dad7d44c1d7c6e4",
   "outputs": [
    {
     "data": {
      "text/plain": [
       "<weaviate.collections.data._DataCollection at 0x26561697040>"
      ]
     },
     "execution_count": 41,
     "metadata": {},
     "output_type": "execute_result"
    }
   ],
   "execution_count": 41
  },
  {
   "metadata": {
    "ExecuteTime": {
     "end_time": "2024-05-28T13:15:18.717325Z",
     "start_time": "2024-05-28T13:15:18.637990Z"
    }
   },
   "cell_type": "code",
   "source": [
    "test_diff_loader = JSONLoader(\n",
    "    file_path='../data/final_preprocessed_data/js_baseline_test_data_300.json',\n",
    "    jq_schema='.[].diff',\n",
    "    text_content=False)\n",
    "\n",
    "test_diff_data = test_diff_loader.load()[:1000]\n",
    "\n",
    "with open('../data/final_preprocessed_data/js_baseline_test_data_300.json', 'r', encoding='UTF-8') as f:\n",
    "    test_data = json.load(f)[:1000]"
   ],
   "id": "4ae62bd59e9a036d",
   "outputs": [],
   "execution_count": 7
  },
  {
   "metadata": {
    "ExecuteTime": {
     "end_time": "2024-05-28T13:25:52.053998Z",
     "start_time": "2024-05-28T13:25:51.635475Z"
    }
   },
   "cell_type": "code",
   "source": "vectorstore.similarity_search_with_relevance_scores(test_diff_data[2].page_content)",
   "id": "bfcd00e1269a830",
   "outputs": [
    {
     "ename": "ValueError",
     "evalue": "Error during query: [{'locations': [{'column': 6, 'line': 1}], 'message': 'Cannot query field \"Text\" on type \"GetObjectsObj\".', 'path': None}]",
     "output_type": "error",
     "traceback": [
      "\u001B[1;31m---------------------------------------------------------------------------\u001B[0m",
      "\u001B[1;31mValueError\u001B[0m                                Traceback (most recent call last)",
      "Cell \u001B[1;32mIn[16], line 1\u001B[0m\n\u001B[1;32m----> 1\u001B[0m \u001B[43mvectorstore\u001B[49m\u001B[38;5;241;43m.\u001B[39;49m\u001B[43msimilarity_search_with_relevance_scores\u001B[49m\u001B[43m(\u001B[49m\u001B[43mtest_diff_data\u001B[49m\u001B[43m[\u001B[49m\u001B[38;5;241;43m2\u001B[39;49m\u001B[43m]\u001B[49m\u001B[38;5;241;43m.\u001B[39;49m\u001B[43mpage_content\u001B[49m\u001B[43m)\u001B[49m\n",
      "File \u001B[1;32m~\\anaconda3\\envs\\llm4commit\\lib\\site-packages\\langchain_core\\vectorstores.py:323\u001B[0m, in \u001B[0;36mVectorStore.similarity_search_with_relevance_scores\u001B[1;34m(self, query, k, **kwargs)\u001B[0m\n\u001B[0;32m    307\u001B[0m \u001B[38;5;250m\u001B[39m\u001B[38;5;124;03m\"\"\"Return docs and relevance scores in the range [0, 1].\u001B[39;00m\n\u001B[0;32m    308\u001B[0m \n\u001B[0;32m    309\u001B[0m \u001B[38;5;124;03m0 is dissimilar, 1 is most similar.\u001B[39;00m\n\u001B[1;32m   (...)\u001B[0m\n\u001B[0;32m    319\u001B[0m \u001B[38;5;124;03m    List of Tuples of (doc, similarity_score)\u001B[39;00m\n\u001B[0;32m    320\u001B[0m \u001B[38;5;124;03m\"\"\"\u001B[39;00m\n\u001B[0;32m    321\u001B[0m score_threshold \u001B[38;5;241m=\u001B[39m kwargs\u001B[38;5;241m.\u001B[39mpop(\u001B[38;5;124m\"\u001B[39m\u001B[38;5;124mscore_threshold\u001B[39m\u001B[38;5;124m\"\u001B[39m, \u001B[38;5;28;01mNone\u001B[39;00m)\n\u001B[1;32m--> 323\u001B[0m docs_and_similarities \u001B[38;5;241m=\u001B[39m \u001B[38;5;28mself\u001B[39m\u001B[38;5;241m.\u001B[39m_similarity_search_with_relevance_scores(\n\u001B[0;32m    324\u001B[0m     query, k\u001B[38;5;241m=\u001B[39mk, \u001B[38;5;241m*\u001B[39m\u001B[38;5;241m*\u001B[39mkwargs\n\u001B[0;32m    325\u001B[0m )\n\u001B[0;32m    326\u001B[0m \u001B[38;5;28;01mif\u001B[39;00m \u001B[38;5;28many\u001B[39m(\n\u001B[0;32m    327\u001B[0m     similarity \u001B[38;5;241m<\u001B[39m \u001B[38;5;241m0.0\u001B[39m \u001B[38;5;129;01mor\u001B[39;00m similarity \u001B[38;5;241m>\u001B[39m \u001B[38;5;241m1.0\u001B[39m\n\u001B[0;32m    328\u001B[0m     \u001B[38;5;28;01mfor\u001B[39;00m _, similarity \u001B[38;5;129;01min\u001B[39;00m docs_and_similarities\n\u001B[0;32m    329\u001B[0m ):\n\u001B[0;32m    330\u001B[0m     warnings\u001B[38;5;241m.\u001B[39mwarn(\n\u001B[0;32m    331\u001B[0m         \u001B[38;5;124m\"\u001B[39m\u001B[38;5;124mRelevance scores must be between\u001B[39m\u001B[38;5;124m\"\u001B[39m\n\u001B[0;32m    332\u001B[0m         \u001B[38;5;124mf\u001B[39m\u001B[38;5;124m\"\u001B[39m\u001B[38;5;124m 0 and 1, got \u001B[39m\u001B[38;5;132;01m{\u001B[39;00mdocs_and_similarities\u001B[38;5;132;01m}\u001B[39;00m\u001B[38;5;124m\"\u001B[39m\n\u001B[0;32m    333\u001B[0m     )\n",
      "File \u001B[1;32m~\\anaconda3\\envs\\llm4commit\\lib\\site-packages\\langchain_core\\vectorstores.py:271\u001B[0m, in \u001B[0;36mVectorStore._similarity_search_with_relevance_scores\u001B[1;34m(self, query, k, **kwargs)\u001B[0m\n\u001B[0;32m    253\u001B[0m \u001B[38;5;250m\u001B[39m\u001B[38;5;124;03m\"\"\"\u001B[39;00m\n\u001B[0;32m    254\u001B[0m \u001B[38;5;124;03mDefault similarity search with relevance scores. Modify if necessary\u001B[39;00m\n\u001B[0;32m    255\u001B[0m \u001B[38;5;124;03min subclass.\u001B[39;00m\n\u001B[1;32m   (...)\u001B[0m\n\u001B[0;32m    268\u001B[0m \u001B[38;5;124;03m    List of Tuples of (doc, similarity_score)\u001B[39;00m\n\u001B[0;32m    269\u001B[0m \u001B[38;5;124;03m\"\"\"\u001B[39;00m\n\u001B[0;32m    270\u001B[0m relevance_score_fn \u001B[38;5;241m=\u001B[39m \u001B[38;5;28mself\u001B[39m\u001B[38;5;241m.\u001B[39m_select_relevance_score_fn()\n\u001B[1;32m--> 271\u001B[0m docs_and_scores \u001B[38;5;241m=\u001B[39m \u001B[38;5;28mself\u001B[39m\u001B[38;5;241m.\u001B[39msimilarity_search_with_score(query, k, \u001B[38;5;241m*\u001B[39m\u001B[38;5;241m*\u001B[39mkwargs)\n\u001B[0;32m    272\u001B[0m \u001B[38;5;28;01mreturn\u001B[39;00m [(doc, relevance_score_fn(score)) \u001B[38;5;28;01mfor\u001B[39;00m doc, score \u001B[38;5;129;01min\u001B[39;00m docs_and_scores]\n",
      "File \u001B[1;32m~\\anaconda3\\envs\\llm4commit\\lib\\site-packages\\langchain_community\\vectorstores\\weaviate.py:374\u001B[0m, in \u001B[0;36mWeaviate.similarity_search_with_score\u001B[1;34m(self, query, k, **kwargs)\u001B[0m\n\u001B[0;32m    366\u001B[0m     result \u001B[38;5;241m=\u001B[39m (\n\u001B[0;32m    367\u001B[0m         query_obj\u001B[38;5;241m.\u001B[39mwith_near_text(content)\n\u001B[0;32m    368\u001B[0m         \u001B[38;5;241m.\u001B[39mwith_limit(k)\n\u001B[0;32m    369\u001B[0m         \u001B[38;5;241m.\u001B[39mwith_additional(\u001B[38;5;124m\"\u001B[39m\u001B[38;5;124mvector\u001B[39m\u001B[38;5;124m\"\u001B[39m)\n\u001B[0;32m    370\u001B[0m         \u001B[38;5;241m.\u001B[39mdo()\n\u001B[0;32m    371\u001B[0m     )\n\u001B[0;32m    373\u001B[0m \u001B[38;5;28;01mif\u001B[39;00m \u001B[38;5;124m\"\u001B[39m\u001B[38;5;124merrors\u001B[39m\u001B[38;5;124m\"\u001B[39m \u001B[38;5;129;01min\u001B[39;00m result:\n\u001B[1;32m--> 374\u001B[0m     \u001B[38;5;28;01mraise\u001B[39;00m \u001B[38;5;167;01mValueError\u001B[39;00m(\u001B[38;5;124mf\u001B[39m\u001B[38;5;124m\"\u001B[39m\u001B[38;5;124mError during query: \u001B[39m\u001B[38;5;132;01m{\u001B[39;00mresult[\u001B[38;5;124m'\u001B[39m\u001B[38;5;124merrors\u001B[39m\u001B[38;5;124m'\u001B[39m]\u001B[38;5;132;01m}\u001B[39;00m\u001B[38;5;124m\"\u001B[39m)\n\u001B[0;32m    376\u001B[0m docs_and_scores \u001B[38;5;241m=\u001B[39m []\n\u001B[0;32m    377\u001B[0m \u001B[38;5;28;01mfor\u001B[39;00m res \u001B[38;5;129;01min\u001B[39;00m result[\u001B[38;5;124m\"\u001B[39m\u001B[38;5;124mdata\u001B[39m\u001B[38;5;124m\"\u001B[39m][\u001B[38;5;124m\"\u001B[39m\u001B[38;5;124mGet\u001B[39m\u001B[38;5;124m\"\u001B[39m][\u001B[38;5;28mself\u001B[39m\u001B[38;5;241m.\u001B[39m_index_name]:\n",
      "\u001B[1;31mValueError\u001B[0m: Error during query: [{'locations': [{'column': 6, 'line': 1}], 'message': 'Cannot query field \"Text\" on type \"GetObjectsObj\".', 'path': None}]"
     ]
    }
   ],
   "execution_count": 16
  },
  {
   "metadata": {
    "ExecuteTime": {
     "end_time": "2024-05-28T07:41:26.906701Z",
     "start_time": "2024-05-28T07:41:26.575934Z"
    }
   },
   "cell_type": "code",
   "source": "result = db.similarity_search_with_relevance_scores(test_diff_data[2].page_content)",
   "id": "2d9de68b50bc88c3",
   "outputs": [],
   "execution_count": 12
  },
  {
   "metadata": {
    "ExecuteTime": {
     "end_time": "2024-05-28T07:43:51.296211Z",
     "start_time": "2024-05-28T07:43:51.028015Z"
    }
   },
   "cell_type": "code",
   "source": [
    "retriever = db.as_retriever()\n",
    "retriever.invoke(test_diff_data[2].page_content)[0]"
   ],
   "id": "ee487a0d050c74f",
   "outputs": [
    {
     "data": {
      "text/plain": [
       "Document(page_content='diff --git a/scripts/release/release.js b/scripts/release/release.js @@ -5,5 +5,4 @@ const git = require(\"simple-git\")();\\nlet message = \"Release v\" + pkg.version;\\n// Commit and push to current branch\\n-git.commit(message, [\"dist\"]).push();\\n-\\n+git.commit(message, [\"dist\", \"package.json\"]).push();\\n', metadata={'seq_num': 10366.0, 'source': 'D:\\\\TU Delft\\\\thesis\\\\LLM_CMG\\\\llm4commit\\\\data\\\\final_preprocessed_data\\\\js_rag_db_data_300.json'})"
      ]
     },
     "execution_count": 16,
     "metadata": {},
     "output_type": "execute_result"
    }
   ],
   "execution_count": 16
  },
  {
   "metadata": {
    "ExecuteTime": {
     "end_time": "2024-05-28T07:44:52.916075Z",
     "start_time": "2024-05-28T07:44:52.902560Z"
    }
   },
   "cell_type": "code",
   "source": [
    "deb = []\n",
    "deb.append(None)\n",
    "deb.append(1)\n",
    "deb"
   ],
   "id": "af9aed4d03d2ef82",
   "outputs": [
    {
     "data": {
      "text/plain": [
       "[None, 1]"
      ]
     },
     "execution_count": 17,
     "metadata": {},
     "output_type": "execute_result"
    }
   ],
   "execution_count": 17
  },
  {
   "metadata": {
    "ExecuteTime": {
     "end_time": "2024-05-28T07:45:58.723248Z",
     "start_time": "2024-05-28T07:45:25.707036Z"
    }
   },
   "cell_type": "code",
   "source": [
    "# db = Chroma(persist_directory=\"./final_js_rag_single_diff_db_300\", embedding_function=embeddings)\n",
    "retriever = db.as_retriever()\n",
    "similar_diff = []\n",
    "for index, diff_doc in tqdm(enumerate(test_diff_data), total=len(test_diff_data), desc=\"Processing documents\"):\n",
    "    # documents = splitters[1].split_documents([diff_doc])\n",
    "    candidates = db.similarity_search_with_relevance_scores(diff_doc.page_content)\n",
    "    if candidates[0][1]>=0.8:\n",
    "        # similar_diff.append(retriever.invoke(diff_doc.page_content)[0])\n",
    "        similar_diff.append(candidates[0][0])\n",
    "        print(index)\n",
    "    else:\n",
    "        similar_diff.append(None)\n",
    "    # similar_diff.append(similarity_search(documents, db))"
   ],
   "id": "ffbb9cef916c66c6",
   "outputs": [
    {
     "data": {
      "text/plain": [
       "Processing documents:   0%|          | 0/1000 [00:00<?, ?it/s]"
      ],
      "application/vnd.jupyter.widget-view+json": {
       "version_major": 2,
       "version_minor": 0,
       "model_id": "2b11e32d5ac94fb196beaa97ddc2c220"
      }
     },
     "metadata": {},
     "output_type": "display_data"
    }
   ],
   "execution_count": 18
  },
  {
   "metadata": {
    "ExecuteTime": {
     "end_time": "2024-05-27T21:36:11.467594Z",
     "start_time": "2024-05-27T21:36:11.437833Z"
    }
   },
   "cell_type": "code",
   "source": "msg_data[similar_diff[0].metadata['seq_num'] - 1]",
   "id": "ac22344e8044ce0a",
   "outputs": [
    {
     "ename": "TypeError",
     "evalue": "list indices must be integers or slices, not float",
     "output_type": "error",
     "traceback": [
      "\u001B[1;31m---------------------------------------------------------------------------\u001B[0m",
      "\u001B[1;31mTypeError\u001B[0m                                 Traceback (most recent call last)",
      "Cell \u001B[1;32mIn[29], line 1\u001B[0m\n\u001B[1;32m----> 1\u001B[0m \u001B[43mmsg_data\u001B[49m\u001B[43m[\u001B[49m\u001B[43msimilar_diff\u001B[49m\u001B[43m[\u001B[49m\u001B[38;5;241;43m0\u001B[39;49m\u001B[43m]\u001B[49m\u001B[38;5;241;43m.\u001B[39;49m\u001B[43mmetadata\u001B[49m\u001B[43m[\u001B[49m\u001B[38;5;124;43m'\u001B[39;49m\u001B[38;5;124;43mseq_num\u001B[39;49m\u001B[38;5;124;43m'\u001B[39;49m\u001B[43m]\u001B[49m\u001B[43m \u001B[49m\u001B[38;5;241;43m-\u001B[39;49m\u001B[43m \u001B[49m\u001B[38;5;241;43m1\u001B[39;49m\u001B[43m]\u001B[49m\n",
      "\u001B[1;31mTypeError\u001B[0m: list indices must be integers or slices, not float"
     ]
    }
   ],
   "execution_count": 29
  },
  {
   "metadata": {
    "ExecuteTime": {
     "end_time": "2024-05-27T21:36:32.927483Z",
     "start_time": "2024-05-27T21:36:32.898459Z"
    }
   },
   "cell_type": "code",
   "source": [
    "\n",
    "data = []\n",
    "\n",
    "for sim_diff, test_diff in zip(similar_diff, test_data):\n",
    "    item = {'org_diff': test_diff['diff'],\n",
    "            'org_msg': test_diff['msg'],\n",
    "            'sim_msg': msg_data[int(sim_diff.metadata['seq_num']-1)].page_content,\n",
    "            # 'sim_msg': msg_data[sim_diff-1].page_content,\n",
    "            # 'sim_diff': diff_data[sim_diff-1].page_content}\n",
    "            'sim_diff': diff_data[int(sim_diff.metadata['seq_num']-1)].page_content}\n",
    "    data.append(item)\n",
    "    \n",
    "# Write the data to a JSON file\n",
    "with open('../data/final_preprocessed_data/js_baseline/js_baseline_weaviate_rag_300_prompt.json', 'w', encoding='UTF-8') as f:\n",
    "    json.dump(data, f, ensure_ascii=False, indent=4)"
   ],
   "id": "15571817320dbf7b",
   "outputs": [],
   "execution_count": 30
  },
  {
   "metadata": {
    "ExecuteTime": {
     "end_time": "2024-05-27T21:31:52.342804Z",
     "start_time": "2024-05-27T21:31:52.334964Z"
    }
   },
   "cell_type": "code",
   "source": "test_diff_data[2]",
   "id": "d94a1ed67016de86",
   "outputs": [
    {
     "data": {
      "text/plain": [
       "Document(page_content=\"diff --git a/scripts/release/update-changelog-release-date.js b/scripts/release/update-changelog-release-date.js const fs = require('fs');\\nconst cp = require('child_process');\\n-const moment = require('moment');\\nconst pkg = require('../../package.json');\\nif (pkg.version.indexOf('-rc') !== -1) {\\n\", metadata={'source': 'D:\\\\TU Delft\\\\thesis\\\\LLM_CMG\\\\llm4commit\\\\data\\\\final_preprocessed_data\\\\js_baseline_test_data_300.json', 'seq_num': 3})"
      ]
     },
     "execution_count": 19,
     "metadata": {},
     "output_type": "execute_result"
    }
   ],
   "execution_count": 19
  },
  {
   "metadata": {
    "ExecuteTime": {
     "end_time": "2024-05-28T08:00:30.074467Z",
     "start_time": "2024-05-28T08:00:30.007023Z"
    }
   },
   "cell_type": "code",
   "source": [
    "with open('../../../LLM4Commit/experiment_data/all_result.json', 'r', encoding='UTF-8') as f:\n",
    "    llm4commit_data = json.load(f)"
   ],
   "id": "975778d8f2a3135e",
   "outputs": [],
   "execution_count": 20
  },
  {
   "metadata": {
    "ExecuteTime": {
     "end_time": "2024-05-28T08:01:12.946974Z",
     "start_time": "2024-05-28T08:01:12.926733Z"
    }
   },
   "cell_type": "code",
   "source": [
    "max_len = 0\n",
    "for data in llm4commit_data:\n",
    "    max_len = max(max_len, len(data['diff']))"
   ],
   "id": "77e560ee1897fca5",
   "outputs": [],
   "execution_count": 21
  },
  {
   "metadata": {
    "ExecuteTime": {
     "end_time": "2024-05-28T08:01:18.820502Z",
     "start_time": "2024-05-28T08:01:18.803502Z"
    }
   },
   "cell_type": "code",
   "source": "max_len",
   "id": "1127e22d14afc244",
   "outputs": [
    {
     "data": {
      "text/plain": [
       "2604"
      ]
     },
     "execution_count": 22,
     "metadata": {},
     "output_type": "execute_result"
    }
   ],
   "execution_count": 22
  },
  {
   "metadata": {
    "ExecuteTime": {
     "end_time": "2024-05-28T08:04:47.626743Z",
     "start_time": "2024-05-28T08:04:47.610745Z"
    }
   },
   "cell_type": "code",
   "source": "len(llm4commit_data)",
   "id": "a41c8f15cc58d8e6",
   "outputs": [
    {
     "data": {
      "text/plain": [
       "7428"
      ]
     },
     "execution_count": 23,
     "metadata": {},
     "output_type": "execute_result"
    }
   ],
   "execution_count": 23
  },
  {
   "metadata": {
    "ExecuteTime": {
     "end_time": "2024-05-28T08:11:06.483037Z",
     "start_time": "2024-05-28T08:11:06.464038Z"
    }
   },
   "cell_type": "code",
   "source": "llm4commit_data = llm4commit_data[:100]",
   "id": "1635cbe2f4bd8b4e",
   "outputs": [],
   "execution_count": 24
  },
  {
   "metadata": {},
   "cell_type": "code",
   "outputs": [],
   "execution_count": null,
   "source": "",
   "id": "1f42816248e41472"
  }
 ],
 "metadata": {
  "kernelspec": {
   "display_name": "Python 3",
   "language": "python",
   "name": "python3"
  },
  "language_info": {
   "codemirror_mode": {
    "name": "ipython",
    "version": 2
   },
   "file_extension": ".py",
   "mimetype": "text/x-python",
   "name": "python",
   "nbconvert_exporter": "python",
   "pygments_lexer": "ipython2",
   "version": "2.7.6"
  }
 },
 "nbformat": 4,
 "nbformat_minor": 5
}
