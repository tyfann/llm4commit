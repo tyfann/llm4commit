{
 "cells": [
  {
   "cell_type": "code",
   "id": "initial_id",
   "metadata": {
    "collapsed": true,
    "ExecuteTime": {
     "end_time": "2024-05-29T09:24:56.818263Z",
     "start_time": "2024-05-29T09:24:56.713886Z"
    }
   },
   "source": [
    "import difflib\n",
    "from ast import parse, NodeTransformer, copy_location, Name\n",
    "import ast\n",
    "import json\n",
    "from tqdm.auto import tqdm\n",
    "\n",
    "class NormIdentifiers(NodeTransformer):\n",
    "    def __init__(self):\n",
    "        self.identifiers = {}\n",
    "        super().__init__()\n",
    "\n",
    "    def visit_Name(self, node):\n",
    "        try:\n",
    "            id = self.identifiers[node.id]\n",
    "        except KeyError:\n",
    "            id = f'id_{len(self.identifiers)}'\n",
    "            self.identifiers[node.id] = id\n",
    "\n",
    "        return copy_location(Name(id=id), node)\n",
    "\n",
    "\n",
    "def parse_code(code):\n",
    "    tree = parse(code)  # parse code into the AST\n",
    "    # tree = NormFunctions(func=None).visit(tree) # Normalize the function\n",
    "    tree = NormIdentifiers().visit(tree)  # Normalize the identifiers\n",
    "    d = ast.dump(tree)  # dump into string\n",
    "    return d\n",
    "\n",
    "\n",
    "def get_code_sim_score(code1, code2):\n",
    "    tree1 = parse_code(code1)\n",
    "    tree2 = parse_code(code2)\n",
    "    pairs = difflib.SequenceMatcher(None, tree1, tree2).ratio()\n",
    "    return pairs"
   ],
   "execution_count": 3,
   "outputs": []
  },
  {
   "metadata": {
    "ExecuteTime": {
     "end_time": "2024-05-29T09:24:25.498989Z",
     "start_time": "2024-05-29T09:24:25.491344Z"
    }
   },
   "cell_type": "code",
   "source": [
    "a = 'a=1\\nb=2\\nk=a+b\\nd=3\\nc=k+d\\nans=c*0.5\\nprint(ans)'\n",
    "b = 'a=1\\nr=2\\nk=a+r\\nd=3\\ncder=k+d\\nans=c/4\\nprint(ans)'\n",
    "c = \"apple=1\\nr=2\\nk=apple+r\\nd=3\\nc=k+d\\nans=c*2\\nprint(ans)\"\n",
    "print(get_code_sim_score(a, b))\n",
    "print(get_code_sim_score(a, c))\n",
    "print(get_code_sim_score(b, c))"
   ],
   "id": "16762aea670f3e57",
   "execution_count": 2,
   "outputs": []
  },
  {
   "metadata": {
    "ExecuteTime": {
     "end_time": "2024-05-29T09:25:28.283601Z",
     "start_time": "2024-05-29T09:25:28.246947Z"
    }
   },
   "cell_type": "code",
   "source": [
    "with open('../data/final_preprocessed_data/js_rag_db_data_300.json', 'r', encoding='UTF-8') as f:\n",
    "  db_data = json.load(f)\n",
    "\n",
    "with open('../data/final_preprocessed_data/js_baseline_test_data_300.json', 'r', encoding='UTF-8') as f:\n",
    "  test_data = json.load(f)"
   ],
   "id": "3521dac8881b2022",
   "execution_count": 4,
   "outputs": []
  },
  {
   "metadata": {
    "ExecuteTime": {
     "end_time": "2024-05-29T09:26:44.824716Z",
     "start_time": "2024-05-29T09:26:44.811630Z"
    }
   },
   "cell_type": "code",
   "source": "db_data[0]['diff']",
   "id": "15aa493b2719741f",
   "execution_count": 8,
   "outputs": []
  },
  {
   "metadata": {
    "ExecuteTime": {
     "end_time": "2024-05-29T09:27:00.245518Z",
     "start_time": "2024-05-29T09:27:00.232931Z"
    }
   },
   "cell_type": "code",
   "source": "print(get_code_sim_score(db_data[1]['diff'], test_data[0]['diff']))",
   "id": "de08c547b9f42c4a",
   "execution_count": 9,
   "outputs": []
  },
  {
   "metadata": {},
   "cell_type": "code",
   "execution_count": null,
   "source": [
    "\n",
    "similar_item = []\n",
    "for test_item in tqdm(test_data, total=len(test_data), desc=\"Processing documents\"):\n",
    "  max_score = 0\n",
    "  max_item = None\n",
    "  for db_item in db_data:\n",
    "    cur_score = get_code_sim_score(db_item['msg'], test_item['msg'])\n",
    "    if cur_score > max_score:\n",
    "      max_item = db_item\n",
    "      max_score = cur_score\n",
    "  similar_item.append(max_item)"
   ],
   "id": "fb92549f83c5d741",
   "outputs": []
  }
 ],
 "metadata": {
  "kernelspec": {
   "display_name": "Python 3",
   "language": "python",
   "name": "python3"
  },
  "language_info": {
   "codemirror_mode": {
    "name": "ipython",
    "version": 2
   },
   "file_extension": ".py",
   "mimetype": "text/x-python",
   "name": "python",
   "nbconvert_exporter": "python",
   "pygments_lexer": "ipython2",
   "version": "2.7.6"
  }
 },
 "nbformat": 4,
 "nbformat_minor": 5
}
