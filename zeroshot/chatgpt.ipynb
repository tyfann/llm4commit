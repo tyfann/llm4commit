{
 "cells": [
  {
   "cell_type": "code",
   "execution_count": 1,
   "metadata": {},
   "outputs": [],
   "source": [
    "from langchain import hub\n",
    "prompt = hub.pull(\"tyfann/llm4commit-zeroshot\")"
   ]
  },
  {
   "cell_type": "code",
   "execution_count": 2,
   "metadata": {},
   "outputs": [],
   "source": [
    "from openai import OpenAI\n",
    "\n",
    "client = OpenAI(\n",
    "    # defaults to os.environ.get(\"OPENAI_API_KEY\")\n",
    "    api_key=\"sk-0rLvuRkMiD4Mw25QYygh6rUlZVjpQWNGNF4yez7z3PZ7yCOm\",\n",
    "    # api_key=\"sk-tMbkq3K1iO5vf0FRMlrmzslGXJZwE0us3mve4QXuvpnZcumG\",\n",
    "    base_url=\"https://api.chatanywhere.tech/v1\"\n",
    "    # base_url=\"https://api.chatanywhere.cn/v1\"\n",
    ")"
   ]
  },
  {
   "cell_type": "code",
   "execution_count": 3,
   "metadata": {},
   "outputs": [],
   "source": [
    "def gpt_35_api(messages: list):\n",
    "\n",
    "    completion = client.chat.completions.create(model=\"gpt-3.5-turbo-0125\", messages=messages, temperature=0.5)\n",
    "    return completion.choices[0].message.content"
   ]
  },
  {
   "cell_type": "code",
   "execution_count": 4,
   "metadata": {},
   "outputs": [],
   "source": [
    "import json\n",
    "from tqdm import tqdm"
   ]
  },
  {
   "cell_type": "code",
   "execution_count": 5,
   "metadata": {},
   "outputs": [],
   "source": [
    "with open('../data/chronicle/chronicle_data.json', 'r', encoding='UTF-8') as f:\n",
    "    org_data = json.load(f)"
   ]
  },
  {
   "cell_type": "code",
   "execution_count": 6,
   "metadata": {},
   "outputs": [
    {
     "data": {
      "text/plain": [
       "[{'msg': 'Fixed loading terms from some GR pages that had a space after the class type',\n",
       "  'diff': 'diff --git a/src/DataSources/Goodreads.cs b/src/DataSources/Goodreads.cs @@ -520,7 +520,8 @@ private XRay.Term GetTerm(string baseUrl, string relativeUrl)\\nresult.DescUrl = tempUri.ToString();\\nHtmlDocument charDoc = new HtmlDocument();\\ncharDoc.LoadHtml(HttpDownloader.GetPageHtml(tempUri.ToString()));\\n- HtmlNode mainNode = charDoc.DocumentNode.SelectSingleNode(\"//div[@class=\\'mainContentFloat\\']\");\\n+ HtmlNode mainNode = charDoc.DocumentNode.SelectSingleNode(\"//div[@class=\\'mainContentFloat\\']\")\\n+ ?? charDoc.DocumentNode.SelectSingleNode(\"//div[@class=\\'mainContentFloat \\']\");\\nresult.TermName = mainNode.SelectSingleNode(\"./h1\").InnerText;\\nmainNode = mainNode.SelectSingleNode(\"//div[@class=\\'grey500BoxContent\\']\");\\nHtmlNodeCollection tempNodes = mainNode.SelectNodes(\"//div[@class=\\'floatingBox\\']\");\\n',\n",
       "  'lang': 'C#'},\n",
       " {'msg': 'Fixed labels on characters/terms in BaseDB',\n",
       "  'diff': \"diff --git a/dist/BaseDB.sql b/dist/BaseDB.sql CREATE TABLE type(id INTEGER, label INTEGER, singular_label INTEGER, icon INTEGER, top_mentioned_entities TEXT, PRIMARY KEY(id));\\n-INSERT INTO `type` VALUES ('1','7','8','1', '');\\n-INSERT INTO `type` VALUES ('2','9','10','2', '');\\n+INSERT INTO `type` VALUES ('1','9','10','1', '');\\n+INSERT INTO `type` VALUES ('2','11','12','2', '');\\nCREATE TABLE string(id INTEGER, language TEXT, text TEXT);\\nINSERT INTO `string` VALUES ('0','de','Alle');\\nINSERT INTO `string` VALUES ('0','en','All');\\n\",\n",
       "  'lang': 'C#'},\n",
       " {'msg': 'Missing extension when looking for X-Ray file',\n",
       "  'diff': 'diff --git a/src/frmMain.cs b/src/frmMain.cs @@ -1252,7 +1252,7 @@ private bool checkFiles(string author, string title, string asin)\\npbFile3.Image = Resources.file_on;\\nelse\\npbFile3.Image = Resources.file_off;\\n- if (File.Exists(XrPath = bookOutputDir + @\"\\\\XRAY.entities.\" + asin))\\n+ if (File.Exists(XrPath = bookOutputDir + @\"\\\\XRAY.entities.\" + asin + \".asc\"))\\npbFile4.Image = Resources.file_on;\\nelse\\npbFile4.Image = Resources.file_off;\\n',\n",
       "  'lang': 'C#'},\n",
       " {'msg': 'Style for ratings on Goodreads changed. Keeping old style as well just in case.',\n",
       "  'diff': 'diff --git a/src/DataSources/Goodreads.cs b/src/DataSources/Goodreads.cs @@ -303,7 +303,8 @@ public override BookInfo GetNextInSeries(BookInfo curBook, AuthorProfile authorP\\n{\\ncurBook.amazonRating = float.Parse(goodreadsRating.InnerText);\\n}\\n- HtmlNode passagesNode = metaNode.SelectSingleNode(\".//a[@class=\\'actionLinkLite votes\\' and @href=\\'#other_reviews\\']\");\\n+ HtmlNode passagesNode = metaNode.SelectSingleNode(\".//a[@class=\\'actionLinkLite votes\\' and @href=\\'#other_reviews\\']\")\\n+ ?? metaNode.SelectSingleNode(\".//span[@class=\\'count value-title\\']\");\\nif (passagesNode != null)\\n{\\nmatch = Regex.Match(passagesNode.InnerText, @\"(\\\\d+|\\\\d{1,3}([,\\\\.]\\\\d{3})*)(?=\\\\s)\");\\n',\n",
       "  'lang': 'C#'},\n",
       " {'msg': 'Started tweaking Goodreads term download',\n",
       "  'diff': 'diff --git a/src/DataSources/Goodreads.cs b/src/DataSources/Goodreads.cs @@ -482,18 +482,22 @@ public override List<XRay.Term> GetTerms(string dataUrl, Action<string> Log)\\nsourceHtmlDoc = new HtmlDocument();\\nsourceHtmlDoc.LoadHtml(HttpDownloader.GetPageHtml(dataUrl));\\n}\\n- Log(\"Gathering term information from Goodreads...\");\\nList<HtmlNode> allChars;\\n- List<HtmlNode> moreChars = null;\\nHtmlNodeCollection charNodes = sourceHtmlDoc.DocumentNode.SelectNodes(\"//div[@class=\\'infoBoxRowTitle\\' and text()=\\'Characters\\']/../div[@class=\\'infoBoxRowItem\\']/a\");\\nif (charNodes == null) return terms;\\nallChars = charNodes.ToList();\\n// Check if ...more link exists on Goodreads page\\nHtmlNodeCollection moreCharNodes = sourceHtmlDoc.DocumentNode.SelectNodes(\"//div[@class=\\'infoBoxRowTitle\\' and text()=\\'Characters\\']/../div[@class=\\'infoBoxRowItem\\']/span[@class=\\'toggleContent\\']/a\");\\nif (moreCharNodes != null)\\n- moreChars = moreCharNodes.ToList();\\n+ {\\n+ List<HtmlNode> moreChars = moreCharNodes.ToList();\\nif (moreChars != null)\\nallChars.AddRange(moreChars);\\n+ }\\n+ Log(\"Gathering term information from Goodreads... (\" + allChars.Count + \")\");\\n+ if (allChars.Count > 20)\\n+ Log(\"More than 20 characters found. Consider using the \\'download to XML\\' option if you need to build repeatedly.\");\\n+ // TODO: Multi-threaded download & show progress\\nforeach (HtmlNode charNode in allChars)\\n{\\ntry\\n',\n",
       "  'lang': 'C#'}]"
      ]
     },
     "execution_count": 6,
     "metadata": {},
     "output_type": "execute_result"
    }
   ],
   "source": [
    "org_data[:5]"
   ]
  },
  {
   "cell_type": "code",
   "execution_count": 7,
   "metadata": {},
   "outputs": [
    {
     "data": {
      "text/plain": [
       "[{'msg': 'fix last typos',\n",
       "  'diff': 'diff --git a/sc2/bot_ai.py b/sc2/bot_ai.py @@ -346,7 +346,7 @@ class BotAI:\\nif len(worker_pool) > len(deficit_mining_places):\\nall_minerals_near_base = [\\nmineral\\n- for mineral in self.mineral_fields\\n+ for mineral in self.state.mineral_field\\nif any(mineral.distance_to(base) <= 8 for base in self.townhalls.ready)\\n]\\n# distribute every worker in the pool\\n@@ -376,7 +376,7 @@ class BotAI:\\nmineral for mineral in self.state.mineral_field if mineral.distance_to(current_place) <= 8\\n]\\ntarget_mineral = max(local_minerals, key=lambda mineral: mineral.mineral_contents)\\n- self.actions.append(worker.gather(target_mineral))\\n+ actions.append(worker.gather(target_mineral))\\n# more workers to distribute than free mining spots\\n# send to closest if worker is doing nothing\\nelif worker.is_idle and all_minerals_near_base:\\n',\n",
       "  'lang': 'Python'},\n",
       " {'msg': 'Add null check for compiledConstructor',\n",
       "  'diff': 'diff --git a/src/NLog/Config/ServiceRepositoryInternal.cs b/src/NLog/Config/ServiceRepositoryInternal.cs @@ -142,7 +142,7 @@ private object DefaultResolveInstance(Type itemType, HashSet<Type> seenTypes)\\n{\\nseenTypes = seenTypes ?? new HashSet<Type>();\\nvar parameterValues = CreateCtorParameterValues(constructorParameters, seenTypes);\\n- return compiledConstructor.Ctor(parameterValues);\\n+ return compiledConstructor?.Ctor(parameterValues);\\n}\\n}\\n',\n",
       "  'lang': 'C#'},\n",
       " {'msg': 'bugfix: fix cmake compile blackwidow can\\'t find \"port\"',\n",
       "  'diff': 'diff --git a/src/blackwidow/CMakeLists.txt b/src/blackwidow/CMakeLists.txt @@ -3,6 +3,8 @@ cmake_minimum_required (VERSION 3.10)\\nset (CMAKE_CXX_STANDARD 17)\\nproject (blackwidow)\\n+add_definitions(-DROCKSDB_PLATFORM_POSIX -DROCKSDB_LIB_IO_POSIX)\\n+\\naux_source_directory(./src DIR_SRCS)\\nadd_library(blackwidow STATIC ${DIR_SRCS} )\\n',\n",
       "  'lang': 'C++'},\n",
       " {'msg': 'Update UnrealEnginePython.Build.cs',\n",
       "  'diff': 'diff --git a/Source/UnrealEnginePython/UnrealEnginePython.Build.cs b/Source/UnrealEnginePython/UnrealEnginePython.Build.cs @@ -21,7 +21,7 @@ public class UnrealEnginePython : ModuleRules\\n\"C:/Program Files/Python37\",\\n\"C:/Program Files/Python36\",\\n\"C:/Program Files/Python35\",\\n- \"C:/Python36\",\\n+ \"C:/Python27\",\\n\"C:/IntelPython35\"\\n};\\n',\n",
       "  'lang': 'C++'},\n",
       " {'msg': 'add an example of new query funtion',\n",
       "  'diff': 'diff --git a/api/http/cpp/example/CppAPIExample.cpp b/api/http/cpp/example/CppAPIExample.cpp @@ -38,6 +38,9 @@ int main(int argc, char * argv[])\\nstd::string answer = gc.query(\"root\", \"123456\", \"test\", sparql);\\nstd::cout << answer << std::endl;\\n+ // make a SPARQL query and save the result in ans.txt\\n+ gc.query(\"root\", \"123456\", \"test\", sparql, \"ans.txt\");\\n+\\n// unload this database.\\ngc.unload(\"test\", \"root\", \"123456\");\\n// also, you can load some exist database directly and then query.\\n',\n",
       "  'lang': 'C++'}]"
      ]
     },
     "execution_count": 7,
     "metadata": {},
     "output_type": "execute_result"
    }
   ],
   "source": [
    "import random\n",
    "random.shuffle(org_data)\n",
    "org_data[:5]"
   ]
  },
  {
   "cell_type": "code",
   "execution_count": 8,
   "metadata": {},
   "outputs": [
    {
     "name": "stderr",
     "output_type": "stream",
     "text": [
      "Processing documents: 100%|██████████| 100/100 [01:58<00:00,  1.19s/it]\n"
     ]
    }
   ],
   "source": [
    "gpt_msg = []\n",
    "for data in tqdm(org_data[:100], total=len(org_data[:100]), desc=\"Processing documents\"):\n",
    "    messages = prompt.invoke(\n",
    "        {\"DIFF\": data['diff']}\n",
    "    ).to_messages()\n",
    "    example_prompt = [{'role': 'user','content': messages[0].content},]\n",
    "    gpt_msg.append(gpt_35_api(example_prompt))\n",
    "\n",
    "for item, msg in zip(org_data[:100], gpt_msg):\n",
    "    item['chatgpt'] = msg"
   ]
  },
  {
   "cell_type": "code",
   "execution_count": 10,
   "metadata": {},
   "outputs": [],
   "source": [
    "import os\n",
    "output_file = '../data/chronicle/chronicle_chatgpt.json'\n",
    "os.makedirs(os.path.dirname(output_file), exist_ok=True)\n",
    "with open(output_file, 'w', encoding='UTF-8') as f:\n",
    "    json.dump(org_data[:100], f, ensure_ascii=False, indent=4)\n"
   ]
  },
  {
   "cell_type": "markdown",
   "metadata": {},
   "source": [
    "## COT"
   ]
  },
  {
   "cell_type": "code",
   "execution_count": 11,
   "metadata": {},
   "outputs": [
    {
     "name": "stderr",
     "output_type": "stream",
     "text": [
      "Processing documents: 100%|██████████| 69/69 [01:47<00:00,  1.56s/it]\n"
     ]
    }
   ],
   "source": [
    "prompt = hub.pull(\"tyfann/llm4commit-cot\")\n",
    "gpt_cot_msg = []\n",
    "\n",
    "example_q = \"\"\"\"diff --git a/java/client/src/org/openqa/selenium/htmlunit/HtmlUnitAlert.java  b/java/client/src/org/openqa/selenium/htmlunit/HtmlUnitAlert.java \\npublic void sendKeys(String keysToSend){ \\npublic void authenticateUsing(Credentials credentials){}+@Override+public void setCredentials(Credentials credentials){+}++@Override \\npublic void handleAlert(Page page,String message){ \\nQueue<String>queue=queues.get(page); \\n\" What is the commit message of this code diff?\"\"\"\n",
    "example_a = \"\"\"First, the scope of code changes is to add a method, and second, according to the filename \"HtmlUnitAlert\", and the function of the file could be an alert, the modification \"@Overide\" is an annotation which can solve the compilation issue, so the modification can help solve the compilation problem to the alert file. So the commit message for the code diff is \"fix compilation issue because of new method in Alert\".\"\"\"\n",
    "for data in tqdm(org_data[31:100], total=len(org_data[31:100]), desc=\"Processing documents\"):\n",
    "    messages = prompt.invoke(\n",
    "        {\"Example_Question\": example_q, \"Example_Answer\": example_a, \"Question\": data['diff']}\n",
    "    ).to_messages()\n",
    "    example_prompt = [{'role': 'user','content': messages[0].content},]\n",
    "    gpt_cot_msg.append(gpt_35_api(example_prompt))"
   ]
  },
  {
   "cell_type": "code",
   "execution_count": 12,
   "metadata": {},
   "outputs": [
    {
     "data": {
      "text/plain": [
       "(100, 100)"
      ]
     },
     "execution_count": 12,
     "metadata": {},
     "output_type": "execute_result"
    }
   ],
   "source": [
    "len(gpt_msg), len(gpt_cot_msg)"
   ]
  },
  {
   "cell_type": "code",
   "execution_count": 13,
   "metadata": {},
   "outputs": [],
   "source": [
    "import re\n",
    "\n",
    "def preprocess(text):\n",
    "    if re.search(r'commit\\s*message', text, re.IGNORECASE):\n",
    "        pattern = r'\\\"([^\"]+)'\n",
    "        match = re.search(pattern, text)\n",
    "        if match:\n",
    "            return match.group(1)\n",
    "        else:\n",
    "            return text\n",
    "    else:\n",
    "        return text"
   ]
  },
  {
   "cell_type": "code",
   "execution_count": 14,
   "metadata": {},
   "outputs": [],
   "source": [
    "for item, msg, cot_msg in zip(org_data[:100], gpt_msg, gpt_cot_msg):\n",
    "    item['chatgpt_cot'] = preprocess(cot_msg)\n",
    "    item['chatgpt_v2'] = msg\n",
    "\n",
    "output_file = '../../bleu/all_result_cot.json'\n",
    "with open(output_file, 'w', encoding='UTF-8') as f:\n",
    "    json.dump(org_data[:100], f, ensure_ascii=False, indent=4)"
   ]
  },
  {
   "cell_type": "code",
   "execution_count": 9,
   "metadata": {},
   "outputs": [],
   "source": [
    "for item, msg in zip(org_data[:100], gpt_msg):\n",
    "    item['chatgpt_v3'] = msg\n",
    "\n",
    "output_file = '../../bleu/all_result_chatgpt.json'\n",
    "with open(output_file, 'w', encoding='UTF-8') as f:\n",
    "    json.dump(org_data[:100], f, ensure_ascii=False, indent=4)"
   ]
  },
  {
   "cell_type": "code",
   "execution_count": null,
   "metadata": {},
   "outputs": [],
   "source": []
  }
 ],
 "metadata": {
  "kernelspec": {
   "display_name": "cmg",
   "language": "python",
   "name": "python3"
  },
  "language_info": {
   "codemirror_mode": {
    "name": "ipython",
    "version": 3
   },
   "file_extension": ".py",
   "mimetype": "text/x-python",
   "name": "python",
   "nbconvert_exporter": "python",
   "pygments_lexer": "ipython3",
   "version": "3.9.18"
  }
 },
 "nbformat": 4,
 "nbformat_minor": 2
}
