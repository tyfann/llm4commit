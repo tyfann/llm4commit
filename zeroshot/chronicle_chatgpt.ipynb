{
 "cells": [
  {
   "cell_type": "code",
   "execution_count": 1,
   "metadata": {
    "ExecuteTime": {
     "end_time": "2024-04-23T15:05:26.920430Z",
     "start_time": "2024-04-23T15:05:26.742263Z"
    }
   },
   "outputs": [],
   "source": [
    "import pyarrow.parquet as pq"
   ]
  },
  {
   "cell_type": "code",
   "execution_count": 3,
   "metadata": {
    "ExecuteTime": {
     "end_time": "2024-04-23T14:51:27.253975Z",
     "start_time": "2024-04-23T14:51:26.135743Z"
    }
   },
   "outputs": [],
   "source": [
    "df = pq.read_table('../rag/datasets--JetBrains-Research--commit-chronicle/snapshots/5fd076e67b812a9f3d1999e5e40f71715f84bb51/subset_cmg/test-00000-of-00002-983a1050cd3c058c.parquet').to_pandas()"
   ]
  },
  {
   "cell_type": "code",
   "execution_count": 4,
   "metadata": {
    "ExecuteTime": {
     "end_time": "2024-04-23T14:51:28.108497Z",
     "start_time": "2024-04-23T14:51:28.079811Z"
    }
   },
   "outputs": [
    {
     "data": {
      "text/plain": "        author                 date  timezone  \\\n102163  887020  11.02.2022 22:24:43     -3600   \n102164  887022  17.03.2022 22:42:36         0   \n102165  887022  18.03.2022 11:37:38         0   \n102166  886973  18.03.2022 15:15:43     -3600   \n102167  886973  21.03.2022 12:05:03     -3600   \n\n                                            hash  \\\n102163  e960d02ab094518ddb41454e16bbd0ef601ecbb9   \n102164  1e71de02e9e09bee034536ed9e44042be4ea3f22   \n102165  ff4878867d2d796f2d147986c7c3dec10be8800b   \n102166  723b1c9895105eefa2becaad630e442f6333a758   \n102167  9ed47c9f9f87dfdcd1a38fa05451d2ac3a1b8f3d   \n\n                                                  message  \\\n102163  Fix context merging\\n* Fix context merging\\nWh...   \n102164  Explicitly use https as github-sourced gems' p...   \n102165  Ignore internal Sidekiq::JobRetry::Skip exception   \n102166  fix(perf): TransactionEvent should not set lev...   \n102167       fix: Set last_event_id only for error events   \n\n                                                     mods language  \\\n102163  [{'change_type': 'MODIFY', 'old_path': 'CHANGE...     Ruby   \n102164  [{'change_type': 'MODIFY', 'old_path': 'sentry...     Ruby   \n102165  [{'change_type': 'MODIFY', 'old_path': 'sentry...     Ruby   \n102166  [{'change_type': 'MODIFY', 'old_path': 'sentry...     Ruby   \n102167  [{'change_type': 'MODIFY', 'old_path': 'CHANGE...     Ruby   \n\n            license                   repo  \\\n102163  MIT License  getsentry/sentry-ruby   \n102164  MIT License  getsentry/sentry-ruby   \n102165  MIT License  getsentry/sentry-ruby   \n102166  MIT License  getsentry/sentry-ruby   \n102167  MIT License  getsentry/sentry-ruby   \n\n                                         original_message  \n102163  Fix context merging #1722 (#1724)\\n\\n* Fix con...  \n102164  Explicitly use https as github-sourced gems' p...  \n102165  Ignore internal Sidekiq::JobRetry::Skip except...  \n102166  fix(perf): TransactionEvent should not set lev...  \n102167  fix: Set last_event_id only for error events (...  ",
      "text/html": "<div>\n<style scoped>\n    .dataframe tbody tr th:only-of-type {\n        vertical-align: middle;\n    }\n\n    .dataframe tbody tr th {\n        vertical-align: top;\n    }\n\n    .dataframe thead th {\n        text-align: right;\n    }\n</style>\n<table border=\"1\" class=\"dataframe\">\n  <thead>\n    <tr style=\"text-align: right;\">\n      <th></th>\n      <th>author</th>\n      <th>date</th>\n      <th>timezone</th>\n      <th>hash</th>\n      <th>message</th>\n      <th>mods</th>\n      <th>language</th>\n      <th>license</th>\n      <th>repo</th>\n      <th>original_message</th>\n    </tr>\n  </thead>\n  <tbody>\n    <tr>\n      <th>102163</th>\n      <td>887020</td>\n      <td>11.02.2022 22:24:43</td>\n      <td>-3600</td>\n      <td>e960d02ab094518ddb41454e16bbd0ef601ecbb9</td>\n      <td>Fix context merging\\n* Fix context merging\\nWh...</td>\n      <td>[{'change_type': 'MODIFY', 'old_path': 'CHANGE...</td>\n      <td>Ruby</td>\n      <td>MIT License</td>\n      <td>getsentry/sentry-ruby</td>\n      <td>Fix context merging #1722 (#1724)\\n\\n* Fix con...</td>\n    </tr>\n    <tr>\n      <th>102164</th>\n      <td>887022</td>\n      <td>17.03.2022 22:42:36</td>\n      <td>0</td>\n      <td>1e71de02e9e09bee034536ed9e44042be4ea3f22</td>\n      <td>Explicitly use https as github-sourced gems' p...</td>\n      <td>[{'change_type': 'MODIFY', 'old_path': 'sentry...</td>\n      <td>Ruby</td>\n      <td>MIT License</td>\n      <td>getsentry/sentry-ruby</td>\n      <td>Explicitly use https as github-sourced gems' p...</td>\n    </tr>\n    <tr>\n      <th>102165</th>\n      <td>887022</td>\n      <td>18.03.2022 11:37:38</td>\n      <td>0</td>\n      <td>ff4878867d2d796f2d147986c7c3dec10be8800b</td>\n      <td>Ignore internal Sidekiq::JobRetry::Skip exception</td>\n      <td>[{'change_type': 'MODIFY', 'old_path': 'sentry...</td>\n      <td>Ruby</td>\n      <td>MIT License</td>\n      <td>getsentry/sentry-ruby</td>\n      <td>Ignore internal Sidekiq::JobRetry::Skip except...</td>\n    </tr>\n    <tr>\n      <th>102166</th>\n      <td>886973</td>\n      <td>18.03.2022 15:15:43</td>\n      <td>-3600</td>\n      <td>723b1c9895105eefa2becaad630e442f6333a758</td>\n      <td>fix(perf): TransactionEvent should not set lev...</td>\n      <td>[{'change_type': 'MODIFY', 'old_path': 'sentry...</td>\n      <td>Ruby</td>\n      <td>MIT License</td>\n      <td>getsentry/sentry-ruby</td>\n      <td>fix(perf): TransactionEvent should not set lev...</td>\n    </tr>\n    <tr>\n      <th>102167</th>\n      <td>886973</td>\n      <td>21.03.2022 12:05:03</td>\n      <td>-3600</td>\n      <td>9ed47c9f9f87dfdcd1a38fa05451d2ac3a1b8f3d</td>\n      <td>fix: Set last_event_id only for error events</td>\n      <td>[{'change_type': 'MODIFY', 'old_path': 'CHANGE...</td>\n      <td>Ruby</td>\n      <td>MIT License</td>\n      <td>getsentry/sentry-ruby</td>\n      <td>fix: Set last_event_id only for error events (...</td>\n    </tr>\n  </tbody>\n</table>\n</div>"
     },
     "execution_count": 4,
     "metadata": {},
     "output_type": "execute_result"
    }
   ],
   "source": [
    "df.tail()"
   ]
  },
  {
   "cell_type": "code",
   "execution_count": 61,
   "metadata": {},
   "outputs": [
    {
     "data": {
      "text/plain": [
       "'MODIFY'"
      ]
     },
     "execution_count": 61,
     "metadata": {},
     "output_type": "execute_result"
    }
   ],
   "source": [
    "df['mods'][0][0]['change_type']"
   ]
  },
  {
   "cell_type": "code",
   "execution_count": 19,
   "metadata": {},
   "outputs": [
    {
     "name": "stdout",
     "output_type": "stream",
     "text": [
      "Fixed loading terms from some GR pages that had a space after the class type\n"
     ]
    }
   ],
   "source": [
    "for index, row in df.iterrows():\n",
    "    print(row['message'])\n",
    "    break"
   ]
  },
  {
   "cell_type": "code",
   "execution_count": 5,
   "metadata": {
    "ExecuteTime": {
     "end_time": "2024-04-23T14:51:36.767663Z",
     "start_time": "2024-04-23T14:51:36.755406Z"
    }
   },
   "outputs": [],
   "source": [
    "languages = ['Java', 'Python', 'C#', 'C++', 'JavaScript']\n",
    "language_dict = {language: 0 for language in languages}"
   ]
  },
  {
   "cell_type": "code",
   "outputs": [
    {
     "data": {
      "text/plain": "Python:   0%|          | 0/1000 [00:00<?, ?it/s]",
      "application/vnd.jupyter.widget-view+json": {
       "version_major": 2,
       "version_minor": 0,
       "model_id": "f68ebf2982494686a4dcd7e4c730d1a9"
      }
     },
     "metadata": {},
     "output_type": "display_data"
    },
    {
     "data": {
      "text/plain": "JavaScript:   0%|          | 0/1000 [00:00<?, ?it/s]",
      "application/vnd.jupyter.widget-view+json": {
       "version_major": 2,
       "version_minor": 0,
       "model_id": "f29a4e45045a4b3980900376933928ce"
      }
     },
     "metadata": {},
     "output_type": "display_data"
    },
    {
     "name": "stdout",
     "output_type": "stream",
     "text": [
      "Reached 1000 rows for Python\n",
      "Reached 1000 rows for JavaScript\n"
     ]
    }
   ],
   "source": [
    "import pyarrow.parquet as pq\n",
    "import glob\n",
    "import os\n",
    "from tqdm.auto import tqdm\n",
    "\n",
    "# Create empty DataFrames for each language\n",
    "# languages = ['Java', 'Python', 'C++', 'C#', 'JavaScript']\n",
    "languages = ['Python', 'JavaScript']\n",
    "dfs = {lang: [] for lang in languages}\n",
    "\n",
    "# Create a tqdm progress bar for each language\n",
    "bars = {lang: tqdm(total=1000, desc=lang) for lang in languages}\n",
    "\n",
    "folder_path = '../rag/datasets--JetBrains-Research--commit-chronicle/snapshots/5fd076e67b812a9f3d1999e5e40f71715f84bb51/subset_cmg'  # 文件夹的路径\n",
    "\n",
    "files = glob.glob(os.path.join(folder_path, 'test*'))\n",
    "\n",
    "for file in files:\n",
    "    df = pq.read_table(file).to_pandas()\n",
    "\n",
    "    # Iterate over each language\n",
    "    for lang in languages[:]:\n",
    "        # Filter rows where language column matches the current language\n",
    "        lang_df = df[(df['language'] == lang) & (df['mods'].apply(len) == 1) & (df['mods'].apply(lambda x: x[0]['change_type']) == 'MODIFY') & (df['mods'].apply(lambda x: len(f\"diff --git a/{x[0]['old_path']} b/{x[0]['new_path']} {x[0]['diff']}\") <= 3000))]\n",
    "\n",
    "        # Iterate over each row in the filtered DataFrame\n",
    "        for index, row in lang_df.iterrows():\n",
    "            diff = row['mods'][0]\n",
    "            old_path = 'a/' + diff['old_path']\n",
    "            new_path = 'b/' + diff['new_path']\n",
    "            diff_content = diff['diff']  # assume diff_content is an empty string\n",
    "            item = {\n",
    "                'msg': row['message'],\n",
    "                'diff': f\"diff --git {old_path} {new_path} {diff_content}\",\n",
    "                'lang': lang\n",
    "            }\n",
    "            dfs[lang].append(item)\n",
    "            bars[lang].update(1)\n",
    "\n",
    "            # Check if the language has reached 100,000 rows\n",
    "            if len(dfs[lang]) >= 1000:\n",
    "                print(f\"Reached 1000 rows for {lang}\")\n",
    "                languages.remove(lang)  # Remove language from list to avoid further processing\n",
    "                break\n",
    "    # Break out of the loop if all languages have reached 100,000 rows\n",
    "    if not languages:\n",
    "        break"
   ],
   "metadata": {
    "collapsed": false,
    "ExecuteTime": {
     "end_time": "2024-04-25T17:45:44.665148Z",
     "start_time": "2024-04-25T17:45:42.185696Z"
    }
   },
   "execution_count": 1
  },
  {
   "cell_type": "code",
   "execution_count": 4,
   "metadata": {
    "ExecuteTime": {
     "end_time": "2024-04-25T17:56:48.205090Z",
     "start_time": "2024-04-25T17:56:47.184723Z"
    }
   },
   "outputs": [
    {
     "ename": "NameError",
     "evalue": "name 'language_dict' is not defined",
     "output_type": "error",
     "traceback": [
      "\u001B[1;31m---------------------------------------------------------------------------\u001B[0m",
      "\u001B[1;31mNameError\u001B[0m                                 Traceback (most recent call last)",
      "Cell \u001B[1;32mIn[4], line 3\u001B[0m\n\u001B[0;32m      1\u001B[0m \u001B[38;5;28;01mimport\u001B[39;00m \u001B[38;5;21;01mjson\u001B[39;00m\n\u001B[0;32m      2\u001B[0m data \u001B[38;5;241m=\u001B[39m []\n\u001B[1;32m----> 3\u001B[0m \u001B[38;5;28;01mwhile\u001B[39;00m \u001B[38;5;28many\u001B[39m(value \u001B[38;5;241m<\u001B[39m \u001B[38;5;241m1000\u001B[39m \u001B[38;5;28;01mfor\u001B[39;00m value \u001B[38;5;129;01min\u001B[39;00m \u001B[43mlanguage_dict\u001B[49m\u001B[38;5;241m.\u001B[39mvalues()):\n\u001B[0;32m      4\u001B[0m     \u001B[38;5;28;01mfor\u001B[39;00m index, row \u001B[38;5;129;01min\u001B[39;00m df\u001B[38;5;241m.\u001B[39miterrows():\n\u001B[0;32m      5\u001B[0m         language \u001B[38;5;241m=\u001B[39m row[\u001B[38;5;124m'\u001B[39m\u001B[38;5;124mlanguage\u001B[39m\u001B[38;5;124m'\u001B[39m]\n",
      "\u001B[1;31mNameError\u001B[0m: name 'language_dict' is not defined"
     ]
    }
   ],
   "source": [
    "import json\n",
    "data = []\n",
    "while any(value < 1000 for value in language_dict.values()):\n",
    "    for index, row in df.iterrows():\n",
    "        language = row['language']\n",
    "        if language in languages:\n",
    "            \n",
    "            if language_dict[language] >= 1000 or len(row['mods']) != 1 or row['mods'][0]['change_type'] != 'MODIFY' or len(f\"diff --git a/{row['mods'][0]['old_path']} b/{row['mods'][0]['new_path']} {row['mods'][0]['diff']}\") > 3000:\n",
    "                continue\n",
    "            language_dict[language] += 1\n",
    "\n",
    "            item = {\n",
    "                'msg': row['message'],\n",
    "                'diff': f\"diff --git a/{row['mods'][0]['old_path']} b/{row['mods'][0]['new_path']} {row['mods'][0]['diff']}\",\n",
    "                'lang': language\n",
    "            }\n",
    "            data.append(item)\n",
    "\n",
    "import random\n",
    "random.seed(42)\n",
    "random.shuffle(data)\n",
    "\n",
    "with open('../data/chronicle_data_dev.json', 'w', encoding='UTF-8') as f:\n",
    "    json.dump(data, f, indent=4)\n"
   ]
  },
  {
   "cell_type": "code",
   "outputs": [],
   "source": [
    "import json\n",
    "\n",
    "# Create a single list of all items\n",
    "all_items = [item for lang in dfs for item in dfs[lang]]\n",
    "\n",
    "import random\n",
    "random.seed(42)\n",
    "random.shuffle(all_items)\n",
    "\n",
    "# Dump the data to a JSON file\n",
    "with open('../data/chronicle/chronicle_test_data_dev.json', 'w') as f:\n",
    "    json.dump(all_items, f, indent=4)"
   ],
   "metadata": {
    "collapsed": false,
    "ExecuteTime": {
     "end_time": "2024-04-25T17:57:06.273064Z",
     "start_time": "2024-04-25T17:57:06.229410Z"
    }
   },
   "execution_count": 5
  },
  {
   "cell_type": "code",
   "outputs": [
    {
     "data": {
      "text/plain": "2000"
     },
     "execution_count": 3,
     "metadata": {},
     "output_type": "execute_result"
    }
   ],
   "source": [
    "len(all_items)"
   ],
   "metadata": {
    "collapsed": false,
    "ExecuteTime": {
     "end_time": "2024-04-25T17:47:25.529028Z",
     "start_time": "2024-04-25T17:47:25.517026Z"
    }
   },
   "execution_count": 3
  },
  {
   "cell_type": "code",
   "execution_count": 66,
   "metadata": {},
   "outputs": [],
   "source": [
    "# 遍历每个item\n",
    "for item in data:\n",
    "    diff = item['diff']\n",
    "    new_diff = f\"diff --git {diff}\"\n",
    "\n",
    "    item['diff'] = new_diff\n",
    "\n",
    "# 将更新后的数据写入新的JSON文件\n",
    "with open('../data/chronicle_data.json', 'w', encoding='UTF-8') as file:\n",
    "    json.dump(data, file, indent=4)"
   ]
  },
  {
   "cell_type": "code",
   "execution_count": 1,
   "metadata": {},
   "outputs": [
    {
     "ename": "NameError",
     "evalue": "name 'df' is not defined",
     "output_type": "error",
     "traceback": [
      "\u001B[0;31m---------------------------------------------------------------------------\u001B[0m",
      "\u001B[0;31mNameError\u001B[0m                                 Traceback (most recent call last)",
      "Cell \u001B[0;32mIn[1], line 1\u001B[0m\n\u001B[0;32m----> 1\u001B[0m \u001B[38;5;28mlen\u001B[39m(\u001B[43mdf\u001B[49m)\n",
      "\u001B[0;31mNameError\u001B[0m: name 'df' is not defined"
     ]
    }
   ],
   "source": [
    "len(df)"
   ]
  },
  {
   "cell_type": "code",
   "execution_count": null,
   "metadata": {},
   "outputs": [],
   "source": []
  }
 ],
 "metadata": {
  "kernelspec": {
   "display_name": "cmg",
   "language": "python",
   "name": "python3"
  },
  "language_info": {
   "codemirror_mode": {
    "name": "ipython",
    "version": 3
   },
   "file_extension": ".py",
   "mimetype": "text/x-python",
   "name": "python",
   "nbconvert_exporter": "python",
   "pygments_lexer": "ipython3",
   "version": "3.9.18"
  }
 },
 "nbformat": 4,
 "nbformat_minor": 2
}
