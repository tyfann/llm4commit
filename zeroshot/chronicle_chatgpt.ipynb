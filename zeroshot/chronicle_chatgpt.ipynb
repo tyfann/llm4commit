{
 "cells": [
  {
   "cell_type": "code",
   "execution_count": 2,
   "metadata": {},
   "outputs": [],
   "source": [
    "import pyarrow.parquet as pq"
   ]
  },
  {
   "cell_type": "code",
   "execution_count": 3,
   "metadata": {},
   "outputs": [],
   "source": [
    "df = pq.read_table('../../test-00000-of-00002-983a1050cd3c058c.parquet').to_pandas()"
   ]
  },
  {
   "cell_type": "code",
   "execution_count": 5,
   "metadata": {},
   "outputs": [
    {
     "data": {
      "text/html": [
       "<div>\n",
       "<style scoped>\n",
       "    .dataframe tbody tr th:only-of-type {\n",
       "        vertical-align: middle;\n",
       "    }\n",
       "\n",
       "    .dataframe tbody tr th {\n",
       "        vertical-align: top;\n",
       "    }\n",
       "\n",
       "    .dataframe thead th {\n",
       "        text-align: right;\n",
       "    }\n",
       "</style>\n",
       "<table border=\"1\" class=\"dataframe\">\n",
       "  <thead>\n",
       "    <tr style=\"text-align: right;\">\n",
       "      <th></th>\n",
       "      <th>author</th>\n",
       "      <th>date</th>\n",
       "      <th>timezone</th>\n",
       "      <th>hash</th>\n",
       "      <th>message</th>\n",
       "      <th>mods</th>\n",
       "      <th>language</th>\n",
       "      <th>license</th>\n",
       "      <th>repo</th>\n",
       "      <th>original_message</th>\n",
       "    </tr>\n",
       "  </thead>\n",
       "  <tbody>\n",
       "    <tr>\n",
       "      <th>102163</th>\n",
       "      <td>887020</td>\n",
       "      <td>11.02.2022 22:24:43</td>\n",
       "      <td>-3600</td>\n",
       "      <td>e960d02ab094518ddb41454e16bbd0ef601ecbb9</td>\n",
       "      <td>Fix context merging\\n* Fix context merging\\nWh...</td>\n",
       "      <td>[{'change_type': 'MODIFY', 'old_path': 'CHANGE...</td>\n",
       "      <td>Ruby</td>\n",
       "      <td>MIT License</td>\n",
       "      <td>getsentry/sentry-ruby</td>\n",
       "      <td>Fix context merging #1722 (#1724)\\n\\n* Fix con...</td>\n",
       "    </tr>\n",
       "    <tr>\n",
       "      <th>102164</th>\n",
       "      <td>887022</td>\n",
       "      <td>17.03.2022 22:42:36</td>\n",
       "      <td>0</td>\n",
       "      <td>1e71de02e9e09bee034536ed9e44042be4ea3f22</td>\n",
       "      <td>Explicitly use https as github-sourced gems' p...</td>\n",
       "      <td>[{'change_type': 'MODIFY', 'old_path': 'sentry...</td>\n",
       "      <td>Ruby</td>\n",
       "      <td>MIT License</td>\n",
       "      <td>getsentry/sentry-ruby</td>\n",
       "      <td>Explicitly use https as github-sourced gems' p...</td>\n",
       "    </tr>\n",
       "    <tr>\n",
       "      <th>102165</th>\n",
       "      <td>887022</td>\n",
       "      <td>18.03.2022 11:37:38</td>\n",
       "      <td>0</td>\n",
       "      <td>ff4878867d2d796f2d147986c7c3dec10be8800b</td>\n",
       "      <td>Ignore internal Sidekiq::JobRetry::Skip exception</td>\n",
       "      <td>[{'change_type': 'MODIFY', 'old_path': 'sentry...</td>\n",
       "      <td>Ruby</td>\n",
       "      <td>MIT License</td>\n",
       "      <td>getsentry/sentry-ruby</td>\n",
       "      <td>Ignore internal Sidekiq::JobRetry::Skip except...</td>\n",
       "    </tr>\n",
       "    <tr>\n",
       "      <th>102166</th>\n",
       "      <td>886973</td>\n",
       "      <td>18.03.2022 15:15:43</td>\n",
       "      <td>-3600</td>\n",
       "      <td>723b1c9895105eefa2becaad630e442f6333a758</td>\n",
       "      <td>fix(perf): TransactionEvent should not set lev...</td>\n",
       "      <td>[{'change_type': 'MODIFY', 'old_path': 'sentry...</td>\n",
       "      <td>Ruby</td>\n",
       "      <td>MIT License</td>\n",
       "      <td>getsentry/sentry-ruby</td>\n",
       "      <td>fix(perf): TransactionEvent should not set lev...</td>\n",
       "    </tr>\n",
       "    <tr>\n",
       "      <th>102167</th>\n",
       "      <td>886973</td>\n",
       "      <td>21.03.2022 12:05:03</td>\n",
       "      <td>-3600</td>\n",
       "      <td>9ed47c9f9f87dfdcd1a38fa05451d2ac3a1b8f3d</td>\n",
       "      <td>fix: Set last_event_id only for error events</td>\n",
       "      <td>[{'change_type': 'MODIFY', 'old_path': 'CHANGE...</td>\n",
       "      <td>Ruby</td>\n",
       "      <td>MIT License</td>\n",
       "      <td>getsentry/sentry-ruby</td>\n",
       "      <td>fix: Set last_event_id only for error events (...</td>\n",
       "    </tr>\n",
       "  </tbody>\n",
       "</table>\n",
       "</div>"
      ],
      "text/plain": [
       "        author                 date  timezone  \\\n",
       "102163  887020  11.02.2022 22:24:43     -3600   \n",
       "102164  887022  17.03.2022 22:42:36         0   \n",
       "102165  887022  18.03.2022 11:37:38         0   \n",
       "102166  886973  18.03.2022 15:15:43     -3600   \n",
       "102167  886973  21.03.2022 12:05:03     -3600   \n",
       "\n",
       "                                            hash  \\\n",
       "102163  e960d02ab094518ddb41454e16bbd0ef601ecbb9   \n",
       "102164  1e71de02e9e09bee034536ed9e44042be4ea3f22   \n",
       "102165  ff4878867d2d796f2d147986c7c3dec10be8800b   \n",
       "102166  723b1c9895105eefa2becaad630e442f6333a758   \n",
       "102167  9ed47c9f9f87dfdcd1a38fa05451d2ac3a1b8f3d   \n",
       "\n",
       "                                                  message  \\\n",
       "102163  Fix context merging\\n* Fix context merging\\nWh...   \n",
       "102164  Explicitly use https as github-sourced gems' p...   \n",
       "102165  Ignore internal Sidekiq::JobRetry::Skip exception   \n",
       "102166  fix(perf): TransactionEvent should not set lev...   \n",
       "102167       fix: Set last_event_id only for error events   \n",
       "\n",
       "                                                     mods language  \\\n",
       "102163  [{'change_type': 'MODIFY', 'old_path': 'CHANGE...     Ruby   \n",
       "102164  [{'change_type': 'MODIFY', 'old_path': 'sentry...     Ruby   \n",
       "102165  [{'change_type': 'MODIFY', 'old_path': 'sentry...     Ruby   \n",
       "102166  [{'change_type': 'MODIFY', 'old_path': 'sentry...     Ruby   \n",
       "102167  [{'change_type': 'MODIFY', 'old_path': 'CHANGE...     Ruby   \n",
       "\n",
       "            license                   repo  \\\n",
       "102163  MIT License  getsentry/sentry-ruby   \n",
       "102164  MIT License  getsentry/sentry-ruby   \n",
       "102165  MIT License  getsentry/sentry-ruby   \n",
       "102166  MIT License  getsentry/sentry-ruby   \n",
       "102167  MIT License  getsentry/sentry-ruby   \n",
       "\n",
       "                                         original_message  \n",
       "102163  Fix context merging #1722 (#1724)\\n\\n* Fix con...  \n",
       "102164  Explicitly use https as github-sourced gems' p...  \n",
       "102165  Ignore internal Sidekiq::JobRetry::Skip except...  \n",
       "102166  fix(perf): TransactionEvent should not set lev...  \n",
       "102167  fix: Set last_event_id only for error events (...  "
      ]
     },
     "execution_count": 5,
     "metadata": {},
     "output_type": "execute_result"
    }
   ],
   "source": [
    "df.tail()"
   ]
  },
  {
   "cell_type": "code",
   "execution_count": 61,
   "metadata": {},
   "outputs": [
    {
     "data": {
      "text/plain": [
       "'MODIFY'"
      ]
     },
     "execution_count": 61,
     "metadata": {},
     "output_type": "execute_result"
    }
   ],
   "source": [
    "df['mods'][0][0]['change_type']"
   ]
  },
  {
   "cell_type": "code",
   "execution_count": 19,
   "metadata": {},
   "outputs": [
    {
     "name": "stdout",
     "output_type": "stream",
     "text": [
      "Fixed loading terms from some GR pages that had a space after the class type\n"
     ]
    }
   ],
   "source": [
    "for index, row in df.iterrows():\n",
    "    print(row['message'])\n",
    "    break"
   ]
  },
  {
   "cell_type": "code",
   "execution_count": 68,
   "metadata": {},
   "outputs": [],
   "source": [
    "languages = ['Java', 'Python', 'C#', 'C++', 'JavaScript']\n",
    "language_dict = {language: 0 for language in languages}"
   ]
  },
  {
   "cell_type": "code",
   "execution_count": 69,
   "metadata": {},
   "outputs": [],
   "source": [
    "import json\n",
    "data = []\n",
    "while any(value < 1000 for value in language_dict.values()):\n",
    "    for index, row in df.iterrows():\n",
    "        language = row['language']\n",
    "        if language in languages:\n",
    "            if language_dict[language] >= 1000 or len(row['mods']) != 1:\n",
    "                continue\n",
    "            if row['mods'][0]['change_type'] != 'MODIFY':\n",
    "                continue\n",
    "            language_dict[language] += 1\n",
    "            diff = row['mods'][0]\n",
    "            old_path = 'a/' + diff['old_path']\n",
    "            new_path = 'b/' + diff['new_path']\n",
    "            diff_content = diff['diff']\n",
    "            item = {\n",
    "                'msg': row['message'],\n",
    "                'diff': f\"diff --git {old_path} {new_path} {diff_content}\",\n",
    "                'lang': language\n",
    "            }\n",
    "            data.append(item)\n",
    "\n",
    "with open('../data/chronicle_data.json', 'w', encoding='UTF-8') as f:\n",
    "    json.dump(data, f, indent=4)\n"
   ]
  },
  {
   "cell_type": "code",
   "execution_count": 66,
   "metadata": {},
   "outputs": [],
   "source": [
    "# 遍历每个item\n",
    "for item in data:\n",
    "    diff = item['diff']\n",
    "    new_diff = f\"diff --git {diff}\"\n",
    "\n",
    "    item['diff'] = new_diff\n",
    "\n",
    "# 将更新后的数据写入新的JSON文件\n",
    "with open('../data/chronicle_data.json', 'w', encoding='UTF-8') as file:\n",
    "    json.dump(data, file, indent=4)"
   ]
  },
  {
   "cell_type": "code",
   "execution_count": 1,
   "metadata": {},
   "outputs": [
    {
     "ename": "NameError",
     "evalue": "name 'df' is not defined",
     "output_type": "error",
     "traceback": [
      "\u001b[0;31m---------------------------------------------------------------------------\u001b[0m",
      "\u001b[0;31mNameError\u001b[0m                                 Traceback (most recent call last)",
      "Cell \u001b[0;32mIn[1], line 1\u001b[0m\n\u001b[0;32m----> 1\u001b[0m \u001b[38;5;28mlen\u001b[39m(\u001b[43mdf\u001b[49m)\n",
      "\u001b[0;31mNameError\u001b[0m: name 'df' is not defined"
     ]
    }
   ],
   "source": [
    "len(df)"
   ]
  },
  {
   "cell_type": "code",
   "execution_count": null,
   "metadata": {},
   "outputs": [],
   "source": []
  }
 ],
 "metadata": {
  "kernelspec": {
   "display_name": "cmg",
   "language": "python",
   "name": "python3"
  },
  "language_info": {
   "codemirror_mode": {
    "name": "ipython",
    "version": 3
   },
   "file_extension": ".py",
   "mimetype": "text/x-python",
   "name": "python",
   "nbconvert_exporter": "python",
   "pygments_lexer": "ipython3",
   "version": "3.9.18"
  }
 },
 "nbformat": 4,
 "nbformat_minor": 2
}
